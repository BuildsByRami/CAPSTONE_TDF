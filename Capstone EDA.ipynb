{
 "cells": [
  {
   "cell_type": "code",
   "execution_count": 109,
   "id": "ab10d6fa",
   "metadata": {},
   "outputs": [],
   "source": [
    "# Importing necessary libraries\n",
    "import numpy as np\n",
    "import pandas as pd\n",
    "import matplotlib.pyplot as plt\n",
    "\n",
    "from scipy import stats"
   ]
  },
  {
   "cell_type": "code",
   "execution_count": 2,
   "id": "8c7f3721",
   "metadata": {},
   "outputs": [],
   "source": [
    "# Ignore futurewarnings\n",
    "import warnings\n",
    "warnings.filterwarnings('ignore')"
   ]
  },
  {
   "cell_type": "code",
   "execution_count": 3,
   "id": "fdc78652",
   "metadata": {},
   "outputs": [],
   "source": [
    "# Importing the Data we Web-Scraped\n",
    "TDF_GC = pd.read_csv('DATA/TDF_GC.csv')"
   ]
  },
  {
   "cell_type": "code",
   "execution_count": 4,
   "id": "85e5465b",
   "metadata": {},
   "outputs": [
    {
     "data": {
      "text/html": [
       "<div>\n",
       "<style scoped>\n",
       "    .dataframe tbody tr th:only-of-type {\n",
       "        vertical-align: middle;\n",
       "    }\n",
       "\n",
       "    .dataframe tbody tr th {\n",
       "        vertical-align: top;\n",
       "    }\n",
       "\n",
       "    .dataframe thead th {\n",
       "        text-align: right;\n",
       "    }\n",
       "</style>\n",
       "<table border=\"1\" class=\"dataframe\">\n",
       "  <thead>\n",
       "    <tr style=\"text-align: right;\">\n",
       "      <th></th>\n",
       "      <th>Rank</th>\n",
       "      <th>Prev_rank</th>\n",
       "      <th>Rider_name</th>\n",
       "      <th>Team_name</th>\n",
       "      <th>UCI_points</th>\n",
       "      <th>Points</th>\n",
       "      <th>Time</th>\n",
       "      <th>Year</th>\n",
       "    </tr>\n",
       "  </thead>\n",
       "  <tbody>\n",
       "    <tr>\n",
       "      <th>0</th>\n",
       "      <td>1</td>\n",
       "      <td>1</td>\n",
       "      <td>POGAČAR Tadej</td>\n",
       "      <td>UAE-Team Emirates</td>\n",
       "      <td>1000.0</td>\n",
       "      <td>500.0</td>\n",
       "      <td>82:56:36</td>\n",
       "      <td>2021</td>\n",
       "    </tr>\n",
       "    <tr>\n",
       "      <th>1</th>\n",
       "      <td>2</td>\n",
       "      <td>2</td>\n",
       "      <td>VINGEGAARD Jonas</td>\n",
       "      <td>Team Jumbo-Visma</td>\n",
       "      <td>800.0</td>\n",
       "      <td>380.0</td>\n",
       "      <td>5:205:20</td>\n",
       "      <td>2021</td>\n",
       "    </tr>\n",
       "    <tr>\n",
       "      <th>2</th>\n",
       "      <td>3</td>\n",
       "      <td>3</td>\n",
       "      <td>CARAPAZ Richard</td>\n",
       "      <td>INEOS Grenadiers</td>\n",
       "      <td>675.0</td>\n",
       "      <td>340.0</td>\n",
       "      <td>7:037:03</td>\n",
       "      <td>2021</td>\n",
       "    </tr>\n",
       "    <tr>\n",
       "      <th>3</th>\n",
       "      <td>4</td>\n",
       "      <td>4</td>\n",
       "      <td>O'CONNOR Ben</td>\n",
       "      <td>AG2R Citroën Team</td>\n",
       "      <td>575.0</td>\n",
       "      <td>300.0</td>\n",
       "      <td>10:0210:02</td>\n",
       "      <td>2021</td>\n",
       "    </tr>\n",
       "    <tr>\n",
       "      <th>4</th>\n",
       "      <td>5</td>\n",
       "      <td>5</td>\n",
       "      <td>KELDERMAN Wilco</td>\n",
       "      <td>BORA - hansgrohe</td>\n",
       "      <td>475.0</td>\n",
       "      <td>280.0</td>\n",
       "      <td>10:1310:13</td>\n",
       "      <td>2021</td>\n",
       "    </tr>\n",
       "  </tbody>\n",
       "</table>\n",
       "</div>"
      ],
      "text/plain": [
       "  Rank  Prev_rank        Rider_name          Team_name  UCI_points  Points  \\\n",
       "0    1          1     POGAČAR Tadej  UAE-Team Emirates      1000.0   500.0   \n",
       "1    2          2  VINGEGAARD Jonas   Team Jumbo-Visma       800.0   380.0   \n",
       "2    3          3   CARAPAZ Richard   INEOS Grenadiers       675.0   340.0   \n",
       "3    4          4      O'CONNOR Ben  AG2R Citroën Team       575.0   300.0   \n",
       "4    5          5   KELDERMAN Wilco   BORA - hansgrohe       475.0   280.0   \n",
       "\n",
       "         Time  Year  \n",
       "0    82:56:36  2021  \n",
       "1    5:205:20  2021  \n",
       "2    7:037:03  2021  \n",
       "3  10:0210:02  2021  \n",
       "4  10:1310:13  2021  "
      ]
     },
     "execution_count": 4,
     "metadata": {},
     "output_type": "execute_result"
    }
   ],
   "source": [
    "# Quick glance at our data\n",
    "TDF_GC.head()"
   ]
  },
  {
   "cell_type": "code",
   "execution_count": 5,
   "id": "ba6e703d",
   "metadata": {},
   "outputs": [
    {
     "name": "stdout",
     "output_type": "stream",
     "text": [
      "<class 'pandas.core.frame.DataFrame'>\n",
      "RangeIndex: 1741 entries, 0 to 1740\n",
      "Data columns (total 8 columns):\n",
      " #   Column      Non-Null Count  Dtype  \n",
      "---  ------      --------------  -----  \n",
      " 0   Rank        1741 non-null   object \n",
      " 1   Prev_rank   1741 non-null   int64  \n",
      " 2   Rider_name  1741 non-null   object \n",
      " 3   Team_name   1741 non-null   object \n",
      " 4   UCI_points  439 non-null    float64\n",
      " 5   Points      1736 non-null   float64\n",
      " 6   Time        1741 non-null   object \n",
      " 7   Year        1741 non-null   int64  \n",
      "dtypes: float64(2), int64(2), object(4)\n",
      "memory usage: 108.9+ KB\n"
     ]
    }
   ],
   "source": [
    "# Checking data types\n",
    "TDF_GC.info()"
   ]
  },
  {
   "cell_type": "code",
   "execution_count": 6,
   "id": "465bfa01",
   "metadata": {},
   "outputs": [
    {
     "data": {
      "text/plain": [
       "Rank             0\n",
       "Prev_rank        0\n",
       "Rider_name       0\n",
       "Team_name        0\n",
       "UCI_points    1302\n",
       "Points           5\n",
       "Time             0\n",
       "Year             0\n",
       "dtype: int64"
      ]
     },
     "execution_count": 6,
     "metadata": {},
     "output_type": "execute_result"
    }
   ],
   "source": [
    "# Checking the number of null values in each column\n",
    "TDF_GC.isna().sum()"
   ]
  },
  {
   "cell_type": "markdown",
   "id": "df5ab34e",
   "metadata": {},
   "source": [
    "### Changing Rank data type from object to int (numeric)"
   ]
  },
  {
   "cell_type": "code",
   "execution_count": 7,
   "id": "d4689189",
   "metadata": {},
   "outputs": [],
   "source": [
    "# Changing Rank data type from object to int (numeric)\n",
    "TDF_GC.Rank = TDF_GC.Rank.astype('int16')"
   ]
  },
  {
   "cell_type": "markdown",
   "id": "e774ce95",
   "metadata": {},
   "source": [
    "### Filling NaN values in the Points column"
   ]
  },
  {
   "cell_type": "code",
   "execution_count": 8,
   "id": "1a8ebbed",
   "metadata": {},
   "outputs": [
    {
     "data": {
      "text/html": [
       "<div>\n",
       "<style scoped>\n",
       "    .dataframe tbody tr th:only-of-type {\n",
       "        vertical-align: middle;\n",
       "    }\n",
       "\n",
       "    .dataframe tbody tr th {\n",
       "        vertical-align: top;\n",
       "    }\n",
       "\n",
       "    .dataframe thead th {\n",
       "        text-align: right;\n",
       "    }\n",
       "</style>\n",
       "<table border=\"1\" class=\"dataframe\">\n",
       "  <thead>\n",
       "    <tr style=\"text-align: right;\">\n",
       "      <th></th>\n",
       "      <th>Rank</th>\n",
       "      <th>Prev_rank</th>\n",
       "      <th>Rider_name</th>\n",
       "      <th>Team_name</th>\n",
       "      <th>UCI_points</th>\n",
       "      <th>Points</th>\n",
       "      <th>Time</th>\n",
       "      <th>Year</th>\n",
       "    </tr>\n",
       "  </thead>\n",
       "  <tbody>\n",
       "    <tr>\n",
       "      <th>1435</th>\n",
       "      <td>15</td>\n",
       "      <td>15</td>\n",
       "      <td>MENCHOV Denis</td>\n",
       "      <td>Team Katusha</td>\n",
       "      <td>NaN</td>\n",
       "      <td>NaN</td>\n",
       "      <td>27:2227:22</td>\n",
       "      <td>2012</td>\n",
       "    </tr>\n",
       "    <tr>\n",
       "      <th>1457</th>\n",
       "      <td>37</td>\n",
       "      <td>37</td>\n",
       "      <td>CARUSO Giampaolo</td>\n",
       "      <td>Team Katusha</td>\n",
       "      <td>NaN</td>\n",
       "      <td>NaN</td>\n",
       "      <td>1:28:321:28:32</td>\n",
       "      <td>2012</td>\n",
       "    </tr>\n",
       "    <tr>\n",
       "      <th>1578</th>\n",
       "      <td>5</td>\n",
       "      <td>5</td>\n",
       "      <td>CONTADOR Alberto</td>\n",
       "      <td>Saxo Bank - Sungard</td>\n",
       "      <td>NaN</td>\n",
       "      <td>NaN</td>\n",
       "      <td>3:573:57</td>\n",
       "      <td>2011</td>\n",
       "    </tr>\n",
       "    <tr>\n",
       "      <th>1608</th>\n",
       "      <td>35</td>\n",
       "      <td>35</td>\n",
       "      <td>BARREDO Carlos</td>\n",
       "      <td>Rabobank Cycling Team</td>\n",
       "      <td>NaN</td>\n",
       "      <td>NaN</td>\n",
       "      <td>1:12:581:12:58</td>\n",
       "      <td>2011</td>\n",
       "    </tr>\n",
       "    <tr>\n",
       "      <th>1660</th>\n",
       "      <td>87</td>\n",
       "      <td>87</td>\n",
       "      <td>KOREN Kristijan</td>\n",
       "      <td>Liquigas - Cannondale</td>\n",
       "      <td>NaN</td>\n",
       "      <td>NaN</td>\n",
       "      <td>2:29:242:29:24</td>\n",
       "      <td>2011</td>\n",
       "    </tr>\n",
       "  </tbody>\n",
       "</table>\n",
       "</div>"
      ],
      "text/plain": [
       "      Rank  Prev_rank        Rider_name              Team_name  UCI_points  \\\n",
       "1435    15         15     MENCHOV Denis          Team Katusha          NaN   \n",
       "1457    37         37  CARUSO Giampaolo          Team Katusha          NaN   \n",
       "1578     5          5  CONTADOR Alberto    Saxo Bank - Sungard         NaN   \n",
       "1608    35         35    BARREDO Carlos  Rabobank Cycling Team         NaN   \n",
       "1660    87         87   KOREN Kristijan  Liquigas - Cannondale         NaN   \n",
       "\n",
       "      Points            Time  Year  \n",
       "1435     NaN      27:2227:22  2012  \n",
       "1457     NaN  1:28:321:28:32  2012  \n",
       "1578     NaN        3:573:57  2011  \n",
       "1608     NaN  1:12:581:12:58  2011  \n",
       "1660     NaN  2:29:242:29:24  2011  "
      ]
     },
     "execution_count": 8,
     "metadata": {},
     "output_type": "execute_result"
    }
   ],
   "source": [
    "# Pulling out the data will Null values in the Points column\n",
    "TDF_GC[TDF_GC.Points.isna() == True]"
   ]
  },
  {
   "cell_type": "markdown",
   "id": "0e36dcd2",
   "metadata": {},
   "source": [
    "Points are associated with rank. If we look at other riders with similar rank, we can impute what the missing Point value should be."
   ]
  },
  {
   "cell_type": "code",
   "execution_count": 9,
   "id": "1216672f",
   "metadata": {},
   "outputs": [
    {
     "data": {
      "text/plain": [
       "34      25.0\n",
       "35      25.0\n",
       "36      25.0\n",
       "37      25.0\n",
       "38      25.0\n",
       "        ... \n",
       "1736    25.0\n",
       "1737    25.0\n",
       "1738    25.0\n",
       "1739    25.0\n",
       "1740    25.0\n",
       "Name: Points, Length: 1367, dtype: float64"
      ]
     },
     "execution_count": 9,
     "metadata": {},
     "output_type": "execute_result"
    }
   ],
   "source": [
    "# Points for Rank greater than or equal to 35\n",
    "TDF_GC.Points[TDF_GC.Rank >= 35]"
   ]
  },
  {
   "cell_type": "markdown",
   "id": "0ca5c84f",
   "metadata": {},
   "source": [
    "All point values are 25."
   ]
  },
  {
   "cell_type": "code",
   "execution_count": 10,
   "id": "e08fae2f",
   "metadata": {},
   "outputs": [],
   "source": [
    "# Fill the missing Points value with 25 where Rank is greater than or equal to 35\n",
    "TDF_GC.Points[(TDF_GC.Points.isna() == True) & (TDF_GC.Rank >= 35)] = 25"
   ]
  },
  {
   "cell_type": "code",
   "execution_count": 11,
   "id": "49b58c5f",
   "metadata": {},
   "outputs": [
    {
     "data": {
      "text/plain": [
       "14      150.0\n",
       "155     150.0\n",
       "301     150.0\n",
       "456     150.0\n",
       "601     150.0\n",
       "768     150.0\n",
       "942     150.0\n",
       "1102    150.0\n",
       "1266    150.0\n",
       "1435      NaN\n",
       "1589    150.0\n",
       "Name: Points, dtype: float64"
      ]
     },
     "execution_count": 11,
     "metadata": {},
     "output_type": "execute_result"
    }
   ],
   "source": [
    "# Points for Rank equal to 15\n",
    "TDF_GC.Points[TDF_GC.Rank == 15]"
   ]
  },
  {
   "cell_type": "code",
   "execution_count": 12,
   "id": "4630caf9",
   "metadata": {},
   "outputs": [],
   "source": [
    "# Fill the missing Points value with 150 where Rank is equal to 15\n",
    "TDF_GC.Points[(TDF_GC.Points.isna() == True) & (TDF_GC.Rank == 15)] = 150"
   ]
  },
  {
   "cell_type": "code",
   "execution_count": 13,
   "id": "832e8f37",
   "metadata": {},
   "outputs": [
    {
     "data": {
      "text/plain": [
       "4       280.0\n",
       "145     280.0\n",
       "291     280.0\n",
       "446     280.0\n",
       "591     280.0\n",
       "758     280.0\n",
       "932     280.0\n",
       "1092    280.0\n",
       "1256    280.0\n",
       "1425    280.0\n",
       "1578      NaN\n",
       "1579    280.0\n",
       "Name: Points, dtype: float64"
      ]
     },
     "execution_count": 13,
     "metadata": {},
     "output_type": "execute_result"
    }
   ],
   "source": [
    "# Points for Rank equal to 5\n",
    "TDF_GC.Points[TDF_GC.Rank == 5]"
   ]
  },
  {
   "cell_type": "code",
   "execution_count": 14,
   "id": "385d2fa3",
   "metadata": {},
   "outputs": [],
   "source": [
    "# Fill the missing Points value with 280 where Rank is equal to 5\n",
    "TDF_GC.Points[(TDF_GC.Points.isna() == True) & (TDF_GC.Rank == 5)] = 280"
   ]
  },
  {
   "cell_type": "code",
   "execution_count": 15,
   "id": "a8347b58",
   "metadata": {},
   "outputs": [
    {
     "data": {
      "text/plain": [
       "Rank             0\n",
       "Prev_rank        0\n",
       "Rider_name       0\n",
       "Team_name        0\n",
       "UCI_points    1302\n",
       "Points           0\n",
       "Time             0\n",
       "Year             0\n",
       "dtype: int64"
      ]
     },
     "execution_count": 15,
     "metadata": {},
     "output_type": "execute_result"
    }
   ],
   "source": [
    "# Checking for missing/Null values\n",
    "TDF_GC.isna().sum()"
   ]
  },
  {
   "cell_type": "markdown",
   "id": "806ba016",
   "metadata": {},
   "source": [
    "`UCY_points` is missing far too many values. Best action is to eliminate this column (the information is also present in the form of **Points, Rank** and **Time**)"
   ]
  },
  {
   "cell_type": "code",
   "execution_count": 16,
   "id": "23ab4328",
   "metadata": {},
   "outputs": [],
   "source": [
    "# Dropping the UCI_points column\n",
    "TDF_GC = TDF_GC.drop(['UCI_points'],axis=1)"
   ]
  },
  {
   "cell_type": "code",
   "execution_count": 17,
   "id": "4ac543a4",
   "metadata": {},
   "outputs": [
    {
     "data": {
      "text/plain": [
       "Rank          0\n",
       "Prev_rank     0\n",
       "Rider_name    0\n",
       "Team_name     0\n",
       "Points        0\n",
       "Time          0\n",
       "Year          0\n",
       "dtype: int64"
      ]
     },
     "execution_count": 17,
     "metadata": {},
     "output_type": "execute_result"
    }
   ],
   "source": [
    "# Checking for missing/Null values\n",
    "TDF_GC.isna().sum()"
   ]
  },
  {
   "cell_type": "code",
   "execution_count": 18,
   "id": "87a5f8ae",
   "metadata": {},
   "outputs": [
    {
     "name": "stdout",
     "output_type": "stream",
     "text": [
      "<class 'pandas.core.frame.DataFrame'>\n",
      "RangeIndex: 1741 entries, 0 to 1740\n",
      "Data columns (total 7 columns):\n",
      " #   Column      Non-Null Count  Dtype  \n",
      "---  ------      --------------  -----  \n",
      " 0   Rank        1741 non-null   int16  \n",
      " 1   Prev_rank   1741 non-null   int64  \n",
      " 2   Rider_name  1741 non-null   object \n",
      " 3   Team_name   1741 non-null   object \n",
      " 4   Points      1741 non-null   float64\n",
      " 5   Time        1741 non-null   object \n",
      " 6   Year        1741 non-null   int64  \n",
      "dtypes: float64(1), int16(1), int64(2), object(3)\n",
      "memory usage: 85.1+ KB\n"
     ]
    }
   ],
   "source": [
    "# Checking if all data types appropriate\n",
    "TDF_GC.info()"
   ]
  },
  {
   "cell_type": "markdown",
   "id": "39aa4fce",
   "metadata": {},
   "source": [
    "# Importing Rider metrics"
   ]
  },
  {
   "cell_type": "code",
   "execution_count": 19,
   "id": "5bf761eb",
   "metadata": {},
   "outputs": [
    {
     "data": {
      "text/html": [
       "<div>\n",
       "<style scoped>\n",
       "    .dataframe tbody tr th:only-of-type {\n",
       "        vertical-align: middle;\n",
       "    }\n",
       "\n",
       "    .dataframe tbody tr th {\n",
       "        vertical-align: top;\n",
       "    }\n",
       "\n",
       "    .dataframe thead th {\n",
       "        text-align: right;\n",
       "    }\n",
       "</style>\n",
       "<table border=\"1\" class=\"dataframe\">\n",
       "  <thead>\n",
       "    <tr style=\"text-align: right;\">\n",
       "      <th></th>\n",
       "      <th>Name</th>\n",
       "      <th>URL</th>\n",
       "      <th>Weight(kg)</th>\n",
       "      <th>Height(m)</th>\n",
       "      <th>YOB</th>\n",
       "    </tr>\n",
       "  </thead>\n",
       "  <tbody>\n",
       "    <tr>\n",
       "      <th>0</th>\n",
       "      <td>POGAČAR Tadej</td>\n",
       "      <td>https://www.procyclingstats.com/rider/Tadej-PO...</td>\n",
       "      <td>66.0</td>\n",
       "      <td>1.76</td>\n",
       "      <td>1998</td>\n",
       "    </tr>\n",
       "    <tr>\n",
       "      <th>1</th>\n",
       "      <td>VINGEGAARD Jonas</td>\n",
       "      <td>https://www.procyclingstats.com/rider/Jonas-VI...</td>\n",
       "      <td>60.0</td>\n",
       "      <td>1.75</td>\n",
       "      <td>1996</td>\n",
       "    </tr>\n",
       "    <tr>\n",
       "      <th>2</th>\n",
       "      <td>CARAPAZ Richard</td>\n",
       "      <td>https://www.procyclingstats.com/rider/Richard-...</td>\n",
       "      <td>62.0</td>\n",
       "      <td>1.70</td>\n",
       "      <td>1993</td>\n",
       "    </tr>\n",
       "    <tr>\n",
       "      <th>3</th>\n",
       "      <td>O'CONNOR Ben</td>\n",
       "      <td>https://www.procyclingstats.com/rider/Ben-O'CO...</td>\n",
       "      <td>67.0</td>\n",
       "      <td>1.88</td>\n",
       "      <td>1995</td>\n",
       "    </tr>\n",
       "    <tr>\n",
       "      <th>4</th>\n",
       "      <td>KELDERMAN Wilco</td>\n",
       "      <td>https://www.procyclingstats.com/rider/Wilco-KE...</td>\n",
       "      <td>65.0</td>\n",
       "      <td>1.85</td>\n",
       "      <td>1991</td>\n",
       "    </tr>\n",
       "  </tbody>\n",
       "</table>\n",
       "</div>"
      ],
      "text/plain": [
       "               Name                                                URL  \\\n",
       "0     POGAČAR Tadej  https://www.procyclingstats.com/rider/Tadej-PO...   \n",
       "1  VINGEGAARD Jonas  https://www.procyclingstats.com/rider/Jonas-VI...   \n",
       "2   CARAPAZ Richard  https://www.procyclingstats.com/rider/Richard-...   \n",
       "3      O'CONNOR Ben  https://www.procyclingstats.com/rider/Ben-O'CO...   \n",
       "4   KELDERMAN Wilco  https://www.procyclingstats.com/rider/Wilco-KE...   \n",
       "\n",
       "   Weight(kg)  Height(m)   YOB  \n",
       "0        66.0       1.76  1998  \n",
       "1        60.0       1.75  1996  \n",
       "2        62.0       1.70  1993  \n",
       "3        67.0       1.88  1995  \n",
       "4        65.0       1.85  1991  "
      ]
     },
     "execution_count": 19,
     "metadata": {},
     "output_type": "execute_result"
    }
   ],
   "source": [
    "# Importing the file with rider's stats and looking at the data\n",
    "rider_metrics = pd.read_csv('DATA/Unique_names.csv')\n",
    "rider_metrics.head()"
   ]
  },
  {
   "cell_type": "code",
   "execution_count": 20,
   "id": "dff4b349",
   "metadata": {},
   "outputs": [
    {
     "name": "stdout",
     "output_type": "stream",
     "text": [
      "<class 'pandas.core.frame.DataFrame'>\n",
      "RangeIndex: 648 entries, 0 to 647\n",
      "Data columns (total 5 columns):\n",
      " #   Column      Non-Null Count  Dtype  \n",
      "---  ------      --------------  -----  \n",
      " 0   Name        648 non-null    object \n",
      " 1   URL         648 non-null    object \n",
      " 2   Weight(kg)  647 non-null    float64\n",
      " 3   Height(m)   648 non-null    float64\n",
      " 4   YOB         648 non-null    int64  \n",
      "dtypes: float64(2), int64(1), object(2)\n",
      "memory usage: 25.4+ KB\n"
     ]
    }
   ],
   "source": [
    "# Checking data type\n",
    "rider_metrics.info()"
   ]
  },
  {
   "cell_type": "markdown",
   "id": "451df1cb",
   "metadata": {},
   "source": [
    "URL is unecessary for the EDA, let's drop it"
   ]
  },
  {
   "cell_type": "code",
   "execution_count": 22,
   "id": "a73a815e",
   "metadata": {},
   "outputs": [],
   "source": [
    "rider_metrics = rider_metrics.drop(['URL'],axis=1)"
   ]
  },
  {
   "cell_type": "code",
   "execution_count": 23,
   "id": "0904bbdb",
   "metadata": {},
   "outputs": [
    {
     "data": {
      "text/plain": [
       "Name          0\n",
       "Weight(kg)    1\n",
       "Height(m)     0\n",
       "YOB           0\n",
       "dtype: int64"
      ]
     },
     "execution_count": 23,
     "metadata": {},
     "output_type": "execute_result"
    }
   ],
   "source": [
    "# Checking for null values\n",
    "rider_metrics.isna().sum()"
   ]
  },
  {
   "cell_type": "code",
   "execution_count": 24,
   "id": "858f82aa",
   "metadata": {},
   "outputs": [
    {
     "data": {
      "text/html": [
       "<div>\n",
       "<style scoped>\n",
       "    .dataframe tbody tr th:only-of-type {\n",
       "        vertical-align: middle;\n",
       "    }\n",
       "\n",
       "    .dataframe tbody tr th {\n",
       "        vertical-align: top;\n",
       "    }\n",
       "\n",
       "    .dataframe thead th {\n",
       "        text-align: right;\n",
       "    }\n",
       "</style>\n",
       "<table border=\"1\" class=\"dataframe\">\n",
       "  <thead>\n",
       "    <tr style=\"text-align: right;\">\n",
       "      <th></th>\n",
       "      <th>Name</th>\n",
       "      <th>Weight(kg)</th>\n",
       "      <th>Height(m)</th>\n",
       "      <th>YOB</th>\n",
       "    </tr>\n",
       "  </thead>\n",
       "  <tbody>\n",
       "    <tr>\n",
       "      <th>44</th>\n",
       "      <td>DONOVAN Mark</td>\n",
       "      <td>NaN</td>\n",
       "      <td>1.86</td>\n",
       "      <td>1999</td>\n",
       "    </tr>\n",
       "  </tbody>\n",
       "</table>\n",
       "</div>"
      ],
      "text/plain": [
       "            Name  Weight(kg)  Height(m)   YOB\n",
       "44  DONOVAN Mark         NaN       1.86  1999"
      ]
     },
     "execution_count": 24,
     "metadata": {},
     "output_type": "execute_result"
    }
   ],
   "source": [
    "# Looking at the row with missing Weight value\n",
    "rider_metrics[rider_metrics['Weight(kg)'].isna()==True]"
   ]
  },
  {
   "cell_type": "markdown",
   "id": "37942062",
   "metadata": {},
   "source": [
    "Lets impute this missing weight. Find the median weight of rider with height of 1.86m and fill it in our missing row."
   ]
  },
  {
   "cell_type": "code",
   "execution_count": 25,
   "id": "5ba1c3c9",
   "metadata": {},
   "outputs": [
    {
     "data": {
      "text/plain": [
       "74.0"
      ]
     },
     "execution_count": 25,
     "metadata": {},
     "output_type": "execute_result"
    }
   ],
   "source": [
    "# Median weight of a rider with height of 1.86m\n",
    "rider_metrics['Weight(kg)'][rider_metrics['Height(m)'] == 1.86].median()"
   ]
  },
  {
   "cell_type": "code",
   "execution_count": 26,
   "id": "dba7b022",
   "metadata": {},
   "outputs": [],
   "source": [
    "# Inserting the median to the missing data point\n",
    "rider_metrics['Weight(kg)'][rider_metrics['Weight(kg)'].isna()==True] = 74"
   ]
  },
  {
   "cell_type": "code",
   "execution_count": 27,
   "id": "bf19c65d",
   "metadata": {},
   "outputs": [
    {
     "data": {
      "text/plain": [
       "Name          0\n",
       "Weight(kg)    0\n",
       "Height(m)     0\n",
       "YOB           0\n",
       "dtype: int64"
      ]
     },
     "execution_count": 27,
     "metadata": {},
     "output_type": "execute_result"
    }
   ],
   "source": [
    "# Checking for null values\n",
    "rider_metrics.isna().sum()"
   ]
  },
  {
   "cell_type": "markdown",
   "id": "dbed9627",
   "metadata": {},
   "source": [
    "# Left join Rider metrics onto our main DataFrame"
   ]
  },
  {
   "cell_type": "code",
   "execution_count": 28,
   "id": "dccc1c90",
   "metadata": {},
   "outputs": [],
   "source": [
    "# Merging the two data frames together\n",
    "TDF_GC = pd.merge(TDF_GC,rider_metrics, left_on = 'Rider_name', right_on = 'Name')"
   ]
  },
  {
   "cell_type": "code",
   "execution_count": 30,
   "id": "9049a178",
   "metadata": {},
   "outputs": [
    {
     "data": {
      "text/html": [
       "<div>\n",
       "<style scoped>\n",
       "    .dataframe tbody tr th:only-of-type {\n",
       "        vertical-align: middle;\n",
       "    }\n",
       "\n",
       "    .dataframe tbody tr th {\n",
       "        vertical-align: top;\n",
       "    }\n",
       "\n",
       "    .dataframe thead th {\n",
       "        text-align: right;\n",
       "    }\n",
       "</style>\n",
       "<table border=\"1\" class=\"dataframe\">\n",
       "  <thead>\n",
       "    <tr style=\"text-align: right;\">\n",
       "      <th></th>\n",
       "      <th>Rank</th>\n",
       "      <th>Prev_rank</th>\n",
       "      <th>Rider_name</th>\n",
       "      <th>Team_name</th>\n",
       "      <th>Points</th>\n",
       "      <th>Time</th>\n",
       "      <th>Year</th>\n",
       "      <th>Name</th>\n",
       "      <th>Weight(kg)</th>\n",
       "      <th>Height(m)</th>\n",
       "      <th>YOB</th>\n",
       "    </tr>\n",
       "  </thead>\n",
       "  <tbody>\n",
       "    <tr>\n",
       "      <th>0</th>\n",
       "      <td>1</td>\n",
       "      <td>1</td>\n",
       "      <td>POGAČAR Tadej</td>\n",
       "      <td>UAE-Team Emirates</td>\n",
       "      <td>500.0</td>\n",
       "      <td>82:56:36</td>\n",
       "      <td>2021</td>\n",
       "      <td>POGAČAR Tadej</td>\n",
       "      <td>66.0</td>\n",
       "      <td>1.76</td>\n",
       "      <td>1998</td>\n",
       "    </tr>\n",
       "    <tr>\n",
       "      <th>1</th>\n",
       "      <td>1</td>\n",
       "      <td>1</td>\n",
       "      <td>POGAČAR Tadej</td>\n",
       "      <td>UAE-Team Emirates</td>\n",
       "      <td>500.0</td>\n",
       "      <td>87:20:05</td>\n",
       "      <td>2020</td>\n",
       "      <td>POGAČAR Tadej</td>\n",
       "      <td>66.0</td>\n",
       "      <td>1.76</td>\n",
       "      <td>1998</td>\n",
       "    </tr>\n",
       "    <tr>\n",
       "      <th>2</th>\n",
       "      <td>2</td>\n",
       "      <td>2</td>\n",
       "      <td>VINGEGAARD Jonas</td>\n",
       "      <td>Team Jumbo-Visma</td>\n",
       "      <td>380.0</td>\n",
       "      <td>5:205:20</td>\n",
       "      <td>2021</td>\n",
       "      <td>VINGEGAARD Jonas</td>\n",
       "      <td>60.0</td>\n",
       "      <td>1.75</td>\n",
       "      <td>1996</td>\n",
       "    </tr>\n",
       "    <tr>\n",
       "      <th>3</th>\n",
       "      <td>3</td>\n",
       "      <td>3</td>\n",
       "      <td>CARAPAZ Richard</td>\n",
       "      <td>INEOS Grenadiers</td>\n",
       "      <td>340.0</td>\n",
       "      <td>7:037:03</td>\n",
       "      <td>2021</td>\n",
       "      <td>CARAPAZ Richard</td>\n",
       "      <td>62.0</td>\n",
       "      <td>1.70</td>\n",
       "      <td>1993</td>\n",
       "    </tr>\n",
       "    <tr>\n",
       "      <th>4</th>\n",
       "      <td>13</td>\n",
       "      <td>13</td>\n",
       "      <td>CARAPAZ Richard</td>\n",
       "      <td>INEOS Grenadiers</td>\n",
       "      <td>170.0</td>\n",
       "      <td>25:5325:53</td>\n",
       "      <td>2020</td>\n",
       "      <td>CARAPAZ Richard</td>\n",
       "      <td>62.0</td>\n",
       "      <td>1.70</td>\n",
       "      <td>1993</td>\n",
       "    </tr>\n",
       "  </tbody>\n",
       "</table>\n",
       "</div>"
      ],
      "text/plain": [
       "   Rank  Prev_rank        Rider_name          Team_name  Points        Time  \\\n",
       "0     1          1     POGAČAR Tadej  UAE-Team Emirates   500.0    82:56:36   \n",
       "1     1          1     POGAČAR Tadej  UAE-Team Emirates   500.0    87:20:05   \n",
       "2     2          2  VINGEGAARD Jonas   Team Jumbo-Visma   380.0    5:205:20   \n",
       "3     3          3   CARAPAZ Richard   INEOS Grenadiers   340.0    7:037:03   \n",
       "4    13         13   CARAPAZ Richard   INEOS Grenadiers   170.0  25:5325:53   \n",
       "\n",
       "   Year              Name  Weight(kg)  Height(m)   YOB  \n",
       "0  2021     POGAČAR Tadej        66.0       1.76  1998  \n",
       "1  2020     POGAČAR Tadej        66.0       1.76  1998  \n",
       "2  2021  VINGEGAARD Jonas        60.0       1.75  1996  \n",
       "3  2021   CARAPAZ Richard        62.0       1.70  1993  \n",
       "4  2020   CARAPAZ Richard        62.0       1.70  1993  "
      ]
     },
     "execution_count": 30,
     "metadata": {},
     "output_type": "execute_result"
    }
   ],
   "source": [
    "# Quick glance at the data\n",
    "TDF_GC.head()"
   ]
  },
  {
   "cell_type": "markdown",
   "id": "aaee9133",
   "metadata": {},
   "source": [
    "We can get rid of the second `Name` column."
   ]
  },
  {
   "cell_type": "code",
   "execution_count": 33,
   "id": "e26230cd",
   "metadata": {},
   "outputs": [],
   "source": [
    "# Dropping the Name column\n",
    "TDF_GC = TDF_GC.drop(['Name'],axis=1)"
   ]
  },
  {
   "cell_type": "markdown",
   "id": "77eba438",
   "metadata": {},
   "source": [
    "The column `YOB` (Year of Birth) is not as relevant as age of rider during the race. Let's compute rider's age the year they participated."
   ]
  },
  {
   "cell_type": "code",
   "execution_count": 36,
   "id": "47a7bc85",
   "metadata": {},
   "outputs": [],
   "source": [
    "TDF_GC['Age'] = TDF_GC.Year - TDF_GC.YOB"
   ]
  },
  {
   "cell_type": "markdown",
   "id": "d5d9eef6",
   "metadata": {},
   "source": [
    "We can now get rid of Year of Birth `YOB` as we keep that information in their `Age`"
   ]
  },
  {
   "cell_type": "code",
   "execution_count": 37,
   "id": "f58c5664",
   "metadata": {},
   "outputs": [],
   "source": [
    "TDF_GC = TDF_GC.drop(['YOB'],axis=1)"
   ]
  },
  {
   "cell_type": "code",
   "execution_count": 38,
   "id": "b4a3cd52",
   "metadata": {},
   "outputs": [
    {
     "name": "stdout",
     "output_type": "stream",
     "text": [
      "<class 'pandas.core.frame.DataFrame'>\n",
      "Int64Index: 1741 entries, 0 to 1740\n",
      "Data columns (total 10 columns):\n",
      " #   Column      Non-Null Count  Dtype  \n",
      "---  ------      --------------  -----  \n",
      " 0   Rank        1741 non-null   int16  \n",
      " 1   Prev_rank   1741 non-null   int64  \n",
      " 2   Rider_name  1741 non-null   object \n",
      " 3   Team_name   1741 non-null   object \n",
      " 4   Points      1741 non-null   float64\n",
      " 5   Time        1741 non-null   object \n",
      " 6   Year        1741 non-null   int64  \n",
      " 7   Weight(kg)  1741 non-null   float64\n",
      " 8   Height(m)   1741 non-null   float64\n",
      " 9   Age         1741 non-null   int64  \n",
      "dtypes: float64(3), int16(1), int64(3), object(3)\n",
      "memory usage: 139.4+ KB\n"
     ]
    }
   ],
   "source": [
    "# Checking the data types are appropriate\n",
    "TDF_GC.info()"
   ]
  },
  {
   "cell_type": "code",
   "execution_count": 39,
   "id": "0462cbde",
   "metadata": {},
   "outputs": [
    {
     "data": {
      "text/plain": [
       "Rank          0\n",
       "Prev_rank     0\n",
       "Rider_name    0\n",
       "Team_name     0\n",
       "Points        0\n",
       "Time          0\n",
       "Year          0\n",
       "Weight(kg)    0\n",
       "Height(m)     0\n",
       "Age           0\n",
       "dtype: int64"
      ]
     },
     "execution_count": 39,
     "metadata": {},
     "output_type": "execute_result"
    }
   ],
   "source": [
    "# Checking for null values\n",
    "TDF_GC.isna().sum()"
   ]
  },
  {
   "cell_type": "code",
   "execution_count": 107,
   "id": "52dfb3e7",
   "metadata": {},
   "outputs": [
    {
     "data": {
      "text/html": [
       "<div>\n",
       "<style scoped>\n",
       "    .dataframe tbody tr th:only-of-type {\n",
       "        vertical-align: middle;\n",
       "    }\n",
       "\n",
       "    .dataframe tbody tr th {\n",
       "        vertical-align: top;\n",
       "    }\n",
       "\n",
       "    .dataframe thead th {\n",
       "        text-align: right;\n",
       "    }\n",
       "</style>\n",
       "<table border=\"1\" class=\"dataframe\">\n",
       "  <thead>\n",
       "    <tr style=\"text-align: right;\">\n",
       "      <th></th>\n",
       "      <th>Rank</th>\n",
       "      <th>Prev_rank</th>\n",
       "      <th>Rider_name</th>\n",
       "      <th>Team_name</th>\n",
       "      <th>Points</th>\n",
       "      <th>Time</th>\n",
       "      <th>Year</th>\n",
       "      <th>Weight(kg)</th>\n",
       "      <th>Height(m)</th>\n",
       "      <th>Age</th>\n",
       "    </tr>\n",
       "  </thead>\n",
       "  <tbody>\n",
       "    <tr>\n",
       "      <th>0</th>\n",
       "      <td>1</td>\n",
       "      <td>1</td>\n",
       "      <td>POGAČAR Tadej</td>\n",
       "      <td>UAE-Team Emirates</td>\n",
       "      <td>500.0</td>\n",
       "      <td>82:56:36</td>\n",
       "      <td>2021</td>\n",
       "      <td>66.0</td>\n",
       "      <td>1.76</td>\n",
       "      <td>23</td>\n",
       "    </tr>\n",
       "    <tr>\n",
       "      <th>1</th>\n",
       "      <td>1</td>\n",
       "      <td>1</td>\n",
       "      <td>POGAČAR Tadej</td>\n",
       "      <td>UAE-Team Emirates</td>\n",
       "      <td>500.0</td>\n",
       "      <td>87:20:05</td>\n",
       "      <td>2020</td>\n",
       "      <td>66.0</td>\n",
       "      <td>1.76</td>\n",
       "      <td>22</td>\n",
       "    </tr>\n",
       "    <tr>\n",
       "      <th>2</th>\n",
       "      <td>2</td>\n",
       "      <td>2</td>\n",
       "      <td>VINGEGAARD Jonas</td>\n",
       "      <td>Team Jumbo-Visma</td>\n",
       "      <td>380.0</td>\n",
       "      <td>5:205:20</td>\n",
       "      <td>2021</td>\n",
       "      <td>60.0</td>\n",
       "      <td>1.75</td>\n",
       "      <td>25</td>\n",
       "    </tr>\n",
       "    <tr>\n",
       "      <th>3</th>\n",
       "      <td>3</td>\n",
       "      <td>3</td>\n",
       "      <td>CARAPAZ Richard</td>\n",
       "      <td>INEOS Grenadiers</td>\n",
       "      <td>340.0</td>\n",
       "      <td>7:037:03</td>\n",
       "      <td>2021</td>\n",
       "      <td>62.0</td>\n",
       "      <td>1.70</td>\n",
       "      <td>28</td>\n",
       "    </tr>\n",
       "    <tr>\n",
       "      <th>4</th>\n",
       "      <td>13</td>\n",
       "      <td>13</td>\n",
       "      <td>CARAPAZ Richard</td>\n",
       "      <td>INEOS Grenadiers</td>\n",
       "      <td>170.0</td>\n",
       "      <td>25:5325:53</td>\n",
       "      <td>2020</td>\n",
       "      <td>62.0</td>\n",
       "      <td>1.70</td>\n",
       "      <td>27</td>\n",
       "    </tr>\n",
       "  </tbody>\n",
       "</table>\n",
       "</div>"
      ],
      "text/plain": [
       "   Rank  Prev_rank        Rider_name          Team_name  Points        Time  \\\n",
       "0     1          1     POGAČAR Tadej  UAE-Team Emirates   500.0    82:56:36   \n",
       "1     1          1     POGAČAR Tadej  UAE-Team Emirates   500.0    87:20:05   \n",
       "2     2          2  VINGEGAARD Jonas   Team Jumbo-Visma   380.0    5:205:20   \n",
       "3     3          3   CARAPAZ Richard   INEOS Grenadiers   340.0    7:037:03   \n",
       "4    13         13   CARAPAZ Richard   INEOS Grenadiers   170.0  25:5325:53   \n",
       "\n",
       "   Year  Weight(kg)  Height(m)  Age  \n",
       "0  2021        66.0       1.76   23  \n",
       "1  2020        66.0       1.76   22  \n",
       "2  2021        60.0       1.75   25  \n",
       "3  2021        62.0       1.70   28  \n",
       "4  2020        62.0       1.70   27  "
      ]
     },
     "execution_count": 107,
     "metadata": {},
     "output_type": "execute_result"
    }
   ],
   "source": [
    "TDF_GC.head()"
   ]
  },
  {
   "cell_type": "markdown",
   "id": "9264f85c",
   "metadata": {},
   "source": [
    "Keen eyed would observe that the time column is an object and not numeric. Its a tricky column as only the absolute time of the winner is given, and the remaining times are relative. Careful Feature Engineering is required for its conversion to numeric data type."
   ]
  },
  {
   "cell_type": "markdown",
   "id": "6fd3f0d8",
   "metadata": {},
   "source": [
    "### Let's save the DataFrame into a CSV file to used for modeling."
   ]
  },
  {
   "cell_type": "code",
   "execution_count": 108,
   "id": "5f54a2ec",
   "metadata": {},
   "outputs": [],
   "source": [
    "TDF_GC.to_csv('DATA/TDF_GC_with_rider_metrics.csv',index = False)"
   ]
  },
  {
   "cell_type": "markdown",
   "id": "3966ca18",
   "metadata": {},
   "source": [
    "# Graphing Data to observe trends"
   ]
  },
  {
   "cell_type": "markdown",
   "id": "a15929bf",
   "metadata": {},
   "source": [
    "### Weight in Kilograms"
   ]
  },
  {
   "cell_type": "code",
   "execution_count": 100,
   "id": "a376a906",
   "metadata": {},
   "outputs": [
    {
     "name": "stdout",
     "output_type": "stream",
     "text": [
      "Lightest Rider: 52.0\n",
      "Heaviest Rider: 90.0\n"
     ]
    }
   ],
   "source": [
    "print('Lightest Rider:', min(TDF_GC['Weight(kg)']))\n",
    "print('Heaviest Rider:', max(TDF_GC['Weight(kg)']))"
   ]
  },
  {
   "cell_type": "code",
   "execution_count": 101,
   "id": "5c20b0f3",
   "metadata": {},
   "outputs": [
    {
     "data": {
      "image/png": "[encoded data removed]",
      "text/plain": [
       "<Figure size 576x504 with 1 Axes>"
      ]
     },
     "metadata": {
      "needs_background": "light"
     },
     "output_type": "display_data"
    }
   ],
   "source": [
    "# Dsitribution of rider weight\n",
    "plt.figure(figsize=(8,7))\n",
    "plt.hist(TDF_GC['Weight(kg)'],bins=38)\n",
    "plt.title('Distribution of Rider Weight in kilograms')\n",
    "plt.xlabel('Rider weight')\n",
    "plt.ylabel('Frequency')\n",
    "plt.axvline(TDF_GC['Weight(kg)'].mean(), linestyle = '--',c='r')\n",
    "plt.show()"
   ]
  },
  {
   "cell_type": "markdown",
   "id": "a1482132",
   "metadata": {},
   "source": [
    "### Weight of the TDF winners"
   ]
  },
  {
   "cell_type": "code",
   "execution_count": 88,
   "id": "e9f26030",
   "metadata": {},
   "outputs": [
    {
     "data": {
      "text/plain": [
       "0       66.0\n",
       "1       66.0\n",
       "155     71.0\n",
       "465     66.0\n",
       "466     66.0\n",
       "467     66.0\n",
       "468     66.0\n",
       "775     60.0\n",
       "806     65.0\n",
       "1570    64.0\n",
       "1636    76.0\n",
       "Name: Weight(kg), dtype: float64"
      ]
     },
     "execution_count": 88,
     "metadata": {},
     "output_type": "execute_result"
    }
   ],
   "source": [
    "TDF_GC[TDF_GC.Rank==1]['Weight(kg)']"
   ]
  },
  {
   "cell_type": "code",
   "execution_count": 110,
   "id": "1bb971ec",
   "metadata": {},
   "outputs": [
    {
     "data": {
      "image/png": "[encoded data removed]",
      "text/plain": [
       "<Figure size 576x504 with 1 Axes>"
      ]
     },
     "metadata": {
      "needs_background": "light"
     },
     "output_type": "display_data"
    }
   ],
   "source": [
    "# Distribution of rider weight for winner\n",
    "plt.figure(figsize=(8,7))\n",
    "plt.hist(TDF_GC['Weight(kg)'][TDF_GC['Rank'] == 1],bins=40)\n",
    "plt.title('Distribution of Rider Weight in kilograms')\n",
    "plt.xlabel('Rider weight')\n",
    "plt.ylabel('Frequency')\n",
    "# plt.axvline(TDF_GC['Weight(kg)'].mean(), linestyle = '--',c='r')\n",
    "plt.show()"
   ]
  },
  {
   "cell_type": "code",
   "execution_count": 89,
   "id": "c13ed681",
   "metadata": {},
   "outputs": [
    {
     "name": "stdout",
     "output_type": "stream",
     "text": [
      "Mean Weight of a TDF winner:  66.54545454545455\n",
      "Median Weight of a TDF winner:  66.0\n",
      "Most common Weight of a TDF winner:  0    66.0\n",
      "dtype: float64\n"
     ]
    }
   ],
   "source": [
    "print('Mean Weight of a TDF winner: ',TDF_GC[TDF_GC.Rank==1]['Weight(kg)'].mean())\n",
    "print('Median Weight of a TDF winner: ',TDF_GC[TDF_GC.Rank==1]['Weight(kg)'].median())\n",
    "print('Most common Weight of a TDF winner: ',TDF_GC[TDF_GC.Rank==1]['Weight(kg)'].mode())"
   ]
  },
  {
   "cell_type": "markdown",
   "id": "2f0d3252",
   "metadata": {},
   "source": [
    "Seems like a TDF winner weighs around 66 kg."
   ]
  },
  {
   "cell_type": "markdown",
   "id": "3ae96e18",
   "metadata": {},
   "source": [
    "### Height in meters"
   ]
  },
  {
   "cell_type": "code",
   "execution_count": 102,
   "id": "79512a3f",
   "metadata": {},
   "outputs": [
    {
     "name": "stdout",
     "output_type": "stream",
     "text": [
      "Shortest Rider: 1.59\n",
      "Tallest Rider: 1.99\n"
     ]
    }
   ],
   "source": [
    "print('Shortest Rider:', min(TDF_GC['Height(m)']))\n",
    "print('Tallest Rider:', max(TDF_GC['Height(m)']))"
   ]
  },
  {
   "cell_type": "code",
   "execution_count": 103,
   "id": "106a7657",
   "metadata": {},
   "outputs": [
    {
     "data": {
      "image/png": "[encoded data removed]",
      "text/plain": [
       "<Figure size 576x504 with 1 Axes>"
      ]
     },
     "metadata": {
      "needs_background": "light"
     },
     "output_type": "display_data"
    }
   ],
   "source": [
    "# Distribution of rider height\n",
    "plt.figure(figsize=(8,7))\n",
    "plt.hist(TDF_GC['Height(m)'],bins=40)\n",
    "plt.title('Distribution of Rider Weight in meters')\n",
    "plt.xlabel('Rider height in meters')\n",
    "plt.ylabel('Frequency')\n",
    "plt.axvline(TDF_GC['Height(m)'].mean(), linestyle = '--',c='r')\n",
    "plt.show()"
   ]
  },
  {
   "cell_type": "markdown",
   "id": "1a134744",
   "metadata": {},
   "source": [
    "### Height of TDF winners"
   ]
  },
  {
   "cell_type": "code",
   "execution_count": 92,
   "id": "8e17195b",
   "metadata": {},
   "outputs": [
    {
     "data": {
      "text/plain": [
       "0       1.76\n",
       "1       1.76\n",
       "155     1.83\n",
       "465     1.86\n",
       "466     1.86\n",
       "467     1.86\n",
       "468     1.86\n",
       "775     1.75\n",
       "806     1.81\n",
       "1570    1.74\n",
       "1636    1.89\n",
       "Name: Height(m), dtype: float64"
      ]
     },
     "execution_count": 92,
     "metadata": {},
     "output_type": "execute_result"
    }
   ],
   "source": [
    "TDF_GC[TDF_GC.Rank==1]['Height(m)']"
   ]
  },
  {
   "cell_type": "code",
   "execution_count": 90,
   "id": "385e6243",
   "metadata": {},
   "outputs": [
    {
     "data": {
      "image/png": "[encoded data removed]",
      "text/plain": [
       "<Figure size 576x504 with 1 Axes>"
      ]
     },
     "metadata": {
      "needs_background": "light"
     },
     "output_type": "display_data"
    }
   ],
   "source": [
    "# Distribution of rider weight for winner\n",
    "plt.figure(figsize=(8,7))\n",
    "plt.hist(TDF_GC['Height(m)'][TDF_GC['Rank'] == 1],bins=40)\n",
    "plt.title('Distribution of Rider Height in meters')\n",
    "plt.xlabel('Rider height')\n",
    "plt.ylabel('Frequency')\n",
    "# plt.axvline(TDF_GC['Weight(kg)'].mean(), linestyle = '--',c='r')\n",
    "plt.show()"
   ]
  },
  {
   "cell_type": "code",
   "execution_count": 91,
   "id": "bdf951c5",
   "metadata": {},
   "outputs": [
    {
     "name": "stdout",
     "output_type": "stream",
     "text": [
      "Mean Height of a TDF winner:  1.8163636363636362\n",
      "Median Height of a TDF winner:  1.83\n",
      "Most common Height of a TDF winner:  0    1.86\n",
      "dtype: float64\n"
     ]
    }
   ],
   "source": [
    "print('Mean Height of a TDF winner: ',TDF_GC[TDF_GC.Rank==1]['Height(m)'].mean())\n",
    "print('Median Height of a TDF winner: ',TDF_GC[TDF_GC.Rank==1]['Height(m)'].median())\n",
    "print('Most common Height of a TDF winner: ',TDF_GC[TDF_GC.Rank==1]['Height(m)'].mode())"
   ]
  },
  {
   "cell_type": "markdown",
   "id": "2e7b96e0",
   "metadata": {},
   "source": [
    "Seems like a TDF winner is around 1.83~1.86 m tall."
   ]
  },
  {
   "cell_type": "markdown",
   "id": "6ceb1bae",
   "metadata": {},
   "source": [
    "## Age in Years"
   ]
  },
  {
   "cell_type": "code",
   "execution_count": 98,
   "id": "7f7f8e45",
   "metadata": {},
   "outputs": [
    {
     "name": "stdout",
     "output_type": "stream",
     "text": [
      "Youngest Rider: 21\n",
      "Oldest Rider: 43\n"
     ]
    }
   ],
   "source": [
    "print('Youngest Rider:', min(TDF_GC['Age']))\n",
    "print('Oldest Rider:', max(TDF_GC['Age']))"
   ]
  },
  {
   "cell_type": "code",
   "execution_count": 99,
   "id": "b9261acc",
   "metadata": {},
   "outputs": [
    {
     "data": {
      "image/png": "[encoded data removed]",
      "text/plain": [
       "<Figure size 576x504 with 1 Axes>"
      ]
     },
     "metadata": {
      "needs_background": "light"
     },
     "output_type": "display_data"
    }
   ],
   "source": [
    "# Distribution of rider height\n",
    "plt.figure(figsize=(8,7))\n",
    "plt.hist(TDF_GC['Age'],bins=22)\n",
    "plt.title('Distribution of Rider Age in years')\n",
    "plt.xlabel('Rider age in years')\n",
    "plt.ylabel('Frequency')\n",
    "plt.axvline(TDF_GC['Age'].mean(), linestyle = '--',c='r')\n",
    "plt.show()"
   ]
  },
  {
   "cell_type": "markdown",
   "id": "bd7d5d64",
   "metadata": {},
   "source": [
    "### Age of TDF winners"
   ]
  },
  {
   "cell_type": "code",
   "execution_count": 104,
   "id": "be83071e",
   "metadata": {},
   "outputs": [
    {
     "data": {
      "text/plain": [
       "0       23\n",
       "1       22\n",
       "155     32\n",
       "465     32\n",
       "466     31\n",
       "467     30\n",
       "468     28\n",
       "775     22\n",
       "806     30\n",
       "1570    34\n",
       "1636    32\n",
       "Name: Age, dtype: int64"
      ]
     },
     "execution_count": 104,
     "metadata": {},
     "output_type": "execute_result"
    }
   ],
   "source": [
    "TDF_GC[TDF_GC.Rank==1]['Age']"
   ]
  },
  {
   "cell_type": "code",
   "execution_count": 105,
   "id": "aec9962f",
   "metadata": {},
   "outputs": [
    {
     "data": {
      "image/png": "[encoded data removed]",
      "text/plain": [
       "<Figure size 576x504 with 1 Axes>"
      ]
     },
     "metadata": {
      "needs_background": "light"
     },
     "output_type": "display_data"
    }
   ],
   "source": [
    "# Distribution of rider weight for winner\n",
    "plt.figure(figsize=(8,7))\n",
    "plt.hist(TDF_GC['Age'][TDF_GC['Rank'] == 1],bins=40)\n",
    "plt.title('Distribution of Rider Age in years')\n",
    "plt.xlabel('Rider age')\n",
    "plt.ylabel('Frequency')\n",
    "# plt.axvline(TDF_GC['Weight(kg)'].mean(), linestyle = '--',c='r')\n",
    "plt.show()"
   ]
  },
  {
   "cell_type": "code",
   "execution_count": 106,
   "id": "c2f5e325",
   "metadata": {},
   "outputs": [
    {
     "name": "stdout",
     "output_type": "stream",
     "text": [
      "Mean Age of a TDF winner:  28.727272727272727\n",
      "Median Age of a TDF winner:  30.0\n",
      "Most common Age of a TDF winner:  0    32\n",
      "dtype: int64\n"
     ]
    }
   ],
   "source": [
    "print('Mean Age of a TDF winner: ',TDF_GC[TDF_GC.Rank==1]['Age'].mean())\n",
    "print('Median Age of a TDF winner: ',TDF_GC[TDF_GC.Rank==1]['Age'].median())\n",
    "print('Most common Age of a TDF winner: ',TDF_GC[TDF_GC.Rank==1]['Age'].mode())"
   ]
  },
  {
   "cell_type": "markdown",
   "id": "d11763d4",
   "metadata": {},
   "source": [
    "Seems like most TDF winners are around 30~32 years old."
   ]
  },
  {
   "cell_type": "markdown",
   "id": "12199331",
   "metadata": {},
   "source": [
    "### Are these findings statistically significant?"
   ]
  },
  {
   "cell_type": "markdown",
   "id": "2a348a05",
   "metadata": {},
   "source": [
    "Null Hypothesis: Rider with weight of 66 kg, height of 1.86 m and 32 years of age doesnt have any better odds of winning than a different rider.\n",
    "\n",
    "Let's do some stats and model our data to see what we find."
   ]
  },
  {
   "cell_type": "code",
   "execution_count": null,
   "id": "f4c86c76",
   "metadata": {},
   "outputs": [],
   "source": []
  }
 ],
 "metadata": {
  "kernelspec": {
   "display_name": "Python 3",
   "language": "python",
   "name": "python3"
  },
  "language_info": {
   "codemirror_mode": {
    "name": "ipython",
    "version": 3
   },
   "file_extension": ".py",
   "mimetype": "text/x-python",
   "name": "python",
   "nbconvert_exporter": "python",
   "pygments_lexer": "ipython3",
   "version": "3.8.8"
  }
 },
 "nbformat": 4,
 "nbformat_minor": 5
}
