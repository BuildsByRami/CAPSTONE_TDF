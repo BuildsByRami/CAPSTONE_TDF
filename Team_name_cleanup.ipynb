{
 "cells": [
  {
   "cell_type": "markdown",
   "id": "9e5423f6",
   "metadata": {},
   "source": [
    "## Raminderpreet Singh Khaira\n",
    "### 30/06/2022"
   ]
  },
  {
   "cell_type": "markdown",
   "id": "28baa036",
   "metadata": {},
   "source": [
    "One of the things I took a notice of is the fact that team go through different names regularly as sponships change. So a team can be named \"Sky Procycling\" from 2011-2013, and then change to \"Team Sky\" from 2014-2019, and then \"Team Ineos\" from 2019-2020. All the same teams effectively with similar strategies, management, and collection of data and experience, but filed under different names in our classification model.\n",
    "\n",
    "In this Notebook I investigate into the names of the 2021 teams, and change the previous names appropriately to the most current team name. This should improve the number of wins per team, and won't leave a newely named team as fresh first time team."
   ]
  },
  {
   "cell_type": "code",
   "execution_count": null,
   "id": "fb002035",
   "metadata": {},
   "outputs": [],
   "source": [
    "pd.read('')"
   ]
  },
  {
   "cell_type": "code",
   "execution_count": null,
   "id": "a0ce72fe",
   "metadata": {},
   "outputs": [],
   "source": []
  },
  {
   "cell_type": "code",
   "execution_count": null,
   "id": "e86932fe",
   "metadata": {},
   "outputs": [],
   "source": []
  },
  {
   "cell_type": "code",
   "execution_count": null,
   "id": "1d39c96b",
   "metadata": {},
   "outputs": [],
   "source": []
  }
 ],
 "metadata": {
  "kernelspec": {
   "display_name": "Python 3",
   "language": "python",
   "name": "python3"
  },
  "language_info": {
   "codemirror_mode": {
    "name": "ipython",
    "version": 3
   },
   "file_extension": ".py",
   "mimetype": "text/x-python",
   "name": "python",
   "nbconvert_exporter": "python",
   "pygments_lexer": "ipython3",
   "version": "3.8.8"
  }
 },
 "nbformat": 4,
 "nbformat_minor": 5
}
