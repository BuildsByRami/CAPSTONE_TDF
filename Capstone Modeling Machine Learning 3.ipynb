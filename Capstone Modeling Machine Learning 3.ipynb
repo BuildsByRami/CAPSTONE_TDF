{
 "cells": [
  {
   "cell_type": "markdown",
   "id": "ae824386",
   "metadata": {},
   "source": [
    "# Machine Learning applied to TDF Data"
   ]
  },
  {
   "cell_type": "code",
   "execution_count": 1,
   "id": "f374379a",
   "metadata": {},
   "outputs": [],
   "source": [
    "# Import Libraries\n",
    "\n",
    "import numpy as np\n",
    "import pandas as pd\n",
    "import matplotlib.pyplot as plt\n",
    "\n",
    "# Ignore futurewarnings\n",
    "import warnings\n",
    "warnings.filterwarnings('ignore')"
   ]
  },
  {
   "cell_type": "code",
   "execution_count": 2,
   "id": "4fcc3d10",
   "metadata": {},
   "outputs": [],
   "source": [
    "# Importing Machine Learning libraries/tools\n",
    "\n",
    "from sklearn.model_selection import train_test_split\n",
    "from sklearn.metrics import accuracy_score\n",
    "from sklearn.pipeline import Pipeline\n",
    "from sklearn.preprocessing import StandardScaler\n",
    "from sklearn.decomposition import PCA\n",
    "\n",
    "from sklearn.linear_model import LogisticRegression\n",
    "from sklearn import svm\n",
    "from sklearn.neighbors import KNeighborsClassifier\n",
    "from sklearn.feature_selection import SelectKBest\n",
    "from sklearn.tree import DecisionTreeClassifier\n",
    "from sklearn.svm import LinearSVC\n",
    "\n",
    "from sklearn.model_selection import cross_val_score\n",
    "\n",
    "from sklearn.tree import DecisionTreeRegressor\n",
    "%matplotlib inline\n",
    "from sklearn.tree import plot_tree"
   ]
  },
  {
   "cell_type": "code",
   "execution_count": 3,
   "id": "f0ef1d14",
   "metadata": {},
   "outputs": [
    {
     "data": {
      "text/html": [
       "<div>\n",
       "<style scoped>\n",
       "    .dataframe tbody tr th:only-of-type {\n",
       "        vertical-align: middle;\n",
       "    }\n",
       "\n",
       "    .dataframe tbody tr th {\n",
       "        vertical-align: top;\n",
       "    }\n",
       "\n",
       "    .dataframe thead th {\n",
       "        text-align: right;\n",
       "    }\n",
       "</style>\n",
       "<table border=\"1\" class=\"dataframe\">\n",
       "  <thead>\n",
       "    <tr style=\"text-align: right;\">\n",
       "      <th></th>\n",
       "      <th>Models</th>\n",
       "      <th>Train_Score</th>\n",
       "      <th>Test_Score</th>\n",
       "    </tr>\n",
       "  </thead>\n",
       "  <tbody>\n",
       "  </tbody>\n",
       "</table>\n",
       "</div>"
      ],
      "text/plain": [
       "Empty DataFrame\n",
       "Columns: [Models, Train_Score, Test_Score]\n",
       "Index: []"
      ]
     },
     "execution_count": 3,
     "metadata": {},
     "output_type": "execute_result"
    }
   ],
   "source": [
    "Results_df = pd.DataFrame(columns=['Models','Train_Score','Test_Score'])\n",
    "Results_df"
   ]
  },
  {
   "cell_type": "code",
   "execution_count": 4,
   "id": "6eb7d4f6",
   "metadata": {},
   "outputs": [],
   "source": [
    "# Import data from CSV file\n",
    "TDF_GC = pd.read_csv('DATA/TDF_GC_with_rider_metrics.csv')"
   ]
  },
  {
   "cell_type": "code",
   "execution_count": 5,
   "id": "b13315ed",
   "metadata": {},
   "outputs": [
    {
     "data": {
      "text/html": [
       "<div>\n",
       "<style scoped>\n",
       "    .dataframe tbody tr th:only-of-type {\n",
       "        vertical-align: middle;\n",
       "    }\n",
       "\n",
       "    .dataframe tbody tr th {\n",
       "        vertical-align: top;\n",
       "    }\n",
       "\n",
       "    .dataframe thead th {\n",
       "        text-align: right;\n",
       "    }\n",
       "</style>\n",
       "<table border=\"1\" class=\"dataframe\">\n",
       "  <thead>\n",
       "    <tr style=\"text-align: right;\">\n",
       "      <th></th>\n",
       "      <th>Rank</th>\n",
       "      <th>Prev_rank</th>\n",
       "      <th>Rider_name</th>\n",
       "      <th>Team_name</th>\n",
       "      <th>Points</th>\n",
       "      <th>Time</th>\n",
       "      <th>Year</th>\n",
       "      <th>Weight(kg)</th>\n",
       "      <th>Height(m)</th>\n",
       "      <th>Age</th>\n",
       "    </tr>\n",
       "  </thead>\n",
       "  <tbody>\n",
       "    <tr>\n",
       "      <th>0</th>\n",
       "      <td>1</td>\n",
       "      <td>1</td>\n",
       "      <td>POGAČAR Tadej</td>\n",
       "      <td>UAE-Team Emirates</td>\n",
       "      <td>500.0</td>\n",
       "      <td>82:56:36</td>\n",
       "      <td>2021</td>\n",
       "      <td>66.0</td>\n",
       "      <td>1.76</td>\n",
       "      <td>23</td>\n",
       "    </tr>\n",
       "    <tr>\n",
       "      <th>1</th>\n",
       "      <td>1</td>\n",
       "      <td>1</td>\n",
       "      <td>POGAČAR Tadej</td>\n",
       "      <td>UAE-Team Emirates</td>\n",
       "      <td>500.0</td>\n",
       "      <td>87:20:05</td>\n",
       "      <td>2020</td>\n",
       "      <td>66.0</td>\n",
       "      <td>1.76</td>\n",
       "      <td>22</td>\n",
       "    </tr>\n",
       "    <tr>\n",
       "      <th>2</th>\n",
       "      <td>2</td>\n",
       "      <td>2</td>\n",
       "      <td>VINGEGAARD Jonas</td>\n",
       "      <td>Team Jumbo-Visma</td>\n",
       "      <td>380.0</td>\n",
       "      <td>5:205:20</td>\n",
       "      <td>2021</td>\n",
       "      <td>60.0</td>\n",
       "      <td>1.75</td>\n",
       "      <td>25</td>\n",
       "    </tr>\n",
       "    <tr>\n",
       "      <th>3</th>\n",
       "      <td>3</td>\n",
       "      <td>3</td>\n",
       "      <td>CARAPAZ Richard</td>\n",
       "      <td>INEOS Grenadiers</td>\n",
       "      <td>340.0</td>\n",
       "      <td>7:037:03</td>\n",
       "      <td>2021</td>\n",
       "      <td>62.0</td>\n",
       "      <td>1.70</td>\n",
       "      <td>28</td>\n",
       "    </tr>\n",
       "    <tr>\n",
       "      <th>4</th>\n",
       "      <td>13</td>\n",
       "      <td>13</td>\n",
       "      <td>CARAPAZ Richard</td>\n",
       "      <td>INEOS Grenadiers</td>\n",
       "      <td>170.0</td>\n",
       "      <td>25:5325:53</td>\n",
       "      <td>2020</td>\n",
       "      <td>62.0</td>\n",
       "      <td>1.70</td>\n",
       "      <td>27</td>\n",
       "    </tr>\n",
       "  </tbody>\n",
       "</table>\n",
       "</div>"
      ],
      "text/plain": [
       "   Rank  Prev_rank        Rider_name          Team_name  Points        Time  \\\n",
       "0     1          1     POGAČAR Tadej  UAE-Team Emirates   500.0    82:56:36   \n",
       "1     1          1     POGAČAR Tadej  UAE-Team Emirates   500.0    87:20:05   \n",
       "2     2          2  VINGEGAARD Jonas   Team Jumbo-Visma   380.0    5:205:20   \n",
       "3     3          3   CARAPAZ Richard   INEOS Grenadiers   340.0    7:037:03   \n",
       "4    13         13   CARAPAZ Richard   INEOS Grenadiers   170.0  25:5325:53   \n",
       "\n",
       "   Year  Weight(kg)  Height(m)  Age  \n",
       "0  2021        66.0       1.76   23  \n",
       "1  2020        66.0       1.76   22  \n",
       "2  2021        60.0       1.75   25  \n",
       "3  2021        62.0       1.70   28  \n",
       "4  2020        62.0       1.70   27  "
      ]
     },
     "execution_count": 5,
     "metadata": {},
     "output_type": "execute_result"
    }
   ],
   "source": [
    "# Glance at untouched data\n",
    "TDF_GC.head()"
   ]
  },
  {
   "cell_type": "markdown",
   "id": "c2c5bf6f",
   "metadata": {},
   "source": [
    "- Dropping Prev_Rank, as its not very usefull for determining overall winener before the race begins as its telling us the ranking before the last stage of TDF\n",
    "- Dropping Time as its not a feature we will have available before a race, and running classification (not regression) for now"
   ]
  },
  {
   "cell_type": "code",
   "execution_count": 6,
   "id": "92afe704",
   "metadata": {},
   "outputs": [],
   "source": [
    "TDF_GC = TDF_GC.drop(['Prev_rank','Time'],axis=1)"
   ]
  },
  {
   "cell_type": "code",
   "execution_count": 7,
   "id": "c61f2b73",
   "metadata": {},
   "outputs": [
    {
     "data": {
      "text/plain": [
       "(1741, 8)"
      ]
     },
     "execution_count": 7,
     "metadata": {},
     "output_type": "execute_result"
    }
   ],
   "source": [
    "# Shape of current data-set\n",
    "TDF_GC.shape"
   ]
  },
  {
   "cell_type": "code",
   "execution_count": 8,
   "id": "8078b48c",
   "metadata": {},
   "outputs": [
    {
     "data": {
      "text/plain": [
       "Rank          0\n",
       "Rider_name    0\n",
       "Team_name     0\n",
       "Points        0\n",
       "Year          0\n",
       "Weight(kg)    0\n",
       "Height(m)     0\n",
       "Age           0\n",
       "dtype: int64"
      ]
     },
     "execution_count": 8,
     "metadata": {},
     "output_type": "execute_result"
    }
   ],
   "source": [
    "# Checking for null values in the data frame\n",
    "TDF_GC.isna().sum()"
   ]
  },
  {
   "cell_type": "markdown",
   "id": "916bebac",
   "metadata": {},
   "source": [
    "No Null values."
   ]
  },
  {
   "cell_type": "markdown",
   "id": "55527de4",
   "metadata": {},
   "source": [
    "- `Rank`: What position a rider came in\n",
    "- `Rider_name`: Name of the cyclist/rider\n",
    "- `Team_name`: Name of the team the rider rides for\n",
    "- `Points`: Points based on Rank the rider finished in\n",
    "- `Time`: Time it took to complete the whole Tour De France (Only winner is absolute, rest are relative)\n",
    "- `Year`: The Year of the race\n",
    "- `Weight(kg)`: Weight of the rider in Kilograms\n",
    "- `Height(m)`: Height of rider in meters\n",
    "- `Age`: Age of rider the year they competed in years"
   ]
  },
  {
   "cell_type": "markdown",
   "id": "cb1f2463",
   "metadata": {},
   "source": [
    "- `Rank`, `Points`, & `Time` all hold the same information\n",
    "    - `Rank` every year there may be different number of riders who finish\n",
    "    - `Points` has 35 unique values and can be used for classification\n",
    "        - Everyone ranked 35 or lower ends up with 25 points\n",
    "        - Unique values for everyone from 1 to 34\n",
    "        - Not sure of the relationship between rank and points awarded\n",
    "    - `Time` is different every year depending on how long the course is, may not train the model well as winning time for one year might be equivalent of 10th position another year?"
   ]
  },
  {
   "cell_type": "markdown",
   "id": "df434273",
   "metadata": {},
   "source": [
    "# Using Rank as classifier"
   ]
  },
  {
   "cell_type": "code",
   "execution_count": 9,
   "id": "1984db2f",
   "metadata": {},
   "outputs": [],
   "source": [
    "# Dropping all rider who finished below 100 for balancing our classes\n",
    "TDF_GC = TDF_GC[TDF_GC.Rank <= 100]"
   ]
  },
  {
   "cell_type": "code",
   "execution_count": 10,
   "id": "4f556eb0",
   "metadata": {},
   "outputs": [],
   "source": [
    "TDF_GC = TDF_GC.drop(['Points'],axis=1)"
   ]
  },
  {
   "cell_type": "code",
   "execution_count": 11,
   "id": "8bb526bd",
   "metadata": {},
   "outputs": [
    {
     "name": "stdout",
     "output_type": "stream",
     "text": [
      "<class 'pandas.core.frame.DataFrame'>\n",
      "Int64Index: 1100 entries, 0 to 1719\n",
      "Data columns (total 7 columns):\n",
      " #   Column      Non-Null Count  Dtype  \n",
      "---  ------      --------------  -----  \n",
      " 0   Rank        1100 non-null   int64  \n",
      " 1   Rider_name  1100 non-null   object \n",
      " 2   Team_name   1100 non-null   object \n",
      " 3   Year        1100 non-null   int64  \n",
      " 4   Weight(kg)  1100 non-null   float64\n",
      " 5   Height(m)   1100 non-null   float64\n",
      " 6   Age         1100 non-null   int64  \n",
      "dtypes: float64(2), int64(3), object(2)\n",
      "memory usage: 68.8+ KB\n"
     ]
    }
   ],
   "source": [
    "# Checking data types and null values\n",
    "TDF_GC.info()"
   ]
  },
  {
   "cell_type": "markdown",
   "id": "ea187f0a",
   "metadata": {},
   "source": [
    "### Changing data types to reduce memory use and run time"
   ]
  },
  {
   "cell_type": "code",
   "execution_count": 12,
   "id": "d26b4753",
   "metadata": {},
   "outputs": [],
   "source": [
    "TDF_GC.Year = TDF_GC.Year.astype('int16')\n",
    "TDF_GC['Weight(kg)'] = TDF_GC['Weight(kg)'].astype('float16')\n",
    "TDF_GC['Height(m)'] = TDF_GC['Height(m)'].astype('float32')\n",
    "TDF_GC.Age = TDF_GC.Age.astype('int8')\n",
    "TDF_GC.Rank = TDF_GC.Rank.astype('int8')"
   ]
  },
  {
   "cell_type": "code",
   "execution_count": 13,
   "id": "0c3fb994",
   "metadata": {},
   "outputs": [
    {
     "name": "stdout",
     "output_type": "stream",
     "text": [
      "<class 'pandas.core.frame.DataFrame'>\n",
      "Int64Index: 1100 entries, 0 to 1719\n",
      "Data columns (total 7 columns):\n",
      " #   Column      Non-Null Count  Dtype  \n",
      "---  ------      --------------  -----  \n",
      " 0   Rank        1100 non-null   int8   \n",
      " 1   Rider_name  1100 non-null   object \n",
      " 2   Team_name   1100 non-null   object \n",
      " 3   Year        1100 non-null   int16  \n",
      " 4   Weight(kg)  1100 non-null   float16\n",
      " 5   Height(m)   1100 non-null   float32\n",
      " 6   Age         1100 non-null   int8   \n",
      "dtypes: float16(1), float32(1), int16(1), int8(2), object(2)\n",
      "memory usage: 36.5+ KB\n"
     ]
    }
   ],
   "source": [
    "# Checking if the change took place\n",
    "TDF_GC.info()"
   ]
  },
  {
   "cell_type": "code",
   "execution_count": 14,
   "id": "48d534db",
   "metadata": {},
   "outputs": [
    {
     "data": {
      "text/html": [
       "<div>\n",
       "<style scoped>\n",
       "    .dataframe tbody tr th:only-of-type {\n",
       "        vertical-align: middle;\n",
       "    }\n",
       "\n",
       "    .dataframe tbody tr th {\n",
       "        vertical-align: top;\n",
       "    }\n",
       "\n",
       "    .dataframe thead th {\n",
       "        text-align: right;\n",
       "    }\n",
       "</style>\n",
       "<table border=\"1\" class=\"dataframe\">\n",
       "  <thead>\n",
       "    <tr style=\"text-align: right;\">\n",
       "      <th></th>\n",
       "      <th>Rank</th>\n",
       "      <th>Rider_name</th>\n",
       "      <th>Team_name</th>\n",
       "      <th>Year</th>\n",
       "      <th>Weight(kg)</th>\n",
       "      <th>Height(m)</th>\n",
       "      <th>Age</th>\n",
       "    </tr>\n",
       "  </thead>\n",
       "  <tbody>\n",
       "    <tr>\n",
       "      <th>0</th>\n",
       "      <td>1</td>\n",
       "      <td>POGAČAR Tadej</td>\n",
       "      <td>UAE-Team Emirates</td>\n",
       "      <td>2021</td>\n",
       "      <td>66.0</td>\n",
       "      <td>1.76</td>\n",
       "      <td>23</td>\n",
       "    </tr>\n",
       "    <tr>\n",
       "      <th>1</th>\n",
       "      <td>1</td>\n",
       "      <td>POGAČAR Tadej</td>\n",
       "      <td>UAE-Team Emirates</td>\n",
       "      <td>2020</td>\n",
       "      <td>66.0</td>\n",
       "      <td>1.76</td>\n",
       "      <td>22</td>\n",
       "    </tr>\n",
       "    <tr>\n",
       "      <th>2</th>\n",
       "      <td>2</td>\n",
       "      <td>VINGEGAARD Jonas</td>\n",
       "      <td>Team Jumbo-Visma</td>\n",
       "      <td>2021</td>\n",
       "      <td>60.0</td>\n",
       "      <td>1.75</td>\n",
       "      <td>25</td>\n",
       "    </tr>\n",
       "    <tr>\n",
       "      <th>3</th>\n",
       "      <td>3</td>\n",
       "      <td>CARAPAZ Richard</td>\n",
       "      <td>INEOS Grenadiers</td>\n",
       "      <td>2021</td>\n",
       "      <td>62.0</td>\n",
       "      <td>1.70</td>\n",
       "      <td>28</td>\n",
       "    </tr>\n",
       "    <tr>\n",
       "      <th>4</th>\n",
       "      <td>13</td>\n",
       "      <td>CARAPAZ Richard</td>\n",
       "      <td>INEOS Grenadiers</td>\n",
       "      <td>2020</td>\n",
       "      <td>62.0</td>\n",
       "      <td>1.70</td>\n",
       "      <td>27</td>\n",
       "    </tr>\n",
       "  </tbody>\n",
       "</table>\n",
       "</div>"
      ],
      "text/plain": [
       "   Rank        Rider_name          Team_name  Year  Weight(kg)  Height(m)  Age\n",
       "0     1     POGAČAR Tadej  UAE-Team Emirates  2021        66.0       1.76   23\n",
       "1     1     POGAČAR Tadej  UAE-Team Emirates  2020        66.0       1.76   22\n",
       "2     2  VINGEGAARD Jonas   Team Jumbo-Visma  2021        60.0       1.75   25\n",
       "3     3   CARAPAZ Richard   INEOS Grenadiers  2021        62.0       1.70   28\n",
       "4    13   CARAPAZ Richard   INEOS Grenadiers  2020        62.0       1.70   27"
      ]
     },
     "execution_count": 14,
     "metadata": {},
     "output_type": "execute_result"
    }
   ],
   "source": [
    "TDF_GC.head()"
   ]
  },
  {
   "cell_type": "code",
   "execution_count": 15,
   "id": "53b0e555",
   "metadata": {},
   "outputs": [
    {
     "data": {
      "text/plain": [
       "(1100, 433)"
      ]
     },
     "execution_count": 15,
     "metadata": {},
     "output_type": "execute_result"
    }
   ],
   "source": [
    "# One hot encoding rider names\n",
    "TDF_GC = TDF_GC.join(pd.get_dummies(TDF_GC.Rider_name))\n",
    "TDF_GC.shape"
   ]
  },
  {
   "cell_type": "code",
   "execution_count": 16,
   "id": "38e58a41",
   "metadata": {},
   "outputs": [
    {
     "data": {
      "text/plain": [
       "(1100, 535)"
      ]
     },
     "execution_count": 16,
     "metadata": {},
     "output_type": "execute_result"
    }
   ],
   "source": [
    "# One hot encoding team names\n",
    "TDF_GC = TDF_GC.join(pd.get_dummies(TDF_GC.Team_name))\n",
    "TDF_GC.shape"
   ]
  },
  {
   "cell_type": "code",
   "execution_count": 17,
   "id": "5368dea1",
   "metadata": {},
   "outputs": [
    {
     "data": {
      "text/plain": [
       "(1100, 533)"
      ]
     },
     "execution_count": 17,
     "metadata": {},
     "output_type": "execute_result"
    }
   ],
   "source": [
    "# Dropping the last 2 categorical columns\n",
    "TDF_GC = TDF_GC.drop(['Rider_name','Team_name'],axis=1)\n",
    "TDF_GC.shape"
   ]
  },
  {
   "cell_type": "code",
   "execution_count": 18,
   "id": "43bae1ec",
   "metadata": {},
   "outputs": [
    {
     "data": {
      "text/html": [
       "<div>\n",
       "<style scoped>\n",
       "    .dataframe tbody tr th:only-of-type {\n",
       "        vertical-align: middle;\n",
       "    }\n",
       "\n",
       "    .dataframe tbody tr th {\n",
       "        vertical-align: top;\n",
       "    }\n",
       "\n",
       "    .dataframe thead th {\n",
       "        text-align: right;\n",
       "    }\n",
       "</style>\n",
       "<table border=\"1\" class=\"dataframe\">\n",
       "  <thead>\n",
       "    <tr style=\"text-align: right;\">\n",
       "      <th></th>\n",
       "      <th>Rank</th>\n",
       "      <th>Year</th>\n",
       "      <th>Weight(kg)</th>\n",
       "      <th>Height(m)</th>\n",
       "      <th>Age</th>\n",
       "      <th>ALAPHILIPPE Julian</th>\n",
       "      <th>ALBASINI Michael</th>\n",
       "      <th>AMADOR Andrey</th>\n",
       "      <th>ANACONA Winner</th>\n",
       "      <th>ANTÓN Igor</th>\n",
       "      <th>...</th>\n",
       "      <th>Team TotalEnergies</th>\n",
       "      <th>Tinkoff</th>\n",
       "      <th>Tinkoff - Saxo</th>\n",
       "      <th>Trek - Segafredo</th>\n",
       "      <th>Trek Factory Racing</th>\n",
       "      <th>UAE Team Emirates</th>\n",
       "      <th>UAE-Team Emirates</th>\n",
       "      <th>Vacansoleil - DCM</th>\n",
       "      <th>Wanty - Gobert Cycling Team</th>\n",
       "      <th>Wanty - Groupe Gobert</th>\n",
       "    </tr>\n",
       "  </thead>\n",
       "  <tbody>\n",
       "    <tr>\n",
       "      <th>0</th>\n",
       "      <td>1</td>\n",
       "      <td>2021</td>\n",
       "      <td>66.0</td>\n",
       "      <td>1.76</td>\n",
       "      <td>23</td>\n",
       "      <td>0</td>\n",
       "      <td>0</td>\n",
       "      <td>0</td>\n",
       "      <td>0</td>\n",
       "      <td>0</td>\n",
       "      <td>...</td>\n",
       "      <td>0</td>\n",
       "      <td>0</td>\n",
       "      <td>0</td>\n",
       "      <td>0</td>\n",
       "      <td>0</td>\n",
       "      <td>0</td>\n",
       "      <td>1</td>\n",
       "      <td>0</td>\n",
       "      <td>0</td>\n",
       "      <td>0</td>\n",
       "    </tr>\n",
       "    <tr>\n",
       "      <th>1</th>\n",
       "      <td>1</td>\n",
       "      <td>2020</td>\n",
       "      <td>66.0</td>\n",
       "      <td>1.76</td>\n",
       "      <td>22</td>\n",
       "      <td>0</td>\n",
       "      <td>0</td>\n",
       "      <td>0</td>\n",
       "      <td>0</td>\n",
       "      <td>0</td>\n",
       "      <td>...</td>\n",
       "      <td>0</td>\n",
       "      <td>0</td>\n",
       "      <td>0</td>\n",
       "      <td>0</td>\n",
       "      <td>0</td>\n",
       "      <td>0</td>\n",
       "      <td>1</td>\n",
       "      <td>0</td>\n",
       "      <td>0</td>\n",
       "      <td>0</td>\n",
       "    </tr>\n",
       "    <tr>\n",
       "      <th>2</th>\n",
       "      <td>2</td>\n",
       "      <td>2021</td>\n",
       "      <td>60.0</td>\n",
       "      <td>1.75</td>\n",
       "      <td>25</td>\n",
       "      <td>0</td>\n",
       "      <td>0</td>\n",
       "      <td>0</td>\n",
       "      <td>0</td>\n",
       "      <td>0</td>\n",
       "      <td>...</td>\n",
       "      <td>0</td>\n",
       "      <td>0</td>\n",
       "      <td>0</td>\n",
       "      <td>0</td>\n",
       "      <td>0</td>\n",
       "      <td>0</td>\n",
       "      <td>0</td>\n",
       "      <td>0</td>\n",
       "      <td>0</td>\n",
       "      <td>0</td>\n",
       "    </tr>\n",
       "    <tr>\n",
       "      <th>3</th>\n",
       "      <td>3</td>\n",
       "      <td>2021</td>\n",
       "      <td>62.0</td>\n",
       "      <td>1.70</td>\n",
       "      <td>28</td>\n",
       "      <td>0</td>\n",
       "      <td>0</td>\n",
       "      <td>0</td>\n",
       "      <td>0</td>\n",
       "      <td>0</td>\n",
       "      <td>...</td>\n",
       "      <td>0</td>\n",
       "      <td>0</td>\n",
       "      <td>0</td>\n",
       "      <td>0</td>\n",
       "      <td>0</td>\n",
       "      <td>0</td>\n",
       "      <td>0</td>\n",
       "      <td>0</td>\n",
       "      <td>0</td>\n",
       "      <td>0</td>\n",
       "    </tr>\n",
       "    <tr>\n",
       "      <th>4</th>\n",
       "      <td>13</td>\n",
       "      <td>2020</td>\n",
       "      <td>62.0</td>\n",
       "      <td>1.70</td>\n",
       "      <td>27</td>\n",
       "      <td>0</td>\n",
       "      <td>0</td>\n",
       "      <td>0</td>\n",
       "      <td>0</td>\n",
       "      <td>0</td>\n",
       "      <td>...</td>\n",
       "      <td>0</td>\n",
       "      <td>0</td>\n",
       "      <td>0</td>\n",
       "      <td>0</td>\n",
       "      <td>0</td>\n",
       "      <td>0</td>\n",
       "      <td>0</td>\n",
       "      <td>0</td>\n",
       "      <td>0</td>\n",
       "      <td>0</td>\n",
       "    </tr>\n",
       "  </tbody>\n",
       "</table>\n",
       "<p>5 rows × 533 columns</p>\n",
       "</div>"
      ],
      "text/plain": [
       "   Rank  Year  Weight(kg)  Height(m)  Age  ALAPHILIPPE Julian  \\\n",
       "0     1  2021        66.0       1.76   23                   0   \n",
       "1     1  2020        66.0       1.76   22                   0   \n",
       "2     2  2021        60.0       1.75   25                   0   \n",
       "3     3  2021        62.0       1.70   28                   0   \n",
       "4    13  2020        62.0       1.70   27                   0   \n",
       "\n",
       "   ALBASINI Michael  AMADOR Andrey  ANACONA Winner  ANTÓN Igor  ...  \\\n",
       "0                 0              0               0           0  ...   \n",
       "1                 0              0               0           0  ...   \n",
       "2                 0              0               0           0  ...   \n",
       "3                 0              0               0           0  ...   \n",
       "4                 0              0               0           0  ...   \n",
       "\n",
       "   Team TotalEnergies  Tinkoff  Tinkoff - Saxo  Trek - Segafredo  \\\n",
       "0                   0        0               0                 0   \n",
       "1                   0        0               0                 0   \n",
       "2                   0        0               0                 0   \n",
       "3                   0        0               0                 0   \n",
       "4                   0        0               0                 0   \n",
       "\n",
       "   Trek Factory Racing   UAE Team Emirates  UAE-Team Emirates  \\\n",
       "0                     0                  0                  1   \n",
       "1                     0                  0                  1   \n",
       "2                     0                  0                  0   \n",
       "3                     0                  0                  0   \n",
       "4                     0                  0                  0   \n",
       "\n",
       "   Vacansoleil - DCM  Wanty - Gobert Cycling Team  Wanty - Groupe Gobert  \n",
       "0                  0                            0                      0  \n",
       "1                  0                            0                      0  \n",
       "2                  0                            0                      0  \n",
       "3                  0                            0                      0  \n",
       "4                  0                            0                      0  \n",
       "\n",
       "[5 rows x 533 columns]"
      ]
     },
     "execution_count": 18,
     "metadata": {},
     "output_type": "execute_result"
    }
   ],
   "source": [
    "TDF_GC.head()"
   ]
  },
  {
   "cell_type": "code",
   "execution_count": 19,
   "id": "5bf8f253",
   "metadata": {},
   "outputs": [],
   "source": [
    "# Dropping the year column\n",
    "# TDF_GC = TDF_GC.drop(['Year'],axis=1)\n",
    "# TDF_GC.shape"
   ]
  },
  {
   "cell_type": "markdown",
   "id": "8146b209",
   "metadata": {},
   "source": [
    "## Train/Test Split"
   ]
  },
  {
   "cell_type": "code",
   "execution_count": 20,
   "id": "4d1dc93b",
   "metadata": {},
   "outputs": [],
   "source": [
    "# Splitting Dataset into Data(Features) and Target\n",
    "Data = TDF_GC.drop(['Rank'],axis=1)\n",
    "Target = TDF_GC.Rank"
   ]
  },
  {
   "cell_type": "code",
   "execution_count": 21,
   "id": "3581c89d",
   "metadata": {},
   "outputs": [],
   "source": [
    "# Taking a random 20% chunk for our test set, making sure to stratify our target\n",
    "GC_rem_data, GC_test_data, GC_rem_target, GC_test_target = \\\n",
    "    train_test_split(Data, Target, test_size = 0.2, random_state=1, stratify=Target)"
   ]
  },
  {
   "cell_type": "code",
   "execution_count": 22,
   "id": "eeba6821",
   "metadata": {},
   "outputs": [],
   "source": [
    "# Splitting the remainder in two chunks for training and validation (70% of remainder for training)\n",
    "GC_train_data, GC_val_data, GC_train_target, GC_val_target = \\\n",
    "    train_test_split(GC_rem_data, GC_rem_target, test_size = 0.3, random_state=1, stratify=GC_rem_target)"
   ]
  },
  {
   "cell_type": "markdown",
   "id": "95cab8ad",
   "metadata": {},
   "source": [
    "## Logistic Regression - Hyperparamter Optimization"
   ]
  },
  {
   "cell_type": "code",
   "execution_count": 23,
   "id": "887c9e8e",
   "metadata": {},
   "outputs": [],
   "source": [
    "# Optimizing our Hyperparameters to get the best results\n",
    "validation_scores = []\n",
    "train_scores = []\n",
    "\n",
    "C_range = np.array([.00000001,.0000001,.000001,.00001,.0001,.001,0.1,\\\n",
    "                1,10,100,1000,10000,100000,1000000,10000000,100000000,1000000000])\n",
    "\n",
    "for c in C_range:\n",
    "    my_logreg = LogisticRegression(C = c,random_state=1)\n",
    "    my_logreg.fit(GC_train_data,GC_train_target)\n",
    "    \n",
    "    # train on traning set\n",
    "    train_scores.append(my_logreg.score(GC_train_data,GC_train_target))\n",
    "    # score on validation set\n",
    "    validation_scores.append(my_logreg.score(GC_val_data,GC_val_target))"
   ]
  },
  {
   "cell_type": "code",
   "execution_count": 24,
   "id": "4a763a24",
   "metadata": {},
   "outputs": [
    {
     "data": {
      "image/png": "[encoded data removed]",
      "text/plain": [
       "<Figure size 1080x360 with 1 Axes>"
      ]
     },
     "metadata": {
      "needs_background": "light"
     },
     "output_type": "display_data"
    }
   ],
   "source": [
    "# Plotting the training and validation scores\n",
    "plt.figure(figsize=(15,5))\n",
    "plt.plot(C_range, train_scores,label=\"Train Score\",marker='.')\n",
    "plt.plot(C_range, validation_scores,label=\"Validation Scores\",marker='.')\n",
    "plt.xscale('log')\n",
    "plt.title('Training score vs Validation score over a range of C values')\n",
    "plt.xlabel('C')\n",
    "plt.ylabel('Accuracy')\n",
    "plt.axvline(1000, linestyle = '--')\n",
    "plt.legend()\n",
    "plt.show()"
   ]
  },
  {
   "cell_type": "code",
   "execution_count": 25,
   "id": "8d81e50e",
   "metadata": {},
   "outputs": [
    {
     "data": {
      "text/plain": [
       "0.013636363636363636"
      ]
     },
     "execution_count": 25,
     "metadata": {},
     "output_type": "execute_result"
    }
   ],
   "source": [
    "# Instatiate with optimal hyperparameters\n",
    "log_reg = LogisticRegression(C=1000,random_state=1)\n",
    "\n",
    "# Fitting the model to the complete train/validate set\n",
    "log_reg.fit(GC_rem_data, GC_rem_target)\n",
    "log_reg.score(GC_test_data,GC_test_target)"
   ]
  },
  {
   "cell_type": "code",
   "execution_count": 26,
   "id": "fc2efbab",
   "metadata": {},
   "outputs": [],
   "source": [
    "# Prediciting our test set\n",
    "model_predictions = log_reg.predict(GC_test_data)"
   ]
  },
  {
   "cell_type": "code",
   "execution_count": 27,
   "id": "211c1a69",
   "metadata": {},
   "outputs": [
    {
     "data": {
      "text/plain": [
       "array([ 15,   3,   3,  24,  95,  95,  92,  95,  23,   8,  64,  96,  33,\n",
       "         8,  85,  33,  97,  52,  67,  99,  95,  45,  95,  52,  26,  64,\n",
       "        35,  32, 100,   9,   9,  76,  94,  99,  96,  77,  64,  71,  33,\n",
       "         4,   9,  99,   9,  33,   9,  23,   4,  23,  34,  33,  72,   4,\n",
       "         4, 100,  33,  24,  88,   9,  85,   9,  52,  54,   5,   6,   9,\n",
       "        34,  48,  23,  96,  69,  64,  29,  35,  76,  43,  99,  45,  33,\n",
       "        97, 100,  52,  24,  22,  96,  91,  47,  34,  71,  76,  33,  33,\n",
       "        25,  85,  48,   1,  64,   4,  99,  24,  95,   2,  48,   9,  33,\n",
       "        16,  99,  99,  96,  26,  34,  35,  33,  24,  29,  34,  81,  95,\n",
       "       100,   9,  86,  33,  95,  47,  24,  71,  52,  52,  33,  77,  23,\n",
       "        33,  85,  35,  69,  85,   4,  24,  96,  99,  95, 100,  97,  29,\n",
       "        48,   8,  24,  24,  19,   4,  45,   9,  33,   4,  47,  23, 100,\n",
       "        69,  22,  97,  87,  26,  24,  23,  26,  92,  51,   4,  24,  34,\n",
       "        46,  24,  80,   5,  34,  85,  85,  70,  99,   6,  25,   6,  36,\n",
       "        64,  24,  52,  23,  33,  29,  51,  95,  91,  97,  23,  25,  87,\n",
       "        33,   9,  81,  99,  99,  15,  62,  24,  85,   4,  96,  24,  29,\n",
       "         9,  48,  29,  96,  64,  26,  60,  36,  43,  85,  52,  94],\n",
       "      dtype=int8)"
      ]
     },
     "execution_count": 27,
     "metadata": {},
     "output_type": "execute_result"
    }
   ],
   "source": [
    "# Looking at the predictions\n",
    "model_predictions"
   ]
  },
  {
   "cell_type": "markdown",
   "id": "507a4e72",
   "metadata": {},
   "source": [
    "Again it predicts every rider to come below 34th rank, and artifically gets a high score"
   ]
  },
  {
   "cell_type": "code",
   "execution_count": 28,
   "id": "60a74095",
   "metadata": {},
   "outputs": [
    {
     "data": {
      "text/html": [
       "<div>\n",
       "<style scoped>\n",
       "    .dataframe tbody tr th:only-of-type {\n",
       "        vertical-align: middle;\n",
       "    }\n",
       "\n",
       "    .dataframe tbody tr th {\n",
       "        vertical-align: top;\n",
       "    }\n",
       "\n",
       "    .dataframe thead th {\n",
       "        text-align: right;\n",
       "    }\n",
       "</style>\n",
       "<table border=\"1\" class=\"dataframe\">\n",
       "  <thead>\n",
       "    <tr style=\"text-align: right;\">\n",
       "      <th></th>\n",
       "      <th>Models</th>\n",
       "      <th>Train_Score</th>\n",
       "      <th>Test_Score</th>\n",
       "    </tr>\n",
       "  </thead>\n",
       "  <tbody>\n",
       "    <tr>\n",
       "      <th>5</th>\n",
       "      <td>Logistic Regression with H.O. &amp; Points</td>\n",
       "      <td>0.118182</td>\n",
       "      <td>0.013636</td>\n",
       "    </tr>\n",
       "  </tbody>\n",
       "</table>\n",
       "</div>"
      ],
      "text/plain": [
       "                                   Models  Train_Score  Test_Score\n",
       "5  Logistic Regression with H.O. & Points     0.118182    0.013636"
      ]
     },
     "execution_count": 28,
     "metadata": {},
     "output_type": "execute_result"
    }
   ],
   "source": [
    "# Adding reults to a scoring dataframe\n",
    "Results_df.loc[5] = ('Logistic Regression with H.O. & Points', log_reg.score(GC_rem_data, GC_rem_target) , log_reg.score(GC_test_data, GC_test_target))\n",
    "Results_df"
   ]
  },
  {
   "cell_type": "markdown",
   "id": "d1955e39",
   "metadata": {},
   "source": [
    "## K Nearest Neighbours - Hyperparameter Optimization"
   ]
  },
  {
   "cell_type": "code",
   "execution_count": 29,
   "id": "543517a0",
   "metadata": {},
   "outputs": [],
   "source": [
    "# The different K values to try out and save to 'neighbors'\n",
    "neighbors = range(1, 50, 1)\n",
    "\n",
    "# Empty lists to append the accuracies to \n",
    "train = []\n",
    "validate = []\n",
    "\n",
    "# Loop through neighbors\n",
    "for K in neighbors:\n",
    "    \n",
    "    # Instantiate the model \n",
    "    KNN = KNeighborsClassifier(n_neighbors=K)\n",
    "    \n",
    "    # Fit the model \n",
    "    KNN.fit(GC_train_data, GC_train_target)\n",
    "    \n",
    "    # Score the model \n",
    "    train.append(KNN.score(GC_train_data, GC_train_target))\n",
    "    validate.append(KNN.score(GC_val_data, GC_val_target))"
   ]
  },
  {
   "cell_type": "code",
   "execution_count": 30,
   "id": "5ee6286d",
   "metadata": {},
   "outputs": [
    {
     "data": {
      "image/png": "[encoded data removed]",
      "text/plain": [
       "<Figure size 1080x360 with 1 Axes>"
      ]
     },
     "metadata": {
      "needs_background": "light"
     },
     "output_type": "display_data"
    }
   ],
   "source": [
    "# Plot the accuracy scores\n",
    "plt.figure(figsize=(15,5))\n",
    "plt.plot(neighbors, train, c='red', label='train')\n",
    "plt.plot(neighbors, validate, c='blue', label='test')\n",
    "plt.xlabel(\"Number of Neighbors\")\n",
    "plt.ylabel(\"Accuracy Score\")\n",
    "plt.title('Testing K-Values for KNN Using MinMax Scaler')\n",
    "plt.axvline(7, linestyle = '--')\n",
    "plt.legend()\n",
    "plt.show()"
   ]
  },
  {
   "cell_type": "code",
   "execution_count": 31,
   "id": "0fbc7605",
   "metadata": {},
   "outputs": [
    {
     "data": {
      "text/plain": [
       "KNeighborsClassifier(n_neighbors=7)"
      ]
     },
     "execution_count": 31,
     "metadata": {},
     "output_type": "execute_result"
    }
   ],
   "source": [
    "# Fitting our KNN model with optimized hyperparameters to the full train/validation set\n",
    "KNN = KNeighborsClassifier(n_neighbors=7)\n",
    "KNN.fit(GC_rem_data, GC_rem_target)"
   ]
  },
  {
   "cell_type": "code",
   "execution_count": 32,
   "id": "af2101df",
   "metadata": {},
   "outputs": [
    {
     "data": {
      "text/plain": [
       "0.00909090909090909"
      ]
     },
     "execution_count": 32,
     "metadata": {},
     "output_type": "execute_result"
    }
   ],
   "source": [
    "# Scoring our model on the test set\n",
    "KNN.score(GC_test_data, GC_test_target)"
   ]
  },
  {
   "cell_type": "code",
   "execution_count": 33,
   "id": "40022b92",
   "metadata": {},
   "outputs": [
    {
     "data": {
      "text/html": [
       "<div>\n",
       "<style scoped>\n",
       "    .dataframe tbody tr th:only-of-type {\n",
       "        vertical-align: middle;\n",
       "    }\n",
       "\n",
       "    .dataframe tbody tr th {\n",
       "        vertical-align: top;\n",
       "    }\n",
       "\n",
       "    .dataframe thead th {\n",
       "        text-align: right;\n",
       "    }\n",
       "</style>\n",
       "<table border=\"1\" class=\"dataframe\">\n",
       "  <thead>\n",
       "    <tr style=\"text-align: right;\">\n",
       "      <th></th>\n",
       "      <th>Models</th>\n",
       "      <th>Train_Score</th>\n",
       "      <th>Test_Score</th>\n",
       "    </tr>\n",
       "  </thead>\n",
       "  <tbody>\n",
       "    <tr>\n",
       "      <th>5</th>\n",
       "      <td>Logistic Regression with H.O. &amp; Points</td>\n",
       "      <td>0.118182</td>\n",
       "      <td>0.013636</td>\n",
       "    </tr>\n",
       "    <tr>\n",
       "      <th>6</th>\n",
       "      <td>KNN with H.O. &amp; Points</td>\n",
       "      <td>0.145455</td>\n",
       "      <td>0.009091</td>\n",
       "    </tr>\n",
       "  </tbody>\n",
       "</table>\n",
       "</div>"
      ],
      "text/plain": [
       "                                   Models  Train_Score  Test_Score\n",
       "5  Logistic Regression with H.O. & Points     0.118182    0.013636\n",
       "6                  KNN with H.O. & Points     0.145455    0.009091"
      ]
     },
     "execution_count": 33,
     "metadata": {},
     "output_type": "execute_result"
    }
   ],
   "source": [
    "# Adding reults to a scoring dataframe\n",
    "Results_df.loc[6] = ('KNN with H.O. & Points', KNN.score(GC_rem_data, GC_rem_target) , KNN.score(GC_test_data, GC_test_target))\n",
    "Results_df"
   ]
  },
  {
   "cell_type": "markdown",
   "id": "451a1d75",
   "metadata": {},
   "source": [
    "## Decision Tree - Hyperparameter Optimization"
   ]
  },
  {
   "cell_type": "code",
   "execution_count": 34,
   "id": "7ad3f8c7",
   "metadata": {},
   "outputs": [],
   "source": [
    "# A list of the maximum depths to try out\n",
    "depths = range(1, int(np.sqrt(GC_train_data.shape[0])))"
   ]
  },
  {
   "cell_type": "code",
   "execution_count": 35,
   "id": "11e0895c",
   "metadata": {},
   "outputs": [],
   "source": [
    "# Empty lists to append to\n",
    "train_DT = []\n",
    "validate_DT = []\n",
    "\n",
    "# Loop through the depths\n",
    "for max_depth in depths:\n",
    "    \n",
    "    # Instantiate the model \n",
    "    DT = DecisionTreeClassifier(max_depth=max_depth, random_state=11)\n",
    "    \n",
    "    # Fit the model \n",
    "    DT.fit(GC_train_data, GC_train_target)\n",
    "    \n",
    "    # Score the model \n",
    "    train_DT.append(DT.score(GC_train_data, GC_train_target))\n",
    "    validate_DT.append(DT.score(GC_val_data, GC_val_target))"
   ]
  },
  {
   "cell_type": "code",
   "execution_count": 36,
   "id": "6c5e47a5",
   "metadata": {},
   "outputs": [
    {
     "data": {
      "image/png": "[encoded data removed]",
      "text/plain": [
       "<Figure size 1080x360 with 1 Axes>"
      ]
     },
     "metadata": {
      "needs_background": "light"
     },
     "output_type": "display_data"
    }
   ],
   "source": [
    "# Plotting the accuracy scores\n",
    "plt.figure(figsize=(15,5))\n",
    "plt.plot(depths, train_DT, c='red', label='train')\n",
    "plt.plot(depths, validate_DT, c='blue', label='test')\n",
    "plt.xlabel(\"Max Depth\")\n",
    "plt.ylabel(\"Accuracy Score\")\n",
    "plt.title('Testing Tree Depth for Decision Trees Using MinMax Scaler')\n",
    "plt.axvline(2, linestyle = '--')\n",
    "plt.legend()\n",
    "plt.show()"
   ]
  },
  {
   "cell_type": "code",
   "execution_count": 37,
   "id": "9eb4e116",
   "metadata": {},
   "outputs": [
    {
     "name": "stdout",
     "output_type": "stream",
     "text": [
      "Train Accuracy: 0.025\n",
      "Test Accuracy: 0.013636363636363636\n"
     ]
    }
   ],
   "source": [
    "# Instantiating the model with optimized hyper parameters\n",
    "DT = DecisionTreeClassifier(max_depth=2, random_state=42)\n",
    "\n",
    "# Fit the model \n",
    "DT.fit(GC_rem_data, GC_rem_target)\n",
    "\n",
    "# Store accuracy scores on full training set and test set\n",
    "DT_train = DT.score(GC_rem_data, GC_rem_target)\n",
    "DT_test = DT.score(GC_test_data, GC_test_target)\n",
    "\n",
    "# Score the model \n",
    "print(f\"Train Accuracy: {DT_train}\")\n",
    "print(f\"Test Accuracy: {DT_test}\")"
   ]
  },
  {
   "cell_type": "code",
   "execution_count": 38,
   "id": "0e798741",
   "metadata": {},
   "outputs": [
    {
     "data": {
      "text/html": [
       "<div>\n",
       "<style scoped>\n",
       "    .dataframe tbody tr th:only-of-type {\n",
       "        vertical-align: middle;\n",
       "    }\n",
       "\n",
       "    .dataframe tbody tr th {\n",
       "        vertical-align: top;\n",
       "    }\n",
       "\n",
       "    .dataframe thead th {\n",
       "        text-align: right;\n",
       "    }\n",
       "</style>\n",
       "<table border=\"1\" class=\"dataframe\">\n",
       "  <thead>\n",
       "    <tr style=\"text-align: right;\">\n",
       "      <th></th>\n",
       "      <th>Models</th>\n",
       "      <th>Train_Score</th>\n",
       "      <th>Test_Score</th>\n",
       "    </tr>\n",
       "  </thead>\n",
       "  <tbody>\n",
       "    <tr>\n",
       "      <th>5</th>\n",
       "      <td>Logistic Regression with H.O. &amp; Points</td>\n",
       "      <td>0.118182</td>\n",
       "      <td>0.013636</td>\n",
       "    </tr>\n",
       "    <tr>\n",
       "      <th>6</th>\n",
       "      <td>KNN with H.O. &amp; Points</td>\n",
       "      <td>0.145455</td>\n",
       "      <td>0.009091</td>\n",
       "    </tr>\n",
       "    <tr>\n",
       "      <th>7</th>\n",
       "      <td>Decission Tree with H.O. &amp; Points</td>\n",
       "      <td>0.025000</td>\n",
       "      <td>0.013636</td>\n",
       "    </tr>\n",
       "  </tbody>\n",
       "</table>\n",
       "</div>"
      ],
      "text/plain": [
       "                                   Models  Train_Score  Test_Score\n",
       "5  Logistic Regression with H.O. & Points     0.118182    0.013636\n",
       "6                  KNN with H.O. & Points     0.145455    0.009091\n",
       "7       Decission Tree with H.O. & Points     0.025000    0.013636"
      ]
     },
     "execution_count": 38,
     "metadata": {},
     "output_type": "execute_result"
    }
   ],
   "source": [
    "# Adding reults to a scoring dataframe\n",
    "Results_df.loc[7] = ('Decission Tree with H.O. & Points', DT.score(GC_rem_data, GC_rem_target) , DT.score(GC_test_data, GC_test_target))\n",
    "Results_df"
   ]
  },
  {
   "cell_type": "markdown",
   "id": "d6b1afa9",
   "metadata": {},
   "source": [
    "## Support Vector Machines - Hyperparameter Optimization"
   ]
  },
  {
   "cell_type": "code",
   "execution_count": 39,
   "id": "7c9a9f78",
   "metadata": {},
   "outputs": [],
   "source": [
    "# Trying to optimize hyper parameters for SVM, even though its tricky\n",
    "\n",
    "validation_scores_svm = []\n",
    "train_scores_svm = []\n",
    "\n",
    "C_range = np.array([.00000001,.0000001,.000001,.00001,.0001,.001,0.1,\\\n",
    "                1,10,100,1000,10000,100000,1000000,10000000,100000000,1000000000])\n",
    "\n",
    "for c in C_range:\n",
    "    SVM = LinearSVC(C = c, random_state=1)\n",
    "    SVM.fit(GC_train_data, GC_train_target)\n",
    "    \n",
    "    # train on traning set\n",
    "    train_scores_svm.append(SVM.score(GC_train_data,GC_train_target))\n",
    "    # score on validation set\n",
    "    validation_scores_svm.append(SVM.score(GC_val_data,GC_val_target))"
   ]
  },
  {
   "cell_type": "code",
   "execution_count": 40,
   "id": "c633fe0e",
   "metadata": {},
   "outputs": [
    {
     "data": {
      "image/png": "[encoded data removed]",
      "text/plain": [
       "<Figure size 1080x360 with 1 Axes>"
      ]
     },
     "metadata": {
      "needs_background": "light"
     },
     "output_type": "display_data"
    }
   ],
   "source": [
    "# Plotting the SVM scores over a range of c values\n",
    "plt.figure(figsize=(15,5))\n",
    "plt.plot(C_range, train_scores_svm,label=\"Train Score\",marker='.')\n",
    "plt.plot(C_range, validation_scores_svm,label=\"Validation Scores\",marker='.')\n",
    "plt.xscale('log')\n",
    "plt.xlabel('C')\n",
    "plt.ylabel('Accuracy')\n",
    "plt.axvline(0.10, linestyle = '--')\n",
    "plt.legend()\n",
    "plt.show();"
   ]
  },
  {
   "cell_type": "code",
   "execution_count": 41,
   "id": "de08128f",
   "metadata": {},
   "outputs": [
    {
     "data": {
      "text/plain": [
       "LinearSVC(C=0.1, random_state=1)"
      ]
     },
     "execution_count": 41,
     "metadata": {},
     "output_type": "execute_result"
    }
   ],
   "source": [
    "# Fitting our SVM model to the complete training/validation set\n",
    "SVM = LinearSVC(C=0.1,random_state=1)\n",
    "SVM.fit(GC_rem_data,GC_rem_target)"
   ]
  },
  {
   "cell_type": "code",
   "execution_count": 42,
   "id": "a36eac94",
   "metadata": {},
   "outputs": [
    {
     "name": "stdout",
     "output_type": "stream",
     "text": [
      "The TRAIN classification accuracy is: 0.019318181818181818\n",
      "The TEST classification accuracy is: 0.00909090909090909\n"
     ]
    }
   ],
   "source": [
    "# Printing the scores\n",
    "print(f\"The TRAIN classification accuracy is: {SVM.score(GC_rem_data,GC_rem_target)}\")\n",
    "print(f\"The TEST classification accuracy is: {SVM.score(GC_test_data, GC_test_target)}\")"
   ]
  },
  {
   "cell_type": "code",
   "execution_count": 43,
   "id": "b555d6c3",
   "metadata": {},
   "outputs": [
    {
     "data": {
      "text/html": [
       "<div>\n",
       "<style scoped>\n",
       "    .dataframe tbody tr th:only-of-type {\n",
       "        vertical-align: middle;\n",
       "    }\n",
       "\n",
       "    .dataframe tbody tr th {\n",
       "        vertical-align: top;\n",
       "    }\n",
       "\n",
       "    .dataframe thead th {\n",
       "        text-align: right;\n",
       "    }\n",
       "</style>\n",
       "<table border=\"1\" class=\"dataframe\">\n",
       "  <thead>\n",
       "    <tr style=\"text-align: right;\">\n",
       "      <th></th>\n",
       "      <th>Models</th>\n",
       "      <th>Train_Score</th>\n",
       "      <th>Test_Score</th>\n",
       "    </tr>\n",
       "  </thead>\n",
       "  <tbody>\n",
       "    <tr>\n",
       "      <th>5</th>\n",
       "      <td>Logistic Regression with H.O. &amp; Points</td>\n",
       "      <td>0.118182</td>\n",
       "      <td>0.013636</td>\n",
       "    </tr>\n",
       "    <tr>\n",
       "      <th>6</th>\n",
       "      <td>KNN with H.O. &amp; Points</td>\n",
       "      <td>0.145455</td>\n",
       "      <td>0.009091</td>\n",
       "    </tr>\n",
       "    <tr>\n",
       "      <th>7</th>\n",
       "      <td>Decission Tree with H.O. &amp; Points</td>\n",
       "      <td>0.025000</td>\n",
       "      <td>0.013636</td>\n",
       "    </tr>\n",
       "    <tr>\n",
       "      <th>8</th>\n",
       "      <td>SVM with H.O. &amp; Points</td>\n",
       "      <td>0.019318</td>\n",
       "      <td>0.009091</td>\n",
       "    </tr>\n",
       "  </tbody>\n",
       "</table>\n",
       "</div>"
      ],
      "text/plain": [
       "                                   Models  Train_Score  Test_Score\n",
       "5  Logistic Regression with H.O. & Points     0.118182    0.013636\n",
       "6                  KNN with H.O. & Points     0.145455    0.009091\n",
       "7       Decission Tree with H.O. & Points     0.025000    0.013636\n",
       "8                  SVM with H.O. & Points     0.019318    0.009091"
      ]
     },
     "execution_count": 43,
     "metadata": {},
     "output_type": "execute_result"
    }
   ],
   "source": [
    "# Adding reults to a scoring dataframe\n",
    "Results_df.loc[8] = ('SVM with H.O. & Points', SVM.score(GC_rem_data, GC_rem_target) , SVM.score(GC_test_data, GC_test_target))\n",
    "Results_df"
   ]
  },
  {
   "cell_type": "markdown",
   "id": "2c374695",
   "metadata": {},
   "source": [
    "# Principal Component Analysis"
   ]
  },
  {
   "cell_type": "code",
   "execution_count": 44,
   "id": "7e050574",
   "metadata": {},
   "outputs": [
    {
     "data": {
      "text/plain": [
       "PCA()"
      ]
     },
     "execution_count": 44,
     "metadata": {},
     "output_type": "execute_result"
    }
   ],
   "source": [
    "# Insantiate\n",
    "my_PCA = PCA()\n",
    "# Fit the PCA object to the data\n",
    "my_PCA.fit(GC_train_data)"
   ]
  },
  {
   "cell_type": "code",
   "execution_count": 45,
   "id": "e2a09b03",
   "metadata": {},
   "outputs": [],
   "source": [
    "# Transform the original data.\n",
    "GC_train_data_PCA = my_PCA.transform(GC_train_data)\n",
    "GC_val_data_PCA = my_PCA.transform(GC_val_data)\n",
    "GC_rem_data_PCA = my_PCA.transform(GC_rem_data)\n",
    "GC_test_data_PCA = my_PCA.transform(GC_test_data)"
   ]
  },
  {
   "cell_type": "markdown",
   "id": "5d391e98",
   "metadata": {},
   "source": [
    "## PCA - Logistic Regression with Hyperparameter Optimization"
   ]
  },
  {
   "cell_type": "code",
   "execution_count": 46,
   "id": "a937997c",
   "metadata": {},
   "outputs": [],
   "source": [
    "# Hyperparamter Optimization with PCA Data\n",
    "validation_scores = []\n",
    "train_scores = []\n",
    "\n",
    "C_range = np.array([.00000001,.0000001,.000001,.00001,.0001,.001,0.1,\\\n",
    "                1,10,100,1000,10000,100000,1000000,10000000,100000000,1000000000])\n",
    "\n",
    "for c in C_range:\n",
    "    my_logreg = LogisticRegression(C = c,random_state=1)\n",
    "    my_logreg.fit(GC_train_data_PCA, GC_train_target)\n",
    "    \n",
    "    # train on traning set\n",
    "    train_scores.append(my_logreg.score(GC_train_data_PCA, GC_train_target))\n",
    "    # score on validation set\n",
    "    validation_scores.append(my_logreg.score(GC_val_data_PCA, GC_val_target))"
   ]
  },
  {
   "cell_type": "code",
   "execution_count": 47,
   "id": "a79acf66",
   "metadata": {},
   "outputs": [
    {
     "data": {
      "image/png": "[encoded data removed]",
      "text/plain": [
       "<Figure size 1080x360 with 1 Axes>"
      ]
     },
     "metadata": {
      "needs_background": "light"
     },
     "output_type": "display_data"
    }
   ],
   "source": [
    "# Plotting the scores\n",
    "plt.figure(figsize=(15,5))\n",
    "plt.plot(C_range, train_scores,label=\"Train Score\",marker='.')\n",
    "plt.plot(C_range, validation_scores,label=\"Validation Scores\",marker='.')\n",
    "plt.xscale('log')\n",
    "plt.xlabel('C')\n",
    "plt.ylabel('Accuracy')\n",
    "plt.axvline(0.1, linestyle = '--')\n",
    "plt.legend()\n",
    "plt.show();"
   ]
  },
  {
   "cell_type": "code",
   "execution_count": 48,
   "id": "712e35c9",
   "metadata": {},
   "outputs": [
    {
     "data": {
      "text/plain": [
       "0.00909090909090909"
      ]
     },
     "execution_count": 48,
     "metadata": {},
     "output_type": "execute_result"
    }
   ],
   "source": [
    "# Instantiate with optimal hyperparameters\n",
    "my_logreg = LogisticRegression(C=0.1,random_state=1)\n",
    "\n",
    "# Fitting the model to complete train/validate data\n",
    "my_logreg.fit(GC_rem_data_PCA, GC_rem_target)\n",
    "my_logreg.score(GC_test_data_PCA, GC_test_target)"
   ]
  },
  {
   "cell_type": "code",
   "execution_count": 49,
   "id": "d5ff81b5",
   "metadata": {},
   "outputs": [
    {
     "data": {
      "text/html": [
       "<div>\n",
       "<style scoped>\n",
       "    .dataframe tbody tr th:only-of-type {\n",
       "        vertical-align: middle;\n",
       "    }\n",
       "\n",
       "    .dataframe tbody tr th {\n",
       "        vertical-align: top;\n",
       "    }\n",
       "\n",
       "    .dataframe thead th {\n",
       "        text-align: right;\n",
       "    }\n",
       "</style>\n",
       "<table border=\"1\" class=\"dataframe\">\n",
       "  <thead>\n",
       "    <tr style=\"text-align: right;\">\n",
       "      <th></th>\n",
       "      <th>Models</th>\n",
       "      <th>Train_Score</th>\n",
       "      <th>Test_Score</th>\n",
       "    </tr>\n",
       "  </thead>\n",
       "  <tbody>\n",
       "    <tr>\n",
       "      <th>5</th>\n",
       "      <td>Logistic Regression with H.O. &amp; Points</td>\n",
       "      <td>0.118182</td>\n",
       "      <td>0.013636</td>\n",
       "    </tr>\n",
       "    <tr>\n",
       "      <th>6</th>\n",
       "      <td>KNN with H.O. &amp; Points</td>\n",
       "      <td>0.145455</td>\n",
       "      <td>0.009091</td>\n",
       "    </tr>\n",
       "    <tr>\n",
       "      <th>7</th>\n",
       "      <td>Decission Tree with H.O. &amp; Points</td>\n",
       "      <td>0.025000</td>\n",
       "      <td>0.013636</td>\n",
       "    </tr>\n",
       "    <tr>\n",
       "      <th>8</th>\n",
       "      <td>SVM with H.O. &amp; Points</td>\n",
       "      <td>0.019318</td>\n",
       "      <td>0.009091</td>\n",
       "    </tr>\n",
       "    <tr>\n",
       "      <th>9</th>\n",
       "      <td>Logistic Regression with PCA &amp; Points</td>\n",
       "      <td>0.131818</td>\n",
       "      <td>0.009091</td>\n",
       "    </tr>\n",
       "  </tbody>\n",
       "</table>\n",
       "</div>"
      ],
      "text/plain": [
       "                                   Models  Train_Score  Test_Score\n",
       "5  Logistic Regression with H.O. & Points     0.118182    0.013636\n",
       "6                  KNN with H.O. & Points     0.145455    0.009091\n",
       "7       Decission Tree with H.O. & Points     0.025000    0.013636\n",
       "8                  SVM with H.O. & Points     0.019318    0.009091\n",
       "9   Logistic Regression with PCA & Points     0.131818    0.009091"
      ]
     },
     "execution_count": 49,
     "metadata": {},
     "output_type": "execute_result"
    }
   ],
   "source": [
    "# Adding reults to a scoring dataframe\n",
    "Results_df.loc[9] = ('Logistic Regression with PCA & Points', my_logreg.score(GC_rem_data_PCA, GC_rem_target) , my_logreg.score(GC_test_data_PCA, GC_test_target))\n",
    "Results_df"
   ]
  },
  {
   "cell_type": "markdown",
   "id": "5b9cc2b5",
   "metadata": {},
   "source": [
    "## PCA - KNN - Hyperparameter Optimization"
   ]
  },
  {
   "cell_type": "code",
   "execution_count": 50,
   "id": "b65098a0",
   "metadata": {},
   "outputs": [],
   "source": [
    "# The different K values to try out and save to 'neighbors'\n",
    "neighbors = range(1, 50, 1)\n",
    "\n",
    "# Empty lists to append the accuracies to \n",
    "train = []\n",
    "validate = []\n",
    "\n",
    "# Loop through neighbors\n",
    "for K in neighbors:\n",
    "    \n",
    "    # Instantiate the model \n",
    "    KNN = KNeighborsClassifier(n_neighbors=K)\n",
    "    \n",
    "    # Fit the model \n",
    "    KNN.fit(GC_train_data_PCA, GC_train_target)\n",
    "    \n",
    "    # Score the model \n",
    "    train.append(KNN.score(GC_train_data_PCA, GC_train_target))\n",
    "    validate.append(KNN.score(GC_val_data_PCA, GC_val_target))"
   ]
  },
  {
   "cell_type": "code",
   "execution_count": 51,
   "id": "0f410af0",
   "metadata": {},
   "outputs": [
    {
     "data": {
      "image/png": "[encoded data removed]",
      "text/plain": [
       "<Figure size 1080x360 with 1 Axes>"
      ]
     },
     "metadata": {
      "needs_background": "light"
     },
     "output_type": "display_data"
    }
   ],
   "source": [
    "# Plot the accuracies \n",
    "plt.figure(figsize=(15,5))\n",
    "plt.plot(neighbors, train, c='red', label='train')\n",
    "plt.plot(neighbors, validate, c='blue', label='test')\n",
    "plt.xlabel(\"Number of Neighbors\")\n",
    "plt.ylabel(\"Accuracy Score\")\n",
    "plt.title('Testing K-Values for KNN Using MinMax Scaler')\n",
    "plt.axvline(7, linestyle = '--')\n",
    "plt.legend()\n",
    "plt.show()"
   ]
  },
  {
   "cell_type": "code",
   "execution_count": 52,
   "id": "01d11995",
   "metadata": {},
   "outputs": [
    {
     "data": {
      "text/plain": [
       "KNeighborsClassifier(n_neighbors=7)"
      ]
     },
     "execution_count": 52,
     "metadata": {},
     "output_type": "execute_result"
    }
   ],
   "source": [
    "KNN = KNeighborsClassifier(n_neighbors=7)\n",
    "KNN.fit(GC_rem_data_PCA, GC_rem_target)"
   ]
  },
  {
   "cell_type": "code",
   "execution_count": 53,
   "id": "cd74331c",
   "metadata": {},
   "outputs": [
    {
     "data": {
      "text/plain": [
       "0.00909090909090909"
      ]
     },
     "execution_count": 53,
     "metadata": {},
     "output_type": "execute_result"
    }
   ],
   "source": [
    "KNN.score(GC_test_data_PCA, GC_test_target)"
   ]
  },
  {
   "cell_type": "code",
   "execution_count": 54,
   "id": "c0455fed",
   "metadata": {},
   "outputs": [
    {
     "data": {
      "text/html": [
       "<div>\n",
       "<style scoped>\n",
       "    .dataframe tbody tr th:only-of-type {\n",
       "        vertical-align: middle;\n",
       "    }\n",
       "\n",
       "    .dataframe tbody tr th {\n",
       "        vertical-align: top;\n",
       "    }\n",
       "\n",
       "    .dataframe thead th {\n",
       "        text-align: right;\n",
       "    }\n",
       "</style>\n",
       "<table border=\"1\" class=\"dataframe\">\n",
       "  <thead>\n",
       "    <tr style=\"text-align: right;\">\n",
       "      <th></th>\n",
       "      <th>Models</th>\n",
       "      <th>Train_Score</th>\n",
       "      <th>Test_Score</th>\n",
       "    </tr>\n",
       "  </thead>\n",
       "  <tbody>\n",
       "    <tr>\n",
       "      <th>5</th>\n",
       "      <td>Logistic Regression with H.O. &amp; Points</td>\n",
       "      <td>0.118182</td>\n",
       "      <td>0.013636</td>\n",
       "    </tr>\n",
       "    <tr>\n",
       "      <th>6</th>\n",
       "      <td>KNN with H.O. &amp; Points</td>\n",
       "      <td>0.145455</td>\n",
       "      <td>0.009091</td>\n",
       "    </tr>\n",
       "    <tr>\n",
       "      <th>7</th>\n",
       "      <td>Decission Tree with H.O. &amp; Points</td>\n",
       "      <td>0.025000</td>\n",
       "      <td>0.013636</td>\n",
       "    </tr>\n",
       "    <tr>\n",
       "      <th>8</th>\n",
       "      <td>SVM with H.O. &amp; Points</td>\n",
       "      <td>0.019318</td>\n",
       "      <td>0.009091</td>\n",
       "    </tr>\n",
       "    <tr>\n",
       "      <th>9</th>\n",
       "      <td>Logistic Regression with PCA &amp; Points</td>\n",
       "      <td>0.131818</td>\n",
       "      <td>0.009091</td>\n",
       "    </tr>\n",
       "    <tr>\n",
       "      <th>10</th>\n",
       "      <td>KNN with PCA &amp; Points</td>\n",
       "      <td>0.146591</td>\n",
       "      <td>0.009091</td>\n",
       "    </tr>\n",
       "  </tbody>\n",
       "</table>\n",
       "</div>"
      ],
      "text/plain": [
       "                                    Models  Train_Score  Test_Score\n",
       "5   Logistic Regression with H.O. & Points     0.118182    0.013636\n",
       "6                   KNN with H.O. & Points     0.145455    0.009091\n",
       "7        Decission Tree with H.O. & Points     0.025000    0.013636\n",
       "8                   SVM with H.O. & Points     0.019318    0.009091\n",
       "9    Logistic Regression with PCA & Points     0.131818    0.009091\n",
       "10                   KNN with PCA & Points     0.146591    0.009091"
      ]
     },
     "execution_count": 54,
     "metadata": {},
     "output_type": "execute_result"
    }
   ],
   "source": [
    "# Adding reults to a scoring dataframe\n",
    "Results_df.loc[10] = ('KNN with PCA & Points', KNN.score(GC_rem_data_PCA, GC_rem_target) , KNN.score(GC_test_data_PCA, GC_test_target))\n",
    "Results_df"
   ]
  },
  {
   "cell_type": "markdown",
   "id": "ea396c68",
   "metadata": {},
   "source": [
    "## PCA - Decision Tree - Hyperparameter Optimization"
   ]
  },
  {
   "cell_type": "code",
   "execution_count": 55,
   "id": "9c2f7b6e",
   "metadata": {},
   "outputs": [],
   "source": [
    "# A list of the maximum depths to try out and save to 'depths'\n",
    "depths = range(1, int(np.sqrt(GC_train_data_PCA.shape[0])))"
   ]
  },
  {
   "cell_type": "code",
   "execution_count": 56,
   "id": "e964429b",
   "metadata": {},
   "outputs": [],
   "source": [
    "# Empty lists to append to\n",
    "train_DT = []\n",
    "validate_DT = []\n",
    "\n",
    "# Loop through the depths\n",
    "for max_depth in depths:\n",
    "    \n",
    "    # Instantiate the model \n",
    "    DT = DecisionTreeClassifier(max_depth=max_depth, random_state=11)\n",
    "    \n",
    "    # Fit the model \n",
    "    DT.fit(GC_train_data_PCA, GC_train_target)\n",
    "    \n",
    "    # Score the model \n",
    "    train_DT.append(DT.score(GC_train_data_PCA, GC_train_target))\n",
    "    validate_DT.append(DT.score(GC_val_data_PCA, GC_val_target))"
   ]
  },
  {
   "cell_type": "code",
   "execution_count": 62,
   "id": "b3f76f90",
   "metadata": {},
   "outputs": [
    {
     "data": {
      "image/png": "[encoded data removed]",
      "text/plain": [
       "<Figure size 1080x360 with 1 Axes>"
      ]
     },
     "metadata": {
      "needs_background": "light"
     },
     "output_type": "display_data"
    }
   ],
   "source": [
    "# Plotting the accuracies\n",
    "plt.figure(figsize=(15,5))\n",
    "plt.plot(depths, train_DT, c='red', label='train')\n",
    "plt.plot(depths, validate_DT, c='blue', label='test')\n",
    "plt.xlabel(\"Max Depth\")\n",
    "plt.ylabel(\"Accuracy Score\")\n",
    "plt.title('Testing Tree Depth for Decision Trees Using MinMax Scaler')\n",
    "plt.axvline(11, linestyle = '--')\n",
    "plt.legend()\n",
    "plt.show()"
   ]
  },
  {
   "cell_type": "code",
   "execution_count": 63,
   "id": "ea39f5da",
   "metadata": {},
   "outputs": [
    {
     "name": "stdout",
     "output_type": "stream",
     "text": [
      "Train Accuracy: 0.07840909090909091\n",
      "Test Accuracy: 0.00909090909090909\n"
     ]
    }
   ],
   "source": [
    "# Instantiate Decision Tree model with optimal hyperparameters\n",
    "DT = DecisionTreeClassifier(max_depth=11, random_state=11)\n",
    "\n",
    "# Fit the model \n",
    "DT.fit(GC_rem_data_PCA, GC_rem_target)\n",
    "\n",
    "# Store accuracy scores\n",
    "DT_train = DT.score(GC_rem_data_PCA, GC_rem_target)\n",
    "DT_test = DT.score(GC_test_data_PCA, GC_test_target)\n",
    "\n",
    "# Score the model \n",
    "print(f\"Train Accuracy: {DT_train}\")\n",
    "print(f\"Test Accuracy: {DT_test}\")"
   ]
  },
  {
   "cell_type": "code",
   "execution_count": 64,
   "id": "452957a0",
   "metadata": {},
   "outputs": [
    {
     "data": {
      "text/html": [
       "<div>\n",
       "<style scoped>\n",
       "    .dataframe tbody tr th:only-of-type {\n",
       "        vertical-align: middle;\n",
       "    }\n",
       "\n",
       "    .dataframe tbody tr th {\n",
       "        vertical-align: top;\n",
       "    }\n",
       "\n",
       "    .dataframe thead th {\n",
       "        text-align: right;\n",
       "    }\n",
       "</style>\n",
       "<table border=\"1\" class=\"dataframe\">\n",
       "  <thead>\n",
       "    <tr style=\"text-align: right;\">\n",
       "      <th></th>\n",
       "      <th>Models</th>\n",
       "      <th>Train_Score</th>\n",
       "      <th>Test_Score</th>\n",
       "    </tr>\n",
       "  </thead>\n",
       "  <tbody>\n",
       "    <tr>\n",
       "      <th>5</th>\n",
       "      <td>Logistic Regression with H.O. &amp; Points</td>\n",
       "      <td>0.118182</td>\n",
       "      <td>0.013636</td>\n",
       "    </tr>\n",
       "    <tr>\n",
       "      <th>6</th>\n",
       "      <td>KNN with H.O. &amp; Points</td>\n",
       "      <td>0.145455</td>\n",
       "      <td>0.009091</td>\n",
       "    </tr>\n",
       "    <tr>\n",
       "      <th>7</th>\n",
       "      <td>Decission Tree with H.O. &amp; Points</td>\n",
       "      <td>0.025000</td>\n",
       "      <td>0.013636</td>\n",
       "    </tr>\n",
       "    <tr>\n",
       "      <th>8</th>\n",
       "      <td>SVM with H.O. &amp; Points</td>\n",
       "      <td>0.019318</td>\n",
       "      <td>0.009091</td>\n",
       "    </tr>\n",
       "    <tr>\n",
       "      <th>9</th>\n",
       "      <td>Logistic Regression with PCA &amp; Points</td>\n",
       "      <td>0.131818</td>\n",
       "      <td>0.009091</td>\n",
       "    </tr>\n",
       "    <tr>\n",
       "      <th>10</th>\n",
       "      <td>KNN with PCA &amp; Points</td>\n",
       "      <td>0.146591</td>\n",
       "      <td>0.009091</td>\n",
       "    </tr>\n",
       "    <tr>\n",
       "      <th>11</th>\n",
       "      <td>DT with PCA &amp; Points</td>\n",
       "      <td>0.078409</td>\n",
       "      <td>0.009091</td>\n",
       "    </tr>\n",
       "  </tbody>\n",
       "</table>\n",
       "</div>"
      ],
      "text/plain": [
       "                                    Models  Train_Score  Test_Score\n",
       "5   Logistic Regression with H.O. & Points     0.118182    0.013636\n",
       "6                   KNN with H.O. & Points     0.145455    0.009091\n",
       "7        Decission Tree with H.O. & Points     0.025000    0.013636\n",
       "8                   SVM with H.O. & Points     0.019318    0.009091\n",
       "9    Logistic Regression with PCA & Points     0.131818    0.009091\n",
       "10                   KNN with PCA & Points     0.146591    0.009091\n",
       "11                    DT with PCA & Points     0.078409    0.009091"
      ]
     },
     "execution_count": 64,
     "metadata": {},
     "output_type": "execute_result"
    }
   ],
   "source": [
    "# Adding reults to a scoring dataframe\n",
    "Results_df.loc[11] = ('DT with PCA & Points', DT.score(GC_rem_data_PCA, GC_rem_target) , DT.score(GC_test_data_PCA, GC_test_target))\n",
    "Results_df"
   ]
  },
  {
   "cell_type": "markdown",
   "id": "ea531e06",
   "metadata": {},
   "source": [
    "# Results from all Models"
   ]
  },
  {
   "cell_type": "code",
   "execution_count": 65,
   "id": "93fc30fc",
   "metadata": {},
   "outputs": [
    {
     "data": {
      "text/html": [
       "<div>\n",
       "<style scoped>\n",
       "    .dataframe tbody tr th:only-of-type {\n",
       "        vertical-align: middle;\n",
       "    }\n",
       "\n",
       "    .dataframe tbody tr th {\n",
       "        vertical-align: top;\n",
       "    }\n",
       "\n",
       "    .dataframe thead th {\n",
       "        text-align: right;\n",
       "    }\n",
       "</style>\n",
       "<table border=\"1\" class=\"dataframe\">\n",
       "  <thead>\n",
       "    <tr style=\"text-align: right;\">\n",
       "      <th></th>\n",
       "      <th>Models</th>\n",
       "      <th>Train_Score</th>\n",
       "      <th>Test_Score</th>\n",
       "    </tr>\n",
       "  </thead>\n",
       "  <tbody>\n",
       "    <tr>\n",
       "      <th>5</th>\n",
       "      <td>Logistic Regression with H.O. &amp; Points</td>\n",
       "      <td>0.118182</td>\n",
       "      <td>0.013636</td>\n",
       "    </tr>\n",
       "    <tr>\n",
       "      <th>6</th>\n",
       "      <td>KNN with H.O. &amp; Points</td>\n",
       "      <td>0.145455</td>\n",
       "      <td>0.009091</td>\n",
       "    </tr>\n",
       "    <tr>\n",
       "      <th>7</th>\n",
       "      <td>Decission Tree with H.O. &amp; Points</td>\n",
       "      <td>0.025000</td>\n",
       "      <td>0.013636</td>\n",
       "    </tr>\n",
       "    <tr>\n",
       "      <th>8</th>\n",
       "      <td>SVM with H.O. &amp; Points</td>\n",
       "      <td>0.019318</td>\n",
       "      <td>0.009091</td>\n",
       "    </tr>\n",
       "    <tr>\n",
       "      <th>9</th>\n",
       "      <td>Logistic Regression with PCA &amp; Points</td>\n",
       "      <td>0.131818</td>\n",
       "      <td>0.009091</td>\n",
       "    </tr>\n",
       "    <tr>\n",
       "      <th>10</th>\n",
       "      <td>KNN with PCA &amp; Points</td>\n",
       "      <td>0.146591</td>\n",
       "      <td>0.009091</td>\n",
       "    </tr>\n",
       "    <tr>\n",
       "      <th>11</th>\n",
       "      <td>DT with PCA &amp; Points</td>\n",
       "      <td>0.078409</td>\n",
       "      <td>0.009091</td>\n",
       "    </tr>\n",
       "  </tbody>\n",
       "</table>\n",
       "</div>"
      ],
      "text/plain": [
       "                                    Models  Train_Score  Test_Score\n",
       "5   Logistic Regression with H.O. & Points     0.118182    0.013636\n",
       "6                   KNN with H.O. & Points     0.145455    0.009091\n",
       "7        Decission Tree with H.O. & Points     0.025000    0.013636\n",
       "8                   SVM with H.O. & Points     0.019318    0.009091\n",
       "9    Logistic Regression with PCA & Points     0.131818    0.009091\n",
       "10                   KNN with PCA & Points     0.146591    0.009091\n",
       "11                    DT with PCA & Points     0.078409    0.009091"
      ]
     },
     "execution_count": 65,
     "metadata": {},
     "output_type": "execute_result"
    }
   ],
   "source": [
    "Results_df"
   ]
  },
  {
   "cell_type": "markdown",
   "id": "b16a18cb",
   "metadata": {},
   "source": [
    "Very very poor scores when using Rank as a classifier, far too many classes. An actual Regression model might perform better?"
   ]
  },
  {
   "cell_type": "code",
   "execution_count": null,
   "id": "aeca55d4",
   "metadata": {},
   "outputs": [],
   "source": []
  }
 ],
 "metadata": {
  "kernelspec": {
   "display_name": "Python 3",
   "language": "python",
   "name": "python3"
  },
  "language_info": {
   "codemirror_mode": {
    "name": "ipython",
    "version": 3
   },
   "file_extension": ".py",
   "mimetype": "text/x-python",
   "name": "python",
   "nbconvert_exporter": "python",
   "pygments_lexer": "ipython3",
   "version": "3.8.8"
  }
 },
 "nbformat": 4,
 "nbformat_minor": 5
}
