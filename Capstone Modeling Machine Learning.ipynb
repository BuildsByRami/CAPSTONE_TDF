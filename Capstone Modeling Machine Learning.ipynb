{
 "cells": [
  {
   "cell_type": "markdown",
   "id": "ae824386",
   "metadata": {},
   "source": [
    "# Machine Learning applied to TDF Data"
   ]
  },
  {
   "cell_type": "code",
   "execution_count": 1,
   "id": "f374379a",
   "metadata": {},
   "outputs": [],
   "source": [
    "# Import Libraries\n",
    "\n",
    "import numpy as np\n",
    "import pandas as pd\n",
    "import matplotlib.pyplot as plt\n",
    "\n",
    "# Ignore futurewarnings\n",
    "import warnings\n",
    "warnings.filterwarnings('ignore')"
   ]
  },
  {
   "cell_type": "code",
   "execution_count": 2,
   "id": "4fcc3d10",
   "metadata": {},
   "outputs": [],
   "source": [
    "# Importing Machine Learning libraries/tools\n",
    "\n",
    "from scipy import stats\n",
    "from sklearn.model_selection import train_test_split\n",
    "from sklearn.metrics import accuracy_score\n",
    "from sklearn.pipeline import Pipeline\n",
    "from sklearn.preprocessing import StandardScaler\n",
    "from sklearn.decomposition import PCA\n",
    "\n",
    "from sklearn.linear_model import LogisticRegression\n",
    "from sklearn import svm\n",
    "from sklearn.neighbors import KNeighborsClassifier\n",
    "from sklearn.feature_selection import SelectKBest\n",
    "from sklearn.tree import DecisionTreeClassifier\n",
    "from sklearn.svm import LinearSVC\n",
    "\n",
    "from sklearn.model_selection import cross_val_score\n",
    "\n",
    "from sklearn.tree import DecisionTreeRegressor\n",
    "%matplotlib inline\n",
    "from sklearn.tree import plot_tree\n",
    "\n",
    "from sklearn.linear_model import LinearRegression"
   ]
  },
  {
   "cell_type": "code",
   "execution_count": 3,
   "id": "f0ef1d14",
   "metadata": {},
   "outputs": [
    {
     "data": {
      "text/html": [
       "<div>\n",
       "<style scoped>\n",
       "    .dataframe tbody tr th:only-of-type {\n",
       "        vertical-align: middle;\n",
       "    }\n",
       "\n",
       "    .dataframe tbody tr th {\n",
       "        vertical-align: top;\n",
       "    }\n",
       "\n",
       "    .dataframe thead th {\n",
       "        text-align: right;\n",
       "    }\n",
       "</style>\n",
       "<table border=\"1\" class=\"dataframe\">\n",
       "  <thead>\n",
       "    <tr style=\"text-align: right;\">\n",
       "      <th></th>\n",
       "      <th>Models</th>\n",
       "      <th>Train_Score</th>\n",
       "      <th>Test_Score</th>\n",
       "    </tr>\n",
       "  </thead>\n",
       "  <tbody>\n",
       "  </tbody>\n",
       "</table>\n",
       "</div>"
      ],
      "text/plain": [
       "Empty DataFrame\n",
       "Columns: [Models, Train_Score, Test_Score]\n",
       "Index: []"
      ]
     },
     "execution_count": 3,
     "metadata": {},
     "output_type": "execute_result"
    }
   ],
   "source": [
    "Results_df = pd.DataFrame(columns=['Models','Train_Score','Test_Score'])\n",
    "Results_df"
   ]
  },
  {
   "cell_type": "code",
   "execution_count": 4,
   "id": "6eb7d4f6",
   "metadata": {},
   "outputs": [],
   "source": [
    "# Import data from CSV file\n",
    "TDF_GC = pd.read_csv('DATA/TDF_GC_with_rider_metrics.csv')"
   ]
  },
  {
   "cell_type": "code",
   "execution_count": 5,
   "id": "b13315ed",
   "metadata": {},
   "outputs": [
    {
     "data": {
      "text/html": [
       "<div>\n",
       "<style scoped>\n",
       "    .dataframe tbody tr th:only-of-type {\n",
       "        vertical-align: middle;\n",
       "    }\n",
       "\n",
       "    .dataframe tbody tr th {\n",
       "        vertical-align: top;\n",
       "    }\n",
       "\n",
       "    .dataframe thead th {\n",
       "        text-align: right;\n",
       "    }\n",
       "</style>\n",
       "<table border=\"1\" class=\"dataframe\">\n",
       "  <thead>\n",
       "    <tr style=\"text-align: right;\">\n",
       "      <th></th>\n",
       "      <th>Rank</th>\n",
       "      <th>Prev_rank</th>\n",
       "      <th>Rider_name</th>\n",
       "      <th>Team_name</th>\n",
       "      <th>Points</th>\n",
       "      <th>Time</th>\n",
       "      <th>Year</th>\n",
       "      <th>Weight(kg)</th>\n",
       "      <th>Height(m)</th>\n",
       "      <th>Age</th>\n",
       "    </tr>\n",
       "  </thead>\n",
       "  <tbody>\n",
       "    <tr>\n",
       "      <th>0</th>\n",
       "      <td>1</td>\n",
       "      <td>1</td>\n",
       "      <td>POGAČAR Tadej</td>\n",
       "      <td>UAE-Team Emirates</td>\n",
       "      <td>500.0</td>\n",
       "      <td>82:56:36</td>\n",
       "      <td>2021</td>\n",
       "      <td>66.0</td>\n",
       "      <td>1.76</td>\n",
       "      <td>23</td>\n",
       "    </tr>\n",
       "    <tr>\n",
       "      <th>1</th>\n",
       "      <td>1</td>\n",
       "      <td>1</td>\n",
       "      <td>POGAČAR Tadej</td>\n",
       "      <td>UAE-Team Emirates</td>\n",
       "      <td>500.0</td>\n",
       "      <td>87:20:05</td>\n",
       "      <td>2020</td>\n",
       "      <td>66.0</td>\n",
       "      <td>1.76</td>\n",
       "      <td>22</td>\n",
       "    </tr>\n",
       "    <tr>\n",
       "      <th>2</th>\n",
       "      <td>2</td>\n",
       "      <td>2</td>\n",
       "      <td>VINGEGAARD Jonas</td>\n",
       "      <td>Team Jumbo-Visma</td>\n",
       "      <td>380.0</td>\n",
       "      <td>5:205:20</td>\n",
       "      <td>2021</td>\n",
       "      <td>60.0</td>\n",
       "      <td>1.75</td>\n",
       "      <td>25</td>\n",
       "    </tr>\n",
       "    <tr>\n",
       "      <th>3</th>\n",
       "      <td>3</td>\n",
       "      <td>3</td>\n",
       "      <td>CARAPAZ Richard</td>\n",
       "      <td>INEOS Grenadiers</td>\n",
       "      <td>340.0</td>\n",
       "      <td>7:037:03</td>\n",
       "      <td>2021</td>\n",
       "      <td>62.0</td>\n",
       "      <td>1.70</td>\n",
       "      <td>28</td>\n",
       "    </tr>\n",
       "    <tr>\n",
       "      <th>4</th>\n",
       "      <td>13</td>\n",
       "      <td>13</td>\n",
       "      <td>CARAPAZ Richard</td>\n",
       "      <td>INEOS Grenadiers</td>\n",
       "      <td>170.0</td>\n",
       "      <td>25:5325:53</td>\n",
       "      <td>2020</td>\n",
       "      <td>62.0</td>\n",
       "      <td>1.70</td>\n",
       "      <td>27</td>\n",
       "    </tr>\n",
       "  </tbody>\n",
       "</table>\n",
       "</div>"
      ],
      "text/plain": [
       "   Rank  Prev_rank        Rider_name          Team_name  Points        Time  \\\n",
       "0     1          1     POGAČAR Tadej  UAE-Team Emirates   500.0    82:56:36   \n",
       "1     1          1     POGAČAR Tadej  UAE-Team Emirates   500.0    87:20:05   \n",
       "2     2          2  VINGEGAARD Jonas   Team Jumbo-Visma   380.0    5:205:20   \n",
       "3     3          3   CARAPAZ Richard   INEOS Grenadiers   340.0    7:037:03   \n",
       "4    13         13   CARAPAZ Richard   INEOS Grenadiers   170.0  25:5325:53   \n",
       "\n",
       "   Year  Weight(kg)  Height(m)  Age  \n",
       "0  2021        66.0       1.76   23  \n",
       "1  2020        66.0       1.76   22  \n",
       "2  2021        60.0       1.75   25  \n",
       "3  2021        62.0       1.70   28  \n",
       "4  2020        62.0       1.70   27  "
      ]
     },
     "execution_count": 5,
     "metadata": {},
     "output_type": "execute_result"
    }
   ],
   "source": [
    "# Glance at untouched data\n",
    "TDF_GC.head()"
   ]
  },
  {
   "cell_type": "markdown",
   "id": "f25849e6",
   "metadata": {},
   "source": [
    "- Dropping Prev_Rank, as its not very usefull for determining overall winener before the race begins as its telling us the ranking before the last stage of TDF\n",
    "- Dropping Time as its not a feature we will have available before a race, and running classification (not regression) for now"
   ]
  },
  {
   "cell_type": "code",
   "execution_count": 6,
   "id": "8af1401b",
   "metadata": {},
   "outputs": [],
   "source": [
    "TDF_GC = TDF_GC.drop(['Prev_rank','Time'],axis=1)"
   ]
  },
  {
   "cell_type": "code",
   "execution_count": 7,
   "id": "c61f2b73",
   "metadata": {},
   "outputs": [
    {
     "data": {
      "text/plain": [
       "(1741, 8)"
      ]
     },
     "execution_count": 7,
     "metadata": {},
     "output_type": "execute_result"
    }
   ],
   "source": [
    "# Shape of current data-set\n",
    "TDF_GC.shape"
   ]
  },
  {
   "cell_type": "code",
   "execution_count": 8,
   "id": "8078b48c",
   "metadata": {},
   "outputs": [
    {
     "name": "stdout",
     "output_type": "stream",
     "text": [
      "<class 'pandas.core.frame.DataFrame'>\n",
      "RangeIndex: 1741 entries, 0 to 1740\n",
      "Data columns (total 8 columns):\n",
      " #   Column      Non-Null Count  Dtype  \n",
      "---  ------      --------------  -----  \n",
      " 0   Rank        1741 non-null   int64  \n",
      " 1   Rider_name  1741 non-null   object \n",
      " 2   Team_name   1741 non-null   object \n",
      " 3   Points      1741 non-null   float64\n",
      " 4   Year        1741 non-null   int64  \n",
      " 5   Weight(kg)  1741 non-null   float64\n",
      " 6   Height(m)   1741 non-null   float64\n",
      " 7   Age         1741 non-null   int64  \n",
      "dtypes: float64(3), int64(3), object(2)\n",
      "memory usage: 108.9+ KB\n"
     ]
    }
   ],
   "source": [
    "# Checking data type and null values in the data frame\n",
    "TDF_GC.info()"
   ]
  },
  {
   "cell_type": "markdown",
   "id": "07534171",
   "metadata": {},
   "source": [
    "No Null values."
   ]
  },
  {
   "cell_type": "markdown",
   "id": "55527de4",
   "metadata": {},
   "source": [
    "- `Rank`: What position a rider came in\n",
    "- `Rider_name`: Name of the cyclist/rider\n",
    "- `Team_name`: Name of the team the rider rides for\n",
    "- `Points`: Points based on Rank the rider finished in\n",
    "- `Time`: Time it took to complete the whole Tour De France (Only winner is absolute, rest are relative)\n",
    "- `Year`: The Year of the race\n",
    "- `Weight(kg)`: Weight of the rider in Kilograms\n",
    "- `Height(m)`: Height of rider in meters\n",
    "- `Age`: Age of rider the year they competed in years"
   ]
  },
  {
   "cell_type": "markdown",
   "id": "cb1f2463",
   "metadata": {},
   "source": [
    "- `Rank`, `Points`, & `Time` all hold the same information\n",
    "    - `Rank` every year there may be different number of riders who finish\n",
    "    - `Points` has 35 unique values and can be used for classification\n",
    "        - Everyone ranked 35 or lower ends up with 25 points\n",
    "        - Unique values for everyone from 1 to 34\n",
    "        - Not sure of the relationship between rank and points awarded\n",
    "    - `Time` is different every year depending on how long the course is, may not train the model well as winning time for one year might be equivalent of 10th position another year?"
   ]
  },
  {
   "cell_type": "markdown",
   "id": "3a391179",
   "metadata": {},
   "source": [
    "## Isolating the overall winners"
   ]
  },
  {
   "cell_type": "code",
   "execution_count": 9,
   "id": "cb656e5f",
   "metadata": {},
   "outputs": [],
   "source": [
    "# Binarizing result, first position = 1, rest = 0\n",
    "TDF_GC['Winner'] = TDF_GC.Rank.map({1:1})"
   ]
  },
  {
   "cell_type": "code",
   "execution_count": 10,
   "id": "673fd23b",
   "metadata": {},
   "outputs": [],
   "source": [
    "# Filling the remaining ranks with 0\n",
    "TDF_GC = TDF_GC.fillna(0)"
   ]
  },
  {
   "cell_type": "code",
   "execution_count": 11,
   "id": "a0b3d039",
   "metadata": {},
   "outputs": [],
   "source": [
    "# Dropping Rank and Points (Potential Target variables) for now.\n",
    "TDF_GC = TDF_GC.drop(['Rank','Points'],axis=1)"
   ]
  },
  {
   "cell_type": "code",
   "execution_count": 12,
   "id": "7b5ea238",
   "metadata": {},
   "outputs": [
    {
     "data": {
      "text/html": [
       "<div>\n",
       "<style scoped>\n",
       "    .dataframe tbody tr th:only-of-type {\n",
       "        vertical-align: middle;\n",
       "    }\n",
       "\n",
       "    .dataframe tbody tr th {\n",
       "        vertical-align: top;\n",
       "    }\n",
       "\n",
       "    .dataframe thead th {\n",
       "        text-align: right;\n",
       "    }\n",
       "</style>\n",
       "<table border=\"1\" class=\"dataframe\">\n",
       "  <thead>\n",
       "    <tr style=\"text-align: right;\">\n",
       "      <th></th>\n",
       "      <th>Rider_name</th>\n",
       "      <th>Team_name</th>\n",
       "      <th>Year</th>\n",
       "      <th>Weight(kg)</th>\n",
       "      <th>Height(m)</th>\n",
       "      <th>Age</th>\n",
       "      <th>Winner</th>\n",
       "    </tr>\n",
       "  </thead>\n",
       "  <tbody>\n",
       "    <tr>\n",
       "      <th>0</th>\n",
       "      <td>POGAČAR Tadej</td>\n",
       "      <td>UAE-Team Emirates</td>\n",
       "      <td>2021</td>\n",
       "      <td>66.0</td>\n",
       "      <td>1.76</td>\n",
       "      <td>23</td>\n",
       "      <td>1.0</td>\n",
       "    </tr>\n",
       "    <tr>\n",
       "      <th>1</th>\n",
       "      <td>POGAČAR Tadej</td>\n",
       "      <td>UAE-Team Emirates</td>\n",
       "      <td>2020</td>\n",
       "      <td>66.0</td>\n",
       "      <td>1.76</td>\n",
       "      <td>22</td>\n",
       "      <td>1.0</td>\n",
       "    </tr>\n",
       "    <tr>\n",
       "      <th>2</th>\n",
       "      <td>VINGEGAARD Jonas</td>\n",
       "      <td>Team Jumbo-Visma</td>\n",
       "      <td>2021</td>\n",
       "      <td>60.0</td>\n",
       "      <td>1.75</td>\n",
       "      <td>25</td>\n",
       "      <td>0.0</td>\n",
       "    </tr>\n",
       "    <tr>\n",
       "      <th>3</th>\n",
       "      <td>CARAPAZ Richard</td>\n",
       "      <td>INEOS Grenadiers</td>\n",
       "      <td>2021</td>\n",
       "      <td>62.0</td>\n",
       "      <td>1.70</td>\n",
       "      <td>28</td>\n",
       "      <td>0.0</td>\n",
       "    </tr>\n",
       "    <tr>\n",
       "      <th>4</th>\n",
       "      <td>CARAPAZ Richard</td>\n",
       "      <td>INEOS Grenadiers</td>\n",
       "      <td>2020</td>\n",
       "      <td>62.0</td>\n",
       "      <td>1.70</td>\n",
       "      <td>27</td>\n",
       "      <td>0.0</td>\n",
       "    </tr>\n",
       "  </tbody>\n",
       "</table>\n",
       "</div>"
      ],
      "text/plain": [
       "         Rider_name          Team_name  Year  Weight(kg)  Height(m)  Age  \\\n",
       "0     POGAČAR Tadej  UAE-Team Emirates  2021        66.0       1.76   23   \n",
       "1     POGAČAR Tadej  UAE-Team Emirates  2020        66.0       1.76   22   \n",
       "2  VINGEGAARD Jonas   Team Jumbo-Visma  2021        60.0       1.75   25   \n",
       "3   CARAPAZ Richard   INEOS Grenadiers  2021        62.0       1.70   28   \n",
       "4   CARAPAZ Richard   INEOS Grenadiers  2020        62.0       1.70   27   \n",
       "\n",
       "   Winner  \n",
       "0     1.0  \n",
       "1     1.0  \n",
       "2     0.0  \n",
       "3     0.0  \n",
       "4     0.0  "
      ]
     },
     "execution_count": 12,
     "metadata": {},
     "output_type": "execute_result"
    }
   ],
   "source": [
    "TDF_GC.head()"
   ]
  },
  {
   "cell_type": "code",
   "execution_count": 13,
   "id": "89666944",
   "metadata": {},
   "outputs": [
    {
     "name": "stdout",
     "output_type": "stream",
     "text": [
      "<class 'pandas.core.frame.DataFrame'>\n",
      "RangeIndex: 1741 entries, 0 to 1740\n",
      "Data columns (total 7 columns):\n",
      " #   Column      Non-Null Count  Dtype  \n",
      "---  ------      --------------  -----  \n",
      " 0   Rider_name  1741 non-null   object \n",
      " 1   Team_name   1741 non-null   object \n",
      " 2   Year        1741 non-null   int64  \n",
      " 3   Weight(kg)  1741 non-null   float64\n",
      " 4   Height(m)   1741 non-null   float64\n",
      " 5   Age         1741 non-null   int64  \n",
      " 6   Winner      1741 non-null   float64\n",
      "dtypes: float64(3), int64(2), object(2)\n",
      "memory usage: 95.3+ KB\n"
     ]
    }
   ],
   "source": [
    "# Checking Data Types\n",
    "TDF_GC.info()"
   ]
  },
  {
   "cell_type": "markdown",
   "id": "b5e1fe6e",
   "metadata": {},
   "source": [
    "### Reducing Data Type to save on memory and reduce run time"
   ]
  },
  {
   "cell_type": "code",
   "execution_count": 14,
   "id": "3683a09e",
   "metadata": {},
   "outputs": [],
   "source": [
    "TDF_GC.Year = TDF_GC.Year.astype('int16')\n",
    "TDF_GC['Weight(kg)'] = TDF_GC['Weight(kg)'].astype('float16')\n",
    "TDF_GC['Height(m)'] = TDF_GC['Height(m)'].astype('float32')\n",
    "TDF_GC.Age = TDF_GC.Age.astype('int8')\n",
    "TDF_GC.Winner = TDF_GC.Winner.astype('int8')"
   ]
  },
  {
   "cell_type": "code",
   "execution_count": 15,
   "id": "ccf83833",
   "metadata": {},
   "outputs": [
    {
     "name": "stdout",
     "output_type": "stream",
     "text": [
      "<class 'pandas.core.frame.DataFrame'>\n",
      "RangeIndex: 1741 entries, 0 to 1740\n",
      "Data columns (total 7 columns):\n",
      " #   Column      Non-Null Count  Dtype  \n",
      "---  ------      --------------  -----  \n",
      " 0   Rider_name  1741 non-null   object \n",
      " 1   Team_name   1741 non-null   object \n",
      " 2   Year        1741 non-null   int16  \n",
      " 3   Weight(kg)  1741 non-null   float16\n",
      " 4   Height(m)   1741 non-null   float32\n",
      " 5   Age         1741 non-null   int8   \n",
      " 6   Winner      1741 non-null   int8   \n",
      "dtypes: float16(1), float32(1), int16(1), int8(2), object(2)\n",
      "memory usage: 44.3+ KB\n"
     ]
    }
   ],
   "source": [
    "# Checking the updated data types\n",
    "TDF_GC.info()"
   ]
  },
  {
   "cell_type": "code",
   "execution_count": 16,
   "id": "d7e782e5",
   "metadata": {},
   "outputs": [
    {
     "data": {
      "text/plain": [
       "(1741, 7)"
      ]
     },
     "execution_count": 16,
     "metadata": {},
     "output_type": "execute_result"
    }
   ],
   "source": [
    "TDF_GC.shape"
   ]
  },
  {
   "cell_type": "code",
   "execution_count": 17,
   "id": "0d1de7e6",
   "metadata": {},
   "outputs": [
    {
     "data": {
      "text/html": [
       "<div>\n",
       "<style scoped>\n",
       "    .dataframe tbody tr th:only-of-type {\n",
       "        vertical-align: middle;\n",
       "    }\n",
       "\n",
       "    .dataframe tbody tr th {\n",
       "        vertical-align: top;\n",
       "    }\n",
       "\n",
       "    .dataframe thead th {\n",
       "        text-align: right;\n",
       "    }\n",
       "</style>\n",
       "<table border=\"1\" class=\"dataframe\">\n",
       "  <thead>\n",
       "    <tr style=\"text-align: right;\">\n",
       "      <th></th>\n",
       "      <th>ALAPHILIPPE Julian</th>\n",
       "      <th>ALBASINI Michael</th>\n",
       "      <th>AMADOR Andrey</th>\n",
       "      <th>ANACONA Winner</th>\n",
       "      <th>ANTÓN Igor</th>\n",
       "      <th>ARANBURU Alex</th>\n",
       "      <th>ARASHIRO Yukiya</th>\n",
       "      <th>ARCAS Jorge</th>\n",
       "      <th>ARMIRAIL Bruno</th>\n",
       "      <th>ARNDT Nikias</th>\n",
       "      <th>...</th>\n",
       "      <th>ZABEL Rick</th>\n",
       "      <th>ZABRISKIE David</th>\n",
       "      <th>ZAKARIN Ilnur</th>\n",
       "      <th>ZANDIO Xabier</th>\n",
       "      <th>ZEITS Andrey</th>\n",
       "      <th>ZIMMERMANN Georg</th>\n",
       "      <th>ZINGLE Romain</th>\n",
       "      <th>ZUBELDIA Haimar</th>\n",
       "      <th>ĐURASEK Kristijan</th>\n",
       "      <th>ŠTYBAR Zdeněk</th>\n",
       "    </tr>\n",
       "  </thead>\n",
       "  <tbody>\n",
       "    <tr>\n",
       "      <th>0</th>\n",
       "      <td>0</td>\n",
       "      <td>0</td>\n",
       "      <td>0</td>\n",
       "      <td>0</td>\n",
       "      <td>0</td>\n",
       "      <td>0</td>\n",
       "      <td>0</td>\n",
       "      <td>0</td>\n",
       "      <td>0</td>\n",
       "      <td>0</td>\n",
       "      <td>...</td>\n",
       "      <td>0</td>\n",
       "      <td>0</td>\n",
       "      <td>0</td>\n",
       "      <td>0</td>\n",
       "      <td>0</td>\n",
       "      <td>0</td>\n",
       "      <td>0</td>\n",
       "      <td>0</td>\n",
       "      <td>0</td>\n",
       "      <td>0</td>\n",
       "    </tr>\n",
       "    <tr>\n",
       "      <th>1</th>\n",
       "      <td>0</td>\n",
       "      <td>0</td>\n",
       "      <td>0</td>\n",
       "      <td>0</td>\n",
       "      <td>0</td>\n",
       "      <td>0</td>\n",
       "      <td>0</td>\n",
       "      <td>0</td>\n",
       "      <td>0</td>\n",
       "      <td>0</td>\n",
       "      <td>...</td>\n",
       "      <td>0</td>\n",
       "      <td>0</td>\n",
       "      <td>0</td>\n",
       "      <td>0</td>\n",
       "      <td>0</td>\n",
       "      <td>0</td>\n",
       "      <td>0</td>\n",
       "      <td>0</td>\n",
       "      <td>0</td>\n",
       "      <td>0</td>\n",
       "    </tr>\n",
       "    <tr>\n",
       "      <th>2</th>\n",
       "      <td>0</td>\n",
       "      <td>0</td>\n",
       "      <td>0</td>\n",
       "      <td>0</td>\n",
       "      <td>0</td>\n",
       "      <td>0</td>\n",
       "      <td>0</td>\n",
       "      <td>0</td>\n",
       "      <td>0</td>\n",
       "      <td>0</td>\n",
       "      <td>...</td>\n",
       "      <td>0</td>\n",
       "      <td>0</td>\n",
       "      <td>0</td>\n",
       "      <td>0</td>\n",
       "      <td>0</td>\n",
       "      <td>0</td>\n",
       "      <td>0</td>\n",
       "      <td>0</td>\n",
       "      <td>0</td>\n",
       "      <td>0</td>\n",
       "    </tr>\n",
       "    <tr>\n",
       "      <th>3</th>\n",
       "      <td>0</td>\n",
       "      <td>0</td>\n",
       "      <td>0</td>\n",
       "      <td>0</td>\n",
       "      <td>0</td>\n",
       "      <td>0</td>\n",
       "      <td>0</td>\n",
       "      <td>0</td>\n",
       "      <td>0</td>\n",
       "      <td>0</td>\n",
       "      <td>...</td>\n",
       "      <td>0</td>\n",
       "      <td>0</td>\n",
       "      <td>0</td>\n",
       "      <td>0</td>\n",
       "      <td>0</td>\n",
       "      <td>0</td>\n",
       "      <td>0</td>\n",
       "      <td>0</td>\n",
       "      <td>0</td>\n",
       "      <td>0</td>\n",
       "    </tr>\n",
       "    <tr>\n",
       "      <th>4</th>\n",
       "      <td>0</td>\n",
       "      <td>0</td>\n",
       "      <td>0</td>\n",
       "      <td>0</td>\n",
       "      <td>0</td>\n",
       "      <td>0</td>\n",
       "      <td>0</td>\n",
       "      <td>0</td>\n",
       "      <td>0</td>\n",
       "      <td>0</td>\n",
       "      <td>...</td>\n",
       "      <td>0</td>\n",
       "      <td>0</td>\n",
       "      <td>0</td>\n",
       "      <td>0</td>\n",
       "      <td>0</td>\n",
       "      <td>0</td>\n",
       "      <td>0</td>\n",
       "      <td>0</td>\n",
       "      <td>0</td>\n",
       "      <td>0</td>\n",
       "    </tr>\n",
       "    <tr>\n",
       "      <th>...</th>\n",
       "      <td>...</td>\n",
       "      <td>...</td>\n",
       "      <td>...</td>\n",
       "      <td>...</td>\n",
       "      <td>...</td>\n",
       "      <td>...</td>\n",
       "      <td>...</td>\n",
       "      <td>...</td>\n",
       "      <td>...</td>\n",
       "      <td>...</td>\n",
       "      <td>...</td>\n",
       "      <td>...</td>\n",
       "      <td>...</td>\n",
       "      <td>...</td>\n",
       "      <td>...</td>\n",
       "      <td>...</td>\n",
       "      <td>...</td>\n",
       "      <td>...</td>\n",
       "      <td>...</td>\n",
       "      <td>...</td>\n",
       "      <td>...</td>\n",
       "    </tr>\n",
       "    <tr>\n",
       "      <th>1736</th>\n",
       "      <td>0</td>\n",
       "      <td>0</td>\n",
       "      <td>0</td>\n",
       "      <td>0</td>\n",
       "      <td>0</td>\n",
       "      <td>0</td>\n",
       "      <td>0</td>\n",
       "      <td>0</td>\n",
       "      <td>0</td>\n",
       "      <td>0</td>\n",
       "      <td>...</td>\n",
       "      <td>0</td>\n",
       "      <td>0</td>\n",
       "      <td>0</td>\n",
       "      <td>0</td>\n",
       "      <td>0</td>\n",
       "      <td>0</td>\n",
       "      <td>0</td>\n",
       "      <td>0</td>\n",
       "      <td>0</td>\n",
       "      <td>0</td>\n",
       "    </tr>\n",
       "    <tr>\n",
       "      <th>1737</th>\n",
       "      <td>0</td>\n",
       "      <td>0</td>\n",
       "      <td>0</td>\n",
       "      <td>0</td>\n",
       "      <td>0</td>\n",
       "      <td>0</td>\n",
       "      <td>0</td>\n",
       "      <td>0</td>\n",
       "      <td>0</td>\n",
       "      <td>0</td>\n",
       "      <td>...</td>\n",
       "      <td>0</td>\n",
       "      <td>0</td>\n",
       "      <td>0</td>\n",
       "      <td>0</td>\n",
       "      <td>0</td>\n",
       "      <td>0</td>\n",
       "      <td>0</td>\n",
       "      <td>0</td>\n",
       "      <td>0</td>\n",
       "      <td>0</td>\n",
       "    </tr>\n",
       "    <tr>\n",
       "      <th>1738</th>\n",
       "      <td>0</td>\n",
       "      <td>0</td>\n",
       "      <td>0</td>\n",
       "      <td>0</td>\n",
       "      <td>0</td>\n",
       "      <td>0</td>\n",
       "      <td>0</td>\n",
       "      <td>0</td>\n",
       "      <td>0</td>\n",
       "      <td>0</td>\n",
       "      <td>...</td>\n",
       "      <td>0</td>\n",
       "      <td>0</td>\n",
       "      <td>0</td>\n",
       "      <td>0</td>\n",
       "      <td>0</td>\n",
       "      <td>0</td>\n",
       "      <td>0</td>\n",
       "      <td>0</td>\n",
       "      <td>0</td>\n",
       "      <td>0</td>\n",
       "    </tr>\n",
       "    <tr>\n",
       "      <th>1739</th>\n",
       "      <td>0</td>\n",
       "      <td>0</td>\n",
       "      <td>0</td>\n",
       "      <td>0</td>\n",
       "      <td>0</td>\n",
       "      <td>0</td>\n",
       "      <td>0</td>\n",
       "      <td>0</td>\n",
       "      <td>0</td>\n",
       "      <td>0</td>\n",
       "      <td>...</td>\n",
       "      <td>0</td>\n",
       "      <td>0</td>\n",
       "      <td>0</td>\n",
       "      <td>0</td>\n",
       "      <td>0</td>\n",
       "      <td>0</td>\n",
       "      <td>0</td>\n",
       "      <td>0</td>\n",
       "      <td>0</td>\n",
       "      <td>0</td>\n",
       "    </tr>\n",
       "    <tr>\n",
       "      <th>1740</th>\n",
       "      <td>0</td>\n",
       "      <td>0</td>\n",
       "      <td>0</td>\n",
       "      <td>0</td>\n",
       "      <td>0</td>\n",
       "      <td>0</td>\n",
       "      <td>0</td>\n",
       "      <td>0</td>\n",
       "      <td>0</td>\n",
       "      <td>0</td>\n",
       "      <td>...</td>\n",
       "      <td>0</td>\n",
       "      <td>0</td>\n",
       "      <td>0</td>\n",
       "      <td>0</td>\n",
       "      <td>0</td>\n",
       "      <td>0</td>\n",
       "      <td>0</td>\n",
       "      <td>0</td>\n",
       "      <td>0</td>\n",
       "      <td>0</td>\n",
       "    </tr>\n",
       "  </tbody>\n",
       "</table>\n",
       "<p>1741 rows × 648 columns</p>\n",
       "</div>"
      ],
      "text/plain": [
       "      ALAPHILIPPE Julian  ALBASINI Michael  AMADOR Andrey  ANACONA Winner  \\\n",
       "0                      0                 0              0               0   \n",
       "1                      0                 0              0               0   \n",
       "2                      0                 0              0               0   \n",
       "3                      0                 0              0               0   \n",
       "4                      0                 0              0               0   \n",
       "...                  ...               ...            ...             ...   \n",
       "1736                   0                 0              0               0   \n",
       "1737                   0                 0              0               0   \n",
       "1738                   0                 0              0               0   \n",
       "1739                   0                 0              0               0   \n",
       "1740                   0                 0              0               0   \n",
       "\n",
       "      ANTÓN Igor  ARANBURU Alex  ARASHIRO Yukiya  ARCAS Jorge  ARMIRAIL Bruno  \\\n",
       "0              0              0                0            0               0   \n",
       "1              0              0                0            0               0   \n",
       "2              0              0                0            0               0   \n",
       "3              0              0                0            0               0   \n",
       "4              0              0                0            0               0   \n",
       "...          ...            ...              ...          ...             ...   \n",
       "1736           0              0                0            0               0   \n",
       "1737           0              0                0            0               0   \n",
       "1738           0              0                0            0               0   \n",
       "1739           0              0                0            0               0   \n",
       "1740           0              0                0            0               0   \n",
       "\n",
       "      ARNDT Nikias  ...  ZABEL Rick  ZABRISKIE David  ZAKARIN Ilnur  \\\n",
       "0                0  ...           0                0              0   \n",
       "1                0  ...           0                0              0   \n",
       "2                0  ...           0                0              0   \n",
       "3                0  ...           0                0              0   \n",
       "4                0  ...           0                0              0   \n",
       "...            ...  ...         ...              ...            ...   \n",
       "1736             0  ...           0                0              0   \n",
       "1737             0  ...           0                0              0   \n",
       "1738             0  ...           0                0              0   \n",
       "1739             0  ...           0                0              0   \n",
       "1740             0  ...           0                0              0   \n",
       "\n",
       "      ZANDIO Xabier  ZEITS Andrey  ZIMMERMANN Georg  ZINGLE Romain  \\\n",
       "0                 0             0                 0              0   \n",
       "1                 0             0                 0              0   \n",
       "2                 0             0                 0              0   \n",
       "3                 0             0                 0              0   \n",
       "4                 0             0                 0              0   \n",
       "...             ...           ...               ...            ...   \n",
       "1736              0             0                 0              0   \n",
       "1737              0             0                 0              0   \n",
       "1738              0             0                 0              0   \n",
       "1739              0             0                 0              0   \n",
       "1740              0             0                 0              0   \n",
       "\n",
       "      ZUBELDIA Haimar  ĐURASEK Kristijan  ŠTYBAR Zdeněk  \n",
       "0                   0                  0              0  \n",
       "1                   0                  0              0  \n",
       "2                   0                  0              0  \n",
       "3                   0                  0              0  \n",
       "4                   0                  0              0  \n",
       "...               ...                ...            ...  \n",
       "1736                0                  0              0  \n",
       "1737                0                  0              0  \n",
       "1738                0                  0              0  \n",
       "1739                0                  0              0  \n",
       "1740                0                  0              0  \n",
       "\n",
       "[1741 rows x 648 columns]"
      ]
     },
     "execution_count": 17,
     "metadata": {},
     "output_type": "execute_result"
    }
   ],
   "source": [
    "# Converting the Rider_names, which is a categorical column into numeric via one hot encode\n",
    "pd.get_dummies(TDF_GC.Rider_name)"
   ]
  },
  {
   "cell_type": "code",
   "execution_count": 18,
   "id": "5be6cc2a",
   "metadata": {},
   "outputs": [],
   "source": [
    "# Joining the one hot encoded data to our main dataframe\n",
    "TDF_GC = TDF_GC.join(pd.get_dummies(TDF_GC.Rider_name))"
   ]
  },
  {
   "cell_type": "code",
   "execution_count": 19,
   "id": "e74a1ca6",
   "metadata": {},
   "outputs": [
    {
     "data": {
      "text/plain": [
       "(1741, 655)"
      ]
     },
     "execution_count": 19,
     "metadata": {},
     "output_type": "execute_result"
    }
   ],
   "source": [
    "# Checking the shape to ensure change took place properly\n",
    "TDF_GC.shape"
   ]
  },
  {
   "cell_type": "code",
   "execution_count": 20,
   "id": "e0f5005c",
   "metadata": {},
   "outputs": [
    {
     "data": {
      "text/html": [
       "<div>\n",
       "<style scoped>\n",
       "    .dataframe tbody tr th:only-of-type {\n",
       "        vertical-align: middle;\n",
       "    }\n",
       "\n",
       "    .dataframe tbody tr th {\n",
       "        vertical-align: top;\n",
       "    }\n",
       "\n",
       "    .dataframe thead th {\n",
       "        text-align: right;\n",
       "    }\n",
       "</style>\n",
       "<table border=\"1\" class=\"dataframe\">\n",
       "  <thead>\n",
       "    <tr style=\"text-align: right;\">\n",
       "      <th></th>\n",
       "      <th>AG2R Citroën Team</th>\n",
       "      <th>AG2R La Mondiale</th>\n",
       "      <th>Alpecin-Fenix</th>\n",
       "      <th>Argos - Shimano</th>\n",
       "      <th>Astana - Premier Tech</th>\n",
       "      <th>Astana Pro Team</th>\n",
       "      <th>B&amp;B Hotels - Vital Concept p/b KTM</th>\n",
       "      <th>B&amp;B Hotels p/b KTM</th>\n",
       "      <th>BMC Racing Team</th>\n",
       "      <th>BORA - hansgrohe</th>\n",
       "      <th>...</th>\n",
       "      <th>Team TotalEnergies</th>\n",
       "      <th>Tinkoff</th>\n",
       "      <th>Tinkoff - Saxo</th>\n",
       "      <th>Trek - Segafredo</th>\n",
       "      <th>Trek Factory Racing</th>\n",
       "      <th>UAE Team Emirates</th>\n",
       "      <th>UAE-Team Emirates</th>\n",
       "      <th>Vacansoleil - DCM</th>\n",
       "      <th>Wanty - Gobert Cycling Team</th>\n",
       "      <th>Wanty - Groupe Gobert</th>\n",
       "    </tr>\n",
       "  </thead>\n",
       "  <tbody>\n",
       "    <tr>\n",
       "      <th>0</th>\n",
       "      <td>0</td>\n",
       "      <td>0</td>\n",
       "      <td>0</td>\n",
       "      <td>0</td>\n",
       "      <td>0</td>\n",
       "      <td>0</td>\n",
       "      <td>0</td>\n",
       "      <td>0</td>\n",
       "      <td>0</td>\n",
       "      <td>0</td>\n",
       "      <td>...</td>\n",
       "      <td>0</td>\n",
       "      <td>0</td>\n",
       "      <td>0</td>\n",
       "      <td>0</td>\n",
       "      <td>0</td>\n",
       "      <td>0</td>\n",
       "      <td>1</td>\n",
       "      <td>0</td>\n",
       "      <td>0</td>\n",
       "      <td>0</td>\n",
       "    </tr>\n",
       "    <tr>\n",
       "      <th>1</th>\n",
       "      <td>0</td>\n",
       "      <td>0</td>\n",
       "      <td>0</td>\n",
       "      <td>0</td>\n",
       "      <td>0</td>\n",
       "      <td>0</td>\n",
       "      <td>0</td>\n",
       "      <td>0</td>\n",
       "      <td>0</td>\n",
       "      <td>0</td>\n",
       "      <td>...</td>\n",
       "      <td>0</td>\n",
       "      <td>0</td>\n",
       "      <td>0</td>\n",
       "      <td>0</td>\n",
       "      <td>0</td>\n",
       "      <td>0</td>\n",
       "      <td>1</td>\n",
       "      <td>0</td>\n",
       "      <td>0</td>\n",
       "      <td>0</td>\n",
       "    </tr>\n",
       "    <tr>\n",
       "      <th>2</th>\n",
       "      <td>0</td>\n",
       "      <td>0</td>\n",
       "      <td>0</td>\n",
       "      <td>0</td>\n",
       "      <td>0</td>\n",
       "      <td>0</td>\n",
       "      <td>0</td>\n",
       "      <td>0</td>\n",
       "      <td>0</td>\n",
       "      <td>0</td>\n",
       "      <td>...</td>\n",
       "      <td>0</td>\n",
       "      <td>0</td>\n",
       "      <td>0</td>\n",
       "      <td>0</td>\n",
       "      <td>0</td>\n",
       "      <td>0</td>\n",
       "      <td>0</td>\n",
       "      <td>0</td>\n",
       "      <td>0</td>\n",
       "      <td>0</td>\n",
       "    </tr>\n",
       "    <tr>\n",
       "      <th>3</th>\n",
       "      <td>0</td>\n",
       "      <td>0</td>\n",
       "      <td>0</td>\n",
       "      <td>0</td>\n",
       "      <td>0</td>\n",
       "      <td>0</td>\n",
       "      <td>0</td>\n",
       "      <td>0</td>\n",
       "      <td>0</td>\n",
       "      <td>0</td>\n",
       "      <td>...</td>\n",
       "      <td>0</td>\n",
       "      <td>0</td>\n",
       "      <td>0</td>\n",
       "      <td>0</td>\n",
       "      <td>0</td>\n",
       "      <td>0</td>\n",
       "      <td>0</td>\n",
       "      <td>0</td>\n",
       "      <td>0</td>\n",
       "      <td>0</td>\n",
       "    </tr>\n",
       "    <tr>\n",
       "      <th>4</th>\n",
       "      <td>0</td>\n",
       "      <td>0</td>\n",
       "      <td>0</td>\n",
       "      <td>0</td>\n",
       "      <td>0</td>\n",
       "      <td>0</td>\n",
       "      <td>0</td>\n",
       "      <td>0</td>\n",
       "      <td>0</td>\n",
       "      <td>0</td>\n",
       "      <td>...</td>\n",
       "      <td>0</td>\n",
       "      <td>0</td>\n",
       "      <td>0</td>\n",
       "      <td>0</td>\n",
       "      <td>0</td>\n",
       "      <td>0</td>\n",
       "      <td>0</td>\n",
       "      <td>0</td>\n",
       "      <td>0</td>\n",
       "      <td>0</td>\n",
       "    </tr>\n",
       "    <tr>\n",
       "      <th>...</th>\n",
       "      <td>...</td>\n",
       "      <td>...</td>\n",
       "      <td>...</td>\n",
       "      <td>...</td>\n",
       "      <td>...</td>\n",
       "      <td>...</td>\n",
       "      <td>...</td>\n",
       "      <td>...</td>\n",
       "      <td>...</td>\n",
       "      <td>...</td>\n",
       "      <td>...</td>\n",
       "      <td>...</td>\n",
       "      <td>...</td>\n",
       "      <td>...</td>\n",
       "      <td>...</td>\n",
       "      <td>...</td>\n",
       "      <td>...</td>\n",
       "      <td>...</td>\n",
       "      <td>...</td>\n",
       "      <td>...</td>\n",
       "      <td>...</td>\n",
       "    </tr>\n",
       "    <tr>\n",
       "      <th>1736</th>\n",
       "      <td>0</td>\n",
       "      <td>0</td>\n",
       "      <td>0</td>\n",
       "      <td>0</td>\n",
       "      <td>0</td>\n",
       "      <td>0</td>\n",
       "      <td>0</td>\n",
       "      <td>0</td>\n",
       "      <td>0</td>\n",
       "      <td>0</td>\n",
       "      <td>...</td>\n",
       "      <td>0</td>\n",
       "      <td>0</td>\n",
       "      <td>0</td>\n",
       "      <td>0</td>\n",
       "      <td>0</td>\n",
       "      <td>0</td>\n",
       "      <td>0</td>\n",
       "      <td>0</td>\n",
       "      <td>0</td>\n",
       "      <td>0</td>\n",
       "    </tr>\n",
       "    <tr>\n",
       "      <th>1737</th>\n",
       "      <td>0</td>\n",
       "      <td>0</td>\n",
       "      <td>0</td>\n",
       "      <td>0</td>\n",
       "      <td>0</td>\n",
       "      <td>0</td>\n",
       "      <td>0</td>\n",
       "      <td>0</td>\n",
       "      <td>0</td>\n",
       "      <td>0</td>\n",
       "      <td>...</td>\n",
       "      <td>0</td>\n",
       "      <td>0</td>\n",
       "      <td>0</td>\n",
       "      <td>0</td>\n",
       "      <td>0</td>\n",
       "      <td>0</td>\n",
       "      <td>0</td>\n",
       "      <td>0</td>\n",
       "      <td>0</td>\n",
       "      <td>0</td>\n",
       "    </tr>\n",
       "    <tr>\n",
       "      <th>1738</th>\n",
       "      <td>0</td>\n",
       "      <td>0</td>\n",
       "      <td>0</td>\n",
       "      <td>0</td>\n",
       "      <td>0</td>\n",
       "      <td>0</td>\n",
       "      <td>0</td>\n",
       "      <td>0</td>\n",
       "      <td>0</td>\n",
       "      <td>0</td>\n",
       "      <td>...</td>\n",
       "      <td>0</td>\n",
       "      <td>0</td>\n",
       "      <td>0</td>\n",
       "      <td>0</td>\n",
       "      <td>0</td>\n",
       "      <td>0</td>\n",
       "      <td>0</td>\n",
       "      <td>0</td>\n",
       "      <td>0</td>\n",
       "      <td>0</td>\n",
       "    </tr>\n",
       "    <tr>\n",
       "      <th>1739</th>\n",
       "      <td>0</td>\n",
       "      <td>0</td>\n",
       "      <td>0</td>\n",
       "      <td>0</td>\n",
       "      <td>0</td>\n",
       "      <td>0</td>\n",
       "      <td>0</td>\n",
       "      <td>0</td>\n",
       "      <td>0</td>\n",
       "      <td>0</td>\n",
       "      <td>...</td>\n",
       "      <td>0</td>\n",
       "      <td>0</td>\n",
       "      <td>0</td>\n",
       "      <td>0</td>\n",
       "      <td>0</td>\n",
       "      <td>0</td>\n",
       "      <td>0</td>\n",
       "      <td>0</td>\n",
       "      <td>0</td>\n",
       "      <td>0</td>\n",
       "    </tr>\n",
       "    <tr>\n",
       "      <th>1740</th>\n",
       "      <td>0</td>\n",
       "      <td>0</td>\n",
       "      <td>0</td>\n",
       "      <td>0</td>\n",
       "      <td>0</td>\n",
       "      <td>0</td>\n",
       "      <td>0</td>\n",
       "      <td>0</td>\n",
       "      <td>0</td>\n",
       "      <td>0</td>\n",
       "      <td>...</td>\n",
       "      <td>0</td>\n",
       "      <td>0</td>\n",
       "      <td>0</td>\n",
       "      <td>0</td>\n",
       "      <td>0</td>\n",
       "      <td>0</td>\n",
       "      <td>0</td>\n",
       "      <td>0</td>\n",
       "      <td>0</td>\n",
       "      <td>0</td>\n",
       "    </tr>\n",
       "  </tbody>\n",
       "</table>\n",
       "<p>1741 rows × 103 columns</p>\n",
       "</div>"
      ],
      "text/plain": [
       "      AG2R Citroën Team  AG2R La Mondiale  Alpecin-Fenix  Argos - Shimano  \\\n",
       "0                     0                 0              0                0   \n",
       "1                     0                 0              0                0   \n",
       "2                     0                 0              0                0   \n",
       "3                     0                 0              0                0   \n",
       "4                     0                 0              0                0   \n",
       "...                 ...               ...            ...              ...   \n",
       "1736                  0                 0              0                0   \n",
       "1737                  0                 0              0                0   \n",
       "1738                  0                 0              0                0   \n",
       "1739                  0                 0              0                0   \n",
       "1740                  0                 0              0                0   \n",
       "\n",
       "      Astana - Premier Tech  Astana Pro Team  \\\n",
       "0                         0                0   \n",
       "1                         0                0   \n",
       "2                         0                0   \n",
       "3                         0                0   \n",
       "4                         0                0   \n",
       "...                     ...              ...   \n",
       "1736                      0                0   \n",
       "1737                      0                0   \n",
       "1738                      0                0   \n",
       "1739                      0                0   \n",
       "1740                      0                0   \n",
       "\n",
       "      B&B Hotels - Vital Concept p/b KTM  B&B Hotels p/b KTM  BMC Racing Team  \\\n",
       "0                                      0                   0                0   \n",
       "1                                      0                   0                0   \n",
       "2                                      0                   0                0   \n",
       "3                                      0                   0                0   \n",
       "4                                      0                   0                0   \n",
       "...                                  ...                 ...              ...   \n",
       "1736                                   0                   0                0   \n",
       "1737                                   0                   0                0   \n",
       "1738                                   0                   0                0   \n",
       "1739                                   0                   0                0   \n",
       "1740                                   0                   0                0   \n",
       "\n",
       "      BORA - hansgrohe  ...  Team TotalEnergies  Tinkoff  Tinkoff - Saxo  \\\n",
       "0                    0  ...                   0        0               0   \n",
       "1                    0  ...                   0        0               0   \n",
       "2                    0  ...                   0        0               0   \n",
       "3                    0  ...                   0        0               0   \n",
       "4                    0  ...                   0        0               0   \n",
       "...                ...  ...                 ...      ...             ...   \n",
       "1736                 0  ...                   0        0               0   \n",
       "1737                 0  ...                   0        0               0   \n",
       "1738                 0  ...                   0        0               0   \n",
       "1739                 0  ...                   0        0               0   \n",
       "1740                 0  ...                   0        0               0   \n",
       "\n",
       "      Trek - Segafredo  Trek Factory Racing   UAE Team Emirates  \\\n",
       "0                    0                     0                  0   \n",
       "1                    0                     0                  0   \n",
       "2                    0                     0                  0   \n",
       "3                    0                     0                  0   \n",
       "4                    0                     0                  0   \n",
       "...                ...                   ...                ...   \n",
       "1736                 0                     0                  0   \n",
       "1737                 0                     0                  0   \n",
       "1738                 0                     0                  0   \n",
       "1739                 0                     0                  0   \n",
       "1740                 0                     0                  0   \n",
       "\n",
       "      UAE-Team Emirates  Vacansoleil - DCM  Wanty - Gobert Cycling Team  \\\n",
       "0                     1                  0                            0   \n",
       "1                     1                  0                            0   \n",
       "2                     0                  0                            0   \n",
       "3                     0                  0                            0   \n",
       "4                     0                  0                            0   \n",
       "...                 ...                ...                          ...   \n",
       "1736                  0                  0                            0   \n",
       "1737                  0                  0                            0   \n",
       "1738                  0                  0                            0   \n",
       "1739                  0                  0                            0   \n",
       "1740                  0                  0                            0   \n",
       "\n",
       "      Wanty - Groupe Gobert  \n",
       "0                         0  \n",
       "1                         0  \n",
       "2                         0  \n",
       "3                         0  \n",
       "4                         0  \n",
       "...                     ...  \n",
       "1736                      0  \n",
       "1737                      0  \n",
       "1738                      0  \n",
       "1739                      0  \n",
       "1740                      0  \n",
       "\n",
       "[1741 rows x 103 columns]"
      ]
     },
     "execution_count": 20,
     "metadata": {},
     "output_type": "execute_result"
    }
   ],
   "source": [
    "# Converting the Team_names, which is a categorical column into numeric via one hot encode\n",
    "pd.get_dummies(TDF_GC.Team_name)"
   ]
  },
  {
   "cell_type": "code",
   "execution_count": 21,
   "id": "70137413",
   "metadata": {},
   "outputs": [],
   "source": [
    "# Joining the one hot encoded data to our main dataframe\n",
    "TDF_GC = TDF_GC.join(pd.get_dummies(TDF_GC.Team_name))"
   ]
  },
  {
   "cell_type": "code",
   "execution_count": 22,
   "id": "1faf2f06",
   "metadata": {},
   "outputs": [
    {
     "data": {
      "text/plain": [
       "(1741, 758)"
      ]
     },
     "execution_count": 22,
     "metadata": {},
     "output_type": "execute_result"
    }
   ],
   "source": [
    "# Checking the shape to ensure change took place properly\n",
    "TDF_GC.shape"
   ]
  },
  {
   "cell_type": "code",
   "execution_count": 23,
   "id": "08ea089c",
   "metadata": {},
   "outputs": [
    {
     "data": {
      "text/html": [
       "<div>\n",
       "<style scoped>\n",
       "    .dataframe tbody tr th:only-of-type {\n",
       "        vertical-align: middle;\n",
       "    }\n",
       "\n",
       "    .dataframe tbody tr th {\n",
       "        vertical-align: top;\n",
       "    }\n",
       "\n",
       "    .dataframe thead th {\n",
       "        text-align: right;\n",
       "    }\n",
       "</style>\n",
       "<table border=\"1\" class=\"dataframe\">\n",
       "  <thead>\n",
       "    <tr style=\"text-align: right;\">\n",
       "      <th></th>\n",
       "      <th>Year</th>\n",
       "      <th>Weight(kg)</th>\n",
       "      <th>Height(m)</th>\n",
       "      <th>Age</th>\n",
       "      <th>Winner</th>\n",
       "      <th>ALAPHILIPPE Julian</th>\n",
       "      <th>ALBASINI Michael</th>\n",
       "      <th>AMADOR Andrey</th>\n",
       "      <th>ANACONA Winner</th>\n",
       "      <th>ANTÓN Igor</th>\n",
       "      <th>...</th>\n",
       "      <th>Team TotalEnergies</th>\n",
       "      <th>Tinkoff</th>\n",
       "      <th>Tinkoff - Saxo</th>\n",
       "      <th>Trek - Segafredo</th>\n",
       "      <th>Trek Factory Racing</th>\n",
       "      <th>UAE Team Emirates</th>\n",
       "      <th>UAE-Team Emirates</th>\n",
       "      <th>Vacansoleil - DCM</th>\n",
       "      <th>Wanty - Gobert Cycling Team</th>\n",
       "      <th>Wanty - Groupe Gobert</th>\n",
       "    </tr>\n",
       "  </thead>\n",
       "  <tbody>\n",
       "    <tr>\n",
       "      <th>0</th>\n",
       "      <td>2021</td>\n",
       "      <td>66.0</td>\n",
       "      <td>1.76</td>\n",
       "      <td>23</td>\n",
       "      <td>1</td>\n",
       "      <td>0</td>\n",
       "      <td>0</td>\n",
       "      <td>0</td>\n",
       "      <td>0</td>\n",
       "      <td>0</td>\n",
       "      <td>...</td>\n",
       "      <td>0</td>\n",
       "      <td>0</td>\n",
       "      <td>0</td>\n",
       "      <td>0</td>\n",
       "      <td>0</td>\n",
       "      <td>0</td>\n",
       "      <td>1</td>\n",
       "      <td>0</td>\n",
       "      <td>0</td>\n",
       "      <td>0</td>\n",
       "    </tr>\n",
       "    <tr>\n",
       "      <th>1</th>\n",
       "      <td>2020</td>\n",
       "      <td>66.0</td>\n",
       "      <td>1.76</td>\n",
       "      <td>22</td>\n",
       "      <td>1</td>\n",
       "      <td>0</td>\n",
       "      <td>0</td>\n",
       "      <td>0</td>\n",
       "      <td>0</td>\n",
       "      <td>0</td>\n",
       "      <td>...</td>\n",
       "      <td>0</td>\n",
       "      <td>0</td>\n",
       "      <td>0</td>\n",
       "      <td>0</td>\n",
       "      <td>0</td>\n",
       "      <td>0</td>\n",
       "      <td>1</td>\n",
       "      <td>0</td>\n",
       "      <td>0</td>\n",
       "      <td>0</td>\n",
       "    </tr>\n",
       "    <tr>\n",
       "      <th>2</th>\n",
       "      <td>2021</td>\n",
       "      <td>60.0</td>\n",
       "      <td>1.75</td>\n",
       "      <td>25</td>\n",
       "      <td>0</td>\n",
       "      <td>0</td>\n",
       "      <td>0</td>\n",
       "      <td>0</td>\n",
       "      <td>0</td>\n",
       "      <td>0</td>\n",
       "      <td>...</td>\n",
       "      <td>0</td>\n",
       "      <td>0</td>\n",
       "      <td>0</td>\n",
       "      <td>0</td>\n",
       "      <td>0</td>\n",
       "      <td>0</td>\n",
       "      <td>0</td>\n",
       "      <td>0</td>\n",
       "      <td>0</td>\n",
       "      <td>0</td>\n",
       "    </tr>\n",
       "    <tr>\n",
       "      <th>3</th>\n",
       "      <td>2021</td>\n",
       "      <td>62.0</td>\n",
       "      <td>1.70</td>\n",
       "      <td>28</td>\n",
       "      <td>0</td>\n",
       "      <td>0</td>\n",
       "      <td>0</td>\n",
       "      <td>0</td>\n",
       "      <td>0</td>\n",
       "      <td>0</td>\n",
       "      <td>...</td>\n",
       "      <td>0</td>\n",
       "      <td>0</td>\n",
       "      <td>0</td>\n",
       "      <td>0</td>\n",
       "      <td>0</td>\n",
       "      <td>0</td>\n",
       "      <td>0</td>\n",
       "      <td>0</td>\n",
       "      <td>0</td>\n",
       "      <td>0</td>\n",
       "    </tr>\n",
       "    <tr>\n",
       "      <th>4</th>\n",
       "      <td>2020</td>\n",
       "      <td>62.0</td>\n",
       "      <td>1.70</td>\n",
       "      <td>27</td>\n",
       "      <td>0</td>\n",
       "      <td>0</td>\n",
       "      <td>0</td>\n",
       "      <td>0</td>\n",
       "      <td>0</td>\n",
       "      <td>0</td>\n",
       "      <td>...</td>\n",
       "      <td>0</td>\n",
       "      <td>0</td>\n",
       "      <td>0</td>\n",
       "      <td>0</td>\n",
       "      <td>0</td>\n",
       "      <td>0</td>\n",
       "      <td>0</td>\n",
       "      <td>0</td>\n",
       "      <td>0</td>\n",
       "      <td>0</td>\n",
       "    </tr>\n",
       "  </tbody>\n",
       "</table>\n",
       "<p>5 rows × 756 columns</p>\n",
       "</div>"
      ],
      "text/plain": [
       "   Year  Weight(kg)  Height(m)  Age  Winner  ALAPHILIPPE Julian  \\\n",
       "0  2021        66.0       1.76   23       1                   0   \n",
       "1  2020        66.0       1.76   22       1                   0   \n",
       "2  2021        60.0       1.75   25       0                   0   \n",
       "3  2021        62.0       1.70   28       0                   0   \n",
       "4  2020        62.0       1.70   27       0                   0   \n",
       "\n",
       "   ALBASINI Michael  AMADOR Andrey  ANACONA Winner  ANTÓN Igor  ...  \\\n",
       "0                 0              0               0           0  ...   \n",
       "1                 0              0               0           0  ...   \n",
       "2                 0              0               0           0  ...   \n",
       "3                 0              0               0           0  ...   \n",
       "4                 0              0               0           0  ...   \n",
       "\n",
       "   Team TotalEnergies  Tinkoff  Tinkoff - Saxo  Trek - Segafredo  \\\n",
       "0                   0        0               0                 0   \n",
       "1                   0        0               0                 0   \n",
       "2                   0        0               0                 0   \n",
       "3                   0        0               0                 0   \n",
       "4                   0        0               0                 0   \n",
       "\n",
       "   Trek Factory Racing   UAE Team Emirates  UAE-Team Emirates  \\\n",
       "0                     0                  0                  1   \n",
       "1                     0                  0                  1   \n",
       "2                     0                  0                  0   \n",
       "3                     0                  0                  0   \n",
       "4                     0                  0                  0   \n",
       "\n",
       "   Vacansoleil - DCM  Wanty - Gobert Cycling Team  Wanty - Groupe Gobert  \n",
       "0                  0                            0                      0  \n",
       "1                  0                            0                      0  \n",
       "2                  0                            0                      0  \n",
       "3                  0                            0                      0  \n",
       "4                  0                            0                      0  \n",
       "\n",
       "[5 rows x 756 columns]"
      ]
     },
     "execution_count": 23,
     "metadata": {},
     "output_type": "execute_result"
    }
   ],
   "source": [
    "# Dropping the last 2 categorical features\n",
    "TDF_GC = TDF_GC.drop(['Rider_name','Team_name'],axis=1)\n",
    "TDF_GC.head()"
   ]
  },
  {
   "cell_type": "markdown",
   "id": "8835af85",
   "metadata": {},
   "source": [
    "## Train/Test Split"
   ]
  },
  {
   "cell_type": "markdown",
   "id": "2c8a3c38",
   "metadata": {},
   "source": [
    "Let's see if we can predict the winner of TDF-2021 using data from previous years."
   ]
  },
  {
   "cell_type": "markdown",
   "id": "8ecd19b6",
   "metadata": {},
   "source": [
    "### Training - Data"
   ]
  },
  {
   "cell_type": "code",
   "execution_count": 24,
   "id": "ec4cc31b",
   "metadata": {},
   "outputs": [
    {
     "data": {
      "text/html": [
       "<div>\n",
       "<style scoped>\n",
       "    .dataframe tbody tr th:only-of-type {\n",
       "        vertical-align: middle;\n",
       "    }\n",
       "\n",
       "    .dataframe tbody tr th {\n",
       "        vertical-align: top;\n",
       "    }\n",
       "\n",
       "    .dataframe thead th {\n",
       "        text-align: right;\n",
       "    }\n",
       "</style>\n",
       "<table border=\"1\" class=\"dataframe\">\n",
       "  <thead>\n",
       "    <tr style=\"text-align: right;\">\n",
       "      <th></th>\n",
       "      <th>Year</th>\n",
       "      <th>Weight(kg)</th>\n",
       "      <th>Height(m)</th>\n",
       "      <th>Age</th>\n",
       "      <th>ALAPHILIPPE Julian</th>\n",
       "      <th>ALBASINI Michael</th>\n",
       "      <th>AMADOR Andrey</th>\n",
       "      <th>ANACONA Winner</th>\n",
       "      <th>ANTÓN Igor</th>\n",
       "      <th>ARANBURU Alex</th>\n",
       "      <th>...</th>\n",
       "      <th>Team TotalEnergies</th>\n",
       "      <th>Tinkoff</th>\n",
       "      <th>Tinkoff - Saxo</th>\n",
       "      <th>Trek - Segafredo</th>\n",
       "      <th>Trek Factory Racing</th>\n",
       "      <th>UAE Team Emirates</th>\n",
       "      <th>UAE-Team Emirates</th>\n",
       "      <th>Vacansoleil - DCM</th>\n",
       "      <th>Wanty - Gobert Cycling Team</th>\n",
       "      <th>Wanty - Groupe Gobert</th>\n",
       "    </tr>\n",
       "  </thead>\n",
       "  <tbody>\n",
       "    <tr>\n",
       "      <th>1</th>\n",
       "      <td>2020</td>\n",
       "      <td>66.0</td>\n",
       "      <td>1.76</td>\n",
       "      <td>22</td>\n",
       "      <td>0</td>\n",
       "      <td>0</td>\n",
       "      <td>0</td>\n",
       "      <td>0</td>\n",
       "      <td>0</td>\n",
       "      <td>0</td>\n",
       "      <td>...</td>\n",
       "      <td>0</td>\n",
       "      <td>0</td>\n",
       "      <td>0</td>\n",
       "      <td>0</td>\n",
       "      <td>0</td>\n",
       "      <td>0</td>\n",
       "      <td>1</td>\n",
       "      <td>0</td>\n",
       "      <td>0</td>\n",
       "      <td>0</td>\n",
       "    </tr>\n",
       "    <tr>\n",
       "      <th>4</th>\n",
       "      <td>2020</td>\n",
       "      <td>62.0</td>\n",
       "      <td>1.70</td>\n",
       "      <td>27</td>\n",
       "      <td>0</td>\n",
       "      <td>0</td>\n",
       "      <td>0</td>\n",
       "      <td>0</td>\n",
       "      <td>0</td>\n",
       "      <td>0</td>\n",
       "      <td>...</td>\n",
       "      <td>0</td>\n",
       "      <td>0</td>\n",
       "      <td>0</td>\n",
       "      <td>0</td>\n",
       "      <td>0</td>\n",
       "      <td>0</td>\n",
       "      <td>0</td>\n",
       "      <td>0</td>\n",
       "      <td>0</td>\n",
       "      <td>0</td>\n",
       "    </tr>\n",
       "    <tr>\n",
       "      <th>7</th>\n",
       "      <td>2016</td>\n",
       "      <td>65.0</td>\n",
       "      <td>1.85</td>\n",
       "      <td>25</td>\n",
       "      <td>0</td>\n",
       "      <td>0</td>\n",
       "      <td>0</td>\n",
       "      <td>0</td>\n",
       "      <td>0</td>\n",
       "      <td>0</td>\n",
       "      <td>...</td>\n",
       "      <td>0</td>\n",
       "      <td>0</td>\n",
       "      <td>0</td>\n",
       "      <td>0</td>\n",
       "      <td>0</td>\n",
       "      <td>0</td>\n",
       "      <td>0</td>\n",
       "      <td>0</td>\n",
       "      <td>0</td>\n",
       "      <td>0</td>\n",
       "    </tr>\n",
       "    <tr>\n",
       "      <th>8</th>\n",
       "      <td>2015</td>\n",
       "      <td>65.0</td>\n",
       "      <td>1.85</td>\n",
       "      <td>24</td>\n",
       "      <td>0</td>\n",
       "      <td>0</td>\n",
       "      <td>0</td>\n",
       "      <td>0</td>\n",
       "      <td>0</td>\n",
       "      <td>0</td>\n",
       "      <td>...</td>\n",
       "      <td>0</td>\n",
       "      <td>0</td>\n",
       "      <td>0</td>\n",
       "      <td>0</td>\n",
       "      <td>0</td>\n",
       "      <td>0</td>\n",
       "      <td>0</td>\n",
       "      <td>0</td>\n",
       "      <td>0</td>\n",
       "      <td>0</td>\n",
       "    </tr>\n",
       "    <tr>\n",
       "      <th>10</th>\n",
       "      <td>2020</td>\n",
       "      <td>61.0</td>\n",
       "      <td>1.77</td>\n",
       "      <td>25</td>\n",
       "      <td>0</td>\n",
       "      <td>0</td>\n",
       "      <td>0</td>\n",
       "      <td>0</td>\n",
       "      <td>0</td>\n",
       "      <td>0</td>\n",
       "      <td>...</td>\n",
       "      <td>0</td>\n",
       "      <td>0</td>\n",
       "      <td>0</td>\n",
       "      <td>0</td>\n",
       "      <td>0</td>\n",
       "      <td>0</td>\n",
       "      <td>0</td>\n",
       "      <td>0</td>\n",
       "      <td>0</td>\n",
       "      <td>0</td>\n",
       "    </tr>\n",
       "  </tbody>\n",
       "</table>\n",
       "<p>5 rows × 755 columns</p>\n",
       "</div>"
      ],
      "text/plain": [
       "    Year  Weight(kg)  Height(m)  Age  ALAPHILIPPE Julian  ALBASINI Michael  \\\n",
       "1   2020        66.0       1.76   22                   0                 0   \n",
       "4   2020        62.0       1.70   27                   0                 0   \n",
       "7   2016        65.0       1.85   25                   0                 0   \n",
       "8   2015        65.0       1.85   24                   0                 0   \n",
       "10  2020        61.0       1.77   25                   0                 0   \n",
       "\n",
       "    AMADOR Andrey  ANACONA Winner  ANTÓN Igor  ARANBURU Alex  ...  \\\n",
       "1               0               0           0              0  ...   \n",
       "4               0               0           0              0  ...   \n",
       "7               0               0           0              0  ...   \n",
       "8               0               0           0              0  ...   \n",
       "10              0               0           0              0  ...   \n",
       "\n",
       "    Team TotalEnergies  Tinkoff  Tinkoff - Saxo  Trek - Segafredo  \\\n",
       "1                    0        0               0                 0   \n",
       "4                    0        0               0                 0   \n",
       "7                    0        0               0                 0   \n",
       "8                    0        0               0                 0   \n",
       "10                   0        0               0                 0   \n",
       "\n",
       "    Trek Factory Racing   UAE Team Emirates  UAE-Team Emirates  \\\n",
       "1                      0                  0                  1   \n",
       "4                      0                  0                  0   \n",
       "7                      0                  0                  0   \n",
       "8                      0                  0                  0   \n",
       "10                     0                  0                  0   \n",
       "\n",
       "    Vacansoleil - DCM  Wanty - Gobert Cycling Team  Wanty - Groupe Gobert  \n",
       "1                   0                            0                      0  \n",
       "4                   0                            0                      0  \n",
       "7                   0                            0                      0  \n",
       "8                   0                            0                      0  \n",
       "10                  0                            0                      0  \n",
       "\n",
       "[5 rows x 755 columns]"
      ]
     },
     "execution_count": 24,
     "metadata": {},
     "output_type": "execute_result"
    }
   ],
   "source": [
    "# Training Data without the target (winner) for every year before 2021\n",
    "GC_train_data = TDF_GC.drop(['Winner'],axis=1)[TDF_GC.Year != 2021]\n",
    "GC_train_data.head()"
   ]
  },
  {
   "cell_type": "markdown",
   "id": "8d8b7ea0",
   "metadata": {},
   "source": [
    "### Training - Target"
   ]
  },
  {
   "cell_type": "code",
   "execution_count": 25,
   "id": "0c6e09dd",
   "metadata": {},
   "outputs": [
    {
     "data": {
      "text/plain": [
       "1     1\n",
       "4     0\n",
       "7     0\n",
       "8     0\n",
       "10    0\n",
       "Name: Winner, dtype: int8"
      ]
     },
     "execution_count": 25,
     "metadata": {},
     "output_type": "execute_result"
    }
   ],
   "source": [
    "# Training Target (winner) for every year before 2021\n",
    "GC_train_target = TDF_GC.Winner[TDF_GC.Year != 2021]\n",
    "GC_train_target.head()"
   ]
  },
  {
   "cell_type": "markdown",
   "id": "b9dce8e7",
   "metadata": {},
   "source": [
    "### Training Set Size"
   ]
  },
  {
   "cell_type": "code",
   "execution_count": 26,
   "id": "dd8a1f7c",
   "metadata": {},
   "outputs": [
    {
     "name": "stdout",
     "output_type": "stream",
     "text": [
      "(1600, 755)\n",
      "(1600,)\n"
     ]
    }
   ],
   "source": [
    "# Shape check - Rows should match up\n",
    "print(GC_train_data.shape)\n",
    "print(GC_train_target.shape)"
   ]
  },
  {
   "cell_type": "markdown",
   "id": "e2c00453",
   "metadata": {},
   "source": [
    "### Testing - Data"
   ]
  },
  {
   "cell_type": "code",
   "execution_count": 27,
   "id": "8b0a9845",
   "metadata": {},
   "outputs": [
    {
     "data": {
      "text/html": [
       "<div>\n",
       "<style scoped>\n",
       "    .dataframe tbody tr th:only-of-type {\n",
       "        vertical-align: middle;\n",
       "    }\n",
       "\n",
       "    .dataframe tbody tr th {\n",
       "        vertical-align: top;\n",
       "    }\n",
       "\n",
       "    .dataframe thead th {\n",
       "        text-align: right;\n",
       "    }\n",
       "</style>\n",
       "<table border=\"1\" class=\"dataframe\">\n",
       "  <thead>\n",
       "    <tr style=\"text-align: right;\">\n",
       "      <th></th>\n",
       "      <th>Year</th>\n",
       "      <th>Weight(kg)</th>\n",
       "      <th>Height(m)</th>\n",
       "      <th>Age</th>\n",
       "      <th>ALAPHILIPPE Julian</th>\n",
       "      <th>ALBASINI Michael</th>\n",
       "      <th>AMADOR Andrey</th>\n",
       "      <th>ANACONA Winner</th>\n",
       "      <th>ANTÓN Igor</th>\n",
       "      <th>ARANBURU Alex</th>\n",
       "      <th>...</th>\n",
       "      <th>Team TotalEnergies</th>\n",
       "      <th>Tinkoff</th>\n",
       "      <th>Tinkoff - Saxo</th>\n",
       "      <th>Trek - Segafredo</th>\n",
       "      <th>Trek Factory Racing</th>\n",
       "      <th>UAE Team Emirates</th>\n",
       "      <th>UAE-Team Emirates</th>\n",
       "      <th>Vacansoleil - DCM</th>\n",
       "      <th>Wanty - Gobert Cycling Team</th>\n",
       "      <th>Wanty - Groupe Gobert</th>\n",
       "    </tr>\n",
       "  </thead>\n",
       "  <tbody>\n",
       "    <tr>\n",
       "      <th>0</th>\n",
       "      <td>2021</td>\n",
       "      <td>66.0</td>\n",
       "      <td>1.76</td>\n",
       "      <td>23</td>\n",
       "      <td>0</td>\n",
       "      <td>0</td>\n",
       "      <td>0</td>\n",
       "      <td>0</td>\n",
       "      <td>0</td>\n",
       "      <td>0</td>\n",
       "      <td>...</td>\n",
       "      <td>0</td>\n",
       "      <td>0</td>\n",
       "      <td>0</td>\n",
       "      <td>0</td>\n",
       "      <td>0</td>\n",
       "      <td>0</td>\n",
       "      <td>1</td>\n",
       "      <td>0</td>\n",
       "      <td>0</td>\n",
       "      <td>0</td>\n",
       "    </tr>\n",
       "    <tr>\n",
       "      <th>2</th>\n",
       "      <td>2021</td>\n",
       "      <td>60.0</td>\n",
       "      <td>1.75</td>\n",
       "      <td>25</td>\n",
       "      <td>0</td>\n",
       "      <td>0</td>\n",
       "      <td>0</td>\n",
       "      <td>0</td>\n",
       "      <td>0</td>\n",
       "      <td>0</td>\n",
       "      <td>...</td>\n",
       "      <td>0</td>\n",
       "      <td>0</td>\n",
       "      <td>0</td>\n",
       "      <td>0</td>\n",
       "      <td>0</td>\n",
       "      <td>0</td>\n",
       "      <td>0</td>\n",
       "      <td>0</td>\n",
       "      <td>0</td>\n",
       "      <td>0</td>\n",
       "    </tr>\n",
       "    <tr>\n",
       "      <th>3</th>\n",
       "      <td>2021</td>\n",
       "      <td>62.0</td>\n",
       "      <td>1.70</td>\n",
       "      <td>28</td>\n",
       "      <td>0</td>\n",
       "      <td>0</td>\n",
       "      <td>0</td>\n",
       "      <td>0</td>\n",
       "      <td>0</td>\n",
       "      <td>0</td>\n",
       "      <td>...</td>\n",
       "      <td>0</td>\n",
       "      <td>0</td>\n",
       "      <td>0</td>\n",
       "      <td>0</td>\n",
       "      <td>0</td>\n",
       "      <td>0</td>\n",
       "      <td>0</td>\n",
       "      <td>0</td>\n",
       "      <td>0</td>\n",
       "      <td>0</td>\n",
       "    </tr>\n",
       "    <tr>\n",
       "      <th>5</th>\n",
       "      <td>2021</td>\n",
       "      <td>67.0</td>\n",
       "      <td>1.88</td>\n",
       "      <td>26</td>\n",
       "      <td>0</td>\n",
       "      <td>0</td>\n",
       "      <td>0</td>\n",
       "      <td>0</td>\n",
       "      <td>0</td>\n",
       "      <td>0</td>\n",
       "      <td>...</td>\n",
       "      <td>0</td>\n",
       "      <td>0</td>\n",
       "      <td>0</td>\n",
       "      <td>0</td>\n",
       "      <td>0</td>\n",
       "      <td>0</td>\n",
       "      <td>0</td>\n",
       "      <td>0</td>\n",
       "      <td>0</td>\n",
       "      <td>0</td>\n",
       "    </tr>\n",
       "    <tr>\n",
       "      <th>6</th>\n",
       "      <td>2021</td>\n",
       "      <td>65.0</td>\n",
       "      <td>1.85</td>\n",
       "      <td>30</td>\n",
       "      <td>0</td>\n",
       "      <td>0</td>\n",
       "      <td>0</td>\n",
       "      <td>0</td>\n",
       "      <td>0</td>\n",
       "      <td>0</td>\n",
       "      <td>...</td>\n",
       "      <td>0</td>\n",
       "      <td>0</td>\n",
       "      <td>0</td>\n",
       "      <td>0</td>\n",
       "      <td>0</td>\n",
       "      <td>0</td>\n",
       "      <td>0</td>\n",
       "      <td>0</td>\n",
       "      <td>0</td>\n",
       "      <td>0</td>\n",
       "    </tr>\n",
       "  </tbody>\n",
       "</table>\n",
       "<p>5 rows × 755 columns</p>\n",
       "</div>"
      ],
      "text/plain": [
       "   Year  Weight(kg)  Height(m)  Age  ALAPHILIPPE Julian  ALBASINI Michael  \\\n",
       "0  2021        66.0       1.76   23                   0                 0   \n",
       "2  2021        60.0       1.75   25                   0                 0   \n",
       "3  2021        62.0       1.70   28                   0                 0   \n",
       "5  2021        67.0       1.88   26                   0                 0   \n",
       "6  2021        65.0       1.85   30                   0                 0   \n",
       "\n",
       "   AMADOR Andrey  ANACONA Winner  ANTÓN Igor  ARANBURU Alex  ...  \\\n",
       "0              0               0           0              0  ...   \n",
       "2              0               0           0              0  ...   \n",
       "3              0               0           0              0  ...   \n",
       "5              0               0           0              0  ...   \n",
       "6              0               0           0              0  ...   \n",
       "\n",
       "   Team TotalEnergies  Tinkoff  Tinkoff - Saxo  Trek - Segafredo  \\\n",
       "0                   0        0               0                 0   \n",
       "2                   0        0               0                 0   \n",
       "3                   0        0               0                 0   \n",
       "5                   0        0               0                 0   \n",
       "6                   0        0               0                 0   \n",
       "\n",
       "   Trek Factory Racing   UAE Team Emirates  UAE-Team Emirates  \\\n",
       "0                     0                  0                  1   \n",
       "2                     0                  0                  0   \n",
       "3                     0                  0                  0   \n",
       "5                     0                  0                  0   \n",
       "6                     0                  0                  0   \n",
       "\n",
       "   Vacansoleil - DCM  Wanty - Gobert Cycling Team  Wanty - Groupe Gobert  \n",
       "0                  0                            0                      0  \n",
       "2                  0                            0                      0  \n",
       "3                  0                            0                      0  \n",
       "5                  0                            0                      0  \n",
       "6                  0                            0                      0  \n",
       "\n",
       "[5 rows x 755 columns]"
      ]
     },
     "execution_count": 27,
     "metadata": {},
     "output_type": "execute_result"
    }
   ],
   "source": [
    "# Testing Data without the target (winner) for 2021\n",
    "GC_test_data = TDF_GC.drop(['Winner'],axis=1)[TDF_GC.Year == 2021]\n",
    "GC_test_data.head()"
   ]
  },
  {
   "cell_type": "markdown",
   "id": "3cc36fd8",
   "metadata": {},
   "source": [
    "### Testing - Target"
   ]
  },
  {
   "cell_type": "code",
   "execution_count": 28,
   "id": "9d1d44a0",
   "metadata": {},
   "outputs": [
    {
     "data": {
      "text/plain": [
       "0    1\n",
       "2    0\n",
       "3    0\n",
       "5    0\n",
       "6    0\n",
       "Name: Winner, dtype: int8"
      ]
     },
     "execution_count": 28,
     "metadata": {},
     "output_type": "execute_result"
    }
   ],
   "source": [
    "# Testing Target (winner) for 2021\n",
    "GC_test_target = TDF_GC.Winner[TDF_GC.Year == 2021]\n",
    "GC_test_target.head()"
   ]
  },
  {
   "cell_type": "markdown",
   "id": "47ba1ccc",
   "metadata": {},
   "source": [
    "### Testing Set Size"
   ]
  },
  {
   "cell_type": "code",
   "execution_count": 29,
   "id": "b783b2ac",
   "metadata": {},
   "outputs": [
    {
     "name": "stdout",
     "output_type": "stream",
     "text": [
      "(141, 755)\n",
      "(141,)\n"
     ]
    }
   ],
   "source": [
    "# Shape check - Rows should match up\n",
    "print(GC_test_data.shape)\n",
    "print(GC_test_target.shape)"
   ]
  },
  {
   "cell_type": "code",
   "execution_count": 30,
   "id": "3d8cbf10",
   "metadata": {},
   "outputs": [
    {
     "data": {
      "text/plain": [
       "8.8125"
      ]
     },
     "execution_count": 30,
     "metadata": {},
     "output_type": "execute_result"
    }
   ],
   "source": [
    "# What percentage of the overall data set is our testing data set\n",
    "GC_test_data.shape[0]/GC_train_data.shape[0] * 100"
   ]
  },
  {
   "cell_type": "markdown",
   "id": "f64bb35a",
   "metadata": {},
   "source": [
    "# Logistic Regression"
   ]
  },
  {
   "cell_type": "code",
   "execution_count": 31,
   "id": "3f0c984b",
   "metadata": {},
   "outputs": [],
   "source": [
    "# Fit our Logistic Regression Model to our training data\n",
    "logreg_model = LogisticRegression(random_state=1).fit(GC_train_data, GC_train_target)"
   ]
  },
  {
   "cell_type": "code",
   "execution_count": 32,
   "id": "752bc098",
   "metadata": {},
   "outputs": [],
   "source": [
    "# Predicting the outcomes\n",
    "model_predictions = logreg_model.predict(GC_test_data)"
   ]
  },
  {
   "cell_type": "code",
   "execution_count": 33,
   "id": "7b23e7b6",
   "metadata": {},
   "outputs": [
    {
     "data": {
      "text/plain": [
       "0.99375"
      ]
     },
     "execution_count": 33,
     "metadata": {},
     "output_type": "execute_result"
    }
   ],
   "source": [
    "# Scoring our model on training data\n",
    "logreg_model.score(GC_train_data, GC_train_target)"
   ]
  },
  {
   "cell_type": "code",
   "execution_count": 34,
   "id": "522616ee",
   "metadata": {},
   "outputs": [
    {
     "data": {
      "text/plain": [
       "0.9929078014184397"
      ]
     },
     "execution_count": 34,
     "metadata": {},
     "output_type": "execute_result"
    }
   ],
   "source": [
    "# Scoring our model on testing data\n",
    "accuracy_score(model_predictions, GC_test_target)"
   ]
  },
  {
   "cell_type": "code",
   "execution_count": 35,
   "id": "5554c1ec",
   "metadata": {},
   "outputs": [
    {
     "data": {
      "text/plain": [
       "array([0, 0, 0, 0, 0, 0, 0, 0, 0, 0, 0, 0, 0, 0, 0, 0, 0, 0, 0, 0, 0, 0,\n",
       "       0, 0, 0, 0, 0, 0, 0, 0, 0, 0, 0, 0, 0, 0, 0, 0, 0, 0, 0, 0, 0, 0,\n",
       "       0, 0, 0, 0, 0, 0, 0, 0, 0, 0, 0, 0, 0, 0, 0, 0, 0, 0, 0, 0, 0, 0,\n",
       "       0, 0, 0, 0, 0, 0, 0, 0, 0, 0, 0, 0, 0, 0, 0, 0, 0, 0, 0, 0, 0, 0,\n",
       "       0, 0, 0, 0, 0, 0, 0, 0, 0, 0, 0, 0, 0, 0, 0, 0, 0, 0, 0, 0, 0, 0,\n",
       "       0, 0, 0, 0, 0, 0, 0, 0, 0, 0, 0, 0, 0, 0, 0, 0, 0, 0, 0, 0, 0, 0,\n",
       "       0, 0, 0, 0, 0, 0, 0, 0, 0], dtype=int8)"
      ]
     },
     "execution_count": 35,
     "metadata": {},
     "output_type": "execute_result"
    }
   ],
   "source": [
    "# Predictions of our test dat set\n",
    "model_predictions"
   ]
  },
  {
   "cell_type": "markdown",
   "id": "ddea7ff6",
   "metadata": {},
   "source": [
    "All zeroes, this looks bad."
   ]
  },
  {
   "cell_type": "code",
   "execution_count": 36,
   "id": "b99d9163",
   "metadata": {},
   "outputs": [
    {
     "data": {
      "text/plain": [
       "array([0], dtype=int8)"
      ]
     },
     "execution_count": 36,
     "metadata": {},
     "output_type": "execute_result"
    }
   ],
   "source": [
    "np.unique(model_predictions)"
   ]
  },
  {
   "cell_type": "code",
   "execution_count": 37,
   "id": "dbd06737",
   "metadata": {},
   "outputs": [
    {
     "data": {
      "text/html": [
       "<div>\n",
       "<style scoped>\n",
       "    .dataframe tbody tr th:only-of-type {\n",
       "        vertical-align: middle;\n",
       "    }\n",
       "\n",
       "    .dataframe tbody tr th {\n",
       "        vertical-align: top;\n",
       "    }\n",
       "\n",
       "    .dataframe thead th {\n",
       "        text-align: right;\n",
       "    }\n",
       "</style>\n",
       "<table border=\"1\" class=\"dataframe\">\n",
       "  <thead>\n",
       "    <tr style=\"text-align: right;\">\n",
       "      <th></th>\n",
       "      <th>Models</th>\n",
       "      <th>Train_Score</th>\n",
       "      <th>Test_Score</th>\n",
       "    </tr>\n",
       "  </thead>\n",
       "  <tbody>\n",
       "    <tr>\n",
       "      <th>1</th>\n",
       "      <td>Logistic Regression Winner only</td>\n",
       "      <td>0.99375</td>\n",
       "      <td>0.992908</td>\n",
       "    </tr>\n",
       "  </tbody>\n",
       "</table>\n",
       "</div>"
      ],
      "text/plain": [
       "                            Models  Train_Score  Test_Score\n",
       "1  Logistic Regression Winner only      0.99375    0.992908"
      ]
     },
     "execution_count": 37,
     "metadata": {},
     "output_type": "execute_result"
    }
   ],
   "source": [
    "# Adding reults to a scoring dataframe\n",
    "Results_df.loc[1] = ('Logistic Regression Winner only', logreg_model.score(GC_train_data, GC_train_target), accuracy_score(model_predictions, GC_test_target))\n",
    "Results_df"
   ]
  },
  {
   "cell_type": "markdown",
   "id": "020f91a0",
   "metadata": {},
   "source": [
    "# Support Vector Machines Pipeline"
   ]
  },
  {
   "cell_type": "code",
   "execution_count": 38,
   "id": "9295659f",
   "metadata": {},
   "outputs": [],
   "source": [
    "# Creating a SVM Pipeline with standard scaling\n",
    "SVM_pipe = Pipeline(\n",
    "    [('normalise', StandardScaler()),\n",
    "    ('svm', svm.SVC(kernel='rbf'))]\n",
    ")"
   ]
  },
  {
   "cell_type": "code",
   "execution_count": 39,
   "id": "c758f31f",
   "metadata": {},
   "outputs": [
    {
     "data": {
      "text/plain": [
       "Pipeline(steps=[('normalise', StandardScaler()), ('svm', SVC())])"
      ]
     },
     "execution_count": 39,
     "metadata": {},
     "output_type": "execute_result"
    }
   ],
   "source": [
    "# Fitting our SVM model to the training data\n",
    "SVM_pipe.fit(GC_train_data, GC_train_target)"
   ]
  },
  {
   "cell_type": "code",
   "execution_count": 40,
   "id": "4f832277",
   "metadata": {},
   "outputs": [
    {
     "data": {
      "text/plain": [
       "0.995"
      ]
     },
     "execution_count": 40,
     "metadata": {},
     "output_type": "execute_result"
    }
   ],
   "source": [
    "# Scoring our model on training data\n",
    "SVM_pipe.score(GC_train_data, GC_train_target)"
   ]
  },
  {
   "cell_type": "code",
   "execution_count": 41,
   "id": "47b19f63",
   "metadata": {},
   "outputs": [
    {
     "data": {
      "text/plain": [
       "0.9929078014184397"
      ]
     },
     "execution_count": 41,
     "metadata": {},
     "output_type": "execute_result"
    }
   ],
   "source": [
    "# Scoring our model on testing data\n",
    "SVM_pipe.score(GC_test_data, GC_test_target)"
   ]
  },
  {
   "cell_type": "code",
   "execution_count": 42,
   "id": "c14c8d93",
   "metadata": {},
   "outputs": [],
   "source": [
    "# Predicting outcomes\n",
    "model_predictions_svm = SVM_pipe.predict(GC_test_data)"
   ]
  },
  {
   "cell_type": "code",
   "execution_count": 43,
   "id": "e7cb73bd",
   "metadata": {},
   "outputs": [
    {
     "data": {
      "text/plain": [
       "array([0, 0, 0, 0, 0, 0, 0, 0, 0, 0, 0, 0, 0, 0, 0, 0, 0, 0, 0, 0, 0, 0,\n",
       "       0, 0, 0, 0, 0, 0, 0, 0, 0, 0, 0, 0, 0, 0, 0, 0, 0, 0, 0, 0, 0, 0,\n",
       "       0, 0, 0, 0, 0, 0, 0, 0, 0, 0, 0, 0, 0, 0, 0, 0, 0, 0, 0, 0, 0, 0,\n",
       "       0, 0, 0, 0, 0, 0, 0, 0, 0, 0, 0, 0, 0, 0, 0, 0, 0, 0, 0, 0, 0, 0,\n",
       "       0, 0, 0, 0, 0, 0, 0, 0, 0, 0, 0, 0, 0, 0, 0, 0, 0, 0, 0, 0, 0, 0,\n",
       "       0, 0, 0, 0, 0, 0, 0, 0, 0, 0, 0, 0, 0, 0, 0, 0, 0, 0, 0, 0, 0, 0,\n",
       "       0, 0, 0, 0, 0, 0, 0, 0, 0], dtype=int8)"
      ]
     },
     "execution_count": 43,
     "metadata": {},
     "output_type": "execute_result"
    }
   ],
   "source": [
    "# Predictions of our test dat set\n",
    "model_predictions_svm"
   ]
  },
  {
   "cell_type": "markdown",
   "id": "96b83ab7",
   "metadata": {},
   "source": [
    "All zeroes again, seems to be a trend with this method."
   ]
  },
  {
   "cell_type": "code",
   "execution_count": 44,
   "id": "13a05b5c",
   "metadata": {},
   "outputs": [
    {
     "data": {
      "text/html": [
       "<div>\n",
       "<style scoped>\n",
       "    .dataframe tbody tr th:only-of-type {\n",
       "        vertical-align: middle;\n",
       "    }\n",
       "\n",
       "    .dataframe tbody tr th {\n",
       "        vertical-align: top;\n",
       "    }\n",
       "\n",
       "    .dataframe thead th {\n",
       "        text-align: right;\n",
       "    }\n",
       "</style>\n",
       "<table border=\"1\" class=\"dataframe\">\n",
       "  <thead>\n",
       "    <tr style=\"text-align: right;\">\n",
       "      <th></th>\n",
       "      <th>Models</th>\n",
       "      <th>Train_Score</th>\n",
       "      <th>Test_Score</th>\n",
       "    </tr>\n",
       "  </thead>\n",
       "  <tbody>\n",
       "    <tr>\n",
       "      <th>1</th>\n",
       "      <td>Logistic Regression Winner only</td>\n",
       "      <td>0.99375</td>\n",
       "      <td>0.992908</td>\n",
       "    </tr>\n",
       "    <tr>\n",
       "      <th>2</th>\n",
       "      <td>SVM Winner only</td>\n",
       "      <td>0.99500</td>\n",
       "      <td>0.992908</td>\n",
       "    </tr>\n",
       "  </tbody>\n",
       "</table>\n",
       "</div>"
      ],
      "text/plain": [
       "                            Models  Train_Score  Test_Score\n",
       "1  Logistic Regression Winner only      0.99375    0.992908\n",
       "2                  SVM Winner only      0.99500    0.992908"
      ]
     },
     "execution_count": 44,
     "metadata": {},
     "output_type": "execute_result"
    }
   ],
   "source": [
    "# Adding reults to a scoring dataframe\n",
    "Results_df.loc[2] = ('SVM Winner only', SVM_pipe.score(GC_train_data, GC_train_target) , SVM_pipe.score(GC_test_data, GC_test_target))\n",
    "Results_df"
   ]
  },
  {
   "cell_type": "markdown",
   "id": "6f9f0e7b",
   "metadata": {},
   "source": [
    "# K Nearest Neighbours"
   ]
  },
  {
   "cell_type": "code",
   "execution_count": 45,
   "id": "2228b458",
   "metadata": {},
   "outputs": [],
   "source": [
    "# Creating a KNN Pipeline\n",
    "KNN_pipe = Pipeline([\n",
    "    ('scale', StandardScaler()),\n",
    "    (\"feature_selector\", SelectKBest()),\n",
    "    ('KNN', KNeighborsClassifier())\n",
    "])"
   ]
  },
  {
   "cell_type": "code",
   "execution_count": 46,
   "id": "58c3b0bc",
   "metadata": {},
   "outputs": [
    {
     "data": {
      "text/plain": [
       "0.99375"
      ]
     },
     "execution_count": 46,
     "metadata": {},
     "output_type": "execute_result"
    }
   ],
   "source": [
    "# Cross-validation score on the training set\n",
    "cross_val_score(KNN_pipe, GC_train_data, GC_train_target).mean()"
   ]
  },
  {
   "cell_type": "code",
   "execution_count": 47,
   "id": "fdd6f0ac",
   "metadata": {},
   "outputs": [
    {
     "data": {
      "text/plain": [
       "Pipeline(steps=[('scale', StandardScaler()),\n",
       "                ('feature_selector', SelectKBest()),\n",
       "                ('KNN', KNeighborsClassifier())])"
      ]
     },
     "execution_count": 47,
     "metadata": {},
     "output_type": "execute_result"
    }
   ],
   "source": [
    "# Fitting the KNN to our training data set\n",
    "KNN_pipe.fit(GC_train_data, GC_train_target)"
   ]
  },
  {
   "cell_type": "code",
   "execution_count": 48,
   "id": "029ff21c",
   "metadata": {},
   "outputs": [
    {
     "data": {
      "text/plain": [
       "0.995"
      ]
     },
     "execution_count": 48,
     "metadata": {},
     "output_type": "execute_result"
    }
   ],
   "source": [
    "# Scoring our model on training data\n",
    "KNN_pipe.score(GC_train_data, GC_train_target)"
   ]
  },
  {
   "cell_type": "code",
   "execution_count": 49,
   "id": "5bea06c1",
   "metadata": {},
   "outputs": [
    {
     "data": {
      "text/plain": [
       "0.9858156028368794"
      ]
     },
     "execution_count": 49,
     "metadata": {},
     "output_type": "execute_result"
    }
   ],
   "source": [
    "# Scoring our model on testing data\n",
    "KNN_pipe.score(GC_test_data, GC_test_target)"
   ]
  },
  {
   "cell_type": "code",
   "execution_count": 50,
   "id": "5d41d42a",
   "metadata": {},
   "outputs": [
    {
     "data": {
      "text/html": [
       "<div>\n",
       "<style scoped>\n",
       "    .dataframe tbody tr th:only-of-type {\n",
       "        vertical-align: middle;\n",
       "    }\n",
       "\n",
       "    .dataframe tbody tr th {\n",
       "        vertical-align: top;\n",
       "    }\n",
       "\n",
       "    .dataframe thead th {\n",
       "        text-align: right;\n",
       "    }\n",
       "</style>\n",
       "<table border=\"1\" class=\"dataframe\">\n",
       "  <thead>\n",
       "    <tr style=\"text-align: right;\">\n",
       "      <th></th>\n",
       "      <th>Models</th>\n",
       "      <th>Train_Score</th>\n",
       "      <th>Test_Score</th>\n",
       "    </tr>\n",
       "  </thead>\n",
       "  <tbody>\n",
       "    <tr>\n",
       "      <th>1</th>\n",
       "      <td>Logistic Regression Winner only</td>\n",
       "      <td>0.99375</td>\n",
       "      <td>0.992908</td>\n",
       "    </tr>\n",
       "    <tr>\n",
       "      <th>2</th>\n",
       "      <td>SVM Winner only</td>\n",
       "      <td>0.99500</td>\n",
       "      <td>0.992908</td>\n",
       "    </tr>\n",
       "    <tr>\n",
       "      <th>3</th>\n",
       "      <td>KNN Winner only</td>\n",
       "      <td>0.99500</td>\n",
       "      <td>0.985816</td>\n",
       "    </tr>\n",
       "  </tbody>\n",
       "</table>\n",
       "</div>"
      ],
      "text/plain": [
       "                            Models  Train_Score  Test_Score\n",
       "1  Logistic Regression Winner only      0.99375    0.992908\n",
       "2                  SVM Winner only      0.99500    0.992908\n",
       "3                  KNN Winner only      0.99500    0.985816"
      ]
     },
     "execution_count": 50,
     "metadata": {},
     "output_type": "execute_result"
    }
   ],
   "source": [
    "# Adding reults to a scoring dataframe\n",
    "Results_df.loc[3] = ('KNN Winner only', KNN_pipe.score(GC_train_data, GC_train_target) , KNN_pipe.score(GC_test_data, GC_test_target))\n",
    "Results_df"
   ]
  },
  {
   "cell_type": "markdown",
   "id": "1c850bf4",
   "metadata": {},
   "source": [
    "# Decision Tree"
   ]
  },
  {
   "cell_type": "code",
   "execution_count": 51,
   "id": "7e6eeb3a",
   "metadata": {},
   "outputs": [
    {
     "data": {
      "text/plain": [
       "DecisionTreeClassifier()"
      ]
     },
     "execution_count": 51,
     "metadata": {},
     "output_type": "execute_result"
    }
   ],
   "source": [
    "# Instantiating the Decision Tree model\n",
    "DT = DecisionTreeClassifier()\n",
    "# Fitting the Decision Tree model to our training data\n",
    "DT.fit(GC_train_data, GC_train_target)"
   ]
  },
  {
   "cell_type": "code",
   "execution_count": 52,
   "id": "6faf08a8",
   "metadata": {},
   "outputs": [
    {
     "data": {
      "text/plain": [
       "1.0"
      ]
     },
     "execution_count": 52,
     "metadata": {},
     "output_type": "execute_result"
    }
   ],
   "source": [
    "# Scoring our model on training data\n",
    "DT.score(GC_train_data, GC_train_target)"
   ]
  },
  {
   "cell_type": "code",
   "execution_count": 53,
   "id": "25828e9f",
   "metadata": {},
   "outputs": [
    {
     "data": {
      "text/plain": [
       "1.0"
      ]
     },
     "execution_count": 53,
     "metadata": {},
     "output_type": "execute_result"
    }
   ],
   "source": [
    "# Scoring our model on testing data\n",
    "DT.score(GC_test_data, GC_test_target)"
   ]
  },
  {
   "cell_type": "code",
   "execution_count": 54,
   "id": "dd405c82",
   "metadata": {},
   "outputs": [],
   "source": [
    "# Model Predictions\n",
    "model_predictions_DT = DT.predict(GC_test_data)"
   ]
  },
  {
   "cell_type": "code",
   "execution_count": 55,
   "id": "63cf729c",
   "metadata": {},
   "outputs": [
    {
     "data": {
      "text/plain": [
       "array([1, 0, 0, 0, 0, 0, 0, 0, 0, 0, 0, 0, 0, 0, 0, 0, 0, 0, 0, 0, 0, 0,\n",
       "       0, 0, 0, 0, 0, 0, 0, 0, 0, 0, 0, 0, 0, 0, 0, 0, 0, 0, 0, 0, 0, 0,\n",
       "       0, 0, 0, 0, 0, 0, 0, 0, 0, 0, 0, 0, 0, 0, 0, 0, 0, 0, 0, 0, 0, 0,\n",
       "       0, 0, 0, 0, 0, 0, 0, 0, 0, 0, 0, 0, 0, 0, 0, 0, 0, 0, 0, 0, 0, 0,\n",
       "       0, 0, 0, 0, 0, 0, 0, 0, 0, 0, 0, 0, 0, 0, 0, 0, 0, 0, 0, 0, 0, 0,\n",
       "       0, 0, 0, 0, 0, 0, 0, 0, 0, 0, 0, 0, 0, 0, 0, 0, 0, 0, 0, 0, 0, 0,\n",
       "       0, 0, 0, 0, 0, 0, 0, 0, 0], dtype=int8)"
      ]
     },
     "execution_count": 55,
     "metadata": {},
     "output_type": "execute_result"
    }
   ],
   "source": [
    "# Model Predictions\n",
    "model_predictions_DT"
   ]
  },
  {
   "cell_type": "code",
   "execution_count": 56,
   "id": "0a4b27e4",
   "metadata": {},
   "outputs": [
    {
     "data": {
      "text/html": [
       "<div>\n",
       "<style scoped>\n",
       "    .dataframe tbody tr th:only-of-type {\n",
       "        vertical-align: middle;\n",
       "    }\n",
       "\n",
       "    .dataframe tbody tr th {\n",
       "        vertical-align: top;\n",
       "    }\n",
       "\n",
       "    .dataframe thead th {\n",
       "        text-align: right;\n",
       "    }\n",
       "</style>\n",
       "<table border=\"1\" class=\"dataframe\">\n",
       "  <thead>\n",
       "    <tr style=\"text-align: right;\">\n",
       "      <th></th>\n",
       "      <th>Models</th>\n",
       "      <th>Train_Score</th>\n",
       "      <th>Test_Score</th>\n",
       "    </tr>\n",
       "  </thead>\n",
       "  <tbody>\n",
       "    <tr>\n",
       "      <th>1</th>\n",
       "      <td>Logistic Regression Winner only</td>\n",
       "      <td>0.99375</td>\n",
       "      <td>0.992908</td>\n",
       "    </tr>\n",
       "    <tr>\n",
       "      <th>2</th>\n",
       "      <td>SVM Winner only</td>\n",
       "      <td>0.99500</td>\n",
       "      <td>0.992908</td>\n",
       "    </tr>\n",
       "    <tr>\n",
       "      <th>3</th>\n",
       "      <td>KNN Winner only</td>\n",
       "      <td>0.99500</td>\n",
       "      <td>0.985816</td>\n",
       "    </tr>\n",
       "    <tr>\n",
       "      <th>4</th>\n",
       "      <td>Decision Tree Winner only</td>\n",
       "      <td>1.00000</td>\n",
       "      <td>1.000000</td>\n",
       "    </tr>\n",
       "  </tbody>\n",
       "</table>\n",
       "</div>"
      ],
      "text/plain": [
       "                            Models  Train_Score  Test_Score\n",
       "1  Logistic Regression Winner only      0.99375    0.992908\n",
       "2                  SVM Winner only      0.99500    0.992908\n",
       "3                  KNN Winner only      0.99500    0.985816\n",
       "4        Decision Tree Winner only      1.00000    1.000000"
      ]
     },
     "execution_count": 56,
     "metadata": {},
     "output_type": "execute_result"
    }
   ],
   "source": [
    "# Adding reults to a scoring dataframe\n",
    "Results_df.loc[4] = ('Decision Tree Winner only', DT.score(GC_train_data, GC_train_target) , DT.score(GC_test_data, GC_test_target))\n",
    "Results_df"
   ]
  },
  {
   "cell_type": "markdown",
   "id": "4d458556",
   "metadata": {},
   "source": [
    "### Plotting the Decision Tree"
   ]
  },
  {
   "cell_type": "code",
   "execution_count": 57,
   "id": "1aa28b65",
   "metadata": {},
   "outputs": [],
   "source": [
    "def PlotBoundaries(model, X, Y, dot_size=20, figsize=(10,7)) :\n",
    "    '''\n",
    "    Helper function that plots the decision boundaries of a model and data (X,Y)\n",
    "    code modified from: https://scikit-learn.org/stable/auto_examples/neighbors/plot_classification.html\n",
    "    '''\n",
    "    \n",
    "    x_min, x_max = X[:, 0].min() - 1, X[:, 0].max() + 1\n",
    "    y_min, y_max = X[:, 1].min() - 1,X[:, 1].max() + 1\n",
    "    xx, yy = np.meshgrid(np.arange(x_min, x_max, 0.01), np.arange(y_min, y_max, 0.01))\n",
    "\n",
    "    Z = model.predict(np.c_[xx.ravel(), yy.ravel()])\n",
    "    Z = Z.reshape(xx.shape)\n",
    "\n",
    "    plt.figure(figsize=figsize)\n",
    "    plt.contourf(xx, yy, Z, alpha=0.4)\n",
    "\n",
    "    #Plot\n",
    "    plt.scatter(X[:, 0], X[:, 1], c=Y, s=dot_size, edgecolor='k')\n",
    "    plt.show()"
   ]
  },
  {
   "cell_type": "code",
   "execution_count": 58,
   "id": "e54f8b08",
   "metadata": {},
   "outputs": [
    {
     "data": {
      "image/png": "[encoded data removed]",
      "text/plain": [
       "<Figure size 1080x1080 with 1 Axes>"
      ]
     },
     "metadata": {
      "needs_background": "light"
     },
     "output_type": "display_data"
    }
   ],
   "source": [
    "plt.figure(figsize=(15,15))\n",
    "\n",
    "plot_tree(DT, \n",
    "          feature_names=GC_train_data.columns, \n",
    "          #class_names=[\"Approved\", \"Denied\", \"In Review\"],\n",
    "          rounded=True,\n",
    "          impurity=False,\n",
    "          filled=True,\n",
    "         )\n",
    "plt.show()"
   ]
  },
  {
   "cell_type": "markdown",
   "id": "7bf915f1",
   "metadata": {},
   "source": [
    "It seems like using a binary classifier that only predicts the winner is a bad call. The model scores well because it can easily label everyone as a loser and come out ahead. The distribution of our classes is very very poor when trying to only find the overall winner using classification models. While Decision Tree does give us a winner, the model is clearly overfitted.\n",
    "\n",
    "Let's try a different approach for classification, one where the distribution is a bit more spread out."
   ]
  },
  {
   "cell_type": "markdown",
   "id": "df434273",
   "metadata": {},
   "source": [
    "# Using Points instead of just winner"
   ]
  },
  {
   "cell_type": "code",
   "execution_count": 59,
   "id": "f41e30ad",
   "metadata": {},
   "outputs": [
    {
     "data": {
      "text/plain": [
       "(1741, 10)"
      ]
     },
     "execution_count": 59,
     "metadata": {},
     "output_type": "execute_result"
    }
   ],
   "source": [
    "# Import data from CSV file\n",
    "TDF_GC = pd.read_csv('DATA/TDF_GC_with_rider_metrics.csv')\n",
    "TDF_GC.shape"
   ]
  },
  {
   "cell_type": "code",
   "execution_count": 60,
   "id": "1c29d20c",
   "metadata": {},
   "outputs": [
    {
     "data": {
      "text/html": [
       "<div>\n",
       "<style scoped>\n",
       "    .dataframe tbody tr th:only-of-type {\n",
       "        vertical-align: middle;\n",
       "    }\n",
       "\n",
       "    .dataframe tbody tr th {\n",
       "        vertical-align: top;\n",
       "    }\n",
       "\n",
       "    .dataframe thead th {\n",
       "        text-align: right;\n",
       "    }\n",
       "</style>\n",
       "<table border=\"1\" class=\"dataframe\">\n",
       "  <thead>\n",
       "    <tr style=\"text-align: right;\">\n",
       "      <th></th>\n",
       "      <th>Rank</th>\n",
       "      <th>Prev_rank</th>\n",
       "      <th>Rider_name</th>\n",
       "      <th>Team_name</th>\n",
       "      <th>Points</th>\n",
       "      <th>Time</th>\n",
       "      <th>Year</th>\n",
       "      <th>Weight(kg)</th>\n",
       "      <th>Height(m)</th>\n",
       "      <th>Age</th>\n",
       "    </tr>\n",
       "  </thead>\n",
       "  <tbody>\n",
       "    <tr>\n",
       "      <th>0</th>\n",
       "      <td>1</td>\n",
       "      <td>1</td>\n",
       "      <td>POGAČAR Tadej</td>\n",
       "      <td>UAE-Team Emirates</td>\n",
       "      <td>500.0</td>\n",
       "      <td>82:56:36</td>\n",
       "      <td>2021</td>\n",
       "      <td>66.0</td>\n",
       "      <td>1.76</td>\n",
       "      <td>23</td>\n",
       "    </tr>\n",
       "    <tr>\n",
       "      <th>1</th>\n",
       "      <td>1</td>\n",
       "      <td>1</td>\n",
       "      <td>POGAČAR Tadej</td>\n",
       "      <td>UAE-Team Emirates</td>\n",
       "      <td>500.0</td>\n",
       "      <td>87:20:05</td>\n",
       "      <td>2020</td>\n",
       "      <td>66.0</td>\n",
       "      <td>1.76</td>\n",
       "      <td>22</td>\n",
       "    </tr>\n",
       "    <tr>\n",
       "      <th>2</th>\n",
       "      <td>2</td>\n",
       "      <td>2</td>\n",
       "      <td>VINGEGAARD Jonas</td>\n",
       "      <td>Team Jumbo-Visma</td>\n",
       "      <td>380.0</td>\n",
       "      <td>5:205:20</td>\n",
       "      <td>2021</td>\n",
       "      <td>60.0</td>\n",
       "      <td>1.75</td>\n",
       "      <td>25</td>\n",
       "    </tr>\n",
       "    <tr>\n",
       "      <th>3</th>\n",
       "      <td>3</td>\n",
       "      <td>3</td>\n",
       "      <td>CARAPAZ Richard</td>\n",
       "      <td>INEOS Grenadiers</td>\n",
       "      <td>340.0</td>\n",
       "      <td>7:037:03</td>\n",
       "      <td>2021</td>\n",
       "      <td>62.0</td>\n",
       "      <td>1.70</td>\n",
       "      <td>28</td>\n",
       "    </tr>\n",
       "    <tr>\n",
       "      <th>4</th>\n",
       "      <td>13</td>\n",
       "      <td>13</td>\n",
       "      <td>CARAPAZ Richard</td>\n",
       "      <td>INEOS Grenadiers</td>\n",
       "      <td>170.0</td>\n",
       "      <td>25:5325:53</td>\n",
       "      <td>2020</td>\n",
       "      <td>62.0</td>\n",
       "      <td>1.70</td>\n",
       "      <td>27</td>\n",
       "    </tr>\n",
       "  </tbody>\n",
       "</table>\n",
       "</div>"
      ],
      "text/plain": [
       "   Rank  Prev_rank        Rider_name          Team_name  Points        Time  \\\n",
       "0     1          1     POGAČAR Tadej  UAE-Team Emirates   500.0    82:56:36   \n",
       "1     1          1     POGAČAR Tadej  UAE-Team Emirates   500.0    87:20:05   \n",
       "2     2          2  VINGEGAARD Jonas   Team Jumbo-Visma   380.0    5:205:20   \n",
       "3     3          3   CARAPAZ Richard   INEOS Grenadiers   340.0    7:037:03   \n",
       "4    13         13   CARAPAZ Richard   INEOS Grenadiers   170.0  25:5325:53   \n",
       "\n",
       "   Year  Weight(kg)  Height(m)  Age  \n",
       "0  2021        66.0       1.76   23  \n",
       "1  2020        66.0       1.76   22  \n",
       "2  2021        60.0       1.75   25  \n",
       "3  2021        62.0       1.70   28  \n",
       "4  2020        62.0       1.70   27  "
      ]
     },
     "execution_count": 60,
     "metadata": {},
     "output_type": "execute_result"
    }
   ],
   "source": [
    "# Glancing at the data\n",
    "TDF_GC.head()"
   ]
  },
  {
   "cell_type": "code",
   "execution_count": 61,
   "id": "ec2e45cd",
   "metadata": {},
   "outputs": [
    {
     "data": {
      "text/plain": [
       "(1741, 7)"
      ]
     },
     "execution_count": 61,
     "metadata": {},
     "output_type": "execute_result"
    }
   ],
   "source": [
    "# Dropping Rank, Prev_rank, and Time as they're targets we're not interested in at this moment\n",
    "TDF_GC = TDF_GC.drop(['Rank','Prev_rank','Time'],axis=1)\n",
    "TDF_GC.shape"
   ]
  },
  {
   "cell_type": "code",
   "execution_count": 62,
   "id": "8bb526bd",
   "metadata": {},
   "outputs": [
    {
     "name": "stdout",
     "output_type": "stream",
     "text": [
      "<class 'pandas.core.frame.DataFrame'>\n",
      "RangeIndex: 1741 entries, 0 to 1740\n",
      "Data columns (total 7 columns):\n",
      " #   Column      Non-Null Count  Dtype  \n",
      "---  ------      --------------  -----  \n",
      " 0   Rider_name  1741 non-null   object \n",
      " 1   Team_name   1741 non-null   object \n",
      " 2   Points      1741 non-null   float64\n",
      " 3   Year        1741 non-null   int64  \n",
      " 4   Weight(kg)  1741 non-null   float64\n",
      " 5   Height(m)   1741 non-null   float64\n",
      " 6   Age         1741 non-null   int64  \n",
      "dtypes: float64(3), int64(2), object(2)\n",
      "memory usage: 95.3+ KB\n"
     ]
    }
   ],
   "source": [
    "# Checking data types and null values\n",
    "TDF_GC.info()"
   ]
  },
  {
   "cell_type": "markdown",
   "id": "dd1e9743",
   "metadata": {},
   "source": [
    "### Changing data types to reduce memory use and run time"
   ]
  },
  {
   "cell_type": "code",
   "execution_count": 63,
   "id": "d26b4753",
   "metadata": {},
   "outputs": [],
   "source": [
    "TDF_GC.Year = TDF_GC.Year.astype('int16')\n",
    "TDF_GC['Weight(kg)'] = TDF_GC['Weight(kg)'].astype('float16')\n",
    "TDF_GC['Height(m)'] = TDF_GC['Height(m)'].astype('float32')\n",
    "TDF_GC.Age = TDF_GC.Age.astype('int8')\n",
    "TDF_GC.Points = TDF_GC.Points.astype('int16')"
   ]
  },
  {
   "cell_type": "code",
   "execution_count": 64,
   "id": "0c3fb994",
   "metadata": {},
   "outputs": [
    {
     "name": "stdout",
     "output_type": "stream",
     "text": [
      "<class 'pandas.core.frame.DataFrame'>\n",
      "RangeIndex: 1741 entries, 0 to 1740\n",
      "Data columns (total 7 columns):\n",
      " #   Column      Non-Null Count  Dtype  \n",
      "---  ------      --------------  -----  \n",
      " 0   Rider_name  1741 non-null   object \n",
      " 1   Team_name   1741 non-null   object \n",
      " 2   Points      1741 non-null   int16  \n",
      " 3   Year        1741 non-null   int16  \n",
      " 4   Weight(kg)  1741 non-null   float16\n",
      " 5   Height(m)   1741 non-null   float32\n",
      " 6   Age         1741 non-null   int8   \n",
      "dtypes: float16(1), float32(1), int16(2), int8(1), object(2)\n",
      "memory usage: 46.0+ KB\n"
     ]
    }
   ],
   "source": [
    "# Checking if the change took place\n",
    "TDF_GC.info()"
   ]
  },
  {
   "cell_type": "code",
   "execution_count": 65,
   "id": "48d534db",
   "metadata": {},
   "outputs": [
    {
     "data": {
      "text/html": [
       "<div>\n",
       "<style scoped>\n",
       "    .dataframe tbody tr th:only-of-type {\n",
       "        vertical-align: middle;\n",
       "    }\n",
       "\n",
       "    .dataframe tbody tr th {\n",
       "        vertical-align: top;\n",
       "    }\n",
       "\n",
       "    .dataframe thead th {\n",
       "        text-align: right;\n",
       "    }\n",
       "</style>\n",
       "<table border=\"1\" class=\"dataframe\">\n",
       "  <thead>\n",
       "    <tr style=\"text-align: right;\">\n",
       "      <th></th>\n",
       "      <th>Rider_name</th>\n",
       "      <th>Team_name</th>\n",
       "      <th>Points</th>\n",
       "      <th>Year</th>\n",
       "      <th>Weight(kg)</th>\n",
       "      <th>Height(m)</th>\n",
       "      <th>Age</th>\n",
       "    </tr>\n",
       "  </thead>\n",
       "  <tbody>\n",
       "    <tr>\n",
       "      <th>0</th>\n",
       "      <td>POGAČAR Tadej</td>\n",
       "      <td>UAE-Team Emirates</td>\n",
       "      <td>500</td>\n",
       "      <td>2021</td>\n",
       "      <td>66.0</td>\n",
       "      <td>1.76</td>\n",
       "      <td>23</td>\n",
       "    </tr>\n",
       "    <tr>\n",
       "      <th>1</th>\n",
       "      <td>POGAČAR Tadej</td>\n",
       "      <td>UAE-Team Emirates</td>\n",
       "      <td>500</td>\n",
       "      <td>2020</td>\n",
       "      <td>66.0</td>\n",
       "      <td>1.76</td>\n",
       "      <td>22</td>\n",
       "    </tr>\n",
       "    <tr>\n",
       "      <th>2</th>\n",
       "      <td>VINGEGAARD Jonas</td>\n",
       "      <td>Team Jumbo-Visma</td>\n",
       "      <td>380</td>\n",
       "      <td>2021</td>\n",
       "      <td>60.0</td>\n",
       "      <td>1.75</td>\n",
       "      <td>25</td>\n",
       "    </tr>\n",
       "    <tr>\n",
       "      <th>3</th>\n",
       "      <td>CARAPAZ Richard</td>\n",
       "      <td>INEOS Grenadiers</td>\n",
       "      <td>340</td>\n",
       "      <td>2021</td>\n",
       "      <td>62.0</td>\n",
       "      <td>1.70</td>\n",
       "      <td>28</td>\n",
       "    </tr>\n",
       "    <tr>\n",
       "      <th>4</th>\n",
       "      <td>CARAPAZ Richard</td>\n",
       "      <td>INEOS Grenadiers</td>\n",
       "      <td>170</td>\n",
       "      <td>2020</td>\n",
       "      <td>62.0</td>\n",
       "      <td>1.70</td>\n",
       "      <td>27</td>\n",
       "    </tr>\n",
       "  </tbody>\n",
       "</table>\n",
       "</div>"
      ],
      "text/plain": [
       "         Rider_name          Team_name  Points  Year  Weight(kg)  Height(m)  \\\n",
       "0     POGAČAR Tadej  UAE-Team Emirates     500  2021        66.0       1.76   \n",
       "1     POGAČAR Tadej  UAE-Team Emirates     500  2020        66.0       1.76   \n",
       "2  VINGEGAARD Jonas   Team Jumbo-Visma     380  2021        60.0       1.75   \n",
       "3   CARAPAZ Richard   INEOS Grenadiers     340  2021        62.0       1.70   \n",
       "4   CARAPAZ Richard   INEOS Grenadiers     170  2020        62.0       1.70   \n",
       "\n",
       "   Age  \n",
       "0   23  \n",
       "1   22  \n",
       "2   25  \n",
       "3   28  \n",
       "4   27  "
      ]
     },
     "execution_count": 65,
     "metadata": {},
     "output_type": "execute_result"
    }
   ],
   "source": [
    "TDF_GC.head()"
   ]
  },
  {
   "cell_type": "code",
   "execution_count": 66,
   "id": "53b0e555",
   "metadata": {},
   "outputs": [
    {
     "data": {
      "text/plain": [
       "(1741, 655)"
      ]
     },
     "execution_count": 66,
     "metadata": {},
     "output_type": "execute_result"
    }
   ],
   "source": [
    "# One hot encoding rider names\n",
    "TDF_GC = TDF_GC.join(pd.get_dummies(TDF_GC.Rider_name))\n",
    "TDF_GC.shape"
   ]
  },
  {
   "cell_type": "code",
   "execution_count": 67,
   "id": "38e58a41",
   "metadata": {},
   "outputs": [
    {
     "data": {
      "text/plain": [
       "(1741, 758)"
      ]
     },
     "execution_count": 67,
     "metadata": {},
     "output_type": "execute_result"
    }
   ],
   "source": [
    "# One hot encoding team names\n",
    "TDF_GC = TDF_GC.join(pd.get_dummies(TDF_GC.Team_name))\n",
    "TDF_GC.shape"
   ]
  },
  {
   "cell_type": "code",
   "execution_count": 68,
   "id": "5368dea1",
   "metadata": {},
   "outputs": [
    {
     "data": {
      "text/plain": [
       "(1741, 756)"
      ]
     },
     "execution_count": 68,
     "metadata": {},
     "output_type": "execute_result"
    }
   ],
   "source": [
    "# Dropping the last 2 categorical columns\n",
    "TDF_GC = TDF_GC.drop(['Rider_name','Team_name'],axis=1)\n",
    "TDF_GC.shape"
   ]
  },
  {
   "cell_type": "code",
   "execution_count": 69,
   "id": "43bae1ec",
   "metadata": {},
   "outputs": [
    {
     "data": {
      "text/html": [
       "<div>\n",
       "<style scoped>\n",
       "    .dataframe tbody tr th:only-of-type {\n",
       "        vertical-align: middle;\n",
       "    }\n",
       "\n",
       "    .dataframe tbody tr th {\n",
       "        vertical-align: top;\n",
       "    }\n",
       "\n",
       "    .dataframe thead th {\n",
       "        text-align: right;\n",
       "    }\n",
       "</style>\n",
       "<table border=\"1\" class=\"dataframe\">\n",
       "  <thead>\n",
       "    <tr style=\"text-align: right;\">\n",
       "      <th></th>\n",
       "      <th>Points</th>\n",
       "      <th>Year</th>\n",
       "      <th>Weight(kg)</th>\n",
       "      <th>Height(m)</th>\n",
       "      <th>Age</th>\n",
       "      <th>ALAPHILIPPE Julian</th>\n",
       "      <th>ALBASINI Michael</th>\n",
       "      <th>AMADOR Andrey</th>\n",
       "      <th>ANACONA Winner</th>\n",
       "      <th>ANTÓN Igor</th>\n",
       "      <th>...</th>\n",
       "      <th>Team TotalEnergies</th>\n",
       "      <th>Tinkoff</th>\n",
       "      <th>Tinkoff - Saxo</th>\n",
       "      <th>Trek - Segafredo</th>\n",
       "      <th>Trek Factory Racing</th>\n",
       "      <th>UAE Team Emirates</th>\n",
       "      <th>UAE-Team Emirates</th>\n",
       "      <th>Vacansoleil - DCM</th>\n",
       "      <th>Wanty - Gobert Cycling Team</th>\n",
       "      <th>Wanty - Groupe Gobert</th>\n",
       "    </tr>\n",
       "  </thead>\n",
       "  <tbody>\n",
       "    <tr>\n",
       "      <th>0</th>\n",
       "      <td>500</td>\n",
       "      <td>2021</td>\n",
       "      <td>66.0</td>\n",
       "      <td>1.76</td>\n",
       "      <td>23</td>\n",
       "      <td>0</td>\n",
       "      <td>0</td>\n",
       "      <td>0</td>\n",
       "      <td>0</td>\n",
       "      <td>0</td>\n",
       "      <td>...</td>\n",
       "      <td>0</td>\n",
       "      <td>0</td>\n",
       "      <td>0</td>\n",
       "      <td>0</td>\n",
       "      <td>0</td>\n",
       "      <td>0</td>\n",
       "      <td>1</td>\n",
       "      <td>0</td>\n",
       "      <td>0</td>\n",
       "      <td>0</td>\n",
       "    </tr>\n",
       "    <tr>\n",
       "      <th>1</th>\n",
       "      <td>500</td>\n",
       "      <td>2020</td>\n",
       "      <td>66.0</td>\n",
       "      <td>1.76</td>\n",
       "      <td>22</td>\n",
       "      <td>0</td>\n",
       "      <td>0</td>\n",
       "      <td>0</td>\n",
       "      <td>0</td>\n",
       "      <td>0</td>\n",
       "      <td>...</td>\n",
       "      <td>0</td>\n",
       "      <td>0</td>\n",
       "      <td>0</td>\n",
       "      <td>0</td>\n",
       "      <td>0</td>\n",
       "      <td>0</td>\n",
       "      <td>1</td>\n",
       "      <td>0</td>\n",
       "      <td>0</td>\n",
       "      <td>0</td>\n",
       "    </tr>\n",
       "    <tr>\n",
       "      <th>2</th>\n",
       "      <td>380</td>\n",
       "      <td>2021</td>\n",
       "      <td>60.0</td>\n",
       "      <td>1.75</td>\n",
       "      <td>25</td>\n",
       "      <td>0</td>\n",
       "      <td>0</td>\n",
       "      <td>0</td>\n",
       "      <td>0</td>\n",
       "      <td>0</td>\n",
       "      <td>...</td>\n",
       "      <td>0</td>\n",
       "      <td>0</td>\n",
       "      <td>0</td>\n",
       "      <td>0</td>\n",
       "      <td>0</td>\n",
       "      <td>0</td>\n",
       "      <td>0</td>\n",
       "      <td>0</td>\n",
       "      <td>0</td>\n",
       "      <td>0</td>\n",
       "    </tr>\n",
       "    <tr>\n",
       "      <th>3</th>\n",
       "      <td>340</td>\n",
       "      <td>2021</td>\n",
       "      <td>62.0</td>\n",
       "      <td>1.70</td>\n",
       "      <td>28</td>\n",
       "      <td>0</td>\n",
       "      <td>0</td>\n",
       "      <td>0</td>\n",
       "      <td>0</td>\n",
       "      <td>0</td>\n",
       "      <td>...</td>\n",
       "      <td>0</td>\n",
       "      <td>0</td>\n",
       "      <td>0</td>\n",
       "      <td>0</td>\n",
       "      <td>0</td>\n",
       "      <td>0</td>\n",
       "      <td>0</td>\n",
       "      <td>0</td>\n",
       "      <td>0</td>\n",
       "      <td>0</td>\n",
       "    </tr>\n",
       "    <tr>\n",
       "      <th>4</th>\n",
       "      <td>170</td>\n",
       "      <td>2020</td>\n",
       "      <td>62.0</td>\n",
       "      <td>1.70</td>\n",
       "      <td>27</td>\n",
       "      <td>0</td>\n",
       "      <td>0</td>\n",
       "      <td>0</td>\n",
       "      <td>0</td>\n",
       "      <td>0</td>\n",
       "      <td>...</td>\n",
       "      <td>0</td>\n",
       "      <td>0</td>\n",
       "      <td>0</td>\n",
       "      <td>0</td>\n",
       "      <td>0</td>\n",
       "      <td>0</td>\n",
       "      <td>0</td>\n",
       "      <td>0</td>\n",
       "      <td>0</td>\n",
       "      <td>0</td>\n",
       "    </tr>\n",
       "  </tbody>\n",
       "</table>\n",
       "<p>5 rows × 756 columns</p>\n",
       "</div>"
      ],
      "text/plain": [
       "   Points  Year  Weight(kg)  Height(m)  Age  ALAPHILIPPE Julian  \\\n",
       "0     500  2021        66.0       1.76   23                   0   \n",
       "1     500  2020        66.0       1.76   22                   0   \n",
       "2     380  2021        60.0       1.75   25                   0   \n",
       "3     340  2021        62.0       1.70   28                   0   \n",
       "4     170  2020        62.0       1.70   27                   0   \n",
       "\n",
       "   ALBASINI Michael  AMADOR Andrey  ANACONA Winner  ANTÓN Igor  ...  \\\n",
       "0                 0              0               0           0  ...   \n",
       "1                 0              0               0           0  ...   \n",
       "2                 0              0               0           0  ...   \n",
       "3                 0              0               0           0  ...   \n",
       "4                 0              0               0           0  ...   \n",
       "\n",
       "   Team TotalEnergies  Tinkoff  Tinkoff - Saxo  Trek - Segafredo  \\\n",
       "0                   0        0               0                 0   \n",
       "1                   0        0               0                 0   \n",
       "2                   0        0               0                 0   \n",
       "3                   0        0               0                 0   \n",
       "4                   0        0               0                 0   \n",
       "\n",
       "   Trek Factory Racing   UAE Team Emirates  UAE-Team Emirates  \\\n",
       "0                     0                  0                  1   \n",
       "1                     0                  0                  1   \n",
       "2                     0                  0                  0   \n",
       "3                     0                  0                  0   \n",
       "4                     0                  0                  0   \n",
       "\n",
       "   Vacansoleil - DCM  Wanty - Gobert Cycling Team  Wanty - Groupe Gobert  \n",
       "0                  0                            0                      0  \n",
       "1                  0                            0                      0  \n",
       "2                  0                            0                      0  \n",
       "3                  0                            0                      0  \n",
       "4                  0                            0                      0  \n",
       "\n",
       "[5 rows x 756 columns]"
      ]
     },
     "execution_count": 69,
     "metadata": {},
     "output_type": "execute_result"
    }
   ],
   "source": [
    "TDF_GC.head()"
   ]
  },
  {
   "cell_type": "code",
   "execution_count": 70,
   "id": "5bf8f253",
   "metadata": {},
   "outputs": [
    {
     "data": {
      "text/plain": [
       "(1741, 755)"
      ]
     },
     "execution_count": 70,
     "metadata": {},
     "output_type": "execute_result"
    }
   ],
   "source": [
    "# Dropping the year column\n",
    "TDF_GC = TDF_GC.drop(['Year'],axis=1)\n",
    "TDF_GC.shape"
   ]
  },
  {
   "cell_type": "markdown",
   "id": "8146b209",
   "metadata": {},
   "source": [
    "## Train/Test Split"
   ]
  },
  {
   "cell_type": "code",
   "execution_count": 71,
   "id": "4d1dc93b",
   "metadata": {},
   "outputs": [],
   "source": [
    "# Splitting Dataset into Data(Features) and Target\n",
    "Data = TDF_GC.drop(['Points'],axis=1)\n",
    "Target = TDF_GC.Points"
   ]
  },
  {
   "cell_type": "code",
   "execution_count": 72,
   "id": "3581c89d",
   "metadata": {},
   "outputs": [],
   "source": [
    "# Taking a random 20% chunk for our test set, making sure to stratify our target\n",
    "GC_rem_data, GC_test_data, GC_rem_target, GC_test_target = \\\n",
    "    train_test_split(Data, Target, test_size = 0.2, random_state=1, stratify=Target)"
   ]
  },
  {
   "cell_type": "code",
   "execution_count": 73,
   "id": "eeba6821",
   "metadata": {},
   "outputs": [],
   "source": [
    "# Splitting the remainder in two chunks for training and validation (70% of remainder for training)\n",
    "GC_train_data, GC_val_data, GC_train_target, GC_val_target = \\\n",
    "    train_test_split(GC_rem_data, GC_rem_target, test_size = 0.3, random_state=1, stratify=GC_rem_target)"
   ]
  },
  {
   "cell_type": "markdown",
   "id": "95cab8ad",
   "metadata": {},
   "source": [
    "## Logistic Regression - Hyperparamter Optimization"
   ]
  },
  {
   "cell_type": "code",
   "execution_count": 74,
   "id": "887c9e8e",
   "metadata": {},
   "outputs": [],
   "source": [
    "# Optimizing our Hyperparameters to get the best results\n",
    "validation_scores = []\n",
    "train_scores = []\n",
    "\n",
    "C_range = np.array([.00000001,.0000001,.000001,.00001,.0001,.001,0.1,\\\n",
    "                1,10,100,1000,10000,100000,1000000,10000000,100000000,1000000000])\n",
    "\n",
    "for c in C_range:\n",
    "    my_logreg = LogisticRegression(C = c,random_state=1)\n",
    "    my_logreg.fit(GC_train_data,GC_train_target)\n",
    "    \n",
    "    # train on traning set\n",
    "    train_scores.append(my_logreg.score(GC_train_data,GC_train_target))\n",
    "    # score on validation set\n",
    "    validation_scores.append(my_logreg.score(GC_val_data,GC_val_target))"
   ]
  },
  {
   "cell_type": "code",
   "execution_count": 75,
   "id": "4a763a24",
   "metadata": {},
   "outputs": [
    {
     "data": {
      "image/png": "[encoded data removed]",
      "text/plain": [
       "<Figure size 1080x360 with 1 Axes>"
      ]
     },
     "metadata": {
      "needs_background": "light"
     },
     "output_type": "display_data"
    }
   ],
   "source": [
    "# Plotting the training and validation scores\n",
    "plt.figure(figsize=(15,5))\n",
    "plt.plot(C_range, train_scores,label=\"Train Score\",marker='.')\n",
    "plt.plot(C_range, validation_scores,label=\"Validation Scores\",marker='.')\n",
    "plt.xscale('log')\n",
    "plt.title('Training score vs Validation score over a range of C values')\n",
    "plt.xlabel('C')\n",
    "plt.ylabel('Accuracy')\n",
    "plt.axvline(0.1, linestyle = '--')\n",
    "plt.legend()\n",
    "plt.show()"
   ]
  },
  {
   "cell_type": "code",
   "execution_count": 76,
   "id": "8d81e50e",
   "metadata": {},
   "outputs": [
    {
     "data": {
      "text/plain": [
       "0.7851002865329513"
      ]
     },
     "execution_count": 76,
     "metadata": {},
     "output_type": "execute_result"
    }
   ],
   "source": [
    "# Instatiate with optimal hyperparameters\n",
    "log_reg = LogisticRegression(C=0.1,random_state=1)\n",
    "\n",
    "# Fitting the model to the complete train/validate set\n",
    "log_reg.fit(GC_rem_data, GC_rem_target)\n",
    "log_reg.score(GC_test_data,GC_test_target)"
   ]
  },
  {
   "cell_type": "code",
   "execution_count": 77,
   "id": "fc2efbab",
   "metadata": {},
   "outputs": [],
   "source": [
    "# Prediciting our test set\n",
    "model_predictions = log_reg.predict(GC_test_data)"
   ]
  },
  {
   "cell_type": "code",
   "execution_count": 78,
   "id": "211c1a69",
   "metadata": {},
   "outputs": [
    {
     "data": {
      "text/plain": [
       "array([25, 25, 25, 25, 25, 25, 25, 25, 25, 25, 25, 25, 25, 25, 25, 25, 25,\n",
       "       25, 25, 25, 25, 25, 25, 25, 25, 25, 25, 25, 25, 25, 25, 25, 25, 25,\n",
       "       25, 25, 25, 25, 25, 25, 25, 25, 25, 25, 25, 25, 25, 25, 25, 25, 25,\n",
       "       25, 25, 25, 25, 25, 25, 25, 25, 25, 25, 25, 25, 25, 25, 25, 25, 25,\n",
       "       25, 25, 25, 25, 25, 25, 25, 25, 25, 25, 25, 25, 25, 25, 25, 25, 25,\n",
       "       25, 25, 25, 25, 25, 25, 25, 25, 25, 25, 25, 25, 25, 25, 25, 25, 25,\n",
       "       25, 25, 25, 25, 25, 25, 25, 25, 25, 25, 25, 25, 25, 25, 25, 25, 25,\n",
       "       25, 25, 25, 25, 25, 25, 25, 25, 25, 25, 25, 25, 25, 25, 25, 25, 25,\n",
       "       25, 25, 25, 25, 25, 25, 25, 25, 25, 25, 25, 25, 25, 25, 25, 25, 25,\n",
       "       25, 25, 25, 25, 25, 25, 25, 25, 25, 25, 25, 25, 25, 25, 25, 25, 25,\n",
       "       25, 25, 25, 25, 25, 25, 25, 25, 25, 25, 25, 25, 25, 25, 25, 25, 25,\n",
       "       25, 25, 25, 25, 25, 25, 25, 25, 25, 25, 25, 25, 25, 25, 25, 25, 25,\n",
       "       25, 25, 25, 25, 25, 25, 25, 25, 25, 25, 25, 25, 25, 25, 25, 25, 25,\n",
       "       25, 25, 25, 25, 25, 25, 25, 25, 25, 25, 25, 25, 25, 25, 25, 25, 25,\n",
       "       25, 25, 25, 25, 25, 25, 25, 25, 25, 25, 25, 25, 25, 25, 25, 25, 25,\n",
       "       25, 25, 25, 25, 25, 25, 25, 25, 25, 25, 25, 25, 25, 25, 25, 25, 25,\n",
       "       25, 25, 25, 25, 25, 25, 25, 25, 25, 25, 25, 25, 25, 25, 25, 25, 25,\n",
       "       25, 25, 25, 25, 25, 25, 25, 25, 25, 25, 25, 25, 25, 25, 25, 25, 25,\n",
       "       25, 25, 25, 25, 25, 25, 25, 25, 25, 25, 25, 25, 25, 25, 25, 25, 25,\n",
       "       25, 25, 25, 25, 25, 25, 25, 25, 25, 25, 25, 25, 25, 25, 25, 25, 25,\n",
       "       25, 25, 25, 25, 25, 25, 25, 25, 25], dtype=int16)"
      ]
     },
     "execution_count": 78,
     "metadata": {},
     "output_type": "execute_result"
    }
   ],
   "source": [
    "# Looking at the predictions\n",
    "model_predictions"
   ]
  },
  {
   "cell_type": "markdown",
   "id": "a4fe38bd",
   "metadata": {},
   "source": [
    "Again it predicts every rider to come below 34th rank, and artifically gets a high score"
   ]
  },
  {
   "cell_type": "code",
   "execution_count": 79,
   "id": "60a74095",
   "metadata": {},
   "outputs": [
    {
     "data": {
      "text/html": [
       "<div>\n",
       "<style scoped>\n",
       "    .dataframe tbody tr th:only-of-type {\n",
       "        vertical-align: middle;\n",
       "    }\n",
       "\n",
       "    .dataframe tbody tr th {\n",
       "        vertical-align: top;\n",
       "    }\n",
       "\n",
       "    .dataframe thead th {\n",
       "        text-align: right;\n",
       "    }\n",
       "</style>\n",
       "<table border=\"1\" class=\"dataframe\">\n",
       "  <thead>\n",
       "    <tr style=\"text-align: right;\">\n",
       "      <th></th>\n",
       "      <th>Models</th>\n",
       "      <th>Train_Score</th>\n",
       "      <th>Test_Score</th>\n",
       "    </tr>\n",
       "  </thead>\n",
       "  <tbody>\n",
       "    <tr>\n",
       "      <th>1</th>\n",
       "      <td>Logistic Regression Winner only</td>\n",
       "      <td>0.993750</td>\n",
       "      <td>0.992908</td>\n",
       "    </tr>\n",
       "    <tr>\n",
       "      <th>2</th>\n",
       "      <td>SVM Winner only</td>\n",
       "      <td>0.995000</td>\n",
       "      <td>0.992908</td>\n",
       "    </tr>\n",
       "    <tr>\n",
       "      <th>3</th>\n",
       "      <td>KNN Winner only</td>\n",
       "      <td>0.995000</td>\n",
       "      <td>0.985816</td>\n",
       "    </tr>\n",
       "    <tr>\n",
       "      <th>4</th>\n",
       "      <td>Decision Tree Winner only</td>\n",
       "      <td>1.000000</td>\n",
       "      <td>1.000000</td>\n",
       "    </tr>\n",
       "    <tr>\n",
       "      <th>5</th>\n",
       "      <td>Logistic Regression with H.O. &amp; Points</td>\n",
       "      <td>0.785201</td>\n",
       "      <td>0.785100</td>\n",
       "    </tr>\n",
       "  </tbody>\n",
       "</table>\n",
       "</div>"
      ],
      "text/plain": [
       "                                   Models  Train_Score  Test_Score\n",
       "1         Logistic Regression Winner only     0.993750    0.992908\n",
       "2                         SVM Winner only     0.995000    0.992908\n",
       "3                         KNN Winner only     0.995000    0.985816\n",
       "4               Decision Tree Winner only     1.000000    1.000000\n",
       "5  Logistic Regression with H.O. & Points     0.785201    0.785100"
      ]
     },
     "execution_count": 79,
     "metadata": {},
     "output_type": "execute_result"
    }
   ],
   "source": [
    "# Adding reults to a scoring dataframe\n",
    "Results_df.loc[5] = ('Logistic Regression with H.O. & Points', log_reg.score(GC_rem_data, GC_rem_target) , log_reg.score(GC_test_data, GC_test_target))\n",
    "Results_df"
   ]
  },
  {
   "cell_type": "markdown",
   "id": "d1955e39",
   "metadata": {},
   "source": [
    "## K Nearest Neighbours - Hyperparameter Optimization"
   ]
  },
  {
   "cell_type": "code",
   "execution_count": 80,
   "id": "543517a0",
   "metadata": {},
   "outputs": [],
   "source": [
    "# The different K values to try out and save to 'neighbors'\n",
    "neighbors = range(1, 50, 1)\n",
    "\n",
    "# Empty lists to append the accuracies to \n",
    "train = []\n",
    "validate = []\n",
    "\n",
    "# Loop through neighbors\n",
    "for K in neighbors:\n",
    "    \n",
    "    # Instantiate the model \n",
    "    KNN = KNeighborsClassifier(n_neighbors=K)\n",
    "    \n",
    "    # Fit the model \n",
    "    KNN.fit(GC_train_data, GC_train_target)\n",
    "    \n",
    "    # Score the model \n",
    "    train.append(KNN.score(GC_train_data, GC_train_target))\n",
    "    validate.append(KNN.score(GC_val_data, GC_val_target))"
   ]
  },
  {
   "cell_type": "code",
   "execution_count": 81,
   "id": "5ee6286d",
   "metadata": {},
   "outputs": [
    {
     "data": {
      "image/png": "[encoded data removed]",
      "text/plain": [
       "<Figure size 1080x360 with 1 Axes>"
      ]
     },
     "metadata": {
      "needs_background": "light"
     },
     "output_type": "display_data"
    }
   ],
   "source": [
    "# Plot the accuracy scores\n",
    "plt.figure(figsize=(15,5))\n",
    "plt.plot(neighbors, train, c='red', label='train')\n",
    "plt.plot(neighbors, validate, c='blue', label='test')\n",
    "plt.xlabel(\"Number of Neighbors\")\n",
    "plt.ylabel(\"Accuracy Score\")\n",
    "plt.title('Testing K-Values for KNN Using MinMax Scaler')\n",
    "plt.axvline(5, linestyle = '--')\n",
    "plt.legend()\n",
    "plt.show()"
   ]
  },
  {
   "cell_type": "code",
   "execution_count": 82,
   "id": "0fbc7605",
   "metadata": {},
   "outputs": [
    {
     "data": {
      "text/plain": [
       "KNeighborsClassifier()"
      ]
     },
     "execution_count": 82,
     "metadata": {},
     "output_type": "execute_result"
    }
   ],
   "source": [
    "# Fitting our KNN model with optimized hyperparameters to the full train/validation set\n",
    "KNN = KNeighborsClassifier(n_neighbors=5)\n",
    "KNN.fit(GC_rem_data, GC_rem_target)"
   ]
  },
  {
   "cell_type": "code",
   "execution_count": 83,
   "id": "af2101df",
   "metadata": {},
   "outputs": [
    {
     "data": {
      "text/plain": [
       "0.7851002865329513"
      ]
     },
     "execution_count": 83,
     "metadata": {},
     "output_type": "execute_result"
    }
   ],
   "source": [
    "# Scoring our model on the test set\n",
    "KNN.score(GC_test_data, GC_test_target)"
   ]
  },
  {
   "cell_type": "code",
   "execution_count": 84,
   "id": "40022b92",
   "metadata": {},
   "outputs": [
    {
     "data": {
      "text/html": [
       "<div>\n",
       "<style scoped>\n",
       "    .dataframe tbody tr th:only-of-type {\n",
       "        vertical-align: middle;\n",
       "    }\n",
       "\n",
       "    .dataframe tbody tr th {\n",
       "        vertical-align: top;\n",
       "    }\n",
       "\n",
       "    .dataframe thead th {\n",
       "        text-align: right;\n",
       "    }\n",
       "</style>\n",
       "<table border=\"1\" class=\"dataframe\">\n",
       "  <thead>\n",
       "    <tr style=\"text-align: right;\">\n",
       "      <th></th>\n",
       "      <th>Models</th>\n",
       "      <th>Train_Score</th>\n",
       "      <th>Test_Score</th>\n",
       "    </tr>\n",
       "  </thead>\n",
       "  <tbody>\n",
       "    <tr>\n",
       "      <th>1</th>\n",
       "      <td>Logistic Regression Winner only</td>\n",
       "      <td>0.993750</td>\n",
       "      <td>0.992908</td>\n",
       "    </tr>\n",
       "    <tr>\n",
       "      <th>2</th>\n",
       "      <td>SVM Winner only</td>\n",
       "      <td>0.995000</td>\n",
       "      <td>0.992908</td>\n",
       "    </tr>\n",
       "    <tr>\n",
       "      <th>3</th>\n",
       "      <td>KNN Winner only</td>\n",
       "      <td>0.995000</td>\n",
       "      <td>0.985816</td>\n",
       "    </tr>\n",
       "    <tr>\n",
       "      <th>4</th>\n",
       "      <td>Decision Tree Winner only</td>\n",
       "      <td>1.000000</td>\n",
       "      <td>1.000000</td>\n",
       "    </tr>\n",
       "    <tr>\n",
       "      <th>5</th>\n",
       "      <td>Logistic Regression with H.O. &amp; Points</td>\n",
       "      <td>0.785201</td>\n",
       "      <td>0.785100</td>\n",
       "    </tr>\n",
       "    <tr>\n",
       "      <th>6</th>\n",
       "      <td>KNN with H.O. &amp; Points</td>\n",
       "      <td>0.788075</td>\n",
       "      <td>0.785100</td>\n",
       "    </tr>\n",
       "  </tbody>\n",
       "</table>\n",
       "</div>"
      ],
      "text/plain": [
       "                                   Models  Train_Score  Test_Score\n",
       "1         Logistic Regression Winner only     0.993750    0.992908\n",
       "2                         SVM Winner only     0.995000    0.992908\n",
       "3                         KNN Winner only     0.995000    0.985816\n",
       "4               Decision Tree Winner only     1.000000    1.000000\n",
       "5  Logistic Regression with H.O. & Points     0.785201    0.785100\n",
       "6                  KNN with H.O. & Points     0.788075    0.785100"
      ]
     },
     "execution_count": 84,
     "metadata": {},
     "output_type": "execute_result"
    }
   ],
   "source": [
    "# Adding reults to a scoring dataframe\n",
    "Results_df.loc[6] = ('KNN with H.O. & Points', KNN.score(GC_rem_data, GC_rem_target) , KNN.score(GC_test_data, GC_test_target))\n",
    "Results_df"
   ]
  },
  {
   "cell_type": "markdown",
   "id": "451a1d75",
   "metadata": {},
   "source": [
    "## Decision Tree - Hyperparameter Optimization"
   ]
  },
  {
   "cell_type": "code",
   "execution_count": 85,
   "id": "7ad3f8c7",
   "metadata": {},
   "outputs": [],
   "source": [
    "# A list of the maximum depths to try out\n",
    "depths = range(1, int(np.sqrt(GC_train_data.shape[0])))"
   ]
  },
  {
   "cell_type": "code",
   "execution_count": 86,
   "id": "11e0895c",
   "metadata": {},
   "outputs": [],
   "source": [
    "# Empty lists to append to\n",
    "train_DT = []\n",
    "validate_DT = []\n",
    "\n",
    "# Loop through the depths\n",
    "for max_depth in depths:\n",
    "    \n",
    "    # Instantiate the model \n",
    "    DT = DecisionTreeClassifier(max_depth=max_depth, random_state=11)\n",
    "    \n",
    "    # Fit the model \n",
    "    DT.fit(GC_train_data, GC_train_target)\n",
    "    \n",
    "    # Score the model \n",
    "    train_DT.append(DT.score(GC_train_data, GC_train_target))\n",
    "    validate_DT.append(DT.score(GC_val_data, GC_val_target))"
   ]
  },
  {
   "cell_type": "code",
   "execution_count": 87,
   "id": "6c5e47a5",
   "metadata": {},
   "outputs": [
    {
     "data": {
      "image/png": "[encoded data removed]",
      "text/plain": [
       "<Figure size 1080x360 with 1 Axes>"
      ]
     },
     "metadata": {
      "needs_background": "light"
     },
     "output_type": "display_data"
    }
   ],
   "source": [
    "# Plotting the accuracy scores\n",
    "plt.figure(figsize=(15,5))\n",
    "plt.plot(depths, train_DT, c='red', label='train')\n",
    "plt.plot(depths, validate_DT, c='blue', label='test')\n",
    "plt.xlabel(\"Max Depth\")\n",
    "plt.ylabel(\"Accuracy Score\")\n",
    "plt.title('Testing Tree Depth for Decision Trees Using MinMax Scaler')\n",
    "plt.axvline(2, linestyle = '--')\n",
    "plt.legend()\n",
    "plt.show()"
   ]
  },
  {
   "cell_type": "code",
   "execution_count": 88,
   "id": "9eb4e116",
   "metadata": {},
   "outputs": [
    {
     "name": "stdout",
     "output_type": "stream",
     "text": [
      "Train Accuracy: 0.7852011494252874\n",
      "Test Accuracy: 0.7851002865329513\n"
     ]
    }
   ],
   "source": [
    "# Instantiating the model with optimized hyper parameters\n",
    "DT = DecisionTreeClassifier(max_depth=2, random_state=42)\n",
    "\n",
    "# Fit the model \n",
    "DT.fit(GC_rem_data, GC_rem_target)\n",
    "\n",
    "# Store accuracy scores on full training set and test set\n",
    "DT_train = DT.score(GC_rem_data, GC_rem_target)\n",
    "DT_test = DT.score(GC_test_data, GC_test_target)\n",
    "\n",
    "# Score the model \n",
    "print(f\"Train Accuracy: {DT_train}\")\n",
    "print(f\"Test Accuracy: {DT_test}\")"
   ]
  },
  {
   "cell_type": "code",
   "execution_count": 89,
   "id": "0e798741",
   "metadata": {},
   "outputs": [
    {
     "data": {
      "text/html": [
       "<div>\n",
       "<style scoped>\n",
       "    .dataframe tbody tr th:only-of-type {\n",
       "        vertical-align: middle;\n",
       "    }\n",
       "\n",
       "    .dataframe tbody tr th {\n",
       "        vertical-align: top;\n",
       "    }\n",
       "\n",
       "    .dataframe thead th {\n",
       "        text-align: right;\n",
       "    }\n",
       "</style>\n",
       "<table border=\"1\" class=\"dataframe\">\n",
       "  <thead>\n",
       "    <tr style=\"text-align: right;\">\n",
       "      <th></th>\n",
       "      <th>Models</th>\n",
       "      <th>Train_Score</th>\n",
       "      <th>Test_Score</th>\n",
       "    </tr>\n",
       "  </thead>\n",
       "  <tbody>\n",
       "    <tr>\n",
       "      <th>1</th>\n",
       "      <td>Logistic Regression Winner only</td>\n",
       "      <td>0.993750</td>\n",
       "      <td>0.992908</td>\n",
       "    </tr>\n",
       "    <tr>\n",
       "      <th>2</th>\n",
       "      <td>SVM Winner only</td>\n",
       "      <td>0.995000</td>\n",
       "      <td>0.992908</td>\n",
       "    </tr>\n",
       "    <tr>\n",
       "      <th>3</th>\n",
       "      <td>KNN Winner only</td>\n",
       "      <td>0.995000</td>\n",
       "      <td>0.985816</td>\n",
       "    </tr>\n",
       "    <tr>\n",
       "      <th>4</th>\n",
       "      <td>Decision Tree Winner only</td>\n",
       "      <td>1.000000</td>\n",
       "      <td>1.000000</td>\n",
       "    </tr>\n",
       "    <tr>\n",
       "      <th>5</th>\n",
       "      <td>Logistic Regression with H.O. &amp; Points</td>\n",
       "      <td>0.785201</td>\n",
       "      <td>0.785100</td>\n",
       "    </tr>\n",
       "    <tr>\n",
       "      <th>6</th>\n",
       "      <td>KNN with H.O. &amp; Points</td>\n",
       "      <td>0.788075</td>\n",
       "      <td>0.785100</td>\n",
       "    </tr>\n",
       "    <tr>\n",
       "      <th>7</th>\n",
       "      <td>Decission Tree with H.O. &amp; Points</td>\n",
       "      <td>0.785201</td>\n",
       "      <td>0.785100</td>\n",
       "    </tr>\n",
       "  </tbody>\n",
       "</table>\n",
       "</div>"
      ],
      "text/plain": [
       "                                   Models  Train_Score  Test_Score\n",
       "1         Logistic Regression Winner only     0.993750    0.992908\n",
       "2                         SVM Winner only     0.995000    0.992908\n",
       "3                         KNN Winner only     0.995000    0.985816\n",
       "4               Decision Tree Winner only     1.000000    1.000000\n",
       "5  Logistic Regression with H.O. & Points     0.785201    0.785100\n",
       "6                  KNN with H.O. & Points     0.788075    0.785100\n",
       "7       Decission Tree with H.O. & Points     0.785201    0.785100"
      ]
     },
     "execution_count": 89,
     "metadata": {},
     "output_type": "execute_result"
    }
   ],
   "source": [
    "# Adding reults to a scoring dataframe\n",
    "Results_df.loc[7] = ('Decission Tree with H.O. & Points', DT.score(GC_rem_data, GC_rem_target) , DT.score(GC_test_data, GC_test_target))\n",
    "Results_df"
   ]
  },
  {
   "cell_type": "markdown",
   "id": "d6b1afa9",
   "metadata": {},
   "source": [
    "## Support Vector Machines - Hyperparameter Optimization"
   ]
  },
  {
   "cell_type": "code",
   "execution_count": 90,
   "id": "7c9a9f78",
   "metadata": {},
   "outputs": [],
   "source": [
    "# Trying to optimize hyper parameters for SVM, even though its tricky\n",
    "\n",
    "validation_scores_svm = []\n",
    "train_scores_svm = []\n",
    "\n",
    "C_range = np.array([.00000001,.0000001,.000001,.00001,.0001,.001,0.1,\\\n",
    "                1,10,100,1000,10000,100000,1000000,10000000,100000000,1000000000])\n",
    "\n",
    "for c in C_range:\n",
    "    SVM = LinearSVC(C = c, random_state=1)\n",
    "    SVM.fit(GC_train_data, GC_train_target)\n",
    "    \n",
    "    # train on traning set\n",
    "    train_scores_svm.append(SVM.score(GC_train_data,GC_train_target))\n",
    "    # score on validation set\n",
    "    validation_scores_svm.append(SVM.score(GC_val_data,GC_val_target))"
   ]
  },
  {
   "cell_type": "code",
   "execution_count": 91,
   "id": "c633fe0e",
   "metadata": {},
   "outputs": [
    {
     "data": {
      "image/png": "[encoded data removed]",
      "text/plain": [
       "<Figure size 1080x360 with 1 Axes>"
      ]
     },
     "metadata": {
      "needs_background": "light"
     },
     "output_type": "display_data"
    }
   ],
   "source": [
    "# Plotting the SVM scores over a range of c values\n",
    "plt.figure(figsize=(15,5))\n",
    "plt.plot(C_range, train_scores_svm,label=\"Train Score\",marker='.')\n",
    "plt.plot(C_range, validation_scores_svm,label=\"Validation Scores\",marker='.')\n",
    "plt.xscale('log')\n",
    "plt.xlabel('C')\n",
    "plt.ylabel('Accuracy')\n",
    "plt.axvline(1000, linestyle = '--')\n",
    "plt.legend()\n",
    "plt.show();"
   ]
  },
  {
   "cell_type": "code",
   "execution_count": 92,
   "id": "de08128f",
   "metadata": {},
   "outputs": [
    {
     "data": {
      "text/plain": [
       "LinearSVC(C=1000, random_state=1)"
      ]
     },
     "execution_count": 92,
     "metadata": {},
     "output_type": "execute_result"
    }
   ],
   "source": [
    "# Fitting our SVM model to the complete training/validation set\n",
    "SVM = LinearSVC(C=1000,random_state=1)\n",
    "SVM.fit(GC_rem_data,GC_rem_target)"
   ]
  },
  {
   "cell_type": "code",
   "execution_count": 93,
   "id": "a36eac94",
   "metadata": {},
   "outputs": [
    {
     "name": "stdout",
     "output_type": "stream",
     "text": [
      "The TRAIN classification accuracy is: 0.7952586206896551\n",
      "The TEST classification accuracy is: 0.7851002865329513\n"
     ]
    }
   ],
   "source": [
    "# Printing the scores\n",
    "print(f\"The TRAIN classification accuracy is: {SVM.score(GC_rem_data,GC_rem_target)}\")\n",
    "print(f\"The TEST classification accuracy is: {SVM.score(GC_test_data, GC_test_target)}\")"
   ]
  },
  {
   "cell_type": "code",
   "execution_count": 94,
   "id": "b555d6c3",
   "metadata": {},
   "outputs": [
    {
     "data": {
      "text/html": [
       "<div>\n",
       "<style scoped>\n",
       "    .dataframe tbody tr th:only-of-type {\n",
       "        vertical-align: middle;\n",
       "    }\n",
       "\n",
       "    .dataframe tbody tr th {\n",
       "        vertical-align: top;\n",
       "    }\n",
       "\n",
       "    .dataframe thead th {\n",
       "        text-align: right;\n",
       "    }\n",
       "</style>\n",
       "<table border=\"1\" class=\"dataframe\">\n",
       "  <thead>\n",
       "    <tr style=\"text-align: right;\">\n",
       "      <th></th>\n",
       "      <th>Models</th>\n",
       "      <th>Train_Score</th>\n",
       "      <th>Test_Score</th>\n",
       "    </tr>\n",
       "  </thead>\n",
       "  <tbody>\n",
       "    <tr>\n",
       "      <th>1</th>\n",
       "      <td>Logistic Regression Winner only</td>\n",
       "      <td>0.993750</td>\n",
       "      <td>0.992908</td>\n",
       "    </tr>\n",
       "    <tr>\n",
       "      <th>2</th>\n",
       "      <td>SVM Winner only</td>\n",
       "      <td>0.995000</td>\n",
       "      <td>0.992908</td>\n",
       "    </tr>\n",
       "    <tr>\n",
       "      <th>3</th>\n",
       "      <td>KNN Winner only</td>\n",
       "      <td>0.995000</td>\n",
       "      <td>0.985816</td>\n",
       "    </tr>\n",
       "    <tr>\n",
       "      <th>4</th>\n",
       "      <td>Decision Tree Winner only</td>\n",
       "      <td>1.000000</td>\n",
       "      <td>1.000000</td>\n",
       "    </tr>\n",
       "    <tr>\n",
       "      <th>5</th>\n",
       "      <td>Logistic Regression with H.O. &amp; Points</td>\n",
       "      <td>0.785201</td>\n",
       "      <td>0.785100</td>\n",
       "    </tr>\n",
       "    <tr>\n",
       "      <th>6</th>\n",
       "      <td>KNN with H.O. &amp; Points</td>\n",
       "      <td>0.788075</td>\n",
       "      <td>0.785100</td>\n",
       "    </tr>\n",
       "    <tr>\n",
       "      <th>7</th>\n",
       "      <td>Decission Tree with H.O. &amp; Points</td>\n",
       "      <td>0.785201</td>\n",
       "      <td>0.785100</td>\n",
       "    </tr>\n",
       "    <tr>\n",
       "      <th>8</th>\n",
       "      <td>SVM with H.O. &amp; Points</td>\n",
       "      <td>0.795259</td>\n",
       "      <td>0.785100</td>\n",
       "    </tr>\n",
       "  </tbody>\n",
       "</table>\n",
       "</div>"
      ],
      "text/plain": [
       "                                   Models  Train_Score  Test_Score\n",
       "1         Logistic Regression Winner only     0.993750    0.992908\n",
       "2                         SVM Winner only     0.995000    0.992908\n",
       "3                         KNN Winner only     0.995000    0.985816\n",
       "4               Decision Tree Winner only     1.000000    1.000000\n",
       "5  Logistic Regression with H.O. & Points     0.785201    0.785100\n",
       "6                  KNN with H.O. & Points     0.788075    0.785100\n",
       "7       Decission Tree with H.O. & Points     0.785201    0.785100\n",
       "8                  SVM with H.O. & Points     0.795259    0.785100"
      ]
     },
     "execution_count": 94,
     "metadata": {},
     "output_type": "execute_result"
    }
   ],
   "source": [
    "# Adding reults to a scoring dataframe\n",
    "Results_df.loc[8] = ('SVM with H.O. & Points', SVM.score(GC_rem_data, GC_rem_target) , SVM.score(GC_test_data, GC_test_target))\n",
    "Results_df"
   ]
  },
  {
   "cell_type": "markdown",
   "id": "2c374695",
   "metadata": {},
   "source": [
    "# Principal Component Analysis"
   ]
  },
  {
   "cell_type": "code",
   "execution_count": 95,
   "id": "7e050574",
   "metadata": {},
   "outputs": [
    {
     "data": {
      "text/plain": [
       "PCA()"
      ]
     },
     "execution_count": 95,
     "metadata": {},
     "output_type": "execute_result"
    }
   ],
   "source": [
    "# Insantiate\n",
    "my_PCA = PCA()\n",
    "# Fit the PCA object to the data\n",
    "my_PCA.fit(GC_train_data)"
   ]
  },
  {
   "cell_type": "code",
   "execution_count": 96,
   "id": "e2a09b03",
   "metadata": {},
   "outputs": [],
   "source": [
    "# Transform the original data.\n",
    "GC_train_data_PCA = my_PCA.transform(GC_train_data)\n",
    "GC_val_data_PCA = my_PCA.transform(GC_val_data)\n",
    "GC_rem_data_PCA = my_PCA.transform(GC_rem_data)\n",
    "GC_test_data_PCA = my_PCA.transform(GC_test_data)"
   ]
  },
  {
   "cell_type": "markdown",
   "id": "5d391e98",
   "metadata": {},
   "source": [
    "## PCA - Logistic Regression with Hyperparameter Optimization"
   ]
  },
  {
   "cell_type": "code",
   "execution_count": 97,
   "id": "a937997c",
   "metadata": {},
   "outputs": [],
   "source": [
    "# Hyperparamter Optimization with PCA Data\n",
    "validation_scores = []\n",
    "train_scores = []\n",
    "\n",
    "C_range = np.array([.00000001,.0000001,.000001,.00001,.0001,.001,0.1,\\\n",
    "                1,10,100,1000,10000,100000,1000000,10000000,100000000,1000000000])\n",
    "\n",
    "for c in C_range:\n",
    "    my_logreg = LogisticRegression(C = c,random_state=1)\n",
    "    my_logreg.fit(GC_train_data_PCA, GC_train_target)\n",
    "    \n",
    "    # train on traning set\n",
    "    train_scores.append(my_logreg.score(GC_train_data_PCA, GC_train_target))\n",
    "    # score on validation set\n",
    "    validation_scores.append(my_logreg.score(GC_val_data_PCA, GC_val_target))"
   ]
  },
  {
   "cell_type": "code",
   "execution_count": 98,
   "id": "a79acf66",
   "metadata": {},
   "outputs": [
    {
     "data": {
      "image/png": "[encoded data removed]",
      "text/plain": [
       "<Figure size 1080x360 with 1 Axes>"
      ]
     },
     "metadata": {
      "needs_background": "light"
     },
     "output_type": "display_data"
    }
   ],
   "source": [
    "# Plotting the scores\n",
    "plt.figure(figsize=(15,5))\n",
    "plt.plot(C_range, train_scores,label=\"Train Score\",marker='.')\n",
    "plt.plot(C_range, validation_scores,label=\"Validation Scores\",marker='.')\n",
    "plt.xscale('log')\n",
    "plt.xlabel('C')\n",
    "plt.ylabel('Accuracy')\n",
    "plt.axvline(0.1, linestyle = '--')\n",
    "plt.legend()\n",
    "plt.show();"
   ]
  },
  {
   "cell_type": "code",
   "execution_count": 99,
   "id": "712e35c9",
   "metadata": {},
   "outputs": [
    {
     "data": {
      "text/plain": [
       "0.7851002865329513"
      ]
     },
     "execution_count": 99,
     "metadata": {},
     "output_type": "execute_result"
    }
   ],
   "source": [
    "# Instantiate with optimal hyperparameters\n",
    "my_logreg = LogisticRegression(C=0.1,random_state=1)\n",
    "\n",
    "# Fitting the model to complete train/validate data\n",
    "my_logreg.fit(GC_rem_data_PCA, GC_rem_target)\n",
    "my_logreg.score(GC_test_data_PCA, GC_test_target)"
   ]
  },
  {
   "cell_type": "code",
   "execution_count": 100,
   "id": "d5ff81b5",
   "metadata": {},
   "outputs": [
    {
     "data": {
      "text/html": [
       "<div>\n",
       "<style scoped>\n",
       "    .dataframe tbody tr th:only-of-type {\n",
       "        vertical-align: middle;\n",
       "    }\n",
       "\n",
       "    .dataframe tbody tr th {\n",
       "        vertical-align: top;\n",
       "    }\n",
       "\n",
       "    .dataframe thead th {\n",
       "        text-align: right;\n",
       "    }\n",
       "</style>\n",
       "<table border=\"1\" class=\"dataframe\">\n",
       "  <thead>\n",
       "    <tr style=\"text-align: right;\">\n",
       "      <th></th>\n",
       "      <th>Models</th>\n",
       "      <th>Train_Score</th>\n",
       "      <th>Test_Score</th>\n",
       "    </tr>\n",
       "  </thead>\n",
       "  <tbody>\n",
       "    <tr>\n",
       "      <th>1</th>\n",
       "      <td>Logistic Regression Winner only</td>\n",
       "      <td>0.993750</td>\n",
       "      <td>0.992908</td>\n",
       "    </tr>\n",
       "    <tr>\n",
       "      <th>2</th>\n",
       "      <td>SVM Winner only</td>\n",
       "      <td>0.995000</td>\n",
       "      <td>0.992908</td>\n",
       "    </tr>\n",
       "    <tr>\n",
       "      <th>3</th>\n",
       "      <td>KNN Winner only</td>\n",
       "      <td>0.995000</td>\n",
       "      <td>0.985816</td>\n",
       "    </tr>\n",
       "    <tr>\n",
       "      <th>4</th>\n",
       "      <td>Decision Tree Winner only</td>\n",
       "      <td>1.000000</td>\n",
       "      <td>1.000000</td>\n",
       "    </tr>\n",
       "    <tr>\n",
       "      <th>5</th>\n",
       "      <td>Logistic Regression with H.O. &amp; Points</td>\n",
       "      <td>0.785201</td>\n",
       "      <td>0.785100</td>\n",
       "    </tr>\n",
       "    <tr>\n",
       "      <th>6</th>\n",
       "      <td>KNN with H.O. &amp; Points</td>\n",
       "      <td>0.788075</td>\n",
       "      <td>0.785100</td>\n",
       "    </tr>\n",
       "    <tr>\n",
       "      <th>7</th>\n",
       "      <td>Decission Tree with H.O. &amp; Points</td>\n",
       "      <td>0.785201</td>\n",
       "      <td>0.785100</td>\n",
       "    </tr>\n",
       "    <tr>\n",
       "      <th>8</th>\n",
       "      <td>SVM with H.O. &amp; Points</td>\n",
       "      <td>0.795259</td>\n",
       "      <td>0.785100</td>\n",
       "    </tr>\n",
       "    <tr>\n",
       "      <th>9</th>\n",
       "      <td>Logistic Regression with PCA &amp; Points</td>\n",
       "      <td>0.785201</td>\n",
       "      <td>0.785100</td>\n",
       "    </tr>\n",
       "  </tbody>\n",
       "</table>\n",
       "</div>"
      ],
      "text/plain": [
       "                                   Models  Train_Score  Test_Score\n",
       "1         Logistic Regression Winner only     0.993750    0.992908\n",
       "2                         SVM Winner only     0.995000    0.992908\n",
       "3                         KNN Winner only     0.995000    0.985816\n",
       "4               Decision Tree Winner only     1.000000    1.000000\n",
       "5  Logistic Regression with H.O. & Points     0.785201    0.785100\n",
       "6                  KNN with H.O. & Points     0.788075    0.785100\n",
       "7       Decission Tree with H.O. & Points     0.785201    0.785100\n",
       "8                  SVM with H.O. & Points     0.795259    0.785100\n",
       "9   Logistic Regression with PCA & Points     0.785201    0.785100"
      ]
     },
     "execution_count": 100,
     "metadata": {},
     "output_type": "execute_result"
    }
   ],
   "source": [
    "# Adding reults to a scoring dataframe\n",
    "Results_df.loc[9] = ('Logistic Regression with PCA & Points', my_logreg.score(GC_rem_data_PCA, GC_rem_target) , my_logreg.score(GC_test_data_PCA, GC_test_target))\n",
    "Results_df"
   ]
  },
  {
   "cell_type": "markdown",
   "id": "5b9cc2b5",
   "metadata": {},
   "source": [
    "## PCA - KNN - Hyperparameter Optimization"
   ]
  },
  {
   "cell_type": "code",
   "execution_count": 101,
   "id": "b65098a0",
   "metadata": {},
   "outputs": [],
   "source": [
    "# The different K values to try out and save to 'neighbors'\n",
    "neighbors = range(1, 50, 1)\n",
    "\n",
    "# Empty lists to append the accuracies to \n",
    "train = []\n",
    "validate = []\n",
    "\n",
    "# Loop through neighbors\n",
    "for K in neighbors:\n",
    "    \n",
    "    # Instantiate the model \n",
    "    KNN = KNeighborsClassifier(n_neighbors=K)\n",
    "    \n",
    "    # Fit the model \n",
    "    KNN.fit(GC_train_data_PCA, GC_train_target)\n",
    "    \n",
    "    # Score the model \n",
    "    train.append(KNN.score(GC_train_data_PCA, GC_train_target))\n",
    "    validate.append(KNN.score(GC_val_data_PCA, GC_val_target))"
   ]
  },
  {
   "cell_type": "code",
   "execution_count": 102,
   "id": "0f410af0",
   "metadata": {},
   "outputs": [
    {
     "data": {
      "image/png": "[encoded data removed]",
      "text/plain": [
       "<Figure size 1080x360 with 1 Axes>"
      ]
     },
     "metadata": {
      "needs_background": "light"
     },
     "output_type": "display_data"
    }
   ],
   "source": [
    "# Plot the accuracies \n",
    "plt.figure(figsize=(15,5))\n",
    "plt.plot(neighbors, train, c='red', label='train')\n",
    "plt.plot(neighbors, validate, c='blue', label='test')\n",
    "plt.xlabel(\"Number of Neighbors\")\n",
    "plt.ylabel(\"Accuracy Score\")\n",
    "plt.title('Testing K-Values for KNN Using MinMax Scaler')\n",
    "plt.axvline(5, linestyle = '--')\n",
    "plt.legend()\n",
    "plt.show()"
   ]
  },
  {
   "cell_type": "code",
   "execution_count": 103,
   "id": "01d11995",
   "metadata": {},
   "outputs": [
    {
     "data": {
      "text/plain": [
       "KNeighborsClassifier()"
      ]
     },
     "execution_count": 103,
     "metadata": {},
     "output_type": "execute_result"
    }
   ],
   "source": [
    "KNN = KNeighborsClassifier(n_neighbors=5)\n",
    "KNN.fit(GC_rem_data_PCA, GC_rem_target)"
   ]
  },
  {
   "cell_type": "code",
   "execution_count": 104,
   "id": "cd74331c",
   "metadata": {},
   "outputs": [
    {
     "data": {
      "text/plain": [
       "0.7851002865329513"
      ]
     },
     "execution_count": 104,
     "metadata": {},
     "output_type": "execute_result"
    }
   ],
   "source": [
    "KNN.score(GC_test_data_PCA, GC_test_target)"
   ]
  },
  {
   "cell_type": "code",
   "execution_count": 105,
   "id": "c0455fed",
   "metadata": {},
   "outputs": [
    {
     "data": {
      "text/html": [
       "<div>\n",
       "<style scoped>\n",
       "    .dataframe tbody tr th:only-of-type {\n",
       "        vertical-align: middle;\n",
       "    }\n",
       "\n",
       "    .dataframe tbody tr th {\n",
       "        vertical-align: top;\n",
       "    }\n",
       "\n",
       "    .dataframe thead th {\n",
       "        text-align: right;\n",
       "    }\n",
       "</style>\n",
       "<table border=\"1\" class=\"dataframe\">\n",
       "  <thead>\n",
       "    <tr style=\"text-align: right;\">\n",
       "      <th></th>\n",
       "      <th>Models</th>\n",
       "      <th>Train_Score</th>\n",
       "      <th>Test_Score</th>\n",
       "    </tr>\n",
       "  </thead>\n",
       "  <tbody>\n",
       "    <tr>\n",
       "      <th>1</th>\n",
       "      <td>Logistic Regression Winner only</td>\n",
       "      <td>0.993750</td>\n",
       "      <td>0.992908</td>\n",
       "    </tr>\n",
       "    <tr>\n",
       "      <th>2</th>\n",
       "      <td>SVM Winner only</td>\n",
       "      <td>0.995000</td>\n",
       "      <td>0.992908</td>\n",
       "    </tr>\n",
       "    <tr>\n",
       "      <th>3</th>\n",
       "      <td>KNN Winner only</td>\n",
       "      <td>0.995000</td>\n",
       "      <td>0.985816</td>\n",
       "    </tr>\n",
       "    <tr>\n",
       "      <th>4</th>\n",
       "      <td>Decision Tree Winner only</td>\n",
       "      <td>1.000000</td>\n",
       "      <td>1.000000</td>\n",
       "    </tr>\n",
       "    <tr>\n",
       "      <th>5</th>\n",
       "      <td>Logistic Regression with H.O. &amp; Points</td>\n",
       "      <td>0.785201</td>\n",
       "      <td>0.785100</td>\n",
       "    </tr>\n",
       "    <tr>\n",
       "      <th>6</th>\n",
       "      <td>KNN with H.O. &amp; Points</td>\n",
       "      <td>0.788075</td>\n",
       "      <td>0.785100</td>\n",
       "    </tr>\n",
       "    <tr>\n",
       "      <th>7</th>\n",
       "      <td>Decission Tree with H.O. &amp; Points</td>\n",
       "      <td>0.785201</td>\n",
       "      <td>0.785100</td>\n",
       "    </tr>\n",
       "    <tr>\n",
       "      <th>8</th>\n",
       "      <td>SVM with H.O. &amp; Points</td>\n",
       "      <td>0.795259</td>\n",
       "      <td>0.785100</td>\n",
       "    </tr>\n",
       "    <tr>\n",
       "      <th>9</th>\n",
       "      <td>Logistic Regression with PCA &amp; Points</td>\n",
       "      <td>0.785201</td>\n",
       "      <td>0.785100</td>\n",
       "    </tr>\n",
       "    <tr>\n",
       "      <th>10</th>\n",
       "      <td>KNN with PCA &amp; Points</td>\n",
       "      <td>0.788793</td>\n",
       "      <td>0.785100</td>\n",
       "    </tr>\n",
       "  </tbody>\n",
       "</table>\n",
       "</div>"
      ],
      "text/plain": [
       "                                    Models  Train_Score  Test_Score\n",
       "1          Logistic Regression Winner only     0.993750    0.992908\n",
       "2                          SVM Winner only     0.995000    0.992908\n",
       "3                          KNN Winner only     0.995000    0.985816\n",
       "4                Decision Tree Winner only     1.000000    1.000000\n",
       "5   Logistic Regression with H.O. & Points     0.785201    0.785100\n",
       "6                   KNN with H.O. & Points     0.788075    0.785100\n",
       "7        Decission Tree with H.O. & Points     0.785201    0.785100\n",
       "8                   SVM with H.O. & Points     0.795259    0.785100\n",
       "9    Logistic Regression with PCA & Points     0.785201    0.785100\n",
       "10                   KNN with PCA & Points     0.788793    0.785100"
      ]
     },
     "execution_count": 105,
     "metadata": {},
     "output_type": "execute_result"
    }
   ],
   "source": [
    "# Adding reults to a scoring dataframe\n",
    "Results_df.loc[10] = ('KNN with PCA & Points', KNN.score(GC_rem_data_PCA, GC_rem_target) , KNN.score(GC_test_data_PCA, GC_test_target))\n",
    "Results_df"
   ]
  },
  {
   "cell_type": "markdown",
   "id": "ea396c68",
   "metadata": {},
   "source": [
    "## PCA - Decision Tree - Hyperparameter Optimization"
   ]
  },
  {
   "cell_type": "code",
   "execution_count": 106,
   "id": "9c2f7b6e",
   "metadata": {},
   "outputs": [],
   "source": [
    "# A list of the maximum depths to try out and save to 'depths'\n",
    "depths = range(1, int(np.sqrt(GC_train_data_PCA.shape[0])))"
   ]
  },
  {
   "cell_type": "code",
   "execution_count": 107,
   "id": "e964429b",
   "metadata": {},
   "outputs": [],
   "source": [
    "# Empty lists to append to\n",
    "train_DT = []\n",
    "validate_DT = []\n",
    "\n",
    "# Loop through the depths\n",
    "for max_depth in depths:\n",
    "    \n",
    "    # Instantiate the model \n",
    "    DT = DecisionTreeClassifier(max_depth=max_depth, random_state=11)\n",
    "    \n",
    "    # Fit the model \n",
    "    DT.fit(GC_train_data_PCA, GC_train_target)\n",
    "    \n",
    "    # Score the model \n",
    "    train_DT.append(DT.score(GC_train_data_PCA, GC_train_target))\n",
    "    validate_DT.append(DT.score(GC_val_data_PCA, GC_val_target))"
   ]
  },
  {
   "cell_type": "code",
   "execution_count": 108,
   "id": "b3f76f90",
   "metadata": {},
   "outputs": [
    {
     "data": {
      "image/png": "[encoded data removed]",
      "text/plain": [
       "<Figure size 1080x360 with 1 Axes>"
      ]
     },
     "metadata": {
      "needs_background": "light"
     },
     "output_type": "display_data"
    }
   ],
   "source": [
    "# Plotting the accuracies\n",
    "plt.figure(figsize=(15,5))\n",
    "plt.plot(depths, train_DT, c='red', label='train')\n",
    "plt.plot(depths, validate_DT, c='blue', label='test')\n",
    "plt.xlabel(\"Max Depth\")\n",
    "plt.ylabel(\"Accuracy Score\")\n",
    "plt.title('Testing Tree Depth for Decision Trees Using MinMax Scaler')\n",
    "plt.axvline(2, linestyle = '--')\n",
    "plt.legend()\n",
    "plt.show()"
   ]
  },
  {
   "cell_type": "code",
   "execution_count": 109,
   "id": "ea39f5da",
   "metadata": {},
   "outputs": [
    {
     "name": "stdout",
     "output_type": "stream",
     "text": [
      "Train Accuracy: 0.7852011494252874\n",
      "Test Accuracy: 0.7851002865329513\n"
     ]
    }
   ],
   "source": [
    "# Instantiate Decision Tree model with optimal hyperparameters\n",
    "DT = DecisionTreeClassifier(max_depth=2, random_state=11)\n",
    "\n",
    "# Fit the model \n",
    "DT.fit(GC_rem_data_PCA, GC_rem_target)\n",
    "\n",
    "# Store accuracy scores\n",
    "DT_train = DT.score(GC_rem_data_PCA, GC_rem_target)\n",
    "DT_test = DT.score(GC_test_data_PCA, GC_test_target)\n",
    "\n",
    "# Score the model \n",
    "print(f\"Train Accuracy: {DT_train}\")\n",
    "print(f\"Test Accuracy: {DT_test}\")"
   ]
  },
  {
   "cell_type": "code",
   "execution_count": 110,
   "id": "452957a0",
   "metadata": {},
   "outputs": [
    {
     "data": {
      "text/html": [
       "<div>\n",
       "<style scoped>\n",
       "    .dataframe tbody tr th:only-of-type {\n",
       "        vertical-align: middle;\n",
       "    }\n",
       "\n",
       "    .dataframe tbody tr th {\n",
       "        vertical-align: top;\n",
       "    }\n",
       "\n",
       "    .dataframe thead th {\n",
       "        text-align: right;\n",
       "    }\n",
       "</style>\n",
       "<table border=\"1\" class=\"dataframe\">\n",
       "  <thead>\n",
       "    <tr style=\"text-align: right;\">\n",
       "      <th></th>\n",
       "      <th>Models</th>\n",
       "      <th>Train_Score</th>\n",
       "      <th>Test_Score</th>\n",
       "    </tr>\n",
       "  </thead>\n",
       "  <tbody>\n",
       "    <tr>\n",
       "      <th>1</th>\n",
       "      <td>Logistic Regression Winner only</td>\n",
       "      <td>0.993750</td>\n",
       "      <td>0.992908</td>\n",
       "    </tr>\n",
       "    <tr>\n",
       "      <th>2</th>\n",
       "      <td>SVM Winner only</td>\n",
       "      <td>0.995000</td>\n",
       "      <td>0.992908</td>\n",
       "    </tr>\n",
       "    <tr>\n",
       "      <th>3</th>\n",
       "      <td>KNN Winner only</td>\n",
       "      <td>0.995000</td>\n",
       "      <td>0.985816</td>\n",
       "    </tr>\n",
       "    <tr>\n",
       "      <th>4</th>\n",
       "      <td>Decision Tree Winner only</td>\n",
       "      <td>1.000000</td>\n",
       "      <td>1.000000</td>\n",
       "    </tr>\n",
       "    <tr>\n",
       "      <th>5</th>\n",
       "      <td>Logistic Regression with H.O. &amp; Points</td>\n",
       "      <td>0.785201</td>\n",
       "      <td>0.785100</td>\n",
       "    </tr>\n",
       "    <tr>\n",
       "      <th>6</th>\n",
       "      <td>KNN with H.O. &amp; Points</td>\n",
       "      <td>0.788075</td>\n",
       "      <td>0.785100</td>\n",
       "    </tr>\n",
       "    <tr>\n",
       "      <th>7</th>\n",
       "      <td>Decission Tree with H.O. &amp; Points</td>\n",
       "      <td>0.785201</td>\n",
       "      <td>0.785100</td>\n",
       "    </tr>\n",
       "    <tr>\n",
       "      <th>8</th>\n",
       "      <td>SVM with H.O. &amp; Points</td>\n",
       "      <td>0.795259</td>\n",
       "      <td>0.785100</td>\n",
       "    </tr>\n",
       "    <tr>\n",
       "      <th>9</th>\n",
       "      <td>Logistic Regression with PCA &amp; Points</td>\n",
       "      <td>0.785201</td>\n",
       "      <td>0.785100</td>\n",
       "    </tr>\n",
       "    <tr>\n",
       "      <th>10</th>\n",
       "      <td>KNN with PCA &amp; Points</td>\n",
       "      <td>0.788793</td>\n",
       "      <td>0.785100</td>\n",
       "    </tr>\n",
       "    <tr>\n",
       "      <th>11</th>\n",
       "      <td>DT with PCA &amp; Points</td>\n",
       "      <td>0.785201</td>\n",
       "      <td>0.785100</td>\n",
       "    </tr>\n",
       "  </tbody>\n",
       "</table>\n",
       "</div>"
      ],
      "text/plain": [
       "                                    Models  Train_Score  Test_Score\n",
       "1          Logistic Regression Winner only     0.993750    0.992908\n",
       "2                          SVM Winner only     0.995000    0.992908\n",
       "3                          KNN Winner only     0.995000    0.985816\n",
       "4                Decision Tree Winner only     1.000000    1.000000\n",
       "5   Logistic Regression with H.O. & Points     0.785201    0.785100\n",
       "6                   KNN with H.O. & Points     0.788075    0.785100\n",
       "7        Decission Tree with H.O. & Points     0.785201    0.785100\n",
       "8                   SVM with H.O. & Points     0.795259    0.785100\n",
       "9    Logistic Regression with PCA & Points     0.785201    0.785100\n",
       "10                   KNN with PCA & Points     0.788793    0.785100\n",
       "11                    DT with PCA & Points     0.785201    0.785100"
      ]
     },
     "execution_count": 110,
     "metadata": {},
     "output_type": "execute_result"
    }
   ],
   "source": [
    "# Adding reults to a scoring dataframe\n",
    "Results_df.loc[11] = ('DT with PCA & Points', DT.score(GC_rem_data_PCA, GC_rem_target) , DT.score(GC_test_data_PCA, GC_test_target))\n",
    "Results_df"
   ]
  },
  {
   "cell_type": "markdown",
   "id": "ea531e06",
   "metadata": {},
   "source": [
    "# Results from all Models"
   ]
  },
  {
   "cell_type": "code",
   "execution_count": 111,
   "id": "93fc30fc",
   "metadata": {},
   "outputs": [
    {
     "data": {
      "text/html": [
       "<div>\n",
       "<style scoped>\n",
       "    .dataframe tbody tr th:only-of-type {\n",
       "        vertical-align: middle;\n",
       "    }\n",
       "\n",
       "    .dataframe tbody tr th {\n",
       "        vertical-align: top;\n",
       "    }\n",
       "\n",
       "    .dataframe thead th {\n",
       "        text-align: right;\n",
       "    }\n",
       "</style>\n",
       "<table border=\"1\" class=\"dataframe\">\n",
       "  <thead>\n",
       "    <tr style=\"text-align: right;\">\n",
       "      <th></th>\n",
       "      <th>Models</th>\n",
       "      <th>Train_Score</th>\n",
       "      <th>Test_Score</th>\n",
       "    </tr>\n",
       "  </thead>\n",
       "  <tbody>\n",
       "    <tr>\n",
       "      <th>1</th>\n",
       "      <td>Logistic Regression Winner only</td>\n",
       "      <td>0.993750</td>\n",
       "      <td>0.992908</td>\n",
       "    </tr>\n",
       "    <tr>\n",
       "      <th>2</th>\n",
       "      <td>SVM Winner only</td>\n",
       "      <td>0.995000</td>\n",
       "      <td>0.992908</td>\n",
       "    </tr>\n",
       "    <tr>\n",
       "      <th>3</th>\n",
       "      <td>KNN Winner only</td>\n",
       "      <td>0.995000</td>\n",
       "      <td>0.985816</td>\n",
       "    </tr>\n",
       "    <tr>\n",
       "      <th>4</th>\n",
       "      <td>Decision Tree Winner only</td>\n",
       "      <td>1.000000</td>\n",
       "      <td>1.000000</td>\n",
       "    </tr>\n",
       "    <tr>\n",
       "      <th>5</th>\n",
       "      <td>Logistic Regression with H.O. &amp; Points</td>\n",
       "      <td>0.785201</td>\n",
       "      <td>0.785100</td>\n",
       "    </tr>\n",
       "    <tr>\n",
       "      <th>6</th>\n",
       "      <td>KNN with H.O. &amp; Points</td>\n",
       "      <td>0.788075</td>\n",
       "      <td>0.785100</td>\n",
       "    </tr>\n",
       "    <tr>\n",
       "      <th>7</th>\n",
       "      <td>Decission Tree with H.O. &amp; Points</td>\n",
       "      <td>0.785201</td>\n",
       "      <td>0.785100</td>\n",
       "    </tr>\n",
       "    <tr>\n",
       "      <th>8</th>\n",
       "      <td>SVM with H.O. &amp; Points</td>\n",
       "      <td>0.795259</td>\n",
       "      <td>0.785100</td>\n",
       "    </tr>\n",
       "    <tr>\n",
       "      <th>9</th>\n",
       "      <td>Logistic Regression with PCA &amp; Points</td>\n",
       "      <td>0.785201</td>\n",
       "      <td>0.785100</td>\n",
       "    </tr>\n",
       "    <tr>\n",
       "      <th>10</th>\n",
       "      <td>KNN with PCA &amp; Points</td>\n",
       "      <td>0.788793</td>\n",
       "      <td>0.785100</td>\n",
       "    </tr>\n",
       "    <tr>\n",
       "      <th>11</th>\n",
       "      <td>DT with PCA &amp; Points</td>\n",
       "      <td>0.785201</td>\n",
       "      <td>0.785100</td>\n",
       "    </tr>\n",
       "  </tbody>\n",
       "</table>\n",
       "</div>"
      ],
      "text/plain": [
       "                                    Models  Train_Score  Test_Score\n",
       "1          Logistic Regression Winner only     0.993750    0.992908\n",
       "2                          SVM Winner only     0.995000    0.992908\n",
       "3                          KNN Winner only     0.995000    0.985816\n",
       "4                Decision Tree Winner only     1.000000    1.000000\n",
       "5   Logistic Regression with H.O. & Points     0.785201    0.785100\n",
       "6                   KNN with H.O. & Points     0.788075    0.785100\n",
       "7        Decission Tree with H.O. & Points     0.785201    0.785100\n",
       "8                   SVM with H.O. & Points     0.795259    0.785100\n",
       "9    Logistic Regression with PCA & Points     0.785201    0.785100\n",
       "10                   KNN with PCA & Points     0.788793    0.785100\n",
       "11                    DT with PCA & Points     0.785201    0.785100"
      ]
     },
     "execution_count": 111,
     "metadata": {},
     "output_type": "execute_result"
    }
   ],
   "source": [
    "Results_df"
   ]
  },
  {
   "cell_type": "markdown",
   "id": "ab27d111",
   "metadata": {},
   "source": [
    "Seems like Classification might not be the best for determining the winner of TDF as there is a class imbalance. Let's try regression."
   ]
  },
  {
   "cell_type": "markdown",
   "id": "023fc3cb",
   "metadata": {},
   "source": [
    "# Linear Regression"
   ]
  },
  {
   "cell_type": "code",
   "execution_count": 112,
   "id": "e4dd07fb",
   "metadata": {},
   "outputs": [
    {
     "data": {
      "text/html": [
       "<div>\n",
       "<style scoped>\n",
       "    .dataframe tbody tr th:only-of-type {\n",
       "        vertical-align: middle;\n",
       "    }\n",
       "\n",
       "    .dataframe tbody tr th {\n",
       "        vertical-align: top;\n",
       "    }\n",
       "\n",
       "    .dataframe thead th {\n",
       "        text-align: right;\n",
       "    }\n",
       "</style>\n",
       "<table border=\"1\" class=\"dataframe\">\n",
       "  <thead>\n",
       "    <tr style=\"text-align: right;\">\n",
       "      <th></th>\n",
       "      <th>Rank</th>\n",
       "      <th>Prev_rank</th>\n",
       "      <th>Rider_name</th>\n",
       "      <th>Team_name</th>\n",
       "      <th>Points</th>\n",
       "      <th>Time</th>\n",
       "      <th>Year</th>\n",
       "      <th>Weight(kg)</th>\n",
       "      <th>Height(m)</th>\n",
       "      <th>Age</th>\n",
       "    </tr>\n",
       "  </thead>\n",
       "  <tbody>\n",
       "    <tr>\n",
       "      <th>0</th>\n",
       "      <td>1</td>\n",
       "      <td>1</td>\n",
       "      <td>POGAČAR Tadej</td>\n",
       "      <td>UAE-Team Emirates</td>\n",
       "      <td>500.0</td>\n",
       "      <td>82:56:36</td>\n",
       "      <td>2021</td>\n",
       "      <td>66.0</td>\n",
       "      <td>1.76</td>\n",
       "      <td>23</td>\n",
       "    </tr>\n",
       "    <tr>\n",
       "      <th>1</th>\n",
       "      <td>1</td>\n",
       "      <td>1</td>\n",
       "      <td>POGAČAR Tadej</td>\n",
       "      <td>UAE-Team Emirates</td>\n",
       "      <td>500.0</td>\n",
       "      <td>87:20:05</td>\n",
       "      <td>2020</td>\n",
       "      <td>66.0</td>\n",
       "      <td>1.76</td>\n",
       "      <td>22</td>\n",
       "    </tr>\n",
       "    <tr>\n",
       "      <th>2</th>\n",
       "      <td>2</td>\n",
       "      <td>2</td>\n",
       "      <td>VINGEGAARD Jonas</td>\n",
       "      <td>Team Jumbo-Visma</td>\n",
       "      <td>380.0</td>\n",
       "      <td>5:205:20</td>\n",
       "      <td>2021</td>\n",
       "      <td>60.0</td>\n",
       "      <td>1.75</td>\n",
       "      <td>25</td>\n",
       "    </tr>\n",
       "    <tr>\n",
       "      <th>3</th>\n",
       "      <td>3</td>\n",
       "      <td>3</td>\n",
       "      <td>CARAPAZ Richard</td>\n",
       "      <td>INEOS Grenadiers</td>\n",
       "      <td>340.0</td>\n",
       "      <td>7:037:03</td>\n",
       "      <td>2021</td>\n",
       "      <td>62.0</td>\n",
       "      <td>1.70</td>\n",
       "      <td>28</td>\n",
       "    </tr>\n",
       "    <tr>\n",
       "      <th>4</th>\n",
       "      <td>13</td>\n",
       "      <td>13</td>\n",
       "      <td>CARAPAZ Richard</td>\n",
       "      <td>INEOS Grenadiers</td>\n",
       "      <td>170.0</td>\n",
       "      <td>25:5325:53</td>\n",
       "      <td>2020</td>\n",
       "      <td>62.0</td>\n",
       "      <td>1.70</td>\n",
       "      <td>27</td>\n",
       "    </tr>\n",
       "  </tbody>\n",
       "</table>\n",
       "</div>"
      ],
      "text/plain": [
       "   Rank  Prev_rank        Rider_name          Team_name  Points        Time  \\\n",
       "0     1          1     POGAČAR Tadej  UAE-Team Emirates   500.0    82:56:36   \n",
       "1     1          1     POGAČAR Tadej  UAE-Team Emirates   500.0    87:20:05   \n",
       "2     2          2  VINGEGAARD Jonas   Team Jumbo-Visma   380.0    5:205:20   \n",
       "3     3          3   CARAPAZ Richard   INEOS Grenadiers   340.0    7:037:03   \n",
       "4    13         13   CARAPAZ Richard   INEOS Grenadiers   170.0  25:5325:53   \n",
       "\n",
       "   Year  Weight(kg)  Height(m)  Age  \n",
       "0  2021        66.0       1.76   23  \n",
       "1  2020        66.0       1.76   22  \n",
       "2  2021        60.0       1.75   25  \n",
       "3  2021        62.0       1.70   28  \n",
       "4  2020        62.0       1.70   27  "
      ]
     },
     "execution_count": 112,
     "metadata": {},
     "output_type": "execute_result"
    }
   ],
   "source": [
    "# Import data from CSV file\n",
    "TDF_GC = pd.read_csv('DATA/TDF_GC_with_rider_metrics.csv')\n",
    "# Glance at untouched data\n",
    "TDF_GC.head()"
   ]
  },
  {
   "cell_type": "code",
   "execution_count": 113,
   "id": "20dbd630",
   "metadata": {},
   "outputs": [
    {
     "data": {
      "text/html": [
       "<div>\n",
       "<style scoped>\n",
       "    .dataframe tbody tr th:only-of-type {\n",
       "        vertical-align: middle;\n",
       "    }\n",
       "\n",
       "    .dataframe tbody tr th {\n",
       "        vertical-align: top;\n",
       "    }\n",
       "\n",
       "    .dataframe thead th {\n",
       "        text-align: right;\n",
       "    }\n",
       "</style>\n",
       "<table border=\"1\" class=\"dataframe\">\n",
       "  <thead>\n",
       "    <tr style=\"text-align: right;\">\n",
       "      <th></th>\n",
       "      <th>Rank</th>\n",
       "      <th>Rider_name</th>\n",
       "      <th>Team_name</th>\n",
       "      <th>Year</th>\n",
       "      <th>Weight(kg)</th>\n",
       "      <th>Height(m)</th>\n",
       "      <th>Age</th>\n",
       "    </tr>\n",
       "  </thead>\n",
       "  <tbody>\n",
       "    <tr>\n",
       "      <th>0</th>\n",
       "      <td>1</td>\n",
       "      <td>POGAČAR Tadej</td>\n",
       "      <td>UAE-Team Emirates</td>\n",
       "      <td>2021</td>\n",
       "      <td>66.0</td>\n",
       "      <td>1.76</td>\n",
       "      <td>23</td>\n",
       "    </tr>\n",
       "    <tr>\n",
       "      <th>1</th>\n",
       "      <td>1</td>\n",
       "      <td>POGAČAR Tadej</td>\n",
       "      <td>UAE-Team Emirates</td>\n",
       "      <td>2020</td>\n",
       "      <td>66.0</td>\n",
       "      <td>1.76</td>\n",
       "      <td>22</td>\n",
       "    </tr>\n",
       "    <tr>\n",
       "      <th>2</th>\n",
       "      <td>2</td>\n",
       "      <td>VINGEGAARD Jonas</td>\n",
       "      <td>Team Jumbo-Visma</td>\n",
       "      <td>2021</td>\n",
       "      <td>60.0</td>\n",
       "      <td>1.75</td>\n",
       "      <td>25</td>\n",
       "    </tr>\n",
       "    <tr>\n",
       "      <th>3</th>\n",
       "      <td>3</td>\n",
       "      <td>CARAPAZ Richard</td>\n",
       "      <td>INEOS Grenadiers</td>\n",
       "      <td>2021</td>\n",
       "      <td>62.0</td>\n",
       "      <td>1.70</td>\n",
       "      <td>28</td>\n",
       "    </tr>\n",
       "    <tr>\n",
       "      <th>4</th>\n",
       "      <td>13</td>\n",
       "      <td>CARAPAZ Richard</td>\n",
       "      <td>INEOS Grenadiers</td>\n",
       "      <td>2020</td>\n",
       "      <td>62.0</td>\n",
       "      <td>1.70</td>\n",
       "      <td>27</td>\n",
       "    </tr>\n",
       "  </tbody>\n",
       "</table>\n",
       "</div>"
      ],
      "text/plain": [
       "   Rank        Rider_name          Team_name  Year  Weight(kg)  Height(m)  Age\n",
       "0     1     POGAČAR Tadej  UAE-Team Emirates  2021        66.0       1.76   23\n",
       "1     1     POGAČAR Tadej  UAE-Team Emirates  2020        66.0       1.76   22\n",
       "2     2  VINGEGAARD Jonas   Team Jumbo-Visma  2021        60.0       1.75   25\n",
       "3     3   CARAPAZ Richard   INEOS Grenadiers  2021        62.0       1.70   28\n",
       "4    13   CARAPAZ Richard   INEOS Grenadiers  2020        62.0       1.70   27"
      ]
     },
     "execution_count": 113,
     "metadata": {},
     "output_type": "execute_result"
    }
   ],
   "source": [
    "# Dropping targets we're not interested in\n",
    "TDF_GC = TDF_GC.drop(['Prev_rank','Time','Points'],axis=1)\n",
    "TDF_GC.head()"
   ]
  },
  {
   "cell_type": "code",
   "execution_count": 114,
   "id": "a6d3f530",
   "metadata": {},
   "outputs": [
    {
     "name": "stdout",
     "output_type": "stream",
     "text": [
      "<class 'pandas.core.frame.DataFrame'>\n",
      "RangeIndex: 1741 entries, 0 to 1740\n",
      "Data columns (total 7 columns):\n",
      " #   Column      Non-Null Count  Dtype  \n",
      "---  ------      --------------  -----  \n",
      " 0   Rank        1741 non-null   int64  \n",
      " 1   Rider_name  1741 non-null   object \n",
      " 2   Team_name   1741 non-null   object \n",
      " 3   Year        1741 non-null   int64  \n",
      " 4   Weight(kg)  1741 non-null   float64\n",
      " 5   Height(m)   1741 non-null   float64\n",
      " 6   Age         1741 non-null   int64  \n",
      "dtypes: float64(2), int64(3), object(2)\n",
      "memory usage: 95.3+ KB\n"
     ]
    }
   ],
   "source": [
    "# Checking data types and Null values\n",
    "TDF_GC.info()"
   ]
  },
  {
   "cell_type": "code",
   "execution_count": 115,
   "id": "7a17f3eb",
   "metadata": {},
   "outputs": [],
   "source": [
    "# TDF_GC.Year = TDF_GC.Year.astype('int16')\n",
    "TDF_GC['Weight(kg)'] = TDF_GC['Weight(kg)'].astype('float16')\n",
    "TDF_GC['Height(m)'] = TDF_GC['Height(m)'].astype('float32')\n",
    "TDF_GC.Age = TDF_GC.Age.astype('int8')\n",
    "TDF_GC.Rank = TDF_GC.Rank.astype('int16')"
   ]
  },
  {
   "cell_type": "code",
   "execution_count": 116,
   "id": "a4bccee5",
   "metadata": {},
   "outputs": [
    {
     "name": "stdout",
     "output_type": "stream",
     "text": [
      "<class 'pandas.core.frame.DataFrame'>\n",
      "RangeIndex: 1741 entries, 0 to 1740\n",
      "Data columns (total 7 columns):\n",
      " #   Column      Non-Null Count  Dtype  \n",
      "---  ------      --------------  -----  \n",
      " 0   Rank        1741 non-null   int16  \n",
      " 1   Rider_name  1741 non-null   object \n",
      " 2   Team_name   1741 non-null   object \n",
      " 3   Year        1741 non-null   int64  \n",
      " 4   Weight(kg)  1741 non-null   float16\n",
      " 5   Height(m)   1741 non-null   float32\n",
      " 6   Age         1741 non-null   int8   \n",
      "dtypes: float16(1), float32(1), int16(1), int64(1), int8(1), object(2)\n",
      "memory usage: 56.2+ KB\n"
     ]
    }
   ],
   "source": [
    "# Checking data type change\n",
    "TDF_GC.info()"
   ]
  },
  {
   "cell_type": "code",
   "execution_count": 117,
   "id": "d6c10d6f",
   "metadata": {},
   "outputs": [
    {
     "data": {
      "text/plain": [
       "(1741, 655)"
      ]
     },
     "execution_count": 117,
     "metadata": {},
     "output_type": "execute_result"
    }
   ],
   "source": [
    "# One hot encoding rider names\n",
    "TDF_GC = TDF_GC.join(pd.get_dummies(TDF_GC.Rider_name))\n",
    "TDF_GC.shape"
   ]
  },
  {
   "cell_type": "code",
   "execution_count": 118,
   "id": "ce45c60e",
   "metadata": {},
   "outputs": [
    {
     "data": {
      "text/plain": [
       "(1741, 758)"
      ]
     },
     "execution_count": 118,
     "metadata": {},
     "output_type": "execute_result"
    }
   ],
   "source": [
    "# One hot encoding team names\n",
    "TDF_GC = TDF_GC.join(pd.get_dummies(TDF_GC.Team_name))\n",
    "TDF_GC.shape"
   ]
  },
  {
   "cell_type": "code",
   "execution_count": 119,
   "id": "d53f5990",
   "metadata": {},
   "outputs": [
    {
     "data": {
      "text/plain": [
       "(1741, 756)"
      ]
     },
     "execution_count": 119,
     "metadata": {},
     "output_type": "execute_result"
    }
   ],
   "source": [
    "# Dropping the last 2 categorical columns\n",
    "TDF_GC = TDF_GC.drop(['Rider_name','Team_name'],axis=1)\n",
    "TDF_GC.shape"
   ]
  },
  {
   "cell_type": "markdown",
   "id": "7dddbf88",
   "metadata": {},
   "source": [
    "## Train/Test Split"
   ]
  },
  {
   "cell_type": "markdown",
   "id": "9cc8c5dd",
   "metadata": {},
   "source": [
    "### Training Set"
   ]
  },
  {
   "cell_type": "code",
   "execution_count": 120,
   "id": "3fd705c8",
   "metadata": {},
   "outputs": [],
   "source": [
    "# Training Data without the target (winner) for every year before 2021\n",
    "GC_train_data = TDF_GC.drop(['Rank'],axis=1)[TDF_GC.Year != 2021]\n",
    "\n",
    "# Training Target (winner) for every year before 2021\n",
    "GC_train_target = TDF_GC.Rank[TDF_GC.Year != 2021]"
   ]
  },
  {
   "cell_type": "code",
   "execution_count": 121,
   "id": "48c5599f",
   "metadata": {},
   "outputs": [
    {
     "name": "stdout",
     "output_type": "stream",
     "text": [
      "(1600, 755)\n",
      "(1600,)\n"
     ]
    }
   ],
   "source": [
    "# Shape check - Rows should match up\n",
    "print(GC_train_data.shape)\n",
    "print(GC_train_target.shape)"
   ]
  },
  {
   "cell_type": "markdown",
   "id": "5504d177",
   "metadata": {},
   "source": [
    "### Testing Set"
   ]
  },
  {
   "cell_type": "code",
   "execution_count": 122,
   "id": "48bb31ac",
   "metadata": {},
   "outputs": [],
   "source": [
    "# Testing Data without the target (winner) for 2021\n",
    "GC_test_data = TDF_GC.drop(['Rank'],axis=1)[TDF_GC.Year == 2021]\n",
    "\n",
    "# Testing Target (winner) for 2021\n",
    "GC_test_target = TDF_GC.Rank[TDF_GC.Year == 2021]"
   ]
  },
  {
   "cell_type": "code",
   "execution_count": 123,
   "id": "6678f894",
   "metadata": {
    "scrolled": true
   },
   "outputs": [
    {
     "name": "stdout",
     "output_type": "stream",
     "text": [
      "(141, 755)\n",
      "(141,)\n"
     ]
    }
   ],
   "source": [
    "# Shape check - Rows should match up\n",
    "print(GC_test_data.shape)\n",
    "print(GC_test_target.shape)"
   ]
  },
  {
   "cell_type": "code",
   "execution_count": 124,
   "id": "9f5edb20",
   "metadata": {},
   "outputs": [
    {
     "name": "stdout",
     "output_type": "stream",
     "text": [
      "(1600, 754)\n",
      "(141, 754)\n"
     ]
    }
   ],
   "source": [
    "GC_train_data = GC_train_data.drop(['Year'],axis=1)\n",
    "GC_test_data = GC_test_data.drop(['Year'],axis=1)\n",
    "\n",
    "print(GC_train_data.shape)\n",
    "print(GC_test_data.shape)"
   ]
  },
  {
   "cell_type": "markdown",
   "id": "6a199cb3",
   "metadata": {},
   "source": [
    "## Linear Regression Model"
   ]
  },
  {
   "cell_type": "code",
   "execution_count": 125,
   "id": "316d1ed4",
   "metadata": {},
   "outputs": [],
   "source": [
    "# Fitting out Linear Regression model to the training data\n",
    "lin_reg = LinearRegression().fit(GC_train_data, GC_train_target)"
   ]
  },
  {
   "cell_type": "code",
   "execution_count": 126,
   "id": "65e91ef4",
   "metadata": {},
   "outputs": [
    {
     "data": {
      "text/plain": [
       "0.872663514051133"
      ]
     },
     "execution_count": 126,
     "metadata": {},
     "output_type": "execute_result"
    }
   ],
   "source": [
    "# Scoring the Linear Regression model on the training set\n",
    "lin_reg.score(GC_train_data, GC_train_target)"
   ]
  },
  {
   "cell_type": "code",
   "execution_count": 127,
   "id": "4e86739d",
   "metadata": {},
   "outputs": [
    {
     "data": {
      "text/plain": [
       "0.4356749901523548"
      ]
     },
     "execution_count": 127,
     "metadata": {},
     "output_type": "execute_result"
    }
   ],
   "source": [
    "# Scoring the Linear Regression model on the testing set\n",
    "lin_reg.score(GC_test_data, GC_test_target)"
   ]
  },
  {
   "cell_type": "code",
   "execution_count": 128,
   "id": "d02ad686",
   "metadata": {},
   "outputs": [
    {
     "data": {
      "text/html": [
       "<div>\n",
       "<style scoped>\n",
       "    .dataframe tbody tr th:only-of-type {\n",
       "        vertical-align: middle;\n",
       "    }\n",
       "\n",
       "    .dataframe tbody tr th {\n",
       "        vertical-align: top;\n",
       "    }\n",
       "\n",
       "    .dataframe thead th {\n",
       "        text-align: right;\n",
       "    }\n",
       "</style>\n",
       "<table border=\"1\" class=\"dataframe\">\n",
       "  <thead>\n",
       "    <tr style=\"text-align: right;\">\n",
       "      <th></th>\n",
       "      <th>Models</th>\n",
       "      <th>Train_Score</th>\n",
       "      <th>Test_Score</th>\n",
       "    </tr>\n",
       "  </thead>\n",
       "  <tbody>\n",
       "    <tr>\n",
       "      <th>1</th>\n",
       "      <td>Logistic Regression Winner only</td>\n",
       "      <td>0.993750</td>\n",
       "      <td>0.992908</td>\n",
       "    </tr>\n",
       "    <tr>\n",
       "      <th>2</th>\n",
       "      <td>SVM Winner only</td>\n",
       "      <td>0.995000</td>\n",
       "      <td>0.992908</td>\n",
       "    </tr>\n",
       "    <tr>\n",
       "      <th>3</th>\n",
       "      <td>KNN Winner only</td>\n",
       "      <td>0.995000</td>\n",
       "      <td>0.985816</td>\n",
       "    </tr>\n",
       "    <tr>\n",
       "      <th>4</th>\n",
       "      <td>Decision Tree Winner only</td>\n",
       "      <td>1.000000</td>\n",
       "      <td>1.000000</td>\n",
       "    </tr>\n",
       "    <tr>\n",
       "      <th>5</th>\n",
       "      <td>Logistic Regression with H.O. &amp; Points</td>\n",
       "      <td>0.785201</td>\n",
       "      <td>0.785100</td>\n",
       "    </tr>\n",
       "    <tr>\n",
       "      <th>6</th>\n",
       "      <td>KNN with H.O. &amp; Points</td>\n",
       "      <td>0.788075</td>\n",
       "      <td>0.785100</td>\n",
       "    </tr>\n",
       "    <tr>\n",
       "      <th>7</th>\n",
       "      <td>Decission Tree with H.O. &amp; Points</td>\n",
       "      <td>0.785201</td>\n",
       "      <td>0.785100</td>\n",
       "    </tr>\n",
       "    <tr>\n",
       "      <th>8</th>\n",
       "      <td>SVM with H.O. &amp; Points</td>\n",
       "      <td>0.795259</td>\n",
       "      <td>0.785100</td>\n",
       "    </tr>\n",
       "    <tr>\n",
       "      <th>9</th>\n",
       "      <td>Logistic Regression with PCA &amp; Points</td>\n",
       "      <td>0.785201</td>\n",
       "      <td>0.785100</td>\n",
       "    </tr>\n",
       "    <tr>\n",
       "      <th>10</th>\n",
       "      <td>KNN with PCA &amp; Points</td>\n",
       "      <td>0.788793</td>\n",
       "      <td>0.785100</td>\n",
       "    </tr>\n",
       "    <tr>\n",
       "      <th>11</th>\n",
       "      <td>DT with PCA &amp; Points</td>\n",
       "      <td>0.785201</td>\n",
       "      <td>0.785100</td>\n",
       "    </tr>\n",
       "    <tr>\n",
       "      <th>12</th>\n",
       "      <td>Linear Regression 1</td>\n",
       "      <td>0.872664</td>\n",
       "      <td>0.435675</td>\n",
       "    </tr>\n",
       "  </tbody>\n",
       "</table>\n",
       "</div>"
      ],
      "text/plain": [
       "                                    Models  Train_Score  Test_Score\n",
       "1          Logistic Regression Winner only     0.993750    0.992908\n",
       "2                          SVM Winner only     0.995000    0.992908\n",
       "3                          KNN Winner only     0.995000    0.985816\n",
       "4                Decision Tree Winner only     1.000000    1.000000\n",
       "5   Logistic Regression with H.O. & Points     0.785201    0.785100\n",
       "6                   KNN with H.O. & Points     0.788075    0.785100\n",
       "7        Decission Tree with H.O. & Points     0.785201    0.785100\n",
       "8                   SVM with H.O. & Points     0.795259    0.785100\n",
       "9    Logistic Regression with PCA & Points     0.785201    0.785100\n",
       "10                   KNN with PCA & Points     0.788793    0.785100\n",
       "11                    DT with PCA & Points     0.785201    0.785100\n",
       "12                     Linear Regression 1     0.872664    0.435675"
      ]
     },
     "execution_count": 128,
     "metadata": {},
     "output_type": "execute_result"
    }
   ],
   "source": [
    "Results_df.loc[12] = ('Linear Regression 1', lin_reg.score(GC_train_data, GC_train_target) , lin_reg.score(GC_test_data, GC_test_target))\n",
    "Results_df"
   ]
  },
  {
   "cell_type": "markdown",
   "id": "064bb1b7",
   "metadata": {},
   "source": [
    "### Let's try a different train/test split to see if we can improve out testing score"
   ]
  },
  {
   "cell_type": "code",
   "execution_count": 129,
   "id": "1d0c52e4",
   "metadata": {},
   "outputs": [],
   "source": [
    "# Dropping all rider who finished below 100 for balancing our classes\n",
    "TDF_GC_2 = TDF_GC[TDF_GC.Rank <= 100]"
   ]
  },
  {
   "cell_type": "code",
   "execution_count": 130,
   "id": "59ed349b",
   "metadata": {},
   "outputs": [],
   "source": [
    "# Splitting Dataset into Data(Features) and Target\n",
    "Data = TDF_GC_2.drop(['Rank'],axis=1)\n",
    "Target = TDF_GC_2.Rank"
   ]
  },
  {
   "cell_type": "code",
   "execution_count": 131,
   "id": "47f58720",
   "metadata": {},
   "outputs": [],
   "source": [
    "# Taking a random 20% chunk for our test set, making sure to stratify our target\n",
    "GC_train_data, GC_test_data, GC_train_target, GC_test_target = \\\n",
    "    train_test_split(Data, Target, test_size = 0.2, random_state=1, stratify=Target)"
   ]
  },
  {
   "cell_type": "code",
   "execution_count": null,
   "id": "781fca67",
   "metadata": {},
   "outputs": [],
   "source": []
  },
  {
   "cell_type": "markdown",
   "id": "898275d2",
   "metadata": {},
   "source": [
    "## Linear Regression Model second attempt"
   ]
  },
  {
   "cell_type": "code",
   "execution_count": 132,
   "id": "9063c39d",
   "metadata": {},
   "outputs": [],
   "source": [
    "# Fitting out Linear Regression model to the training data\n",
    "lin_reg = LinearRegression().fit(GC_train_data, GC_train_target)"
   ]
  },
  {
   "cell_type": "code",
   "execution_count": 133,
   "id": "5d6a6427",
   "metadata": {},
   "outputs": [
    {
     "data": {
      "text/plain": [
       "0.834825820405608"
      ]
     },
     "execution_count": 133,
     "metadata": {},
     "output_type": "execute_result"
    }
   ],
   "source": [
    "# Scoring the Linear Regression model on the training set\n",
    "lin_reg.score(GC_train_data, GC_train_target)"
   ]
  },
  {
   "cell_type": "code",
   "execution_count": 134,
   "id": "72bfd090",
   "metadata": {},
   "outputs": [
    {
     "data": {
      "text/plain": [
       "-1.2400605837213825e+22"
      ]
     },
     "execution_count": 134,
     "metadata": {},
     "output_type": "execute_result"
    }
   ],
   "source": [
    "# Scoring the Linear Regression model on the testing set\n",
    "lin_reg.score(GC_test_data, GC_test_target)"
   ]
  },
  {
   "cell_type": "markdown",
   "id": "907be310",
   "metadata": {},
   "source": [
    "It seems that our Linear Regression model can train well on our data, but when tested against the testing set, it can only manage about 43.5% accuracy, which is about as good as coin toss. The modeling requires further work to generate better results."
   ]
  },
  {
   "cell_type": "code",
   "execution_count": null,
   "id": "65bda85b",
   "metadata": {},
   "outputs": [],
   "source": []
  }
 ],
 "metadata": {
  "kernelspec": {
   "display_name": "Python 3",
   "language": "python",
   "name": "python3"
  },
  "language_info": {
   "codemirror_mode": {
    "name": "ipython",
    "version": 3
   },
   "file_extension": ".py",
   "mimetype": "text/x-python",
   "name": "python",
   "nbconvert_exporter": "python",
   "pygments_lexer": "ipython3",
   "version": "3.8.8"
  }
 },
 "nbformat": 4,
 "nbformat_minor": 5
}
