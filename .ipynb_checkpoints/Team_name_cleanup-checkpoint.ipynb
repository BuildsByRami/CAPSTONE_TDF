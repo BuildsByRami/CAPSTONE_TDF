{
 "cells": [
  {
   "cell_type": "markdown",
   "id": "1bcd13dc",
   "metadata": {},
   "source": [
    "## Raminderpreet Singh Khaira\n",
    "### 30/06/2022"
   ]
  },
  {
   "cell_type": "markdown",
   "id": "679af5aa",
   "metadata": {},
   "source": [
    "One of the things I took a notice of is the fact that team go through different names regularly as sponships change. So a team can be named \"Sky Procycling\" from 2011-2013, and then change to \"Team Sky\" from 2014-2019, and then \"Team Ineos\" from 2019-2020. All the same teams effectively with similar strategies, management, and collection of data and experience, but filed under different names in our classification model.\n",
    "\n",
    "In this Notebook I investigate into the names of the 2021 teams, and change the previous names appropriately to the most current team name. This should improve the number of wins per team, and won't leave a newely named team as fresh first time team."
   ]
  },
  {
   "cell_type": "code",
   "execution_count": 1,
   "id": "a981d783",
   "metadata": {},
   "outputs": [],
   "source": [
    "import pandas as pd\n",
    "import numpy as np\n",
    "import matplotlib.pyplot as plt"
   ]
  },
  {
   "cell_type": "code",
   "execution_count": 2,
   "id": "d648df31",
   "metadata": {},
   "outputs": [],
   "source": [
    "df = pd.read_csv('TDF_GC_with_rider_metrics.csv')"
   ]
  },
  {
   "cell_type": "code",
   "execution_count": 3,
   "id": "8974888e",
   "metadata": {},
   "outputs": [
    {
     "data": {
      "text/html": [
       "<div>\n",
       "<style scoped>\n",
       "    .dataframe tbody tr th:only-of-type {\n",
       "        vertical-align: middle;\n",
       "    }\n",
       "\n",
       "    .dataframe tbody tr th {\n",
       "        vertical-align: top;\n",
       "    }\n",
       "\n",
       "    .dataframe thead th {\n",
       "        text-align: right;\n",
       "    }\n",
       "</style>\n",
       "<table border=\"1\" class=\"dataframe\">\n",
       "  <thead>\n",
       "    <tr style=\"text-align: right;\">\n",
       "      <th></th>\n",
       "      <th>Rank</th>\n",
       "      <th>Prev_rank</th>\n",
       "      <th>Rider_name</th>\n",
       "      <th>Team_name</th>\n",
       "      <th>Points</th>\n",
       "      <th>Time</th>\n",
       "      <th>Year</th>\n",
       "      <th>Weight(kg)</th>\n",
       "      <th>Height(m)</th>\n",
       "      <th>Age</th>\n",
       "    </tr>\n",
       "  </thead>\n",
       "  <tbody>\n",
       "    <tr>\n",
       "      <th>0</th>\n",
       "      <td>1</td>\n",
       "      <td>1</td>\n",
       "      <td>POGAČAR Tadej</td>\n",
       "      <td>UAE-Team Emirates</td>\n",
       "      <td>500.0</td>\n",
       "      <td>82:56:36</td>\n",
       "      <td>2021</td>\n",
       "      <td>66.0</td>\n",
       "      <td>1.76</td>\n",
       "      <td>23</td>\n",
       "    </tr>\n",
       "    <tr>\n",
       "      <th>1</th>\n",
       "      <td>1</td>\n",
       "      <td>1</td>\n",
       "      <td>POGAČAR Tadej</td>\n",
       "      <td>UAE-Team Emirates</td>\n",
       "      <td>500.0</td>\n",
       "      <td>87:20:05</td>\n",
       "      <td>2020</td>\n",
       "      <td>66.0</td>\n",
       "      <td>1.76</td>\n",
       "      <td>22</td>\n",
       "    </tr>\n",
       "    <tr>\n",
       "      <th>2</th>\n",
       "      <td>2</td>\n",
       "      <td>2</td>\n",
       "      <td>VINGEGAARD Jonas</td>\n",
       "      <td>Team Jumbo-Visma</td>\n",
       "      <td>380.0</td>\n",
       "      <td>5:205:20</td>\n",
       "      <td>2021</td>\n",
       "      <td>60.0</td>\n",
       "      <td>1.75</td>\n",
       "      <td>25</td>\n",
       "    </tr>\n",
       "    <tr>\n",
       "      <th>3</th>\n",
       "      <td>3</td>\n",
       "      <td>3</td>\n",
       "      <td>CARAPAZ Richard</td>\n",
       "      <td>INEOS Grenadiers</td>\n",
       "      <td>340.0</td>\n",
       "      <td>7:037:03</td>\n",
       "      <td>2021</td>\n",
       "      <td>62.0</td>\n",
       "      <td>1.70</td>\n",
       "      <td>28</td>\n",
       "    </tr>\n",
       "    <tr>\n",
       "      <th>4</th>\n",
       "      <td>13</td>\n",
       "      <td>13</td>\n",
       "      <td>CARAPAZ Richard</td>\n",
       "      <td>INEOS Grenadiers</td>\n",
       "      <td>170.0</td>\n",
       "      <td>25:5325:53</td>\n",
       "      <td>2020</td>\n",
       "      <td>62.0</td>\n",
       "      <td>1.70</td>\n",
       "      <td>27</td>\n",
       "    </tr>\n",
       "  </tbody>\n",
       "</table>\n",
       "</div>"
      ],
      "text/plain": [
       "   Rank  Prev_rank        Rider_name          Team_name  Points        Time  \\\n",
       "0     1          1     POGAČAR Tadej  UAE-Team Emirates   500.0    82:56:36   \n",
       "1     1          1     POGAČAR Tadej  UAE-Team Emirates   500.0    87:20:05   \n",
       "2     2          2  VINGEGAARD Jonas   Team Jumbo-Visma   380.0    5:205:20   \n",
       "3     3          3   CARAPAZ Richard   INEOS Grenadiers   340.0    7:037:03   \n",
       "4    13         13   CARAPAZ Richard   INEOS Grenadiers   170.0  25:5325:53   \n",
       "\n",
       "   Year  Weight(kg)  Height(m)  Age  \n",
       "0  2021        66.0       1.76   23  \n",
       "1  2020        66.0       1.76   22  \n",
       "2  2021        60.0       1.75   25  \n",
       "3  2021        62.0       1.70   28  \n",
       "4  2020        62.0       1.70   27  "
      ]
     },
     "execution_count": 3,
     "metadata": {},
     "output_type": "execute_result"
    }
   ],
   "source": [
    "df.head()"
   ]
  },
  {
   "cell_type": "code",
   "execution_count": 4,
   "id": "5ba14341",
   "metadata": {},
   "outputs": [
    {
     "data": {
      "text/plain": [
       "(1741, 10)"
      ]
     },
     "execution_count": 4,
     "metadata": {},
     "output_type": "execute_result"
    }
   ],
   "source": [
    "df.shape"
   ]
  },
  {
   "cell_type": "code",
   "execution_count": 5,
   "id": "03cc662b",
   "metadata": {},
   "outputs": [
    {
     "data": {
      "text/plain": [
       "103"
      ]
     },
     "execution_count": 5,
     "metadata": {},
     "output_type": "execute_result"
    }
   ],
   "source": [
    "df.Team_name.nunique()"
   ]
  },
  {
   "cell_type": "code",
   "execution_count": 6,
   "id": "2f4f076a",
   "metadata": {},
   "outputs": [
    {
     "data": {
      "text/plain": [
       "Movistar Team                 81\n",
       "AG2R La Mondiale              76\n",
       "Cofidis, Solutions Crédits    67\n",
       "Astana Pro Team               64\n",
       "BMC Racing Team               63\n",
       "                              ..\n",
       "Team DSM                       5\n",
       "RadioShack                     5\n",
       "Team BikeExchange              5\n",
       "Team Qhubeka NextHash          5\n",
       "NTT Pro Cycling                5\n",
       "Name: Team_name, Length: 103, dtype: int64"
      ]
     },
     "execution_count": 6,
     "metadata": {},
     "output_type": "execute_result"
    }
   ],
   "source": [
    "df.Team_name.value_counts()"
   ]
  },
  {
   "cell_type": "code",
   "execution_count": 7,
   "id": "1a27d26c",
   "metadata": {},
   "outputs": [
    {
     "data": {
      "text/plain": [
       "Cofidis, Solutions Crédits                8\n",
       "UAE-Team Emirates                         8\n",
       "EF Education - Nippo                      8\n",
       "Deceuninck - Quick Step                   8\n",
       "Trek - Segafredo                          7\n",
       "INEOS Grenadiers                          7\n",
       "BORA - hansgrohe                          7\n",
       "Team TotalEnergies                        7\n",
       "AG2R Citroën Team                         7\n",
       "Bahrain - Victorious                      7\n",
       "Israel Start-Up Nation                    7\n",
       "B&B Hotels p/b KTM                        6\n",
       "Movistar Team                             6\n",
       "Alpecin-Fenix                             6\n",
       "Intermarché - Wanty - Gobert Matériaux    6\n",
       "Astana - Premier Tech                     6\n",
       "Team DSM                                  5\n",
       "Team Qhubeka NextHash                     5\n",
       "Team BikeExchange                         5\n",
       "Lotto Soudal                              4\n",
       "Team Jumbo-Visma                          4\n",
       "Groupama - FDJ                            4\n",
       "Team Arkéa Samsic                         3\n",
       "Name: Team_name, dtype: int64"
      ]
     },
     "execution_count": 7,
     "metadata": {},
     "output_type": "execute_result"
    }
   ],
   "source": [
    "df[df.Year == 2021].Team_name.value_counts()"
   ]
  },
  {
   "cell_type": "code",
   "execution_count": 8,
   "id": "78e1be04",
   "metadata": {},
   "outputs": [
    {
     "data": {
      "text/plain": [
       "2011"
      ]
     },
     "execution_count": 8,
     "metadata": {},
     "output_type": "execute_result"
    }
   ],
   "source": [
    "df.Year.min()"
   ]
  },
  {
   "cell_type": "markdown",
   "id": "564ae55f",
   "metadata": {},
   "source": [
    "- 'UAE-Team Emirates' = ['Lampre–ISD','Lampre–Merida','UAE Abu Dhabi']\n",
    "- 'Deceuninck - Quick Step' = ['Quick-Step','Omega Pharma–Quick-Step','Etixx–Quick-Step','Quick-Step Floors']\n",
    "- 'EF Education - Nippo' = ['\tTeam Garmin−Cervélo','Team Garmin−Barracuda','Garmin−Sharp','Team Cannondale−Garmin','Cannondale Pro Cycling Team','Cannondale–Drapac Pro Cycling Team','Team EF Education First–Drapac p/b Cannondale','EF Education First Pro Cycling','EF Pro Cycling']\n",
    "- 'Cofidis, Solutions Crédits' = Same name\n",
    "- 'BORA - hansgrohe' = ['Team NetApp','Team NetApp–Endura','Bora–Argon 18']\n",
    "- 'Bahrain - Victorious' = ['Bahrain–Merida','Bahrain–McLaren']\n",
    "- 'Trek - Segafredo' = ['Leopard Trek','RadioShack–Nissan','RadioShack–Leopard','Trek Factory Racing']\n",
    "- 'INEOS Grenadiers' = ['Sky Procycling','Team Sky','Team Ineos']\n",
    "- 'AG2R Citroën Team' = ['Ag2r–La Mondiale','AG2R La Mondiale']\n",
    "- 'Team TotalEnergies' = ['Team Europcar','Direct Énergie','Total Direct Énergie']\n",
    "- 'Israel Start-Up Nation' = ['Cycling Academy Team','Israel Cycling Academy']\n",
    "- 'Intermarché - Wanty - Gobert Matériaux' = [\"Veranda's Willems–Accent\",'Accent.jobs–Willems Verandas','Accent Jobs–Wanty','Wanty–Groupe Gobert','Wanty–Gobert','Circus–Wanty Gobert']\n",
    "- 'Astana - Premier Tech' = ['Astana Pro Team']\n",
    "- 'Alpecin-Fenix' = ['BKCP–Powerplus','BKCP–Corendon','Beobank–Corendon','Corendon–Circus']\n",
    "- 'B&B Hotels p/b KTM' = ['Vital Concept','Vital Concept–B&B Hotels','B&B Hotels–Vital Concept']\n",
    "- 'Movistar Team' = Same name since 2011\n",
    "- 'Team DSM' = ['Skil Shimano','Project 1t4i','Argos–Shimano','Giant–Shimano','Team Giant–Alpecin','Team Sunweb']\n",
    "- 'Team Qhubeka NextHash' = ['MTN–Qhubeka','Team Dimension Data for Qhubeka','NTT Pro Cycling','Team Qhubeka Assos']\n",
    "- 'Team BikeExchange'\n",
    "- 'Groupama - FDJ' = ['FDJ','FDJ–BigMat','FDJ.fr']\n",
    "- 'Lotto Soudal' = ['Omega Pharma–Lotto','Lotto–Belisol']\n",
    "- 'Team Jumbo-Visma' = ['Rabobank','Blanco','Belkin','LottoNL–Jumbo','Team LottoNL-Jumbo']\n",
    "- 'Team Arkéa Samsic' = ['Bretagne–Schuller','Bretagne–Séché Environnement','Fortuneo–Vital Concept','Fortuneo–Oscaro','Fortuneo–Samsic']"
   ]
  },
  {
   "cell_type": "code",
   "execution_count": 9,
   "id": "b404fadf",
   "metadata": {},
   "outputs": [],
   "source": [
    "list_1 = ('UAE-Team Emirates','Lampre - ISD','Lampre - Merida','UAE Team Emirates',\n",
    "          'Team Jumbo-Visma','Rabobank Cycling Team','Belkin-Pro Cycling Team','Team LottoNL-Jumbo',\n",
    "          'INEOS Grenadiers','Sky Procycling','Team Sky','Team INEOS',\n",
    "          'AG2R Citroën Team','AG2R La Mondiale',\n",
    "          'BORA - hansgrohe','Team NetApp – Endura','Bora - Argon 18',\n",
    "          'Movistar Team',\n",
    "          'Astana - Premier Tech','Astana Pro Team','Pro Team Astana',\n",
    "          'Cofidis, Solutions Crédits','Cofidis, le Crédit en Ligne',\n",
    "          'Bahrain - Victorious','Bahrain Merida','Bahrain - McLaren','Bahrain Merida Pro Cycling Team',\n",
    "          'EF Education - Nippo','Team Garmin - Cervélo','Garmin Sharp','Team Cannondale - Garmin ','Cannondale Pro Cycling Team','Cannondale-Drapac Pro Cycling Team','Team EF Education First-Drapac p/b Cannondale','EF Education First','EF Pro Cycling',\n",
    "          'Groupama - FDJ','FDJ','FDJ - BigMat','FDJ.fr ',\n",
    "          'Deceuninck - Quick Step','Quickstep Cycling Team','Omega Pharma - Quick-Step','Etixx - Quick Step','Quick-Step Floors',\n",
    "          'Team BikeExchange','ORICA-Scott','Mitchelton-Scott','ORICA-BikeExchange','Orica GreenEDGE',\n",
    "          'Intermarché - Wanty - Gobert Matériaux','Wanty - Gobert Cycling Team','Wanty - Groupe Gobert',\n",
    "          'Trek - Segafredo','Leopard Trek','RadioShack - Nissan','RadioShack - Leopard','Trek Factory Racing ','RadioShack',\n",
    "          'Team Qhubeka NextHash','NTT Pro Cycling','Team Dimension Data','MTN - Qhubeka',\n",
    "          'B&B Hotels p/b KTM','B&B Hotels - Vital Concept p/b KTM',\n",
    "          'Team Arkéa Samsic','Bretagne - Séché Environnement','Fortuneo - Vital Concept','Fortuneo - Oscaro','Team Fortuneo - Samsic',\n",
    "          'Alpecin-Fenix',\n",
    "          'Israel Start-Up Nation',\n",
    "          'Team DSM','Team Sunweb','Team Giant - Alpecin','Team Giant - Shimano','Argos - Shimano','Team Argos - Shimano',\n",
    "          'Team TotalEnergies','Team Europcar','Direct Energie','Team Total Direct Energie',\n",
    "          'Lotto Soudal','Omega Pharma-Lotto ','Lotto Belisol ', 'Lotto Belisol Team',\n",
    "          \n",
    "          'Vacansoleil - DCM',\n",
    "          'Euskaltel - Euskadi',\n",
    "          'Tinkoff','Tinkoff - Saxo','Team Saxo Bank - Tinkoff Bank','Team Saxo - Tinkoff','Saxo Bank - Sungard',\n",
    "          'CCC Team','BMC Racing Team',\n",
    "          'Team Katusha Alpecin','Team Katusha ',\n",
    "          'Saur - Sojasun','Sojasun',\n",
    "          'IAM Cycling',\n",
    "          'Cannondale ','Liquigas - Cannondale',\n",
    "          'HTC - High Road')       "
   ]
  },
  {
   "cell_type": "code",
   "execution_count": 10,
   "id": "a75ea8b7",
   "metadata": {},
   "outputs": [
    {
     "data": {
      "text/html": [
       "<div>\n",
       "<style scoped>\n",
       "    .dataframe tbody tr th:only-of-type {\n",
       "        vertical-align: middle;\n",
       "    }\n",
       "\n",
       "    .dataframe tbody tr th {\n",
       "        vertical-align: top;\n",
       "    }\n",
       "\n",
       "    .dataframe thead th {\n",
       "        text-align: right;\n",
       "    }\n",
       "</style>\n",
       "<table border=\"1\" class=\"dataframe\">\n",
       "  <thead>\n",
       "    <tr style=\"text-align: right;\">\n",
       "      <th></th>\n",
       "      <th>Rank</th>\n",
       "      <th>Prev_rank</th>\n",
       "      <th>Rider_name</th>\n",
       "      <th>Team_name</th>\n",
       "      <th>Points</th>\n",
       "      <th>Time</th>\n",
       "      <th>Year</th>\n",
       "      <th>Weight(kg)</th>\n",
       "      <th>Height(m)</th>\n",
       "      <th>Age</th>\n",
       "    </tr>\n",
       "  </thead>\n",
       "  <tbody>\n",
       "  </tbody>\n",
       "</table>\n",
       "</div>"
      ],
      "text/plain": [
       "Empty DataFrame\n",
       "Columns: [Rank, Prev_rank, Rider_name, Team_name, Points, Time, Year, Weight(kg), Height(m), Age]\n",
       "Index: []"
      ]
     },
     "execution_count": 10,
     "metadata": {},
     "output_type": "execute_result"
    }
   ],
   "source": [
    "df[~df.Team_name.isin(list_1)]"
   ]
  },
  {
   "cell_type": "code",
   "execution_count": 11,
   "id": "c2bb5230",
   "metadata": {},
   "outputs": [],
   "source": [
    "list_2 = df.Team_name.tolist()"
   ]
  },
  {
   "cell_type": "code",
   "execution_count": 12,
   "id": "a0a09f2b",
   "metadata": {},
   "outputs": [
    {
     "name": "stdout",
     "output_type": "stream",
     "text": [
      "[]\n"
     ]
    }
   ],
   "source": [
    "c=[]\n",
    "for num in list_1:\n",
    "    if num not in list_2:\n",
    "        c.append(num)\n",
    "print(c)"
   ]
  },
  {
   "cell_type": "code",
   "execution_count": 13,
   "id": "ae3386ba",
   "metadata": {},
   "outputs": [
    {
     "data": {
      "text/plain": [
       "'Trek Factory Racing '"
      ]
     },
     "execution_count": 13,
     "metadata": {},
     "output_type": "execute_result"
    }
   ],
   "source": [
    "df.iloc[59,3]"
   ]
  },
  {
   "cell_type": "code",
   "execution_count": 14,
   "id": "d9132451",
   "metadata": {},
   "outputs": [
    {
     "data": {
      "text/plain": [
       "'Team Cannondale - Garmin '"
      ]
     },
     "execution_count": 14,
     "metadata": {},
     "output_type": "execute_result"
    }
   ],
   "source": [
    "df.iloc[150,3]"
   ]
  },
  {
   "cell_type": "code",
   "execution_count": 15,
   "id": "41c92aad",
   "metadata": {},
   "outputs": [
    {
     "data": {
      "text/plain": [
       "'Omega Pharma-Lotto '"
      ]
     },
     "execution_count": 15,
     "metadata": {},
     "output_type": "execute_result"
    }
   ],
   "source": [
    "df.iloc[370,3]"
   ]
  },
  {
   "cell_type": "code",
   "execution_count": 16,
   "id": "3a458212",
   "metadata": {},
   "outputs": [
    {
     "data": {
      "text/plain": [
       "'Lotto Belisol '"
      ]
     },
     "execution_count": 16,
     "metadata": {},
     "output_type": "execute_result"
    }
   ],
   "source": [
    "df.iloc[439,3]"
   ]
  },
  {
   "cell_type": "code",
   "execution_count": 17,
   "id": "e0b79e18",
   "metadata": {},
   "outputs": [
    {
     "data": {
      "text/plain": [
       "'Team Katusha '"
      ]
     },
     "execution_count": 17,
     "metadata": {},
     "output_type": "execute_result"
    }
   ],
   "source": [
    "df.iloc[448,3]"
   ]
  },
  {
   "cell_type": "code",
   "execution_count": 18,
   "id": "cc3f7c1c",
   "metadata": {},
   "outputs": [
    {
     "data": {
      "text/plain": [
       "'FDJ.fr '"
      ]
     },
     "execution_count": 18,
     "metadata": {},
     "output_type": "execute_result"
    }
   ],
   "source": [
    "df.iloc[550,3]"
   ]
  },
  {
   "cell_type": "code",
   "execution_count": 19,
   "id": "b687625e",
   "metadata": {},
   "outputs": [
    {
     "data": {
      "text/plain": [
       "'Cannondale '"
      ]
     },
     "execution_count": 19,
     "metadata": {},
     "output_type": "execute_result"
    }
   ],
   "source": [
    "df.iloc[654,3]"
   ]
  },
  {
   "cell_type": "code",
   "execution_count": 20,
   "id": "e9623f45",
   "metadata": {},
   "outputs": [
    {
     "data": {
      "text/plain": [
       "'Team Garmin - Cervélo'"
      ]
     },
     "execution_count": 20,
     "metadata": {},
     "output_type": "execute_result"
    }
   ],
   "source": [
    "df.iloc[1371,3]"
   ]
  },
  {
   "cell_type": "code",
   "execution_count": 21,
   "id": "666ffdfe",
   "metadata": {},
   "outputs": [
    {
     "data": {
      "text/plain": [
       "True"
      ]
     },
     "execution_count": 21,
     "metadata": {},
     "output_type": "execute_result"
    }
   ],
   "source": [
    "len(list_1) == df.Team_name.nunique()"
   ]
  },
  {
   "cell_type": "markdown",
   "id": "ca267233",
   "metadata": {},
   "source": [
    "## Convert previous team names to most current name\n",
    "### Additional classes: \n",
    "- new_team for teams that have no history in the TDF\n",
    "- past team for teams that are not competing in the latest Tour De France, but have history"
   ]
  },
  {
   "cell_type": "code",
   "execution_count": 22,
   "id": "6b128c80",
   "metadata": {},
   "outputs": [
    {
     "data": {
      "text/plain": [
       "array(['UAE-Team Emirates', 'Team Jumbo-Visma', 'INEOS Grenadiers',\n",
       "       'AG2R Citroën Team', 'BORA - hansgrohe', 'Movistar Team',\n",
       "       'Astana - Premier Tech', 'Cofidis, Solutions Crédits',\n",
       "       'Bahrain - Victorious', 'EF Education - Nippo', 'Groupama - FDJ',\n",
       "       'Deceuninck - Quick Step', 'Team BikeExchange',\n",
       "       'Intermarché - Wanty - Gobert Matériaux', 'Trek - Segafredo',\n",
       "       'Team Qhubeka NextHash', 'B&B Hotels p/b KTM', 'Team Arkéa Samsic',\n",
       "       'Alpecin-Fenix', 'Israel Start-Up Nation', 'Team DSM',\n",
       "       'Team TotalEnergies', 'Lotto Soudal'], dtype=object)"
      ]
     },
     "execution_count": 22,
     "metadata": {},
     "output_type": "execute_result"
    }
   ],
   "source": [
    "df[df.Year == 2021].Team_name.unique()"
   ]
  },
  {
   "cell_type": "code",
   "execution_count": 23,
   "id": "f4aa0517",
   "metadata": {},
   "outputs": [],
   "source": [
    "UAE = ('UAE-Team Emirates','Lampre - ISD','Lampre - Merida','UAE Team Emirates')\n",
    "TJV = ('Team Jumbo-Visma','Rabobank Cycling Team','Belkin-Pro Cycling Team','Team LottoNL-Jumbo')\n",
    "IGD = ('INEOS Grenadiers','Sky Procycling','Team Sky','Team INEOS')\n",
    "ACT = ('AG2R Citroën Team','AG2R La Mondiale')\n",
    "BOR = ('BORA - hansgrohe','Team NetApp – Endura','Bora - Argon 18')\n",
    "MOV = ('Movistar Team')\n",
    "APT = ('Astana - Premier Tech','Astana Pro Team','Pro Team Astana')\n",
    "CSC = ('Cofidis, Solutions Crédits','Cofidis, le Crédit en Ligne')\n",
    "BHV = ('Bahrain - Victorious','Bahrain Merida','Bahrain - McLaren','Bahrain Merida Pro Cycling Team')\n",
    "EFN = ('EF Education - Nippo','Team Garmin - Cervélo','Garmin Sharp','Team Cannondale - Garmin ','Cannondale Pro Cycling Team','Cannondale-Drapac Pro Cycling Team','Team EF Education First-Drapac p/b Cannondale','EF Education First','EF Pro Cycling')\n",
    "GFDJ = ('Groupama - FDJ','FDJ','FDJ - BigMat','FDJ.fr ')\n",
    "DQS = ('Deceuninck - Quick Step','Quickstep Cycling Team','Omega Pharma - Quick-Step','Etixx - Quick Step','Quick-Step Floors')\n",
    "TBE = ('Team BikeExchange','ORICA-Scott','Mitchelton-Scott','ORICA-BikeExchange','Orica GreenEDGE')\n",
    "IWGM = ('Intermarché - Wanty - Gobert Matériaux','Wanty - Gobert Cycling Team','Wanty - Groupe Gobert')\n",
    "TSF = ('Trek - Segafredo','Leopard Trek','RadioShack - Nissan','RadioShack - Leopard','Trek Factory Racing ','RadioShack')\n",
    "TQNH = ('Team Qhubeka NextHash','NTT Pro Cycling','Team Dimension Data','MTN - Qhubeka')\n",
    "KTM = ('B&B Hotels p/b KTM','B&B Hotels - Vital Concept p/b KTM')\n",
    "TAS = ('Team Arkéa Samsic','Bretagne - Séché Environnement','Fortuneo - Vital Concept','Fortuneo - Oscaro','Team Fortuneo - Samsic')\n",
    "ALP = ('Alpecin-Fenix')\n",
    "ISN = ('Israel Start-Up Nation')\n",
    "TDSM = ('Team DSM','Team Sunweb','Team Giant - Alpecin','Team Giant - Shimano','Argos - Shimano','Team Argos - Shimano')\n",
    "TTE = ('Team TotalEnergies','Team Europcar','Direct Energie','Team Total Direct Energie')\n",
    "LOT = ('Lotto Soudal','Omega Pharma-Lotto ','Lotto Belisol ', 'Lotto Belisol Team')\n",
    "OLD = ('Vacansoleil - DCM','Tinkoff','Tinkoff - Saxo','Team Saxo Bank - Tinkoff Bank','Team Saxo - Tinkoff','Saxo Bank - Sungard','BMC Racing Team','CCC Team','Team Katusha Alpecin','Team Katusha ','Saur - Sojasun','Sojasun','IAM Cycling','Cannondale ','Liquigas - Cannondale','HTC - High Road')"
   ]
  },
  {
   "cell_type": "code",
   "execution_count": 99,
   "id": "ee067828",
   "metadata": {},
   "outputs": [],
   "source": [
    "teams = ('UAE','TJV','IGD','ACT','BOR','MOV','APT','CSC','BHV','EFN','GFDJ','DQS','TBE','IWGM','TSF','TQNH','KTM','TAS','ALP','ISN','TDSM','TTE','LOT')"
   ]
  },
  {
   "cell_type": "markdown",
   "id": "3d7d9607",
   "metadata": {},
   "source": [
    "Since dummy variables requires dropping a row anyways, I will simply not create a dummy variable for the list OLD as it contains all the teams classed together as not competing in 2021."
   ]
  },
  {
   "cell_type": "code",
   "execution_count": 100,
   "id": "50cfed8c",
   "metadata": {},
   "outputs": [
    {
     "name": "stdout",
     "output_type": "stream",
     "text": [
      "UAE\n",
      "TJV\n",
      "IGD\n",
      "ACT\n",
      "BOR\n",
      "MOV\n",
      "APT\n",
      "CSC\n",
      "BHV\n",
      "EFN\n",
      "GFDJ\n",
      "DQS\n",
      "TBE\n",
      "IWGM\n",
      "TSF\n",
      "TQNH\n",
      "KTM\n",
      "TAS\n",
      "ALP\n",
      "ISN\n",
      "TDSM\n",
      "TTE\n",
      "LOT\n"
     ]
    }
   ],
   "source": [
    "for x in range(len(teams)):\n",
    "    print(teams[x])"
   ]
  },
  {
   "cell_type": "code",
   "execution_count": 115,
   "id": "fc5359ca",
   "metadata": {},
   "outputs": [
    {
     "name": "stdout",
     "output_type": "stream",
     "text": [
      "UAE\n",
      "U\n",
      "A\n",
      "E\n",
      "TJV\n",
      "T\n",
      "J\n",
      "V\n",
      "IGD\n",
      "I\n",
      "G\n",
      "D\n",
      "ACT\n",
      "A\n",
      "C\n",
      "T\n",
      "BOR\n",
      "B\n",
      "O\n",
      "R\n",
      "MOV\n",
      "M\n",
      "O\n",
      "V\n",
      "APT\n",
      "A\n",
      "P\n",
      "T\n",
      "CSC\n",
      "C\n",
      "S\n",
      "C\n",
      "BHV\n",
      "B\n",
      "H\n",
      "V\n",
      "EFN\n",
      "E\n",
      "F\n",
      "N\n",
      "GFDJ\n",
      "G\n",
      "F\n",
      "D\n",
      "J\n",
      "DQS\n",
      "D\n",
      "Q\n",
      "S\n",
      "TBE\n",
      "T\n",
      "B\n",
      "E\n",
      "IWGM\n",
      "I\n",
      "W\n",
      "G\n",
      "M\n",
      "TSF\n",
      "T\n",
      "S\n",
      "F\n",
      "TQNH\n",
      "T\n",
      "Q\n",
      "N\n",
      "H\n",
      "KTM\n",
      "K\n",
      "T\n",
      "M\n",
      "TAS\n",
      "T\n",
      "A\n",
      "S\n",
      "ALP\n",
      "A\n",
      "L\n",
      "P\n",
      "ISN\n",
      "I\n",
      "S\n",
      "N\n",
      "TDSM\n",
      "T\n",
      "D\n",
      "S\n",
      "M\n",
      "TTE\n",
      "T\n",
      "T\n",
      "E\n",
      "LOT\n",
      "L\n",
      "O\n",
      "T\n"
     ]
    }
   ],
   "source": [
    "for a in range(len(teams)):\n",
    "    print(teams[a])\n",
    "    for b in range(len(f'{teams[a]}')):\n",
    "        print(f'{teams[a][b]}')"
   ]
  },
  {
   "cell_type": "code",
   "execution_count": null,
   "id": "3d64b382",
   "metadata": {},
   "outputs": [],
   "source": []
  },
  {
   "cell_type": "code",
   "execution_count": 24,
   "id": "c9fb73aa",
   "metadata": {},
   "outputs": [
    {
     "data": {
      "text/plain": [
       "0        True\n",
       "1        True\n",
       "2       False\n",
       "3       False\n",
       "4       False\n",
       "        ...  \n",
       "1736    False\n",
       "1737    False\n",
       "1738    False\n",
       "1739     True\n",
       "1740    False\n",
       "Name: Team_name, Length: 1741, dtype: bool"
      ]
     },
     "execution_count": 24,
     "metadata": {},
     "output_type": "execute_result"
    }
   ],
   "source": [
    "df.Team_name.isin(UAE)"
   ]
  },
  {
   "cell_type": "code",
   "execution_count": 92,
   "id": "e71f5562",
   "metadata": {},
   "outputs": [
    {
     "name": "stdout",
     "output_type": "stream",
     "text": [
      "UAE-Team Emirates\n",
      "Lampre - ISD\n",
      "Lampre - Merida\n",
      "UAE Team Emirates\n"
     ]
    }
   ],
   "source": [
    "for i in range(len(UAE)):\n",
    "    print(UAE[i])\n",
    "    df.loc[df.Team_name == (UAE[i]),'UAE-Team Emirates'] = 1"
   ]
  },
  {
   "cell_type": "code",
   "execution_count": 98,
   "id": "027a35d6",
   "metadata": {},
   "outputs": [
    {
     "data": {
      "text/html": [
       "<div>\n",
       "<style scoped>\n",
       "    .dataframe tbody tr th:only-of-type {\n",
       "        vertical-align: middle;\n",
       "    }\n",
       "\n",
       "    .dataframe tbody tr th {\n",
       "        vertical-align: top;\n",
       "    }\n",
       "\n",
       "    .dataframe thead th {\n",
       "        text-align: right;\n",
       "    }\n",
       "</style>\n",
       "<table border=\"1\" class=\"dataframe\">\n",
       "  <thead>\n",
       "    <tr style=\"text-align: right;\">\n",
       "      <th></th>\n",
       "      <th>Rank</th>\n",
       "      <th>Prev_rank</th>\n",
       "      <th>Rider_name</th>\n",
       "      <th>Team_name</th>\n",
       "      <th>Points</th>\n",
       "      <th>Time</th>\n",
       "      <th>Year</th>\n",
       "      <th>Weight(kg)</th>\n",
       "      <th>Height(m)</th>\n",
       "      <th>Age</th>\n",
       "      <th>UAE-Team Emirates</th>\n",
       "    </tr>\n",
       "  </thead>\n",
       "  <tbody>\n",
       "    <tr>\n",
       "      <th>0</th>\n",
       "      <td>1</td>\n",
       "      <td>1</td>\n",
       "      <td>POGAČAR Tadej</td>\n",
       "      <td>UAE-Team Emirates</td>\n",
       "      <td>500.0</td>\n",
       "      <td>82:56:36</td>\n",
       "      <td>2021</td>\n",
       "      <td>66.0</td>\n",
       "      <td>1.76</td>\n",
       "      <td>23</td>\n",
       "      <td>1</td>\n",
       "    </tr>\n",
       "    <tr>\n",
       "      <th>1</th>\n",
       "      <td>1</td>\n",
       "      <td>1</td>\n",
       "      <td>POGAČAR Tadej</td>\n",
       "      <td>UAE-Team Emirates</td>\n",
       "      <td>500.0</td>\n",
       "      <td>87:20:05</td>\n",
       "      <td>2020</td>\n",
       "      <td>66.0</td>\n",
       "      <td>1.76</td>\n",
       "      <td>22</td>\n",
       "      <td>1</td>\n",
       "    </tr>\n",
       "    <tr>\n",
       "      <th>39</th>\n",
       "      <td>8</td>\n",
       "      <td>8</td>\n",
       "      <td>MEINTJES Louis</td>\n",
       "      <td>UAE Team Emirates</td>\n",
       "      <td>220.0</td>\n",
       "      <td>8:208:20</td>\n",
       "      <td>2017</td>\n",
       "      <td>58.0</td>\n",
       "      <td>1.73</td>\n",
       "      <td>25</td>\n",
       "      <td>1</td>\n",
       "    </tr>\n",
       "    <tr>\n",
       "      <th>40</th>\n",
       "      <td>8</td>\n",
       "      <td>8</td>\n",
       "      <td>MEINTJES Louis</td>\n",
       "      <td>Lampre - Merida</td>\n",
       "      <td>220.0</td>\n",
       "      <td>,,6:58</td>\n",
       "      <td>2016</td>\n",
       "      <td>58.0</td>\n",
       "      <td>1.73</td>\n",
       "      <td>24</td>\n",
       "      <td>1</td>\n",
       "    </tr>\n",
       "    <tr>\n",
       "      <th>64</th>\n",
       "      <td>47</td>\n",
       "      <td>47</td>\n",
       "      <td>HENAO Sergio</td>\n",
       "      <td>UAE-Team Emirates</td>\n",
       "      <td>25.0</td>\n",
       "      <td>1:52:371:52:37</td>\n",
       "      <td>2019</td>\n",
       "      <td>61.0</td>\n",
       "      <td>1.70</td>\n",
       "      <td>32</td>\n",
       "      <td>1</td>\n",
       "    </tr>\n",
       "    <tr>\n",
       "      <th>...</th>\n",
       "      <td>...</td>\n",
       "      <td>...</td>\n",
       "      <td>...</td>\n",
       "      <td>...</td>\n",
       "      <td>...</td>\n",
       "      <td>...</td>\n",
       "      <td>...</td>\n",
       "      <td>...</td>\n",
       "      <td>...</td>\n",
       "      <td>...</td>\n",
       "      <td>...</td>\n",
       "    </tr>\n",
       "    <tr>\n",
       "      <th>1668</th>\n",
       "      <td>80</td>\n",
       "      <td>79</td>\n",
       "      <td>MARZANO Marco</td>\n",
       "      <td>Lampre - ISD</td>\n",
       "      <td>25.0</td>\n",
       "      <td>2:24:462:24:46</td>\n",
       "      <td>2012</td>\n",
       "      <td>58.0</td>\n",
       "      <td>1.71</td>\n",
       "      <td>32</td>\n",
       "      <td>1</td>\n",
       "    </tr>\n",
       "    <tr>\n",
       "      <th>1670</th>\n",
       "      <td>86</td>\n",
       "      <td>86</td>\n",
       "      <td>HONDO Danilo</td>\n",
       "      <td>Lampre - ISD</td>\n",
       "      <td>25.0</td>\n",
       "      <td>2:37:552:37:55</td>\n",
       "      <td>2012</td>\n",
       "      <td>73.0</td>\n",
       "      <td>1.84</td>\n",
       "      <td>38</td>\n",
       "      <td>1</td>\n",
       "    </tr>\n",
       "    <tr>\n",
       "      <th>1671</th>\n",
       "      <td>109</td>\n",
       "      <td>109</td>\n",
       "      <td>HONDO Danilo</td>\n",
       "      <td>Lampre - ISD</td>\n",
       "      <td>25.0</td>\n",
       "      <td>,,2:55:25</td>\n",
       "      <td>2011</td>\n",
       "      <td>73.0</td>\n",
       "      <td>1.84</td>\n",
       "      <td>37</td>\n",
       "      <td>1</td>\n",
       "    </tr>\n",
       "    <tr>\n",
       "      <th>1710</th>\n",
       "      <td>59</td>\n",
       "      <td>59</td>\n",
       "      <td>LOOSLI David</td>\n",
       "      <td>Lampre - ISD</td>\n",
       "      <td>25.0</td>\n",
       "      <td>1:51:081:51:08</td>\n",
       "      <td>2011</td>\n",
       "      <td>71.0</td>\n",
       "      <td>1.82</td>\n",
       "      <td>31</td>\n",
       "      <td>1</td>\n",
       "    </tr>\n",
       "    <tr>\n",
       "      <th>1739</th>\n",
       "      <td>153</td>\n",
       "      <td>153</td>\n",
       "      <td>KOSTYUK Denys</td>\n",
       "      <td>Lampre - ISD</td>\n",
       "      <td>25.0</td>\n",
       "      <td>3:31:423:31:42</td>\n",
       "      <td>2011</td>\n",
       "      <td>66.0</td>\n",
       "      <td>1.76</td>\n",
       "      <td>29</td>\n",
       "      <td>1</td>\n",
       "    </tr>\n",
       "  </tbody>\n",
       "</table>\n",
       "<p>78 rows × 11 columns</p>\n",
       "</div>"
      ],
      "text/plain": [
       "      Rank  Prev_rank      Rider_name          Team_name  Points  \\\n",
       "0        1          1   POGAČAR Tadej  UAE-Team Emirates   500.0   \n",
       "1        1          1   POGAČAR Tadej  UAE-Team Emirates   500.0   \n",
       "39       8          8  MEINTJES Louis  UAE Team Emirates   220.0   \n",
       "40       8          8  MEINTJES Louis    Lampre - Merida   220.0   \n",
       "64      47         47    HENAO Sergio  UAE-Team Emirates    25.0   \n",
       "...    ...        ...             ...                ...     ...   \n",
       "1668    80         79   MARZANO Marco       Lampre - ISD    25.0   \n",
       "1670    86         86    HONDO Danilo       Lampre - ISD    25.0   \n",
       "1671   109        109    HONDO Danilo       Lampre - ISD    25.0   \n",
       "1710    59         59    LOOSLI David       Lampre - ISD    25.0   \n",
       "1739   153        153   KOSTYUK Denys       Lampre - ISD    25.0   \n",
       "\n",
       "                Time  Year  Weight(kg)  Height(m)  Age  UAE-Team Emirates  \n",
       "0           82:56:36  2021        66.0       1.76   23                  1  \n",
       "1           87:20:05  2020        66.0       1.76   22                  1  \n",
       "39          8:208:20  2017        58.0       1.73   25                  1  \n",
       "40            ,,6:58  2016        58.0       1.73   24                  1  \n",
       "64    1:52:371:52:37  2019        61.0       1.70   32                  1  \n",
       "...              ...   ...         ...        ...  ...                ...  \n",
       "1668  2:24:462:24:46  2012        58.0       1.71   32                  1  \n",
       "1670  2:37:552:37:55  2012        73.0       1.84   38                  1  \n",
       "1671       ,,2:55:25  2011        73.0       1.84   37                  1  \n",
       "1710  1:51:081:51:08  2011        71.0       1.82   31                  1  \n",
       "1739  3:31:423:31:42  2011        66.0       1.76   29                  1  \n",
       "\n",
       "[78 rows x 11 columns]"
      ]
     },
     "execution_count": 98,
     "metadata": {},
     "output_type": "execute_result"
    }
   ],
   "source": [
    "df[df.Team_name.isin(UAE)]"
   ]
  },
  {
   "cell_type": "code",
   "execution_count": 61,
   "id": "06fa5f6d",
   "metadata": {},
   "outputs": [],
   "source": [
    "index = []\n",
    "for i in UAE:\n",
    "    if df.Team_name is i:\n",
    "        index.append(df.index_value)"
   ]
  },
  {
   "cell_type": "code",
   "execution_count": 45,
   "id": "bd142100",
   "metadata": {},
   "outputs": [
    {
     "data": {
      "text/plain": [
       "0    1733\n",
       "1       8\n",
       "Name: UAE-Team Emirates, dtype: int64"
      ]
     },
     "execution_count": 45,
     "metadata": {},
     "output_type": "execute_result"
    }
   ],
   "source": [
    "df['UAE-Team Emirates'].value_counts()"
   ]
  },
  {
   "cell_type": "code",
   "execution_count": 46,
   "id": "8cd480b2",
   "metadata": {},
   "outputs": [
    {
     "data": {
      "text/html": [
       "<div>\n",
       "<style scoped>\n",
       "    .dataframe tbody tr th:only-of-type {\n",
       "        vertical-align: middle;\n",
       "    }\n",
       "\n",
       "    .dataframe tbody tr th {\n",
       "        vertical-align: top;\n",
       "    }\n",
       "\n",
       "    .dataframe thead th {\n",
       "        text-align: right;\n",
       "    }\n",
       "</style>\n",
       "<table border=\"1\" class=\"dataframe\">\n",
       "  <thead>\n",
       "    <tr style=\"text-align: right;\">\n",
       "      <th></th>\n",
       "      <th>Rank</th>\n",
       "      <th>Prev_rank</th>\n",
       "      <th>Rider_name</th>\n",
       "      <th>Team_name</th>\n",
       "      <th>Points</th>\n",
       "      <th>Time</th>\n",
       "      <th>Year</th>\n",
       "      <th>Weight(kg)</th>\n",
       "      <th>Height(m)</th>\n",
       "      <th>Age</th>\n",
       "      <th>UAE-Team Emirates</th>\n",
       "    </tr>\n",
       "  </thead>\n",
       "  <tbody>\n",
       "    <tr>\n",
       "      <th>39</th>\n",
       "      <td>8</td>\n",
       "      <td>8</td>\n",
       "      <td>MEINTJES Louis</td>\n",
       "      <td>UAE Team Emirates</td>\n",
       "      <td>220.0</td>\n",
       "      <td>8:208:20</td>\n",
       "      <td>2017</td>\n",
       "      <td>58.0</td>\n",
       "      <td>1.73</td>\n",
       "      <td>25</td>\n",
       "      <td>1</td>\n",
       "    </tr>\n",
       "    <tr>\n",
       "      <th>399</th>\n",
       "      <td>127</td>\n",
       "      <td>127</td>\n",
       "      <td>LAENGEN Vegard Stake</td>\n",
       "      <td>UAE Team Emirates</td>\n",
       "      <td>25.0</td>\n",
       "      <td>3:41:523:41:52</td>\n",
       "      <td>2017</td>\n",
       "      <td>79.0</td>\n",
       "      <td>1.95</td>\n",
       "      <td>28</td>\n",
       "      <td>1</td>\n",
       "    </tr>\n",
       "    <tr>\n",
       "      <th>709</th>\n",
       "      <td>96</td>\n",
       "      <td>98</td>\n",
       "      <td>MARCATO Marco</td>\n",
       "      <td>UAE Team Emirates</td>\n",
       "      <td>25.0</td>\n",
       "      <td>3:05:533:05:53</td>\n",
       "      <td>2017</td>\n",
       "      <td>67.0</td>\n",
       "      <td>1.74</td>\n",
       "      <td>33</td>\n",
       "      <td>1</td>\n",
       "    </tr>\n",
       "    <tr>\n",
       "      <th>977</th>\n",
       "      <td>50</td>\n",
       "      <td>51</td>\n",
       "      <td>ĐURASEK Kristijan</td>\n",
       "      <td>UAE Team Emirates</td>\n",
       "      <td>25.0</td>\n",
       "      <td>2:04:532:04:53</td>\n",
       "      <td>2017</td>\n",
       "      <td>58.0</td>\n",
       "      <td>1.70</td>\n",
       "      <td>30</td>\n",
       "      <td>1</td>\n",
       "    </tr>\n",
       "    <tr>\n",
       "      <th>1010</th>\n",
       "      <td>41</td>\n",
       "      <td>41</td>\n",
       "      <td>ATAPUMA Darwin</td>\n",
       "      <td>UAE Team Emirates</td>\n",
       "      <td>25.0</td>\n",
       "      <td>1:50:311:50:31</td>\n",
       "      <td>2017</td>\n",
       "      <td>59.0</td>\n",
       "      <td>1.68</td>\n",
       "      <td>29</td>\n",
       "      <td>1</td>\n",
       "    </tr>\n",
       "    <tr>\n",
       "      <th>1122</th>\n",
       "      <td>39</td>\n",
       "      <td>39</td>\n",
       "      <td>ULISSI Diego</td>\n",
       "      <td>UAE Team Emirates</td>\n",
       "      <td>25.0</td>\n",
       "      <td>1:45:231:45:23</td>\n",
       "      <td>2017</td>\n",
       "      <td>63.0</td>\n",
       "      <td>1.75</td>\n",
       "      <td>28</td>\n",
       "      <td>1</td>\n",
       "    </tr>\n",
       "    <tr>\n",
       "      <th>1159</th>\n",
       "      <td>83</td>\n",
       "      <td>83</td>\n",
       "      <td>SWIFT Ben</td>\n",
       "      <td>UAE Team Emirates</td>\n",
       "      <td>25.0</td>\n",
       "      <td>2:54:482:54:48</td>\n",
       "      <td>2017</td>\n",
       "      <td>69.0</td>\n",
       "      <td>1.79</td>\n",
       "      <td>30</td>\n",
       "      <td>1</td>\n",
       "    </tr>\n",
       "    <tr>\n",
       "      <th>1192</th>\n",
       "      <td>111</td>\n",
       "      <td>110</td>\n",
       "      <td>BONO Matteo</td>\n",
       "      <td>UAE Team Emirates</td>\n",
       "      <td>25.0</td>\n",
       "      <td>3:20:593:20:59</td>\n",
       "      <td>2017</td>\n",
       "      <td>60.0</td>\n",
       "      <td>1.71</td>\n",
       "      <td>34</td>\n",
       "      <td>1</td>\n",
       "    </tr>\n",
       "  </tbody>\n",
       "</table>\n",
       "</div>"
      ],
      "text/plain": [
       "      Rank  Prev_rank            Rider_name          Team_name  Points  \\\n",
       "39       8          8        MEINTJES Louis  UAE Team Emirates   220.0   \n",
       "399    127        127  LAENGEN Vegard Stake  UAE Team Emirates    25.0   \n",
       "709     96         98         MARCATO Marco  UAE Team Emirates    25.0   \n",
       "977     50         51     ĐURASEK Kristijan  UAE Team Emirates    25.0   \n",
       "1010    41         41        ATAPUMA Darwin  UAE Team Emirates    25.0   \n",
       "1122    39         39          ULISSI Diego  UAE Team Emirates    25.0   \n",
       "1159    83         83             SWIFT Ben  UAE Team Emirates    25.0   \n",
       "1192   111        110           BONO Matteo  UAE Team Emirates    25.0   \n",
       "\n",
       "                Time  Year  Weight(kg)  Height(m)  Age  UAE-Team Emirates  \n",
       "39          8:208:20  2017        58.0       1.73   25                  1  \n",
       "399   3:41:523:41:52  2017        79.0       1.95   28                  1  \n",
       "709   3:05:533:05:53  2017        67.0       1.74   33                  1  \n",
       "977   2:04:532:04:53  2017        58.0       1.70   30                  1  \n",
       "1010  1:50:311:50:31  2017        59.0       1.68   29                  1  \n",
       "1122  1:45:231:45:23  2017        63.0       1.75   28                  1  \n",
       "1159  2:54:482:54:48  2017        69.0       1.79   30                  1  \n",
       "1192  3:20:593:20:59  2017        60.0       1.71   34                  1  "
      ]
     },
     "execution_count": 46,
     "metadata": {},
     "output_type": "execute_result"
    }
   ],
   "source": [
    "df[df['UAE-Team Emirates'] == 1]"
   ]
  },
  {
   "cell_type": "code",
   "execution_count": null,
   "id": "eb521d6a",
   "metadata": {},
   "outputs": [],
   "source": []
  },
  {
   "cell_type": "code",
   "execution_count": null,
   "id": "ae3a415e",
   "metadata": {},
   "outputs": [],
   "source": []
  },
  {
   "cell_type": "code",
   "execution_count": null,
   "id": "0afdc090",
   "metadata": {},
   "outputs": [],
   "source": []
  },
  {
   "cell_type": "code",
   "execution_count": null,
   "id": "66afbb46",
   "metadata": {},
   "outputs": [],
   "source": []
  },
  {
   "cell_type": "code",
   "execution_count": null,
   "id": "36c67ab2",
   "metadata": {},
   "outputs": [],
   "source": []
  }
 ],
 "metadata": {
  "kernelspec": {
   "display_name": "Python 3",
   "language": "python",
   "name": "python3"
  },
  "language_info": {
   "codemirror_mode": {
    "name": "ipython",
    "version": 3
   },
   "file_extension": ".py",
   "mimetype": "text/x-python",
   "name": "python",
   "nbconvert_exporter": "python",
   "pygments_lexer": "ipython3",
   "version": "3.8.8"
  }
 },
 "nbformat": 4,
 "nbformat_minor": 5
}
